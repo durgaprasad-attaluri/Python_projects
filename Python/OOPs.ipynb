{
 "cells": [
  {
   "cell_type": "markdown",
   "id": "e2b032c7",
   "metadata": {},
   "source": [
    "### Definitions of Class and Object\n",
    "\n",
    "#### Class\n",
    "A blueprint or template of an object. It has attributes and methods.\n",
    "\n",
    "For eg.\n",
    "* Think of a \"Car\" as a class.\n",
    "* It defines what a car is: it has wheels, an engine are attributes, and can move, brake are methods.\n",
    "\n",
    "But this doesn’t create a real car yet. It’s just a plan.\n",
    "\n",
    "#### Object\n",
    "A real thing created using the class.\n",
    "If the class is \"Car\", then:\n",
    "* A red Toyota car is an object.\n",
    "* A blue Honda car is another object.\n",
    "\n",
    "Each object is a real version of the class.\n",
    "\n",
    "#### What is `__init__`?\n",
    "\"\\_\\_init\\_\\_\" is a special method/constructor in a class.\n",
    "* It automatically runs when you create an object.\n",
    "* It is used to give values to the object (like name, color, age, etc.)\n",
    "\n",
    "In this we pass some default values/ some fixed attributes like name, age, gender etc\n",
    "* **(self, brand=\"Tata\")**\n",
    "\n",
    "Whenever we create an object, it automatically calls that method.\n",
    "\n",
    "Each object has different values like name, age etc.\n",
    "\n"
   ]
  },
  {
   "cell_type": "code",
   "execution_count": null,
   "id": "3a4db026",
   "metadata": {},
   "outputs": [
    {
     "name": "stdout",
     "output_type": "stream",
     "text": [
      "Tommy is barking!\n",
      "Name: Bruno, Age: 5, Breed: German Shepherd\n",
      "Name: Pummy, Age: 6, Breed: Boxer\n"
     ]
    }
   ],
   "source": [
    "class Dog:\n",
    "    def __init__(self, name, age, breed=\"Boxer\"):  # self refers to the current object being created or used/to the current object inside the class\n",
    "        self.name = name      # Attribute  # think of like 'my name'\n",
    "        self.age = age        # Attribute\n",
    "        self.breed = breed    # Attribute\n",
    "\n",
    "    def bark(self):           # Method\n",
    "        print(f\"{self.name} is barking!\")\n",
    "\n",
    "    def get_info(self):       # Method\n",
    "        print(f\"Name: {self.name}, Age: {self.age}, Breed: {self.breed}\")\n",
    "\n",
    "dog1 = Dog(\"Tommy\", 3, \"Labrador\")\n",
    "dog2 = Dog(\"Bruno\", 5, \"German Shepherd\")\n",
    "dog3 = Dog(\"Pummy\",6)   # Default breed\n",
    "\n",
    "dog1.bark()        # Tommy is barking!\n",
    "dog2.get_info()    # Name: Bruno, Age: 5, Breed: German Shepherd\n",
    "dog3.get_info()"
   ]
  },
  {
   "cell_type": "code",
   "execution_count": null,
   "id": "145d4e02",
   "metadata": {},
   "outputs": [
    {
     "name": "stdout",
     "output_type": "stream",
     "text": [
      "Name: Tom, Age: 3, Breed: Labrador\n"
     ]
    }
   ],
   "source": [
    "# Updating instance variables outside the class\n",
    "dog1.name=\"Tom\"\n",
    "dog1.get_info()"
   ]
  },
  {
   "cell_type": "code",
   "execution_count": null,
   "id": "035264ea",
   "metadata": {},
   "outputs": [
    {
     "name": "stdout",
     "output_type": "stream",
     "text": [
      "<class 'type'>\n",
      "<class '__main__.Dog'>\n",
      "<__main__.Dog object at 0x0000022428829F30>\n"
     ]
    }
   ],
   "source": [
    "print(type(Dog))  # (created by Python's type)type (Python's built-in way of creating classes)\n",
    "print(type(dog1)) # object made using the Dog class\n",
    "print(dog1)       # object with its memory location"
   ]
  },
  {
   "cell_type": "code",
   "execution_count": null,
   "id": "487ccc7c",
   "metadata": {},
   "outputs": [
    {
     "name": "stdout",
     "output_type": "stream",
     "text": [
      "black\n",
      "'Dog' object has no attribute 'color'\n"
     ]
    }
   ],
   "source": [
    "# Creating attributes outside\n",
    "dog1.color=\"black\"\n",
    "print(dog1.color)\n",
    "\n",
    "# But for 2nd object we get AttributeError as we don't have that in our class\n",
    "try:\n",
    "    print(dog2.color)\n",
    "except Exception as e:\n",
    "    print(e)"
   ]
  },
  {
   "cell_type": "markdown",
   "id": "fe7f1958",
   "metadata": {},
   "source": [
    "### Types of variables"
   ]
  },
  {
   "cell_type": "code",
   "execution_count": null,
   "id": "69f298c9",
   "metadata": {},
   "outputs": [],
   "source": [
    "# Instance variables:- Variables that belong to each object (instance) separately.\n",
    "class Dog:\n",
    "    def __init__(self, name, age):\n",
    "        self.name = name   # instance variable\n",
    "        self.age = age     # instance variable\n",
    "\n",
    "dog1 = Dog(\"Tommy\", 3)"
   ]
  },
  {
   "cell_type": "code",
   "execution_count": 19,
   "id": "ddd9db65",
   "metadata": {},
   "outputs": [
    {
     "name": "stdout",
     "output_type": "stream",
     "text": [
      "Student Durga from ABC\n",
      "Student Prasad from ABC\n",
      "\n",
      "Student Durga from XYZ\n",
      "Student Prasad from XYZ\n",
      "\n",
      "Student Durga from ABC\n",
      "Student Prasad from XYZ\n"
     ]
    }
   ],
   "source": [
    "# Class variables:- Variables shared by all objects of the class.\n",
    "# Same value for every object (unless changed explicitly).\n",
    "class School:\n",
    "    school_name=\"ABC\"  # class variable\n",
    "    \n",
    "    def __init__(self, name):\n",
    "        self.name=name\n",
    "\n",
    "stu1=School(\"Durga\")\n",
    "stu2=School(\"Prasad\")\n",
    "\n",
    "print(f\"Student {stu1.name} from {stu1.school_name}\")\n",
    "print(f\"Student {stu2.name} from {stu2.school_name}\")\n",
    "\n",
    "School.school_name=\"XYZ\"\n",
    "print(f\"\\nStudent {stu1.name} from {stu1.school_name}\")\n",
    "print(f\"Student {stu2.name} from {stu2.school_name}\")\n",
    "\n",
    "# Changing class variable for only one class\n",
    "stu1.school_name=\"ABC\"\n",
    "print(f\"\\nStudent {stu1.name} from {stu1.school_name}\")\n",
    "print(f\"Student {stu2.name} from {stu2.school_name}\")"
   ]
  },
  {
   "cell_type": "code",
   "execution_count": 20,
   "id": "97c84aa5",
   "metadata": {},
   "outputs": [
    {
     "name": "stdout",
     "output_type": "stream",
     "text": [
      "Woof!\n"
     ]
    }
   ],
   "source": [
    "# Local variables:- Defined inside a method\n",
    "class Dog:\n",
    "    def bark(self):\n",
    "        sound = \"Woof!\"  # local variable\n",
    "        print(sound)\n",
    "\n",
    "dog1 = Dog()\n",
    "dog1.bark()  # Woof!\n",
    "\n",
    "# print(sound)  # Error! 'sound' is local and not accessible here"
   ]
  },
  {
   "cell_type": "markdown",
   "id": "324e7389",
   "metadata": {},
   "source": [
    "## `Inheritance`\n",
    "Inheritance lets a class (child) get features (attributes and methods) from another class (parent). It helps reuse code.\n",
    "\n",
    "<img src=\"https://cdn-images-1.medium.com/max/1080/1*gvHEf4lT2m_dHyH6c0UC1Q.png\" align=\"center\" style=\"width:500px;height:300px;\">"
   ]
  },
  {
   "cell_type": "code",
   "execution_count": null,
   "id": "c18d0541",
   "metadata": {},
   "outputs": [
    {
     "name": "stdout",
     "output_type": "stream",
     "text": [
      "Hi, it's John\n"
     ]
    }
   ],
   "source": [
    "# Single Inheritance:- inherits from a single class\n",
    "'''\n",
    "    The Person class is the parent class, the base class, or the super class of the Employee class. \n",
    "    And the Employee class is a child class, a derived class, or a subclass of the Person class.\n",
    "'''\n",
    "class Person:\n",
    "    def __init__(self, name, job_title):\n",
    "        self.name = name\n",
    "        self.job_title = job_title\n",
    "\n",
    "    def greet(self):\n",
    "        return f\"Hi, it's {self.name}\"\n",
    "\n",
    "class Employee(Person):\n",
    "    def __init__(self, name, job_title):\n",
    "        self.name = name\n",
    "        self.job_title = job_title\n",
    "\n",
    "employee = Employee('John', 'Python Developer')\n",
    "print(employee.greet())"
   ]
  },
  {
   "cell_type": "code",
   "execution_count": null,
   "id": "71789d5d",
   "metadata": {},
   "outputs": [
    {
     "name": "stdout",
     "output_type": "stream",
     "text": [
      "Dad works well\n",
      "Mom cooks well\n",
      "Kid loves to play\n"
     ]
    }
   ],
   "source": [
    "# Multiple Inheritance:- inherits from more than one parent class.\n",
    "\n",
    "# creating class for father\n",
    "class Dad():\n",
    "\t# writing a method for parent class 1\n",
    "\tdef work(self):\n",
    "\t\tprint(\"Dad works well\")\n",
    "\t\t\n",
    "# creating a class for mother\n",
    "class Mom():\n",
    "\t# method for parent class 2\n",
    "\tdef cook(self):\n",
    "\t\tprint(\"Mom cooks well\")\n",
    "\n",
    "# creating derived class\n",
    "class Child(Dad, Mom):\n",
    "\tdef play(self):\n",
    "\t\tprint(\"Kid loves to play\")\n",
    "\n",
    "# creating object of the new derived class\n",
    "child = Child()\n",
    "# calling methods of parent classes and derived class\n",
    "child.work()\n",
    "child.cook()\n",
    "child.play()\t\t\n"
   ]
  },
  {
   "cell_type": "markdown",
   "id": "a87d0e69",
   "metadata": {},
   "source": [
    "### super()\n",
    "It allows a subclass to access methods and attributes of its parent class.\n",
    "\n",
    "Instead of writing the parent class’s variables again inside the child class’s \\_\\_init_\\_ method, we use super().\\_\\_init_\\_(...) to reuse the parent’s initialization."
   ]
  },
  {
   "cell_type": "code",
   "execution_count": null,
   "id": "4e79c7d8",
   "metadata": {},
   "outputs": [
    {
     "name": "stdout",
     "output_type": "stream",
     "text": [
      "Hey Alice, you are from DS with salary 30000.\n"
     ]
    }
   ],
   "source": [
    "class A:\n",
    "    def __init__(self, name, age, gender):\n",
    "        self.name=name\n",
    "        self.age=age\n",
    "        self.gender=gender\n",
    "\n",
    "class B(A):\n",
    "    def __init__(self, name, age, gender, dept, sal):\n",
    "        super().__init__(name, age, gender)  # Taking some attributes from parent class\n",
    "        self.dept=dept\n",
    "        self.sal=sal\n",
    "    def greet(self):\n",
    "        print(f\"Hey {self.name}, you are from {self.dept} with salary {self.sal}.\")\n",
    "\n",
    "prsn1=B(\"Alice\", 25, \"M\", \"DS\", 30000)\n",
    "prsn1.greet()"
   ]
  },
  {
   "cell_type": "code",
   "execution_count": null,
   "id": "1b61a20d",
   "metadata": {},
   "outputs": [
    {
     "name": "stdout",
     "output_type": "stream",
     "text": [
      "Alice has balance: 1000\n",
      "Interest rate: 5%\n"
     ]
    }
   ],
   "source": [
    "class Account:\n",
    "    def __init__(self, owner, balance):\n",
    "        self.owner = owner\n",
    "        self.balance = balance\n",
    "\n",
    "    def show_balance(self):\n",
    "        print(f\"{self.owner} has balance: {self.balance}\")\n",
    "\n",
    "class SavingsAccount(Account):\n",
    "    def __init__(self, owner, balance, interest_rate):\n",
    "        super().__init__(owner, balance)  # Call parent __init__\n",
    "        super().show_balance()            # Use parent's method\n",
    "        \n",
    "        self.interest_rate = interest_rate\n",
    "\n",
    "    def show_interest(self):\n",
    "        print(f\"Interest rate: {self.interest_rate}%\")\n",
    "\n",
    "# Create SavingsAccount object\n",
    "acc = SavingsAccount(\"Alice\", 1000, 5)\n",
    "\n",
    "#acc.show_balance()   # From Account class\n",
    "acc.show_interest()  # From SavingsAccount class\n"
   ]
  },
  {
   "cell_type": "code",
   "execution_count": null,
   "id": "704081f9",
   "metadata": {},
   "outputs": [
    {
     "name": "stdout",
     "output_type": "stream",
     "text": [
      "Hi I am Bob, 25 years old. I am Male.\n"
     ]
    }
   ],
   "source": [
    "# in multiple inheritance\n",
    "class A:\n",
    "    def __init__(self, name):\n",
    "        self.name=name\n",
    "class B:\n",
    "    def __init__(self, age):\n",
    "        self.age=age\n",
    "class C(A, B):\n",
    "    def __init__(self, name, age, gender):\n",
    "        A.__init__(self, name) # Here I am calling parent A\n",
    "        B.__init__(self, age)  # Here I am calling parent B\n",
    "        self.gender=gender\n",
    "\n",
    "    def greet(self):\n",
    "        print(f\"Hi I am {self.name}, {self.age} years old. I am {self.gender}.\")\n",
    "\n",
    "prsn=C(\"Bob\", 25, \"Male\")\n",
    "prsn.greet()"
   ]
  },
  {
   "cell_type": "markdown",
   "id": "2177cfa8",
   "metadata": {},
   "source": [
    "### `Method Overriding and Method Overloading`\n",
    "Python does not support *method overloading* directly.\n",
    "\n",
    "When a child class has a method with the same name as the parent class, it replaces (overrides) the parent’s version."
   ]
  },
  {
   "cell_type": "code",
   "execution_count": null,
   "id": "ccceace2",
   "metadata": {},
   "outputs": [
    {
     "name": "stdout",
     "output_type": "stream",
     "text": [
      "I am in child class.\n"
     ]
    }
   ],
   "source": [
    "class Parent:\n",
    "    def msg(self):\n",
    "        print(\"I am in parent class.\")\n",
    "\n",
    "class Children:\n",
    "    def msg(self):                   # overrides parent\n",
    "        print(\"I am in child class.\")  \n",
    "\n",
    "c=Children()\n",
    "c.msg()"
   ]
  },
  {
   "cell_type": "markdown",
   "id": "598e8ed6",
   "metadata": {},
   "source": [
    "## `Polymorphism`\n",
    "Same method name, different results depending on the object.\n",
    "* A Dog and a Cat both have a method called .sound().\n",
    "* But when you call .sound(), the dog barks and the cat meows."
   ]
  },
  {
   "cell_type": "code",
   "execution_count": 2,
   "id": "9fa76eb7",
   "metadata": {},
   "outputs": [
    {
     "name": "stdout",
     "output_type": "stream",
     "text": [
      "Woof!\n",
      "Meow!\n",
      "Generic animal sound\n"
     ]
    }
   ],
   "source": [
    "class Animal:\n",
    "    def speak(self):\n",
    "        print(\"Generic animal sound\")\n",
    "\n",
    "class Dog(Animal):\n",
    "    def speak(self):\n",
    "        print(\"Woof!\")\n",
    "\n",
    "class Cat(Animal):\n",
    "    def speak(self):\n",
    "        print(\"Meow!\")\n",
    "\n",
    "animals = [Dog(), Cat(), Animal()]\n",
    "\n",
    "for animal in animals:\n",
    "    animal.speak() # Output: Woof!, Meow!, Generic animal sound"
   ]
  },
  {
   "cell_type": "code",
   "execution_count": 5,
   "id": "44e0891b",
   "metadata": {},
   "outputs": [
    {
     "name": "stdout",
     "output_type": "stream",
     "text": [
      "Woof!\n",
      "Meow!\n",
      "Woof!\n"
     ]
    }
   ],
   "source": [
    "class Animal:\n",
    "    def speak(self):\n",
    "        print(\"Generic animal sound\")\n",
    "\n",
    "class Dog(Animal):\n",
    "    def speak(self):\n",
    "        print(\"Woof!\")\n",
    "\n",
    "class Cat(Animal):\n",
    "    def speak(self):\n",
    "        print(\"Meow!\")\n",
    "\n",
    "# polymorphic function\n",
    "def animal_speak(animal):\n",
    "    return animal.speak()\n",
    "\n",
    "dog=Dog()\n",
    "cat=Cat()\n",
    "\n",
    "dog.speak()\n",
    "cat.speak()\n",
    "\n",
    "animal_speak(dog)"
   ]
  },
  {
   "cell_type": "code",
   "execution_count": null,
   "id": "fe2b0bce",
   "metadata": {},
   "outputs": [
    {
     "name": "stdout",
     "output_type": "stream",
     "text": [
      "6\n",
      "28.259999999999998\n"
     ]
    }
   ],
   "source": [
    "class Shape:\n",
    "    def area(self):\n",
    "        return \"The area\"\n",
    "\n",
    "class Rectangle:\n",
    "    def __init__(self, l, b):\n",
    "        self.l=l\n",
    "        self.b=b\n",
    "    \n",
    "    def area(self):  # rectangle own version of 'area'\n",
    "        return self.l*self.b\n",
    "\n",
    "class Circle:\n",
    "    def __init__(self, r):\n",
    "        self.r=r\n",
    "    \n",
    "    def area(self):  # circle own version of 'area'\n",
    "        return 3.14*self.r*self.r\n",
    "\n",
    "def area(shape):\n",
    "    print(shape.area())\n",
    "\n",
    "box=Rectangle(2,3)\n",
    "ball=Circle(3)\n",
    "\n",
    "print(box.area())\n",
    "area(ball)"
   ]
  },
  {
   "cell_type": "markdown",
   "id": "df6112ae",
   "metadata": {},
   "source": [
    "## `Abstraction`\n",
    "* Hiding unnecessary background details.\n",
    "* You only see and use what's important, not how it works.\n",
    "  * \"You drive with steering, brake, and accelerator, not think how engine works.”\n",
    "* It allows developers to focus on what an object does rather than how it does it. "
   ]
  },
  {
   "cell_type": "markdown",
   "id": "04214cc4",
   "metadata": {},
   "source": [
    "#### `Polymorphism with Abstract base class`\n",
    "**ABC**: classes that cannot be instantiated directly but serve as blueprints for other classes.\n",
    "\n",
    "Any class that inherits from an abstract class must follow its rules — same methods and same parameters."
   ]
  },
  {
   "cell_type": "code",
   "execution_count": 9,
   "id": "62b933c6",
   "metadata": {},
   "outputs": [
    {
     "name": "stdout",
     "output_type": "stream",
     "text": [
      "Warrior is attacking.\n",
      "Mage is attacking.\n"
     ]
    }
   ],
   "source": [
    "# Importing\n",
    "from abc import ABC, abstractmethod\n",
    "\n",
    "class Character(ABC):\n",
    "    @abstractmethod\n",
    "    def attack(self):\n",
    "        pass\n",
    "\n",
    "# Now, any class that inherits from Character must define an attack() method.\n",
    "class Warrior(Character):\n",
    "    def attack(self):\n",
    "        return \"Warrior is attacking.\"\n",
    "\n",
    "class Mage(Character):\n",
    "    def attack(self):\n",
    "        return \"Mage is attacking.\"\n",
    "    \n",
    "# Use characters\n",
    "def do_attack(character):\n",
    "    print(character.attack())\n",
    "\n",
    "w=Warrior()\n",
    "m=Mage()\n",
    "\n",
    "print(w.attack())\n",
    "do_attack(m)    "
   ]
  },
  {
   "cell_type": "code",
   "execution_count": 11,
   "id": "70474ab1",
   "metadata": {},
   "outputs": [],
   "source": [
    "# If my new class forget that method\n",
    "class Healer(Character):\n",
    "    pass\n",
    "\n",
    "#h=Healer() # TypeError: Can't instantiate abstract class Healer with abstract method attack"
   ]
  },
  {
   "cell_type": "code",
   "execution_count": null,
   "id": "9564ad01",
   "metadata": {},
   "outputs": [
    {
     "name": "stdout",
     "output_type": "stream",
     "text": [
      "Bob\n",
      "Hey Bob.\n"
     ]
    }
   ],
   "source": [
    "# Abtract method with property\n",
    " ## To Force Abstract \"Variables\", We Use @property\n",
    "\n",
    "class Person:\n",
    "    @property  \n",
    "    @abstractmethod     # Abstract variable\n",
    "    def name(self):\n",
    "        pass\n",
    "\n",
    "    @abstractmethod     # Abstract method\n",
    "    def greet(self):\n",
    "        pass\n",
    "\n",
    "# Any class that inherits me must have a .name property.\"\n",
    "class Student(Person):\n",
    "    def __init__(self, name):\n",
    "        self._name=name\n",
    "\n",
    "    @property\n",
    "    def name(self):\n",
    "        return self._name\n",
    "    \n",
    "    def greet(self):\n",
    "        return f\"Hey {self._name}.\"\n",
    "    \n",
    "s1=Student(\"Bob\")\n",
    "print(s1.name)\n",
    "print(s1.greet())\n",
    "    \n"
   ]
  },
  {
   "cell_type": "markdown",
   "id": "b4e88c17",
   "metadata": {},
   "source": [
    "## `Encapsualtion`\n",
    "**Def:** Packing of data(attributes) and functions(methods) that work on that data within a single object. By doing so, you can hide/restrict the internal state of the object from the outside.\n",
    "\n",
    "It Protects data inside a class, allow access only through methods.\n",
    "\n",
    "Easy Example:\n",
    "* A mobile phone: You don’t open it to change apps. You tap buttons.\n",
    "* The internal data (battery, chip) is protected (encapsulated).\n",
    "\n",
    "🔒 You use methods to access or change data — not directly.\n",
    "* In simple terms *Hiding data (like locking it inside)*.\n",
    "  * Eg. You use something safely without directly touching its inner data."
   ]
  },
  {
   "cell_type": "code",
   "execution_count": null,
   "id": "348a58f0",
   "metadata": {},
   "outputs": [
    {
     "name": "stdout",
     "output_type": "stream",
     "text": [
      "4\n",
      "11\n"
     ]
    }
   ],
   "source": [
    "class Count:\n",
    "    def __init__(self):\n",
    "        self.counter=0\n",
    "    \n",
    "    def increment(self):\n",
    "        self.counter+=1\n",
    "    \n",
    "    def value(self):\n",
    "        print(self.counter)\n",
    "\n",
    "count=Count()\n",
    "\n",
    "# calling 2 times\n",
    "count.increment()   # Accessible\n",
    "count.increment()\n",
    "\n",
    "count.value()\n",
    "\n",
    "# Now change the counter value\n",
    "count.counter=10   # Accessible\n",
    "count.increment()\n",
    "count.value()"
   ]
  },
  {
   "cell_type": "code",
   "execution_count": 27,
   "id": "c434cb8f",
   "metadata": {},
   "outputs": [
    {
     "data": {
      "text/plain": [
       "['__class__',\n",
       " '__delattr__',\n",
       " '__dict__',\n",
       " '__dir__',\n",
       " '__doc__',\n",
       " '__eq__',\n",
       " '__format__',\n",
       " '__ge__',\n",
       " '__getattribute__',\n",
       " '__gt__',\n",
       " '__hash__',\n",
       " '__init__',\n",
       " '__init_subclass__',\n",
       " '__le__',\n",
       " '__lt__',\n",
       " '__module__',\n",
       " '__ne__',\n",
       " '__new__',\n",
       " '__reduce__',\n",
       " '__reduce_ex__',\n",
       " '__repr__',\n",
       " '__setattr__',\n",
       " '__sizeof__',\n",
       " '__str__',\n",
       " '__subclasshook__',\n",
       " '__weakref__',\n",
       " 'increment',\n",
       " 'value']"
      ]
     },
     "execution_count": 27,
     "metadata": {},
     "output_type": "execute_result"
    }
   ],
   "source": [
    "dir(Count) # we can see our public variables"
   ]
  },
  {
   "cell_type": "code",
   "execution_count": 28,
   "id": "e49a9755",
   "metadata": {},
   "outputs": [
    {
     "name": "stdout",
     "output_type": "stream",
     "text": [
      "Alice has 30,000.00 rupees in his account.\n",
      "Updated:- Alice has 50,000.00 rupees in his account.\n"
     ]
    }
   ],
   "source": [
    "# To prevent the *current* attribute from modifying outside of the *Counter* class we use private attributes\n",
    "class BankAccount:\n",
    "    def __init__(self, acc_holder, bal):\n",
    "        self.__acc_holder=acc_holder   # should not be accessed directly from outside the class.\n",
    "        self.__bal=bal\n",
    "    \n",
    "    # Getter method\n",
    "    def get_acc_bal(self):\n",
    "        print(f\"{self.__acc_holder} has {self.__bal:,.2f} rupees in his account.\")\n",
    "    \n",
    "    # Setter\n",
    "    def set_bal(self, new_bal):\n",
    "        if new_bal>=0:\n",
    "            self.__bal=new_bal\n",
    "            print(f\"Updated:- {self.__acc_holder} has {self.__bal:,.2f} rupees in his account.\")\n",
    "        else:\n",
    "            print(\"Balance can't be negative.\")\n",
    "\n",
    "man=BankAccount(\"Alice\", 30000)\n",
    "man.get_acc_bal()\n",
    "\n",
    "man.set_bal(50000)\n",
    "\n",
    "# Accessing attributes outside\n",
    "#print(man.__acc_holder)  # AttributeError: 'BankAccount' object has no attribute '__acc_holder'\n",
    "# print(man.__bal)          # AttributeError: 'BankAccount' object has no attribute '__bal'\n"
   ]
  },
  {
   "cell_type": "markdown",
   "id": "0fda34a8",
   "metadata": {},
   "source": []
  },
  {
   "cell_type": "markdown",
   "id": "85738e5e",
   "metadata": {},
   "source": []
  }
 ],
 "metadata": {
  "kernelspec": {
   "display_name": "cuda-gpt",
   "language": "python",
   "name": "cuda"
  },
  "language_info": {
   "codemirror_mode": {
    "name": "ipython",
    "version": 3
   },
   "file_extension": ".py",
   "mimetype": "text/x-python",
   "name": "python",
   "nbconvert_exporter": "python",
   "pygments_lexer": "ipython3",
   "version": "3.10.9"
  }
 },
 "nbformat": 4,
 "nbformat_minor": 5
}
