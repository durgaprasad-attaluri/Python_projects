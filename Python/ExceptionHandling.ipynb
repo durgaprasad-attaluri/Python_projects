{
 "cells": [
  {
   "cell_type": "markdown",
   "id": "b7ceda46",
   "metadata": {},
   "source": [
    "### What are Exceptions?\n",
    "An exception is a problem that happens during program execution (runtime) that disrupts the normal flow of a program.\n",
    "\n",
    "Eg. TypeError, ValueError, IndexError\n",
    "\n",
    "### What is and error?\n",
    "Errors represent serious problems that typically prevent a program from running correctly. They often indicate fundamental issues in the code or the environment.\n",
    "\n",
    "Eg. Syntax errors( incorrect indentation, unmatched parentheses, or missing colons), logical errors(difficult to identify), Resource errors(from system limitations like running out of memory or disk space)"
   ]
  },
  {
   "cell_type": "code",
   "execution_count": null,
   "id": "7042fa05",
   "metadata": {},
   "outputs": [
    {
     "name": "stdout",
     "output_type": "stream",
     "text": [
      "Variable is not defined.\n"
     ]
    }
   ],
   "source": [
    "## try, Except block\n",
    "try:            # code where exception may arise\n",
    "    a=b\n",
    "except:         # what to do if there’s a problem\n",
    "    print(\"Variable is not defined.\")"
   ]
  },
  {
   "cell_type": "code",
   "execution_count": 3,
   "id": "0adcdf5c",
   "metadata": {},
   "outputs": [
    {
     "name": "stdout",
     "output_type": "stream",
     "text": [
      "The last exceptions: invalid literal for int() with base 10: 'two'\n"
     ]
    }
   ],
   "source": [
    "try:  \n",
    "    ans=int(input())         \n",
    "    res=2/ans\n",
    "\n",
    "except ZeroDivisionError as zde:\n",
    "    print(\"first exception is \", zde)\n",
    "\n",
    "except Exception as e:  # This should be at last as it is the parent exception class\n",
    "    print(f\"The last exceptions: {e}\")         "
   ]
  },
  {
   "cell_type": "code",
   "execution_count": null,
   "id": "88c0d109",
   "metadata": {},
   "outputs": [
    {
     "name": "stdout",
     "output_type": "stream",
     "text": [
      "2nd input can't be 0.\n"
     ]
    }
   ],
   "source": [
    "## ZeroDivisionError for dividing by 0\n",
    "try:\n",
    "    a=int(input(\"Enter numerator: \"))\n",
    "    b=int(input(\"Enter denominator: \"))\n",
    "    print(a/b)\n",
    "except:\n",
    "    print(\"2nd input can't be 0.\")\n"
   ]
  },
  {
   "cell_type": "code",
   "execution_count": null,
   "id": "ab726847",
   "metadata": {},
   "outputs": [
    {
     "name": "stdout",
     "output_type": "stream",
     "text": [
      "Can't divide a word by a number!\n"
     ]
    }
   ],
   "source": [
    "# common Exceptions\n",
    "\n",
    "# Sharing candies to friends\n",
    "try:\n",
    "    candies = input(\"Enter candies count \")\n",
    "\n",
    "    friends = int(input(\"How many friends do you want to share with? \"))\n",
    "    candies_per_friend = candies / friends\n",
    "    print(f\"Each friend gets {candies_per_friend} candies.\")\n",
    "except ZeroDivisionError:\n",
    "    print(\"You can't divide by zero friends!\")\n",
    "except ValueError:                          # letters instead of numbers\n",
    "    print(\"Please enter only number, not words or symbols.\")\n",
    "except TypeError:                           # wrong data types\n",
    "    print(\"Can't divide a word by a number!\")"
   ]
  },
  {
   "cell_type": "code",
   "execution_count": null,
   "id": "78d6d9e1",
   "metadata": {},
   "outputs": [
    {
     "name": "stdout",
     "output_type": "stream",
     "text": [
      "Candies for each friends- 3.3333333333333335\n"
     ]
    }
   ],
   "source": [
    "# try, except, else\n",
    "try:\n",
    "    candies=10\n",
    "    friends=int(input(\"Enter # of friends: \"))\n",
    "    res=candies/friends\n",
    "except ZeroDivisionError:\n",
    "    print(\"You can't divide by zero friends!\")\n",
    "except ValueError:                          \n",
    "    print(\"Please enter only number, not words or symbols.\")\n",
    "else:                                               # if everything is fine in try block, execute this o.w don't\n",
    "    print(f\"Candies for each friends- {res}\")"
   ]
  },
  {
   "cell_type": "code",
   "execution_count": null,
   "id": "bfd140e8",
   "metadata": {},
   "outputs": [
    {
     "name": "stdout",
     "output_type": "stream",
     "text": [
      "You can't divide by zero friends!\n",
      "Successfully completed the code.\n"
     ]
    }
   ],
   "source": [
    "# try, except, else, finally\n",
    "try:\n",
    "    candies=10\n",
    "    friends=int(input(\"Enter # of friends: \"))\n",
    "    res=candies/friends\n",
    "except ZeroDivisionError:\n",
    "    print(\"You can't divide by zero friends!\")\n",
    "else:                                               # if everything is fine execute this\n",
    "    print(f\"Candies for each friends- {res}\")   \n",
    "finally:                                            # block of code that always runs, no matter if there was an error or not.\n",
    "    print(\"Successfully completed the code.\")"
   ]
  },
  {
   "cell_type": "code",
   "execution_count": null,
   "id": "692fdc51",
   "metadata": {},
   "outputs": [
    {
     "name": "stdout",
     "output_type": "stream",
     "text": [
      "File not found!\n",
      "name 'file' is not defined\n",
      "file not found so no need to close.\n"
     ]
    }
   ],
   "source": [
    "try:\n",
    "    file = open(\"File.txt\", \"r\")\n",
    "    content = file.read()\n",
    "    print(content)\n",
    "\n",
    "except FileNotFoundError:\n",
    "    print(\"File not found!\")\n",
    "    \n",
    "finally:\n",
    "    try: \n",
    "        file.close()  # You must remember to close the file here\n",
    "        print(f\"{file} closed successfully\")\n",
    "    except Exception as e:\n",
    "        print(e)\n",
    "        print(\"File not found so no need to close.\")"
   ]
  },
  {
   "cell_type": "code",
   "execution_count": null,
   "id": "4712bcb0",
   "metadata": {},
   "outputs": [
    {
     "name": "stdout",
     "output_type": "stream",
     "text": [
      "Task 1\n",
      "Task 2\n",
      "Task 3\n",
      "\n",
      "File closed.\n"
     ]
    }
   ],
   "source": [
    "try:\n",
    "    file = open(\"Hello.txt\", \"r\")\n",
    "    content = file.read()\n",
    "    print(content)\n",
    "\n",
    "except FileNotFoundError:\n",
    "    print(\"File not found!\")\n",
    "    \n",
    "finally:\n",
    "    # locals() is a built-in function in Python that returns a dictionary of all local variables in the current function or scope.\n",
    "    if 'file' in locals() or not file.closed():  # Is there a variable called file in the current scope?\n",
    "        file.close()    # closes the file properly to save data and free memory \n",
    "        print('File closed.')\n",
    "\n",
    "# file.close():- a function used to close the file\n",
    "# file.closed():- a boolean propoerty to check if the file already closed"
   ]
  },
  {
   "cell_type": "code",
   "execution_count": 23,
   "id": "224562a9",
   "metadata": {},
   "outputs": [
    {
     "data": {
      "text/plain": [
       "<_io.TextIOWrapper name='Hello.txt' mode='r' encoding='UTF-8'>"
      ]
     },
     "execution_count": 23,
     "metadata": {},
     "output_type": "execute_result"
    }
   ],
   "source": [
    "locals()['file']"
   ]
  },
  {
   "cell_type": "code",
   "execution_count": 21,
   "id": "bc13d124",
   "metadata": {},
   "outputs": [
    {
     "data": {
      "text/plain": [
       "True"
      ]
     },
     "execution_count": 21,
     "metadata": {},
     "output_type": "execute_result"
    }
   ],
   "source": [
    "'file' in locals()"
   ]
  },
  {
   "cell_type": "code",
   "execution_count": null,
   "id": "f863338d",
   "metadata": {},
   "outputs": [],
   "source": []
  }
 ],
 "metadata": {
  "kernelspec": {
   "display_name": "cuda-gpt",
   "language": "python",
   "name": "cuda"
  },
  "language_info": {
   "codemirror_mode": {
    "name": "ipython",
    "version": 3
   },
   "file_extension": ".py",
   "mimetype": "text/x-python",
   "name": "python",
   "nbconvert_exporter": "python",
   "pygments_lexer": "ipython3",
   "version": "3.10.9"
  }
 },
 "nbformat": 4,
 "nbformat_minor": 5
}
