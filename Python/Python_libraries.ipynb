{
 "cells": [
  {
   "cell_type": "code",
   "execution_count": 1,
   "id": "27369fb5",
   "metadata": {},
   "outputs": [],
   "source": [
    "import array"
   ]
  },
  {
   "cell_type": "code",
   "execution_count": 4,
   "id": "e8dc06e8",
   "metadata": {},
   "outputs": [
    {
     "name": "stdout",
     "output_type": "stream",
     "text": [
      "array('i', [1, 2, 3, 4])\n",
      "array('f', [1.0, 2.0, 3.5, 2.569999933242798])\n"
     ]
    }
   ],
   "source": [
    "# integer array\n",
    "my_int_array =  array.array('i', [1,2,3,4])\n",
    "print(my_int_array)\n",
    "\n",
    "# float\n",
    "my_float_array = array.array('f', [1.0, 2, 3.5, 2.57])\n",
    "print(my_float_array )"
   ]
  },
  {
   "cell_type": "code",
   "execution_count": null,
   "id": "e88f3cb8",
   "metadata": {},
   "outputs": [
    {
     "name": "stdout",
     "output_type": "stream",
     "text": [
      "4\n",
      "array('f', [1.0, 2.5, 3.5, 2.569999933242798])\n",
      "array('i', [1, 3, 4, 6, 6])\n",
      "array('i', [1, 4, 6, 6])\n"
     ]
    }
   ],
   "source": [
    "# Access array elements\n",
    "print(my_int_array[2])\n",
    "\n",
    "# Update/Modifying elements\n",
    "my_float_array[1]=2.5\n",
    "print(my_float_array)\n",
    "\n",
    "# Adding elements\n",
    "my_int_array.append(6)\n",
    "print(my_int_array)\n",
    "\n",
    "# Removing elements\n",
    "my_int_array.pop(1)\n",
    "print(my_int_array)"
   ]
  },
  {
   "cell_type": "code",
   "execution_count": 9,
   "id": "91657271",
   "metadata": {},
   "outputs": [],
   "source": [
    "import math"
   ]
  },
  {
   "cell_type": "code",
   "execution_count": 10,
   "id": "7090b9a5",
   "metadata": {},
   "outputs": [
    {
     "data": {
      "text/plain": [
       "5.0"
      ]
     },
     "execution_count": 10,
     "metadata": {},
     "output_type": "execute_result"
    }
   ],
   "source": [
    "math.sqrt(25)"
   ]
  },
  {
   "cell_type": "code",
   "execution_count": 11,
   "id": "5e24ff90",
   "metadata": {},
   "outputs": [
    {
     "data": {
      "text/plain": [
       "3.141592653589793"
      ]
     },
     "execution_count": 11,
     "metadata": {},
     "output_type": "execute_result"
    }
   ],
   "source": [
    "math.pi"
   ]
  },
  {
   "cell_type": "code",
   "execution_count": 13,
   "id": "6c262a8b",
   "metadata": {},
   "outputs": [
    {
     "name": "stdout",
     "output_type": "stream",
     "text": [
      "Log 10 value  0.3010299956639812\n",
      "Log base 2 value of 20 4.321928094887363\n"
     ]
    }
   ],
   "source": [
    "print(\"Log 10 value \", math.log10(2))\n",
    "print(\"Log base 2 value of 20\", math.log(20,2))"
   ]
  },
  {
   "cell_type": "code",
   "execution_count": 15,
   "id": "bf244b99",
   "metadata": {},
   "outputs": [
    {
     "name": "stdout",
     "output_type": "stream",
     "text": [
      "20.085536923187668\n",
      "6\n",
      "2\n"
     ]
    }
   ],
   "source": [
    "print(math.exp(3))\n",
    "print(math.factorial(3))\n",
    "print(math.gcd(2,8))"
   ]
  },
  {
   "cell_type": "code",
   "execution_count": 14,
   "id": "4f75bb2a",
   "metadata": {},
   "outputs": [],
   "source": [
    "import json"
   ]
  },
  {
   "cell_type": "code",
   "execution_count": null,
   "id": "b544715c",
   "metadata": {},
   "outputs": [
    {
     "name": "stdout",
     "output_type": "stream",
     "text": [
      "JSON string: {\"name\": \"Alice\", \"age\": 25, \"City\": \"Delhi\"}\n",
      "Type of json_str is: <class 'str'>\n"
     ]
    }
   ],
   "source": [
    "# dumps:- Converting Python objects (like dictionaries, lists, strings, numbers, booleans, and None) into a JSON string.\n",
    "data={\n",
    "    \"name\": \"Alice\", \"age\":25, \"City\": \"Delhi\"\n",
    "}\n",
    "\n",
    "# Serialization (Python to JSON)\n",
    "json_str=json.dumps(data)\n",
    "print(f\"JSON string: {json_str}\")\n",
    "print(f\"Type of json_str is: {type(json_str)}\")"
   ]
  },
  {
   "cell_type": "code",
   "execution_count": null,
   "id": "00966ed6",
   "metadata": {},
   "outputs": [
    {
     "name": "stdout",
     "output_type": "stream",
     "text": [
      "Python object:{'name': 'Alice', 'age': 25, 'City': 'Delhi'}\n"
     ]
    }
   ],
   "source": [
    "# loads:-Parsing a JSON string into a Python object. \n",
    "\n",
    "# Deserialization (JSON to Python)\n",
    "pyt_obj=json.loads(json_str)\n",
    "print(f\"Python object:{pyt_obj}\")"
   ]
  },
  {
   "cell_type": "code",
   "execution_count": null,
   "id": "bcf8f144",
   "metadata": {},
   "outputs": [
    {
     "name": "stdout",
     "output_type": "stream",
     "text": [
      "Data loaded from file: {'name': 'Alice', 'age': 25, 'City': 'Delhi'}\n"
     ]
    }
   ],
   "source": [
    "# Working with files\n",
    "\n",
    "# Writing to a json file\n",
    "  ## dump():- Writes a Python object as JSON into a file.\n",
    "with open(\"data.json\", \"w\") as json_file:\n",
    "    json.dump(data, json_file, indent=4)\n",
    "\n",
    "\n",
    "# Reading from a json file\n",
    "  ## load():- Reads a JSON formatted file and converts it into a Python object.\n",
    "with open(\"data.json\", \"r\") as json_file:\n",
    "    loaded_data=json.load(json_file)\n",
    "print(f\"Data loaded from file: {loaded_data}\")"
   ]
  },
  {
   "cell_type": "code",
   "execution_count": 24,
   "id": "84306c08",
   "metadata": {},
   "outputs": [
    {
     "name": "stdout",
     "output_type": "stream",
     "text": [
      "[1, 2, null, true]\n"
     ]
    }
   ],
   "source": [
    "# List to json\n",
    "list1=[1, 2, None, True]\n",
    "print(json.dumps(list1))"
   ]
  },
  {
   "cell_type": "code",
   "execution_count": 30,
   "id": "f80d5b69",
   "metadata": {},
   "outputs": [
    {
     "name": "stdout",
     "output_type": "stream",
     "text": [
      "{\n",
      "   \"name\": \"Alice\",\n",
      "   \"age\": 25,\n",
      "   \"City\": \"Delhi\"\n",
      "}\n",
      "\n",
      " {\"City\": \"Delhi\", \"age\": 25, \"name\": \"Alice\"}\n",
      "\n",
      " {\"name\"=\"Alice\"; \"age\"=25; \"City\"=\"Delhi\"}\n"
     ]
    }
   ],
   "source": [
    "# Format json\n",
    "\n",
    "## indent\n",
    "print(json.dumps(data, indent=3))\n",
    "\n",
    "## sort json\n",
    "json_data = json.dumps(data, sort_keys=True)\n",
    "print(\"\\n\", json_data)\n",
    "\n",
    "## separator\n",
    "print(\"\\n\", json.dumps(data, separators=(\"; \", \"=\")))"
   ]
  },
  {
   "cell_type": "code",
   "execution_count": 23,
   "id": "3d338b18",
   "metadata": {},
   "outputs": [
    {
     "name": "stdout",
     "output_type": "stream",
     "text": [
      "{'name': 'Alice', 'age': 25, 'city': 'New York', 'hobbies': ['reading', 'cycling']}\n",
      "{\"name\": \"Alice\", \"age\": 25, \"city\": \"New York\", \"hobbies\": [\"reading\", \"cycling\"]}\n"
     ]
    }
   ],
   "source": [
    "import json\n",
    "\n",
    "json1 = '{\"name\": \"Alice\", \"age\": 25}'\n",
    "json2 = '{\"city\": \"New York\", \"hobbies\": [\"reading\", \"cycling\"]}'\n",
    "\n",
    "dict1 = json.loads(json1)\n",
    "dict2 = json.loads(json2)\n",
    "\n",
    "dict1.update(dict2)\n",
    "print(dict1)\n",
    "\n",
    "merged_json = json.dumps(dict1)\n",
    "\n",
    "print(merged_json)"
   ]
  },
  {
   "cell_type": "code",
   "execution_count": null,
   "id": "fd841bc5",
   "metadata": {},
   "outputs": [],
   "source": []
  }
 ],
 "metadata": {
  "kernelspec": {
   "display_name": "cuda-gpt",
   "language": "python",
   "name": "cuda"
  },
  "language_info": {
   "codemirror_mode": {
    "name": "ipython",
    "version": 3
   },
   "file_extension": ".py",
   "mimetype": "text/x-python",
   "name": "python",
   "nbconvert_exporter": "python",
   "pygments_lexer": "ipython3",
   "version": "3.10.9"
  }
 },
 "nbformat": 4,
 "nbformat_minor": 5
}
