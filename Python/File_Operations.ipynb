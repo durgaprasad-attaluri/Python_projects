{
 "cells": [
  {
   "cell_type": "markdown",
   "id": "d5599bf4",
   "metadata": {},
   "source": [
    "## File Operations\n",
    "Python can read from and write to files. File formatting means how we work with files — like .txt, .csv, or even .json."
   ]
  },
  {
   "cell_type": "markdown",
   "id": "f869ad0e",
   "metadata": {},
   "source": [
    "#### Reading and writing text files (.txt)"
   ]
  },
  {
   "cell_type": "code",
   "execution_count": null,
   "id": "bb982a75",
   "metadata": {},
   "outputs": [],
   "source": [
    "# Writing\n",
    "## 'w': Write-only mode. If the file exists, its contents are overwritten. If not, a new file is created.\n",
    "file=open(\"Hello.txt\", \"w\") \n",
    "\n",
    "file.write(\"Hello World!\")\n",
    "file.write(\"\\nThis is our first file\")\n",
    "\n",
    "# Always close this file\n",
    "file.close()"
   ]
  },
  {
   "cell_type": "code",
   "execution_count": null,
   "id": "c9206cf9",
   "metadata": {},
   "outputs": [
    {
     "name": "stdout",
     "output_type": "stream",
     "text": [
      "Hello World!\n",
      "This is our first file\n"
     ]
    }
   ],
   "source": [
    "# Reading\n",
    "## 'r': Read-only mode. The file must exist, or an error will occur.\n",
    "file=open(\"Hello.txt\", \"r\") \n",
    "print(content)\n",
    "file.close()"
   ]
  },
  {
   "cell_type": "code",
   "execution_count": 8,
   "id": "e5e207d8",
   "metadata": {},
   "outputs": [
    {
     "name": "stdout",
     "output_type": "stream",
     "text": [
      "This is second line using 'With'I know python basics only.\n",
      "I'm larning now.\n"
     ]
    }
   ],
   "source": [
    "# Writing few more lines using 'with' \n",
    "with open(\"Hello.txt\", \"w\") as file:\n",
    "    file.write(\"This is second line using 'With'\")\n",
    "    file.write(\"I know python basics only.\")\n",
    "\n",
    "# If we open the file, the new text will be seen, the old one is overwritten.\n",
    "\n",
    "# Append\n",
    "## 'a': Append mode. New content is added to the end of the file. If the file doesn't exist, a new file is created.\n",
    "with open(\"Hello.txt\", \"a\") as file:\n",
    "    file.write(\"\\nI'm larning now.\")\n",
    "\n",
    "with open(\"Hello.txt\", \"r\") as file:\n",
    "    print(file.read())"
   ]
  },
  {
   "cell_type": "code",
   "execution_count": 10,
   "id": "89e9ed33",
   "metadata": {},
   "outputs": [
    {
     "name": "stdout",
     "output_type": "stream",
     "text": [
      "This is second line using 'With'I know python basics only.\n",
      "I'm larning now.Now I have started learning.\n"
     ]
    }
   ],
   "source": [
    "# r+': Read and write mode. The file must exist.\n",
    "with open(\"Hello.txt\", \"r+\") as file:\n",
    "    content=file.read()\n",
    "    print(content)\n",
    "\n",
    "    file.seek(0, 2) # Moving to the end of the file\n",
    "    file.write(\"Now I have started learning.\") "
   ]
  },
  {
   "cell_type": "code",
   "execution_count": 11,
   "id": "b50992a2",
   "metadata": {},
   "outputs": [
    {
     "name": "stdout",
     "output_type": "stream",
     "text": [
      "This is second line using 'With'I know python basics only.\n",
      "I'm larning now.Now I have started learning.Now I have started learning.\n"
     ]
    }
   ],
   "source": [
    "with open(\"Hello.txt\", \"r\") as f:\n",
    "    print(f.read())"
   ]
  },
  {
   "cell_type": "code",
   "execution_count": 13,
   "id": "a1450a94",
   "metadata": {},
   "outputs": [
    {
     "name": "stdout",
     "output_type": "stream",
     "text": [
      "I am writing my tasks.\n"
     ]
    }
   ],
   "source": [
    "# w+': Read and write mode. If the file exists, its contents are overwritten. If not, a new file is created.\n",
    "with open(\"Hello1.txt\", \"w+\") as f:\n",
    "    f.write(\"I am writing my tasks.\")\n",
    "\n",
    "\n",
    "with open(\"Hello1.txt\", \"r\") as f:\n",
    "    print(f.read())"
   ]
  },
  {
   "cell_type": "code",
   "execution_count": null,
   "id": "a392e4e3",
   "metadata": {},
   "outputs": [
    {
     "name": "stdout",
     "output_type": "stream",
     "text": [
      "I am writing my tasks.\n"
     ]
    }
   ],
   "source": [
    "# Exixted text, now the new content overwrites the old one\n",
    "with open(\"Hello.txt\", \"w+\") as f:\n",
    "    f.write(\"I am writing my tasks.\")\n",
    "\n",
    "\n",
    "with open(\"Hello.txt\", \"r\") as f:\n",
    "    print(f.read())"
   ]
  },
  {
   "cell_type": "code",
   "execution_count": 16,
   "id": "d2fc1037",
   "metadata": {},
   "outputs": [
    {
     "name": "stdout",
     "output_type": "stream",
     "text": [
      "\n",
      "Task 1: Learn Python variables perfectly.\n",
      "Task 2: Practice OOPs daily.\n",
      "Task 1: Learn Python variables perfectly.\n",
      "Task 2: Practice OOPs daily.\n"
     ]
    }
   ],
   "source": [
    "# 'a+': Read and append mode. New content is added to the end of the file. If the file doesn't exist, a new file is created.\n",
    "with open(\"Hello.txt\", \"a+\") as f:\n",
    "    f.write(\"\\nTask 1: Learn Python variables perfectly.\")\n",
    "    f.write(\"\\nTask 2: Practice OOPs daily.\")\n",
    "\n",
    "\n",
    "with open(\"Hello.txt\", \"r\") as f:\n",
    "    print(f.read())"
   ]
  },
  {
   "cell_type": "code",
   "execution_count": 19,
   "id": "6a2521b0",
   "metadata": {},
   "outputs": [
    {
     "name": "stdout",
     "output_type": "stream",
     "text": [
      "Line 1 \n",
      "\n",
      "Line 2 Task 1: Learn Python variables perfectly.\n",
      "\n"
     ]
    }
   ],
   "source": [
    "# readline()- One line at a time\n",
    "with open(\"Hello.txt\", \"r\") as f:\n",
    "    print(\"Line 1\", f.readline())\n",
    "    print(\"Line 2\", f.readline())"
   ]
  },
  {
   "cell_type": "code",
   "execution_count": 20,
   "id": "bbedc119",
   "metadata": {},
   "outputs": [
    {
     "name": "stdout",
     "output_type": "stream",
     "text": [
      "Line: 0 : \n",
      "\n",
      "Line: 1 : Task 1: Learn Python variables perfectly.\n",
      "\n",
      "Line: 2 : Task 2: Practice OOPs daily.\n",
      "\n",
      "Line: 3 : Task 1: Learn Python variables perfectly.\n",
      "\n",
      "Line: 4 : Task 2: Practice OOPs daily.\n"
     ]
    }
   ],
   "source": [
    "with open(\"Hello.txt\", \"r\") as file:\n",
    "    c=0\n",
    "    for line in file:\n",
    "        print(\"Line:\",c, \":\", line)\n",
    "        c+=1\n"
   ]
  },
  {
   "cell_type": "code",
   "execution_count": 21,
   "id": "675146f2",
   "metadata": {},
   "outputs": [
    {
     "name": "stdout",
     "output_type": "stream",
     "text": [
      "Task 1\n",
      "Task 2\n",
      "Task 3\n",
      "\n"
     ]
    }
   ],
   "source": [
    "# Writelines- Writing list of lines\n",
    "lines=[\"Task 1\\n\", \"Task 2\\n\", \"Task 3\\n\"]\n",
    "\n",
    "with open(\"Hello.txt\", \"w\") as f:\n",
    "    f.writelines(lines)\n",
    "\n",
    "with open(\"Hello.txt\", \"r\") as f:\n",
    "    print(f.read())"
   ]
  },
  {
   "cell_type": "code",
   "execution_count": null,
   "id": "3d2ef372",
   "metadata": {},
   "outputs": [],
   "source": []
  }
 ],
 "metadata": {
  "kernelspec": {
   "display_name": "cuda-gpt",
   "language": "python",
   "name": "cuda"
  },
  "language_info": {
   "codemirror_mode": {
    "name": "ipython",
    "version": 3
   },
   "file_extension": ".py",
   "mimetype": "text/x-python",
   "name": "python",
   "nbconvert_exporter": "python",
   "pygments_lexer": "ipython3",
   "version": "3.10.9"
  }
 },
 "nbformat": 4,
 "nbformat_minor": 5
}
