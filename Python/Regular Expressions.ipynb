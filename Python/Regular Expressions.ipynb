{
 "cells": [
  {
   "cell_type": "code",
   "execution_count": 1,
   "id": "81b5e123",
   "metadata": {},
   "outputs": [],
   "source": [
    "import re"
   ]
  },
  {
   "cell_type": "markdown",
   "id": "609e279d-6a6e-418c-9f95-faf87b0188de",
   "metadata": {},
   "source": [
    "### Basic patterns\n",
    "* .(a period): Matches any single character\n",
    "* \\w-Matches a word character( a letter, a digit, or the underscore (). Equivalent to [a-zA-Z0-9])\n",
    "    * Eg. \\w\\w\\w matches abc or a1\\_\n",
    "* \\W: Matches any non-word character, which is anything except letters, digits, and underscore.\n",
    "* \\s: Matches any whitespace character (space, tab, newline, etc.).\n",
    "* \\S: Matches any non-whitespace character\n",
    "* \\d: Matches any digit\n",
    "* \\D: Matches any non-digit\n",
    "* \\\\: Escape character\n",
    "* ^: Matches the start of a string\n",
    "* $: Matches the end of a string"
   ]
  },
  {
   "cell_type": "code",
   "execution_count": 7,
   "id": "f456b1d4-47b4-4524-a365-803a2bd44884",
   "metadata": {},
   "outputs": [
    {
     "name": "stdout",
     "output_type": "stream",
     "text": [
      "Worldmple:Hello\n"
     ]
    }
   ],
   "source": [
    "print(\"r-example:Hello\\rWorld\") \n",
    "'''\n",
    "    First output: r-example\"Hello\n",
    "    Now the cursor will come at the starting position: |r-example\"Hello\n",
    "    World will be printed at the start and it overlaps the text: World(in place of 'r-exa')mple:Hello\n",
    "'''"
   ]
  },
  {
   "cell_type": "code",
   "execution_count": 6,
   "id": "4d575f2c-4566-4dbf-ae11-2b2a6dc6e9f9",
   "metadata": {},
   "outputs": [
    {
     "name": "stdout",
     "output_type": "stream",
     "text": [
      "Hello World\n",
      "World\n",
      "n-example:Hello\n",
      "World\n"
     ]
    }
   ],
   "source": [
    "print(\"Hello World\")\n",
    "print(\"Hello\\rWorld\")  # r is carriage which makes the text comes at the starting position\n",
    "print(\"n-example:Hello\\nWorld\")"
   ]
  },
  {
   "cell_type": "code",
   "execution_count": 32,
   "id": "d0eef832-07a8-4f64-914a-ca841502aedc",
   "metadata": {},
   "outputs": [
    {
     "name": "stdout",
     "output_type": "stream",
     "text": [
      "['Hello']\n"
     ]
    }
   ],
   "source": [
    "# start of a string\n",
    "print(re.findall(r'^Hello', 'Hello World\\nHello again'))"
   ]
  },
  {
   "cell_type": "code",
   "execution_count": 35,
   "id": "c17bc3d8-100f-4181-b47a-8095c76f7d0c",
   "metadata": {},
   "outputs": [
    {
     "name": "stdout",
     "output_type": "stream",
     "text": [
      "['.', '.']\n",
      "['#d']\n"
     ]
    }
   ],
   "source": [
    "# escape character\n",
    "\n",
    "## match a dot .\n",
    "print(re.findall(r'\\.', 'www.example.com'))\n",
    "print(re.findall(r'\\#d', 'Hi I am #, #deep'))"
   ]
  },
  {
   "cell_type": "code",
   "execution_count": 38,
   "id": "97f0bfd4-0e06-436d-a48e-8aca7795e927",
   "metadata": {},
   "outputs": [
    {
     "name": "stdout",
     "output_type": "stream",
     "text": [
      "[]\n",
      "['World']\n"
     ]
    }
   ],
   "source": [
    "# end of a string\n",
    "print(re.findall(r'world$', 'hello world, hi World'))\n",
    "print(re.findall(r'World$', 'hello world, hi World'))"
   ]
  },
  {
   "cell_type": "markdown",
   "id": "0d4f3820-f554-4582-82a9-6994e04a3e2b",
   "metadata": {},
   "source": [
    "### Repetition\n",
    "* +- 1 or more occurrences of the pattern to its left\n",
    "* *- 0 or more occurrences of the pattern to its left\n",
    "* ?- match 0 or 1 occurrences of the pattern at the start of a string.\n",
    "* {n}-Matches exactly n repetitions of the preceding element.\n",
    "* {n,}-Matches n or more repetitions of the preceding element.\n",
    "* {n,m}-Matches between n and m repetitions (inclusive) of the preceding"
   ]
  },
  {
   "cell_type": "code",
   "execution_count": 47,
   "id": "d9549a7b-285a-4ecc-ba09-1854f0917b0e",
   "metadata": {},
   "outputs": [
    {
     "data": {
      "text/plain": [
       "['abbbb', 'ab']"
      ]
     },
     "execution_count": 47,
     "metadata": {},
     "output_type": "execute_result"
    }
   ],
   "source": [
    "# '+'\n",
    "re.findall(r'ab+', 'abbbbcdacbdab')"
   ]
  },
  {
   "cell_type": "code",
   "execution_count": 48,
   "id": "000dc8da-465e-4754-b6e9-91b8b20cfcf2",
   "metadata": {},
   "outputs": [
    {
     "data": {
      "text/plain": [
       "['ab', 'abb', 'abbbbb', 'ab', 'a']"
      ]
     },
     "execution_count": 48,
     "metadata": {},
     "output_type": "execute_result"
    }
   ],
   "source": [
    "# '*'\n",
    "re.findall(r'ab*', 'abcd abb c abbbbb cd ab a')"
   ]
  },
  {
   "cell_type": "code",
   "execution_count": 50,
   "id": "04c4f50e-3cc5-4378-b821-e043583f016c",
   "metadata": {},
   "outputs": [
    {
     "data": {
      "text/plain": [
       "['1']"
      ]
     },
     "execution_count": 50,
     "metadata": {},
     "output_type": "execute_result"
    }
   ],
   "source": [
    "# ^- all the words starts with digit\n",
    "re.findall(r'^\\d', '12 ab were 123')"
   ]
  },
  {
   "cell_type": "code",
   "execution_count": 52,
   "id": "3541cd16-6f6e-45c4-bff7-c360f2b3f420",
   "metadata": {},
   "outputs": [
    {
     "data": {
      "text/plain": [
       "['12', '23', '44', '54']"
      ]
     },
     "execution_count": 52,
     "metadata": {},
     "output_type": "execute_result"
    }
   ],
   "source": [
    "re.findall(r'\\d{2}', '12 2344546')"
   ]
  },
  {
   "cell_type": "code",
   "execution_count": 53,
   "id": "e55d0da0-9bc9-4060-9b98-9ad80380a9ba",
   "metadata": {},
   "outputs": [
    {
     "data": {
      "text/plain": [
       "['123', '21314124']"
      ]
     },
     "execution_count": 53,
     "metadata": {},
     "output_type": "execute_result"
    }
   ],
   "source": [
    "re.findall(r'\\d{2,}', '123 21314124')"
   ]
  },
  {
   "cell_type": "code",
   "execution_count": 58,
   "id": "df528f4c-3cca-4094-95ba-83d7a1df1f9b",
   "metadata": {},
   "outputs": [
    {
     "data": {
      "text/plain": [
       "['hell', 'worl', 'hi', '__', '74', '1234', '5466', '5445', '45']"
      ]
     },
     "execution_count": 58,
     "metadata": {},
     "output_type": "execute_result"
    }
   ],
   "source": [
    "re.findall(r'\\w{2,4}', 'hello world hi __ _  7 74 12345466544545')"
   ]
  },
  {
   "cell_type": "code",
   "execution_count": 59,
   "id": "cf20397f-8540-43ed-92ea-e37b97564370",
   "metadata": {
    "scrolled": true
   },
   "outputs": [
    {
     "name": "stdout",
     "output_type": "stream",
     "text": [
      "['apple', 'apple']\n",
      "['apple']\n",
      "['apple']\n"
     ]
    }
   ],
   "source": [
    "# \\b- word boundary\n",
    "print(re.findall(r'\\bapple','apple banana apples bananas'))  # At the beginning\n",
    "print(re.findall(r'apple\\b','apple banana apples bananas'))  # At the end\n",
    "print(re.findall(r'\\bapple\\b','apple banana apples bananas'))  # Whole world"
   ]
  },
  {
   "cell_type": "code",
   "execution_count": 62,
   "id": "5ee5e371-fa95-4b9b-9cc4-507e3fd62df5",
   "metadata": {},
   "outputs": [
    {
     "data": {
      "text/plain": [
       "['1234', '123', '1234']"
      ]
     },
     "execution_count": 62,
     "metadata": {},
     "output_type": "execute_result"
    }
   ],
   "source": [
    "re.findall(r'\\b\\d{2,4}', '12345678 123 12345')"
   ]
  },
  {
   "cell_type": "markdown",
   "id": "1ef35e51-8825-472f-adc8-7cc3f37b56d0",
   "metadata": {},
   "source": [
    "### Square Brackets\n",
    "* It can be used to indicate a set of chars, so [abc] matches 'a' or 'b' or 'c'. \n",
    "* [^a-c] means character except a,b,c\n",
    "* *Note*: Inside [] .(dot) matches a literal dot/period"
   ]
  },
  {
   "cell_type": "code",
   "execution_count": 8,
   "id": "f17ac01b-eb3a-4302-b719-64245f619059",
   "metadata": {},
   "outputs": [
    {
     "data": {
      "text/plain": [
       "['d', 'e', 'f', '1', '2', '3', '@', '3']"
      ]
     },
     "execution_count": 8,
     "metadata": {},
     "output_type": "execute_result"
    }
   ],
   "source": [
    "re.findall(r'[^a-c.#$]', 'abcdef123@3.#$')  # Except a, b, c, ., #, $"
   ]
  },
  {
   "cell_type": "code",
   "execution_count": 42,
   "id": "a7c5afca-fe9d-4526-8c21-b47f5acb327a",
   "metadata": {},
   "outputs": [
    {
     "name": "stdout",
     "output_type": "stream",
     "text": [
      "abc-def@gmail.com\n"
     ]
    }
   ],
   "source": [
    "m=re.search(r'[\\w.-]+@[\\w.]+', 'abc-def@gmail.com')\n",
    "if m:\n",
    "    print(m.group())"
   ]
  },
  {
   "cell_type": "code",
   "execution_count": 43,
   "id": "934bd7b9-2010-4d6e-9f7b-f3f39b7c2099",
   "metadata": {},
   "outputs": [
    {
     "data": {
      "text/plain": [
       "['a', 'e']"
      ]
     },
     "execution_count": 43,
     "metadata": {},
     "output_type": "execute_result"
    }
   ],
   "source": [
    "re.findall(r'[aeiou]', 'abcdefgh')"
   ]
  },
  {
   "cell_type": "markdown",
   "id": "f50baae7-3508-4aa8-a4b3-04398f73e9c1",
   "metadata": {},
   "source": [
    "### Regex functions"
   ]
  },
  {
   "cell_type": "code",
   "execution_count": 11,
   "id": "45c384ab-41c7-445d-a985-f0661f3b10f8",
   "metadata": {},
   "outputs": [
    {
     "name": "stdout",
     "output_type": "stream",
     "text": [
      "Found:- 123\n"
     ]
    }
   ],
   "source": [
    "# search:- Find the first match for a pattern\n",
    "digit_match=re.search(r'\\d+', 'abc123. Room 402')\n",
    "if digit_match:\n",
    "    print(\"Found:-\", digit_match.group())\n",
    "else:\n",
    "    print(\"Match not found.\")"
   ]
  },
  {
   "cell_type": "code",
   "execution_count": 13,
   "id": "40db7bf3-b499-4a99-b161-d875a0c041e4",
   "metadata": {},
   "outputs": [
    {
     "name": "stdout",
     "output_type": "stream",
     "text": [
      "Found:- ['123', '456', '789']\n"
     ]
    }
   ],
   "source": [
    "# findall:- finds all the matches and returns them as a list of strings, with each string representing one match.\n",
    "num=re.findall(r'\\d+', 'Room 123, Room 456, Room 789')\n",
    "if num:\n",
    "    print(\"Found:-\", num)\n",
    "else:\n",
    "    print(\"Match not found.\")"
   ]
  },
  {
   "cell_type": "code",
   "execution_count": 31,
   "id": "4c054c7d-994c-4b25-ab93-26214b1815f7",
   "metadata": {},
   "outputs": [
    {
     "name": "stdout",
     "output_type": "stream",
     "text": [
      "<re.Match object; span=(0, 7), match='123-4-5'> \n",
      " <re.Match object; span=(0, 13), match='abc@gmail.com'>\n",
      "123-4-5\n",
      "123\n",
      "gmail\n",
      "com\n"
     ]
    }
   ],
   "source": [
    "# group:- It allows us to capture specific parts of the matched text separately.\n",
    "match1=re.search(r'(\\d{3})\\-(\\d)\\-(\\d)', '123-4-5')\n",
    "match2=re.search(r'(\\w+)@(\\w+).(\\w+)', 'abc@gmail.com')\n",
    "print(match1, '\\n', match2)\n",
    "print(match1.group())\n",
    "print(match1.group(1))\n",
    "print(match2.group(2))\n",
    "print(match2.group(3))"
   ]
  },
  {
   "cell_type": "code",
   "execution_count": null,
   "id": "768296ff-cb0e-4626-bff4-158788429d66",
   "metadata": {},
   "outputs": [],
   "source": []
  },
  {
   "cell_type": "code",
   "execution_count": null,
   "id": "34662392-ae22-4ca1-a864-1f743874cdcf",
   "metadata": {},
   "outputs": [],
   "source": []
  },
  {
   "cell_type": "code",
   "execution_count": null,
   "id": "629523b6-c38a-4d44-b213-fe9a0c1cf16a",
   "metadata": {},
   "outputs": [],
   "source": []
  },
  {
   "cell_type": "code",
   "execution_count": 2,
   "id": "e4aa1d85",
   "metadata": {},
   "outputs": [
    {
     "data": {
      "text/plain": [
       "['asdf', 'fjdk', 'afed', 'fjek', 'asdf', 'foo']"
      ]
     },
     "execution_count": 2,
     "metadata": {},
     "output_type": "execute_result"
    }
   ],
   "source": [
    "line = 'asdf fjdk; afed, fjek,asdf, foo'\n",
    "re.split(r'[;,\\s]\\s*', line)"
   ]
  },
  {
   "cell_type": "code",
   "execution_count": 3,
   "id": "7ed56360",
   "metadata": {},
   "outputs": [
    {
     "name": "stdout",
     "output_type": "stream",
     "text": [
      "apple\n"
     ]
    }
   ],
   "source": [
    "# re.search(pattern, string): Searches for the first occurrence of the pattern in the string\n",
    "result = re.search(r'apple', 'I like apples and oranges')\n",
    "print(result.group())  # Output: 'apple'"
   ]
  },
  {
   "cell_type": "code",
   "execution_count": 4,
   "id": "65a4c209",
   "metadata": {},
   "outputs": [
    {
     "ename": "AttributeError",
     "evalue": "'NoneType' object has no attribute 'group'",
     "output_type": "error",
     "traceback": [
      "\u001b[1;31m---------------------------------------------------------------------------\u001b[0m",
      "\u001b[1;31mAttributeError\u001b[0m                            Traceback (most recent call last)",
      "Cell \u001b[1;32mIn[4], line 4\u001b[0m\n\u001b[0;32m      1\u001b[0m \u001b[38;5;66;03m# re.match(pattern, string): Matches the pattern at the beginning of the string.\u001b[39;00m\n\u001b[0;32m      3\u001b[0m result \u001b[38;5;241m=\u001b[39m re\u001b[38;5;241m.\u001b[39mmatch(\u001b[38;5;124mr\u001b[39m\u001b[38;5;124m'\u001b[39m\u001b[38;5;124mapple\u001b[39m\u001b[38;5;124m'\u001b[39m, \u001b[38;5;124m'\u001b[39m\u001b[38;5;124mI like apples and oranges\u001b[39m\u001b[38;5;124m'\u001b[39m)\n\u001b[1;32m----> 4\u001b[0m \u001b[38;5;28mprint\u001b[39m(\u001b[43mresult\u001b[49m\u001b[38;5;241;43m.\u001b[39;49m\u001b[43mgroup\u001b[49m())\n",
      "\u001b[1;31mAttributeError\u001b[0m: 'NoneType' object has no attribute 'group'"
     ]
    }
   ],
   "source": [
    "# re.match(pattern, string): Matches the pattern at the beginning of the string.\n",
    "\n",
    "result = re.match(r'apple', 'I like apples and oranges')\n",
    "print(result.group())  # Output: None (because 'apple' doesn't occur at the start of the string)"
   ]
  },
  {
   "cell_type": "code",
   "execution_count": 5,
   "id": "2b726343",
   "metadata": {},
   "outputs": [
    {
     "name": "stdout",
     "output_type": "stream",
     "text": [
      "['apples', 'applesauce']\n"
     ]
    }
   ],
   "source": [
    "# re.findall(pattern, string): Finds all occurrences of the pattern in the string.\n",
    "results = re.findall(r'app\\w*', 'I like apples and applesauce')\n",
    "print(results)  # Output: ['apples', 'applesauce']"
   ]
  },
  {
   "cell_type": "code",
   "execution_count": 6,
   "id": "5630e111",
   "metadata": {},
   "outputs": [
    {
     "name": "stdout",
     "output_type": "stream",
     "text": [
      "I like oranges and orangesauce\n"
     ]
    }
   ],
   "source": [
    "# re.sub(pattern, replacement, string): Replaces occurrences of the pattern in the string with the replacement.\n",
    "new_string = re.sub(r'apple', 'orange', 'I like apples and applesauce')\n",
    "print(new_string)  # Output: 'I like oranges and orangesauce'"
   ]
  },
  {
   "cell_type": "markdown",
   "id": "3a8bc8ed",
   "metadata": {},
   "source": [
    "### Regex Patterns:"
   ]
  },
  {
   "cell_type": "code",
   "execution_count": 7,
   "id": "fbea26aa",
   "metadata": {},
   "outputs": [
    {
     "name": "stdout",
     "output_type": "stream",
     "text": [
      "['apple', 'apple', 'apple']\n"
     ]
    }
   ],
   "source": [
    "# 1. Literals: Characters that match themselves (e.g., a, 5, apple).\n",
    "text = \"I have an apple, but I want more apples for my apple pie.\"\n",
    "\n",
    "# Using a regex literal to find occurrences of the word 'apple'\n",
    "matches = re.findall(r'apple', text)\n",
    "\n",
    "print(matches)  # Output: ['apple', 'apple', 'apple']"
   ]
  },
  {
   "cell_type": "markdown",
   "id": "ee77f561",
   "metadata": {},
   "source": [
    "**Character Classes:**\n",
    "* \\d: Matches any digit (equivalent to [0-9]).\n",
    "* \\w: Matches any alphanumeric character or underscore (equivalent to [a-zA-Z0-9_]).\n",
    "* \\s: Matches any whitespace character (space, tab, newline).\n",
    "\n",
    "\n"
   ]
  },
  {
   "cell_type": "markdown",
   "id": "c582bcfb",
   "metadata": {},
   "source": [
    "**Quantifiers:**\n",
    "* *: Matches zero or more occurrences.\n",
    "* +: Matches one or more occurrences.\n",
    "* ?: Matches zero or one occurrence.\n",
    "* {n}: Matches exactly n occurrences.\n",
    "* {n,}: Matches n or more occurrences.\n",
    "* {n,m}: Matches between n and m occurrences."
   ]
  },
  {
   "cell_type": "code",
   "execution_count": 8,
   "id": "94a0099b",
   "metadata": {},
   "outputs": [
    {
     "name": "stdout",
     "output_type": "stream",
     "text": [
      "['ab', 'abb', 'abbb']\n"
     ]
    }
   ],
   "source": [
    "text = \"ab abb abbb\"\n",
    "matches = re.findall(r'ab*', text)\n",
    "print(matches)  # Output: ['ab', 'abb', 'abbb']"
   ]
  },
  {
   "cell_type": "code",
   "execution_count": 9,
   "id": "9585b4d1",
   "metadata": {},
   "outputs": [
    {
     "name": "stdout",
     "output_type": "stream",
     "text": [
      "['ab', 'abb', 'abbb']\n"
     ]
    }
   ],
   "source": [
    "matches = re.findall(r'ab+', text)\n",
    "print(matches)  # Output: ['ab', 'abb', 'abbb']"
   ]
  },
  {
   "cell_type": "code",
   "execution_count": 10,
   "id": "ad533970",
   "metadata": {},
   "outputs": [
    {
     "name": "stdout",
     "output_type": "stream",
     "text": [
      "['cat', 'cats']\n"
     ]
    }
   ],
   "source": [
    "text = \"cat cats\"\n",
    "matches = re.findall(r'cats?', text)\n",
    "print(matches)  # Output: ['cat', 'cats']"
   ]
  },
  {
   "cell_type": "code",
   "execution_count": 11,
   "id": "f4086967",
   "metadata": {},
   "outputs": [
    {
     "name": "stdout",
     "output_type": "stream",
     "text": [
      "['aaa', 'aaa', 'aaa']\n"
     ]
    }
   ],
   "source": [
    "text = \"aa aaa aaaa aaaaa\"\n",
    "matches = re.findall(r'a{3}', text)\n",
    "print(matches)  # Output: ['aaa', 'aaa']"
   ]
  },
  {
   "cell_type": "code",
   "execution_count": 12,
   "id": "372a5810",
   "metadata": {},
   "outputs": [
    {
     "name": "stdout",
     "output_type": "stream",
     "text": [
      "['aa', 'aaa', 'aaaa', 'aaaaa']\n"
     ]
    }
   ],
   "source": [
    "matches = re.findall(r'a{2,}', text)\n",
    "print(matches)  # Output: ['aa', 'aaa', 'aaaa']"
   ]
  },
  {
   "cell_type": "code",
   "execution_count": 14,
   "id": "754e758f",
   "metadata": {},
   "outputs": [
    {
     "name": "stdout",
     "output_type": "stream",
     "text": [
      "['aaa', 'aaaa', 'aaaa']\n"
     ]
    }
   ],
   "source": [
    "matches = re.findall(r'a{3,4}', text)\n",
    "print(matches)  # Output: ['aa', 'aaa', 'aaaa']"
   ]
  },
  {
   "cell_type": "markdown",
   "id": "006be928",
   "metadata": {},
   "source": [
    "**Anchors:**\n",
    "* ^: Matches the start of a string.\n",
    "* $: Matches the end of a string."
   ]
  },
  {
   "cell_type": "code",
   "execution_count": 15,
   "id": "56df51c3",
   "metadata": {},
   "outputs": [
    {
     "name": "stdout",
     "output_type": "stream",
     "text": [
      "['Hello', 'Hello']\n"
     ]
    }
   ],
   "source": [
    "#  Match lines that start with 'Hello'\n",
    "text = \"Hello World\\nHello Python\\nHi there\"\n",
    "matches = re.findall(r'^Hello', text, flags=re.MULTILINE)\n",
    "print(matches)  # Output: ['Hello', 'Hello']"
   ]
  },
  {
   "cell_type": "code",
   "execution_count": 19,
   "id": "093c63d3",
   "metadata": {},
   "outputs": [
    {
     "name": "stdout",
     "output_type": "stream",
     "text": [
      "['Python']\n"
     ]
    }
   ],
   "source": [
    "#  pattern 'Python' is matched only when it appears at the end of a line.\n",
    "text = \"Hello Python\\nPython is great\\nPython programming\"\n",
    "matches = re.findall(r'Python$', text, flags=re.MULTILINE)\n",
    "print(matches)  # Output: ['Python']"
   ]
  },
  {
   "cell_type": "code",
   "execution_count": 18,
   "id": "a67a77e6",
   "metadata": {},
   "outputs": [
    {
     "name": "stdout",
     "output_type": "stream",
     "text": [
      "[]\n",
      "[]\n"
     ]
    }
   ],
   "source": [
    "text = \"Hello World\\nPrograaming Python is great\\nProgramming with Python is fun\"\n",
    "\n",
    "# Using anchors to match lines that start with 'Python' and end with 'Python'\n",
    "matches_start = re.findall(r'^Python', text, flags=re.MULTILINE)\n",
    "matches_end = re.findall(r'Python$', text, flags=re.MULTILINE)\n",
    "\n",
    "print(matches_start)  # Output: []\n",
    "print(matches_end)    # Output: []"
   ]
  },
  {
   "cell_type": "markdown",
   "id": "11341833",
   "metadata": {},
   "source": [
    "**Alternation:**\n",
    "|: Matches either/or (e.g., apple|orange matches 'apple' or 'orange')."
   ]
  },
  {
   "cell_type": "code",
   "execution_count": 20,
   "id": "51f22777",
   "metadata": {},
   "outputs": [
    {
     "name": "stdout",
     "output_type": "stream",
     "text": [
      "['apples', 'oranges', 'bananas']\n"
     ]
    }
   ],
   "source": [
    "text = \"I like apples, oranges, and bananas.\"\n",
    "\n",
    "# Using alternation to match 'apples', 'oranges', or 'bananas'\n",
    "matches = re.findall(r'apples|oranges|bananas', text)\n",
    "print(matches)  # Output: ['apples', 'oranges', 'bananas']"
   ]
  },
  {
   "cell_type": "code",
   "execution_count": null,
   "id": "e8a152be",
   "metadata": {},
   "outputs": [],
   "source": []
  }
 ],
 "metadata": {
  "kernelspec": {
   "display_name": "Python 3 (ipykernel)",
   "language": "python",
   "name": "python3"
  },
  "language_info": {
   "codemirror_mode": {
    "name": "ipython",
    "version": 3
   },
   "file_extension": ".py",
   "mimetype": "text/x-python",
   "name": "python",
   "nbconvert_exporter": "python",
   "pygments_lexer": "ipython3",
   "version": "3.13.5"
  }
 },
 "nbformat": 4,
 "nbformat_minor": 5
}
