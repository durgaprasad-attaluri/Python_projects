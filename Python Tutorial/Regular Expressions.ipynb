{
 "cells": [
  {
   "cell_type": "code",
   "execution_count": 1,
   "id": "81b5e123",
   "metadata": {},
   "outputs": [],
   "source": [
    "import re"
   ]
  },
  {
   "cell_type": "code",
   "execution_count": 2,
   "id": "e4aa1d85",
   "metadata": {},
   "outputs": [
    {
     "data": {
      "text/plain": [
       "['asdf', 'fjdk', 'afed', 'fjek', 'asdf', 'foo']"
      ]
     },
     "execution_count": 2,
     "metadata": {},
     "output_type": "execute_result"
    }
   ],
   "source": [
    "line = 'asdf fjdk; afed, fjek,asdf, foo'\n",
    "re.split(r'[;,\\s]\\s*', line)"
   ]
  },
  {
   "cell_type": "code",
   "execution_count": 3,
   "id": "7ed56360",
   "metadata": {},
   "outputs": [
    {
     "name": "stdout",
     "output_type": "stream",
     "text": [
      "apple\n"
     ]
    }
   ],
   "source": [
    "# re.search(pattern, string): Searches for the first occurrence of the pattern in the string\n",
    "result = re.search(r'apple', 'I like apples and oranges')\n",
    "print(result.group())  # Output: 'apple'"
   ]
  },
  {
   "cell_type": "code",
   "execution_count": 4,
   "id": "65a4c209",
   "metadata": {},
   "outputs": [
    {
     "ename": "AttributeError",
     "evalue": "'NoneType' object has no attribute 'group'",
     "output_type": "error",
     "traceback": [
      "\u001b[1;31m---------------------------------------------------------------------------\u001b[0m",
      "\u001b[1;31mAttributeError\u001b[0m                            Traceback (most recent call last)",
      "Cell \u001b[1;32mIn[4], line 4\u001b[0m\n\u001b[0;32m      1\u001b[0m \u001b[38;5;66;03m# re.match(pattern, string): Matches the pattern at the beginning of the string.\u001b[39;00m\n\u001b[0;32m      3\u001b[0m result \u001b[38;5;241m=\u001b[39m re\u001b[38;5;241m.\u001b[39mmatch(\u001b[38;5;124mr\u001b[39m\u001b[38;5;124m'\u001b[39m\u001b[38;5;124mapple\u001b[39m\u001b[38;5;124m'\u001b[39m, \u001b[38;5;124m'\u001b[39m\u001b[38;5;124mI like apples and oranges\u001b[39m\u001b[38;5;124m'\u001b[39m)\n\u001b[1;32m----> 4\u001b[0m \u001b[38;5;28mprint\u001b[39m(\u001b[43mresult\u001b[49m\u001b[38;5;241;43m.\u001b[39;49m\u001b[43mgroup\u001b[49m())\n",
      "\u001b[1;31mAttributeError\u001b[0m: 'NoneType' object has no attribute 'group'"
     ]
    }
   ],
   "source": [
    "# re.match(pattern, string): Matches the pattern at the beginning of the string.\n",
    "\n",
    "result = re.match(r'apple', 'I like apples and oranges')\n",
    "print(result.group())  # Output: None (because 'apple' doesn't occur at the start of the string)"
   ]
  },
  {
   "cell_type": "code",
   "execution_count": 5,
   "id": "2b726343",
   "metadata": {},
   "outputs": [
    {
     "name": "stdout",
     "output_type": "stream",
     "text": [
      "['apples', 'applesauce']\n"
     ]
    }
   ],
   "source": [
    "# re.findall(pattern, string): Finds all occurrences of the pattern in the string.\n",
    "results = re.findall(r'app\\w*', 'I like apples and applesauce')\n",
    "print(results)  # Output: ['apples', 'applesauce']"
   ]
  },
  {
   "cell_type": "code",
   "execution_count": 6,
   "id": "5630e111",
   "metadata": {},
   "outputs": [
    {
     "name": "stdout",
     "output_type": "stream",
     "text": [
      "I like oranges and orangesauce\n"
     ]
    }
   ],
   "source": [
    "# re.sub(pattern, replacement, string): Replaces occurrences of the pattern in the string with the replacement.\n",
    "new_string = re.sub(r'apple', 'orange', 'I like apples and applesauce')\n",
    "print(new_string)  # Output: 'I like oranges and orangesauce'"
   ]
  },
  {
   "cell_type": "markdown",
   "id": "3a8bc8ed",
   "metadata": {},
   "source": [
    "### Regex Patterns:"
   ]
  },
  {
   "cell_type": "code",
   "execution_count": 7,
   "id": "fbea26aa",
   "metadata": {},
   "outputs": [
    {
     "name": "stdout",
     "output_type": "stream",
     "text": [
      "['apple', 'apple', 'apple']\n"
     ]
    }
   ],
   "source": [
    "# 1. Literals: Characters that match themselves (e.g., a, 5, apple).\n",
    "text = \"I have an apple, but I want more apples for my apple pie.\"\n",
    "\n",
    "# Using a regex literal to find occurrences of the word 'apple'\n",
    "matches = re.findall(r'apple', text)\n",
    "\n",
    "print(matches)  # Output: ['apple', 'apple', 'apple']"
   ]
  },
  {
   "cell_type": "markdown",
   "id": "ee77f561",
   "metadata": {},
   "source": [
    "**Character Classes:**\n",
    "* \\d: Matches any digit (equivalent to [0-9]).\n",
    "* \\w: Matches any alphanumeric character or underscore (equivalent to [a-zA-Z0-9_]).\n",
    "* \\s: Matches any whitespace character (space, tab, newline).\n",
    "\n",
    "\n"
   ]
  },
  {
   "cell_type": "markdown",
   "id": "c582bcfb",
   "metadata": {},
   "source": [
    "**Quantifiers:**\n",
    "* *: Matches zero or more occurrences.\n",
    "* +: Matches one or more occurrences.\n",
    "* ?: Matches zero or one occurrence.\n",
    "* {n}: Matches exactly n occurrences.\n",
    "* {n,}: Matches n or more occurrences.\n",
    "* {n,m}: Matches between n and m occurrences."
   ]
  },
  {
   "cell_type": "code",
   "execution_count": 8,
   "id": "94a0099b",
   "metadata": {},
   "outputs": [
    {
     "name": "stdout",
     "output_type": "stream",
     "text": [
      "['ab', 'abb', 'abbb']\n"
     ]
    }
   ],
   "source": [
    "text = \"ab abb abbb\"\n",
    "matches = re.findall(r'ab*', text)\n",
    "print(matches)  # Output: ['ab', 'abb', 'abbb']"
   ]
  },
  {
   "cell_type": "code",
   "execution_count": 9,
   "id": "9585b4d1",
   "metadata": {},
   "outputs": [
    {
     "name": "stdout",
     "output_type": "stream",
     "text": [
      "['ab', 'abb', 'abbb']\n"
     ]
    }
   ],
   "source": [
    "matches = re.findall(r'ab+', text)\n",
    "print(matches)  # Output: ['ab', 'abb', 'abbb']"
   ]
  },
  {
   "cell_type": "code",
   "execution_count": 10,
   "id": "ad533970",
   "metadata": {},
   "outputs": [
    {
     "name": "stdout",
     "output_type": "stream",
     "text": [
      "['cat', 'cats']\n"
     ]
    }
   ],
   "source": [
    "text = \"cat cats\"\n",
    "matches = re.findall(r'cats?', text)\n",
    "print(matches)  # Output: ['cat', 'cats']"
   ]
  },
  {
   "cell_type": "code",
   "execution_count": 11,
   "id": "f4086967",
   "metadata": {},
   "outputs": [
    {
     "name": "stdout",
     "output_type": "stream",
     "text": [
      "['aaa', 'aaa', 'aaa']\n"
     ]
    }
   ],
   "source": [
    "text = \"aa aaa aaaa aaaaa\"\n",
    "matches = re.findall(r'a{3}', text)\n",
    "print(matches)  # Output: ['aaa', 'aaa']"
   ]
  },
  {
   "cell_type": "code",
   "execution_count": 12,
   "id": "372a5810",
   "metadata": {},
   "outputs": [
    {
     "name": "stdout",
     "output_type": "stream",
     "text": [
      "['aa', 'aaa', 'aaaa', 'aaaaa']\n"
     ]
    }
   ],
   "source": [
    "matches = re.findall(r'a{2,}', text)\n",
    "print(matches)  # Output: ['aa', 'aaa', 'aaaa']"
   ]
  },
  {
   "cell_type": "code",
   "execution_count": 14,
   "id": "754e758f",
   "metadata": {},
   "outputs": [
    {
     "name": "stdout",
     "output_type": "stream",
     "text": [
      "['aaa', 'aaaa', 'aaaa']\n"
     ]
    }
   ],
   "source": [
    "matches = re.findall(r'a{3,4}', text)\n",
    "print(matches)  # Output: ['aa', 'aaa', 'aaaa']"
   ]
  },
  {
   "cell_type": "markdown",
   "id": "006be928",
   "metadata": {},
   "source": [
    "**Anchors:**\n",
    "* ^: Matches the start of a string.\n",
    "* $: Matches the end of a string."
   ]
  },
  {
   "cell_type": "code",
   "execution_count": 15,
   "id": "56df51c3",
   "metadata": {},
   "outputs": [
    {
     "name": "stdout",
     "output_type": "stream",
     "text": [
      "['Hello', 'Hello']\n"
     ]
    }
   ],
   "source": [
    "#  Match lines that start with 'Hello'\n",
    "text = \"Hello World\\nHello Python\\nHi there\"\n",
    "matches = re.findall(r'^Hello', text, flags=re.MULTILINE)\n",
    "print(matches)  # Output: ['Hello', 'Hello']"
   ]
  },
  {
   "cell_type": "code",
   "execution_count": 19,
   "id": "093c63d3",
   "metadata": {},
   "outputs": [
    {
     "name": "stdout",
     "output_type": "stream",
     "text": [
      "['Python']\n"
     ]
    }
   ],
   "source": [
    "#  pattern 'Python' is matched only when it appears at the end of a line.\n",
    "text = \"Hello Python\\nPython is great\\nPython programming\"\n",
    "matches = re.findall(r'Python$', text, flags=re.MULTILINE)\n",
    "print(matches)  # Output: ['Python']"
   ]
  },
  {
   "cell_type": "code",
   "execution_count": 18,
   "id": "a67a77e6",
   "metadata": {},
   "outputs": [
    {
     "name": "stdout",
     "output_type": "stream",
     "text": [
      "[]\n",
      "[]\n"
     ]
    }
   ],
   "source": [
    "text = \"Hello World\\nPrograaming Python is great\\nProgramming with Python is fun\"\n",
    "\n",
    "# Using anchors to match lines that start with 'Python' and end with 'Python'\n",
    "matches_start = re.findall(r'^Python', text, flags=re.MULTILINE)\n",
    "matches_end = re.findall(r'Python$', text, flags=re.MULTILINE)\n",
    "\n",
    "print(matches_start)  # Output: []\n",
    "print(matches_end)    # Output: []"
   ]
  },
  {
   "cell_type": "markdown",
   "id": "11341833",
   "metadata": {},
   "source": [
    "**Alternation:**\n",
    "|: Matches either/or (e.g., apple|orange matches 'apple' or 'orange')."
   ]
  },
  {
   "cell_type": "code",
   "execution_count": 20,
   "id": "51f22777",
   "metadata": {},
   "outputs": [
    {
     "name": "stdout",
     "output_type": "stream",
     "text": [
      "['apples', 'oranges', 'bananas']\n"
     ]
    }
   ],
   "source": [
    "text = \"I like apples, oranges, and bananas.\"\n",
    "\n",
    "# Using alternation to match 'apples', 'oranges', or 'bananas'\n",
    "matches = re.findall(r'apples|oranges|bananas', text)\n",
    "print(matches)  # Output: ['apples', 'oranges', 'bananas']"
   ]
  },
  {
   "cell_type": "code",
   "execution_count": null,
   "id": "e8a152be",
   "metadata": {},
   "outputs": [],
   "source": []
  }
 ],
 "metadata": {
  "kernelspec": {
   "display_name": "Python 3 (ipykernel)",
   "language": "python",
   "name": "python3"
  },
  "language_info": {
   "codemirror_mode": {
    "name": "ipython",
    "version": 3
   },
   "file_extension": ".py",
   "mimetype": "text/x-python",
   "name": "python",
   "nbconvert_exporter": "python",
   "pygments_lexer": "ipython3",
   "version": "3.10.9"
  }
 },
 "nbformat": 4,
 "nbformat_minor": 5
}
