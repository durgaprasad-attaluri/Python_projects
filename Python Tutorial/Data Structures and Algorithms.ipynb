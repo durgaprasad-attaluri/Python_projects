{
 "cells": [
  {
   "cell_type": "markdown",
   "id": "c267d290",
   "metadata": {},
   "source": [
    "## Stack"
   ]
  },
  {
   "cell_type": "code",
   "execution_count": 4,
   "id": "281a12fe",
   "metadata": {},
   "outputs": [
    {
     "name": "stdout",
     "output_type": "stream",
     "text": [
      "stack  [10, 20, 30]\n",
      "stack  [10, 20]\n",
      "20\n"
     ]
    },
    {
     "data": {
      "text/plain": [
       "False"
      ]
     },
     "execution_count": 4,
     "metadata": {},
     "output_type": "execute_result"
    }
   ],
   "source": [
    "# Stack using list\n",
    "  # For push --> append\n",
    "  # For pop  --> pop\n",
    "\n",
    "stack=[]\n",
    "stack.append(10)\n",
    "stack.append(20)\n",
    "stack.append(30)\n",
    "print('stack ', stack)\n",
    "\n",
    "stack.pop()\n",
    "print('stack ', stack)\n",
    "\n",
    "print(stack[-1])  # top element of stack\n",
    "not stack  # To check whether stak is empty or not, False -> Not empty"
   ]
  },
  {
   "cell_type": "code",
   "execution_count": 7,
   "id": "c87d5ad1",
   "metadata": {},
   "outputs": [
    {
     "name": "stdout",
     "output_type": "stream",
     "text": [
      "Select operation to perform 1. push 2. pop 3. end\n",
      "2\n",
      "stack is empty.\n",
      "Select operation to perform 1. push 2. pop 3. end\n",
      "3\n"
     ]
    }
   ],
   "source": [
    "def push(stack,data):\n",
    "    stack.append(data)\n",
    "    print(stack)\n",
    "\n",
    "def pop(stack):\n",
    "    if not stack:\n",
    "        print('stack is empty.')\n",
    "        \n",
    "    else:\n",
    "        e=stack.pop()\n",
    "        print(\"Removed element is \", e)\n",
    "        print(stack)\n",
    "\n",
    "stack=[]\n",
    "\n",
    "while True:\n",
    "    print(\"Select operation to perform 1. push 2. pop 3. end\")\n",
    "    choice=int(input())\n",
    "    if choice==1:\n",
    "        ele=int(input(\"Enter element you want to insert: \"))\n",
    "        push(stack, ele)\n",
    "    \n",
    "    elif choice==2:\n",
    "        pop(stack)\n",
    "        \n",
    "    elif choice==3:\n",
    "        break\n",
    "    \n",
    "    else:\n",
    "        print(\"Enter the correct operation.\")"
   ]
  },
  {
   "cell_type": "code",
   "execution_count": 11,
   "id": "d658450c",
   "metadata": {},
   "outputs": [
    {
     "name": "stdout",
     "output_type": "stream",
     "text": [
      "Enter the max size of the stack: 3\n",
      "Select operation to perform 1. push 2. pop 3. end\n",
      "3\n"
     ]
    }
   ],
   "source": [
    "# Limit the size\n",
    "def push(stack,data):\n",
    "    stack.append(data)\n",
    "    print(stack)\n",
    "\n",
    "def pop(stack):\n",
    "    if not stack:\n",
    "        print('stack is empty.')\n",
    "        \n",
    "    else:\n",
    "        e=stack.pop()\n",
    "        print(\"Removed element is \", e)\n",
    "        print(stack)\n",
    "\n",
    "stack=[]\n",
    "n=int(input(\"Enter the max size of the stack: \"))\n",
    "\n",
    "while True:\n",
    "    print(\"Select operation to perform 1. push 2. pop 3. end\")\n",
    "    choice=int(input())\n",
    "    if choice==1:\n",
    "        if len(stack)==n:\n",
    "            print(\"The stack is full.\")\n",
    "        else:\n",
    "            ele=int(input(\"Enter element you want to insert: \"))\n",
    "            push(stack, ele)\n",
    "    \n",
    "    elif choice==2:\n",
    "        pop(stack)\n",
    "        \n",
    "    elif choice==3:\n",
    "        break\n",
    "    \n",
    "    else:\n",
    "        print(\"Enter the correct operation.\")"
   ]
  },
  {
   "cell_type": "code",
   "execution_count": 14,
   "id": "d66fa9bd",
   "metadata": {},
   "outputs": [
    {
     "data": {
      "text/plain": [
       "deque([])"
      ]
     },
     "execution_count": 14,
     "metadata": {},
     "output_type": "execute_result"
    }
   ],
   "source": [
    "## Stack using Modules\n",
    "# 1. collections\n",
    "    \n",
    "from collections import deque\n",
    "stack=deque()\n",
    "stack"
   ]
  },
  {
   "cell_type": "code",
   "execution_count": 15,
   "id": "d3a682a4",
   "metadata": {},
   "outputs": [
    {
     "name": "stdout",
     "output_type": "stream",
     "text": [
      "deque([10, 20, 30])\n",
      "deque([10, 20])\n"
     ]
    }
   ],
   "source": [
    "# push\n",
    "stack.append(10)\n",
    "stack.append(20)\n",
    "stack.append(30)\n",
    "print(stack)\n",
    "\n",
    "# pop\n",
    "stack.pop()\n",
    "\n",
    "print(stack)"
   ]
  },
  {
   "cell_type": "code",
   "execution_count": 23,
   "id": "a444ce79",
   "metadata": {},
   "outputs": [
    {
     "data": {
      "text/plain": [
       "10"
      ]
     },
     "execution_count": 23,
     "metadata": {},
     "output_type": "execute_result"
    }
   ],
   "source": [
    "# 2. Queue\n",
    "from queue import LifoQueue\n",
    "stack=LifoQueue()\n",
    "\n",
    "#push\n",
    "stack.put(10)\n",
    "stack.put(20)\n",
    "stack.put(30)\n",
    "\n",
    "#pop\n",
    "stack.get(timeout=1)\n",
    "stack.get(timeout=1)\n",
    "stack.get(timeout=1)  # when the stack is empty it takes tome to execute, to avoid ths we use timeout"
   ]
  },
  {
   "cell_type": "code",
   "execution_count": 24,
   "id": "b557187e",
   "metadata": {},
   "outputs": [
    {
     "name": "stdout",
     "output_type": "stream",
     "text": [
      "Enter the max size of the stack: 3\n"
     ]
    },
    {
     "data": {
      "text/plain": [
       "12"
      ]
     },
     "execution_count": 24,
     "metadata": {},
     "output_type": "execute_result"
    }
   ],
   "source": [
    "# limit the stack size\n",
    "from queue import LifoQueue\n",
    "n=int(input(\"Enter the max size of the stack: \"))\n",
    "stack=LifoQueue(n)\n",
    "\n",
    "#push\n",
    "for i in range(n+1):\n",
    "    stack.put(10+i, timeout=1)\n",
    "    \n",
    "stack.get()"
   ]
  },
  {
   "cell_type": "markdown",
   "id": "87edd6c3",
   "metadata": {},
   "source": [
    "## Queue"
   ]
  },
  {
   "cell_type": "code",
   "execution_count": 1,
   "id": "9cfc650b",
   "metadata": {},
   "outputs": [
    {
     "name": "stdout",
     "output_type": "stream",
     "text": [
      "[10, 20, 30]\n",
      "[30]\n"
     ]
    }
   ],
   "source": [
    "# Using list:\n",
    "  # For enquee -> append\n",
    "  # For dequee -> pop\n",
    "\n",
    "queue=[]\n",
    "queue.append(10)\n",
    "queue.append(20)\n",
    "queue.append(30)\n",
    "\n",
    "print(queue)\n",
    "\n",
    "queue.pop(0) # If we don't mention the starting index it works like stack\n",
    "queue.pop(0)\n",
    "\n",
    "print(queue)"
   ]
  },
  {
   "cell_type": "code",
   "execution_count": 3,
   "id": "ba875642",
   "metadata": {},
   "outputs": [
    {
     "name": "stdout",
     "output_type": "stream",
     "text": [
      "[10, 20, 30]\n"
     ]
    },
    {
     "data": {
      "text/plain": [
       "[10]"
      ]
     },
     "execution_count": 3,
     "metadata": {},
     "output_type": "execute_result"
    }
   ],
   "source": [
    "# Using list\n",
    "queue=[]\n",
    "queue.insert(0,30) # [30]\n",
    "queue.insert(0,20) # [20,30]\n",
    "queue.insert(0,10) # [10,20,30]\n",
    "print(queue)\n",
    "\n",
    "queue.pop()\n",
    "queue.pop()\n",
    "queue"
   ]
  },
  {
   "cell_type": "code",
   "execution_count": 5,
   "id": "398a4366",
   "metadata": {},
   "outputs": [
    {
     "name": "stdout",
     "output_type": "stream",
     "text": [
      "Enter the size of queue: 3\n",
      "\n",
      " Select operation to perform 1. enquee 2. dequee 3. display 4. end\n",
      "3\n",
      "queue is empty.\n",
      "\n",
      " Select operation to perform 1. enquee 2. dequee 3. display 4. end\n",
      "4\n"
     ]
    }
   ],
   "source": [
    "def enquee(queue):\n",
    "    data=int(input(\"Enter the element to queue: \"))\n",
    "    queue.insert(0,data)\n",
    "    print(data,\" is added to the queue \\n\", queue)\n",
    "    \n",
    "def dequee(queue):\n",
    "    if not queue:\n",
    "        print('queue is empty.')\n",
    "    else:\n",
    "        ele=queue.pop()\n",
    "        print(ele,\" is popped from the queue \\n\", queue)\n",
    "        \n",
    "def display(queue):\n",
    "    if not queue:\n",
    "        print('queue is empty.')\n",
    "    else:\n",
    "        print(\"Elements in queue are:\")\n",
    "        for i in queue:\n",
    "            print(i, end=\" \")\n",
    "            \n",
    "queue=[]\n",
    "n=int(input(\"Enter the size of queue: \"))\n",
    "while True:\n",
    "    print(\"\\n Select operation to perform 1. enquee 2. dequee 3. display 4. end\")\n",
    "    choice=int(input())\n",
    "    if choice==1:\n",
    "        if len(queue)>n-1:\n",
    "            print(\"You reached at the end of the queue so can't insert now.\")\n",
    "        else:\n",
    "            enquee(queue)\n",
    "    \n",
    "    elif choice==2:\n",
    "        dequee(queue)\n",
    "        \n",
    "    elif choice==3:\n",
    "        display(queue)\n",
    "        \n",
    "    elif choice==4:\n",
    "        break\n",
    "        \n",
    "    else:\n",
    "        print(\"Plz select correct choice.\")"
   ]
  },
  {
   "cell_type": "markdown",
   "id": "33260207",
   "metadata": {},
   "source": [
    "## Binary Tree"
   ]
  },
  {
   "cell_type": "code",
   "execution_count": 10,
   "id": "42c632b7",
   "metadata": {},
   "outputs": [
    {
     "data": {
      "text/plain": [
       "(3, 4, 5)"
      ]
     },
     "execution_count": 10,
     "metadata": {},
     "output_type": "execute_result"
    }
   ],
   "source": [
    "# a simple class representing a node within a binary tree\n",
    "class bt:\n",
    "    def __init__(self, key=None):\n",
    "        self.key=key\n",
    "        self.left=None\n",
    "        self.right=None\n",
    "        \n",
    "node0=bt(3)\n",
    "node1=bt(4)\n",
    "node2=bt(5)\n",
    "\n",
    "node0.key, node1.key, node2.key"
   ]
  },
  {
   "cell_type": "code",
   "execution_count": 5,
   "id": "2d324b51",
   "metadata": {},
   "outputs": [
    {
     "name": "stdout",
     "output_type": "stream",
     "text": [
      "       7       \n",
      "    2     \n",
      "       6       \n",
      "  3  \n",
      "       5       \n",
      "    1     \n",
      "         9          \n",
      "       4       \n",
      "         8          \n"
     ]
    }
   ],
   "source": [
    "class bt:\n",
    "    def __init__(self, key):\n",
    "        self.key = key\n",
    "        self.left = None\n",
    "        self.right = None\n",
    "\n",
    "def dis(node, level=0):\n",
    "    if node is None:\n",
    "        return\n",
    "    \n",
    "    if node.left is None and node.right is None:\n",
    "        print(str(node.key).center(level * 5 + 5, ' '))\n",
    "        return\n",
    "        \n",
    "    dis(node.right, level + 1)\n",
    "\n",
    "    print(str(node.key).center(level * 5 + 5, ' '))\n",
    "    \n",
    "    dis(node.left, level + 1)\n",
    "\n",
    "# Creating nodes\n",
    "node1 = bt(1)\n",
    "node2 = bt(2)\n",
    "node3 = bt(3)\n",
    "node4 = bt(4)\n",
    "node5 = bt(5)\n",
    "node6 = bt(6)\n",
    "node7 = bt(7)\n",
    "node8 = bt(8)\n",
    "node9 = bt(9)\n",
    "\n",
    "# Constructing the tree\n",
    "node3.left = node1\n",
    "node3.right = node2\n",
    "node1.left = node4\n",
    "node1.right = node5\n",
    "node2.left = node6\n",
    "node2.right = node7\n",
    "node4.left = node8\n",
    "node4.right = node9\n",
    "\n",
    "# Displaying the tree\n",
    "dis(node3)"
   ]
  },
  {
   "cell_type": "code",
   "execution_count": 6,
   "id": "0107ed1d",
   "metadata": {},
   "outputs": [],
   "source": [
    "## My mistake \n",
    "# def dis(node, level=0):\n",
    "#     if node is None:\n",
    "#         print(\"We don't have a root now.\")\n",
    "    \n",
    "#     if node.left is None and node.right is None:\n",
    "#         print(str(node.key))\n",
    "#         return\n",
    "        \n",
    "#     print(\"We have a root.\")\n",
    "#     print(str(node.key).center(level+10,' '))   \n",
    "    \n",
    "#     print(\"We have children.\")\n",
    "#     print(str(node.left.key), str(node.right.key).rjust(7,' '))\n",
    "#     dis(node.right, level+1)\n",
    "#     dis(node.left, level+1)\n",
    "    \n",
    "# node0.left=node1\n",
    "# node0.right=node2\n",
    "\n",
    "# node3=bt(3)\n",
    "# node4=bt(4)\n",
    "\n",
    "# tree=node0\n",
    "# tree.left.left=node3\n",
    "# tree.right.right=node4\n",
    "\n",
    "# dis(tree)"
   ]
  },
  {
   "cell_type": "code",
   "execution_count": 9,
   "id": "46847307",
   "metadata": {},
   "outputs": [
    {
     "name": "stdout",
     "output_type": "stream",
     "text": [
      "    0     \n",
      "1       2\n"
     ]
    }
   ],
   "source": [
    "node0.left=node1\n",
    "node0.right=node2\n",
    "\n",
    "tree=node0\n",
    "print(str(tree.key).center(10,' '))\n",
    "print(str(tree.left.key), str(tree.right.key).rjust(7,' '))"
   ]
  },
  {
   "cell_type": "code",
   "execution_count": 11,
   "id": "6e279cbd",
   "metadata": {},
   "outputs": [
    {
     "name": "stdout",
     "output_type": "stream",
     "text": [
      "    0     \n",
      "1       2\n",
      "     2     \n",
      "6       7\n",
      "     7      \n",
      "     6      \n",
      "     1     \n",
      "4       5\n",
      "     5      \n",
      "     4      \n",
      "8       9\n",
      "      9      \n",
      "      8      \n"
     ]
    }
   ],
   "source": [
    "def dis(node, level=0):\n",
    "    if node is None:\n",
    "        print(\"We don't have a root now.\")\n",
    "        return\n",
    "    \n",
    "    #print(\"We have a root.\")\n",
    "    print(str(node.key).center(level + 10, ' '))   \n",
    "    \n",
    "    if node.left is not None or node.right is not None:\n",
    "        #print(\"We have children.\")\n",
    "        \n",
    "        if node.left is not None:\n",
    "            print(str(node.left.key), end=' ')\n",
    "        else:\n",
    "            print('None', end=' ')\n",
    "        \n",
    "        if node.right is not None:\n",
    "            print(str(node.right.key).rjust(7, ' '))\n",
    "        else:\n",
    "            print('None')\n",
    "    \n",
    "        dis(node.right, level + 1)\n",
    "        dis(node.left, level + 1)\n",
    "        \n",
    "dis(tree)"
   ]
  },
  {
   "cell_type": "markdown",
   "id": "bab40423",
   "metadata": {},
   "source": [
    "#### Exercise\n",
    "<img src=\"https://i.imgur.com/d7djJAf.png\" width=\"300px\">"
   ]
  },
  {
   "cell_type": "code",
   "execution_count": 12,
   "id": "8533bef2",
   "metadata": {},
   "outputs": [],
   "source": [
    "# for i in range(1,9):\n",
    "#     node\n",
    "\n",
    "node1=bt(1)\n",
    "node2=bt(2)\n",
    "node3=bt(3)\n",
    "node4=bt(4)\n",
    "node5=bt(5)\n",
    "node6=bt(6)\n",
    "node7=bt(7)\n",
    "node8=bt(8)\n",
    "\n",
    "node2.left, node2.right=node3, node5\n",
    "node3.left=node1\n",
    "node5.left, node5.right=node3, node7\n",
    "node3.right=node4\n",
    "node7.left, node7.right=node6, node8\n",
    "\n",
    "tree=node2\n",
    "tree.left.key=node3\n",
    "tree.left.left.key=node1\n",
    "\n",
    "tree.right.key=node5\n",
    "tree.right.left.key=node3\n",
    "tree.right.left.right.key=node4\n",
    "tree.right.right.key=node7\n",
    "tree.right.right.left.key=node6\n",
    "tree.right.right.right.key=node8  "
   ]
  },
  {
   "cell_type": "code",
   "execution_count": 13,
   "id": "d0fdc0df",
   "metadata": {},
   "outputs": [
    {
     "data": {
      "text/plain": [
       "(<__main__.bt at 0x23915280400>,\n",
       " <__main__.bt at 0x23915280400>,\n",
       " <__main__.bt at 0x23914f98af0>,\n",
       " <__main__.bt at 0x23914f9b8e0>)"
      ]
     },
     "execution_count": 13,
     "metadata": {},
     "output_type": "execute_result"
    }
   ],
   "source": [
    "tree.left.right, tree.right.left.right, tree.right.right.left.key, tree.right.right.right.key"
   ]
  },
  {
   "cell_type": "code",
   "execution_count": 14,
   "id": "51829940",
   "metadata": {},
   "outputs": [
    {
     "name": "stdout",
     "output_type": "stream",
     "text": [
      "      <__main__.bt object at 0x0000023914F9B8E0>\n",
      "    <__main__.bt object at 0x0000023914F98D90>\n",
      "      <__main__.bt object at 0x0000023914F98AF0>\n",
      "  <__main__.bt object at 0x0000023914F9A080>\n",
      "      <__main__.bt object at 0x0000023915280400>\n",
      "    <__main__.bt object at 0x0000023915252BF0>\n",
      "      ∅\n",
      "2\n",
      "    <__main__.bt object at 0x0000023915280400>\n",
      "  <__main__.bt object at 0x0000023915252BF0>\n",
      "    ∅\n"
     ]
    }
   ],
   "source": [
    "# Assigning nodes according to the specified structure\n",
    "tree = node2\n",
    "tree.left = node3\n",
    "tree.left.left = node1\n",
    "\n",
    "tree.right = node5\n",
    "tree.right.left = node3  # Assigning node3 again to tree.right.left\n",
    "tree.right.right = node7\n",
    "tree.right.left.left = None  # Setting unspecified node to None\n",
    "tree.right.left.right = node4  # Assigning node4 explicitly\n",
    "tree.right.right.left = node6\n",
    "tree.right.right.right = node8\n",
    "\n",
    "def display_keys(node, space='\\t', level=0):\n",
    "    # print(node.key if node else None, level)\n",
    "    \n",
    "    # If the node is empty\n",
    "    if node is None:\n",
    "        print(space*level + '∅')\n",
    "        return   \n",
    "    \n",
    "    # If the node is a leaf \n",
    "    if node.left is None and node.right is None:\n",
    "        print(space*level + str(node.key))\n",
    "        return\n",
    "    \n",
    "    # If the node has children\n",
    "    display_keys(node.right, space, level+1)\n",
    "    print(space*level + str(node.key))\n",
    "    display_keys(node.left,space, level+1)    \n",
    "\n",
    "display_keys(tree, '  ')"
   ]
  },
  {
   "cell_type": "code",
   "execution_count": 16,
   "id": "45d74957",
   "metadata": {},
   "outputs": [
    {
     "data": {
      "text/plain": [
       "(2, 3, 5)"
      ]
     },
     "execution_count": 16,
     "metadata": {},
     "output_type": "execute_result"
    }
   ],
   "source": [
    "tree_tuple = ((1,3,None), 2, ((None, 3, 4), 5, (6, 7, 8)))\n",
    "def parse_tuple(data):\n",
    "    # print(data)\n",
    "    if isinstance(data, tuple) and len(data) == 3:\n",
    "        node = bt(data[1])\n",
    "        node.left = parse_tuple(data[0])\n",
    "        node.right = parse_tuple(data[2])\n",
    "    elif data is None:\n",
    "        node = None\n",
    "    else:\n",
    "        node = bt(data)\n",
    "    return node\n",
    "\n",
    "tree2 = parse_tuple(((1,3,None), 2, ((None, 3, 4), 5, (6, 7, 8))))\n",
    "tree2.key, tree2.left.key, tree2.right.key"
   ]
  },
  {
   "cell_type": "code",
   "execution_count": 17,
   "id": "486a2a14",
   "metadata": {},
   "outputs": [
    {
     "data": {
      "text/plain": [
       "(1, None, 3, 7)"
      ]
     },
     "execution_count": 17,
     "metadata": {},
     "output_type": "execute_result"
    }
   ],
   "source": [
    "tree2.left.left.key, tree2.left.right, tree2.right.left.key, tree2.right.right.key"
   ]
  },
  {
   "cell_type": "code",
   "execution_count": 18,
   "id": "4c990ffa",
   "metadata": {},
   "outputs": [
    {
     "data": {
      "text/plain": [
       "(4, 6, 8)"
      ]
     },
     "execution_count": 18,
     "metadata": {},
     "output_type": "execute_result"
    }
   ],
   "source": [
    "tree2.right.left.right.key, tree2.right.right.left.key, tree2.right.right.right.key"
   ]
  },
  {
   "cell_type": "markdown",
   "id": "919e9447",
   "metadata": {},
   "source": [
    "### Traversing a Binary Tree"
   ]
  },
  {
   "cell_type": "code",
   "execution_count": 19,
   "id": "d511f989",
   "metadata": {},
   "outputs": [
    {
     "data": {
      "text/plain": [
       "[1, 3, 2, 3, 4, 5, 6, 7, 8]"
      ]
     },
     "execution_count": 19,
     "metadata": {},
     "output_type": "execute_result"
    }
   ],
   "source": [
    "### Inorder traversal\n",
    "def traverse_in_order(node):\n",
    "    if node is None: \n",
    "        return []\n",
    "    return(traverse_in_order(node.left) +   # Traverse the left subtree recursively inorder\n",
    "           [node.key] +                     # Traverse the current node\n",
    "           traverse_in_order(node.right))   # Traverse the right subtree recursively inorder\n",
    "\n",
    "traverse_in_order(tree2)"
   ]
  },
  {
   "cell_type": "code",
   "execution_count": 13,
   "id": "b7fb9f8e",
   "metadata": {},
   "outputs": [
    {
     "data": {
      "text/plain": [
       "[2, 1, 3, 3, 4, 5, 6, 7, 8]"
      ]
     },
     "execution_count": 13,
     "metadata": {},
     "output_type": "execute_result"
    }
   ],
   "source": [
    "### Preorder traversal\n",
    "def traverse_in_preorder(node):\n",
    "    if node is None: \n",
    "        return []\n",
    "    return([node.key] +                     # Traverse the current node\n",
    "           traverse_in_order(node.left) +   # Traverse the left subtree recursively inorder\n",
    "           traverse_in_order(node.right))   # Traverse the right subtree recursively inorder\n",
    "\n",
    "traverse_in_preorder(tree2)"
   ]
  },
  {
   "cell_type": "code",
   "execution_count": 15,
   "id": "02cdf971",
   "metadata": {},
   "outputs": [
    {
     "data": {
      "text/plain": [
       "[3, 4, 5, 6, 7, 8, 2, 1, 3]"
      ]
     },
     "execution_count": 15,
     "metadata": {},
     "output_type": "execute_result"
    }
   ],
   "source": [
    "### Postorder traversal\n",
    "def traverse_in_postorder(node):\n",
    "    if node is None: \n",
    "        return []\n",
    "    return( traverse_in_order(node.right)+   # Traverse the right subtree recursively inorder\n",
    "           [node.key] +                     # Traverse the current node\n",
    "           traverse_in_order(node.left))    # Traverse the left subtree recursively inorder\n",
    "\n",
    "traverse_in_postorder(tree2)"
   ]
  },
  {
   "cell_type": "markdown",
   "id": "daf2a97a",
   "metadata": {},
   "source": [
    "## Binary Search Tree\n",
    "1. root/ key/ data\n",
    "2. left child\n",
    "3. right child\n",
    "\n",
    "<img src=\"https://cdn-media-1.freecodecamp.org/images/2rTqYlcrnWtICedt131tDft0CmkzZaViExJX\" width=\"300px\" align=\"right\">"
   ]
  },
  {
   "cell_type": "code",
   "execution_count": 7,
   "id": "858b6c60",
   "metadata": {},
   "outputs": [
    {
     "name": "stdout",
     "output_type": "stream",
     "text": [
      "root:  20\n",
      "left child:  None\n",
      "right child:  None\n"
     ]
    }
   ],
   "source": [
    "# Creating a bst tree\n",
    "class bst:\n",
    "    # initialization for root node\n",
    "    def __init__(self, key):\n",
    "        self.key=key\n",
    "        self.l_child=None\n",
    "        self.r_child=None\n",
    "    \n",
    "\n",
    "root=bst(20)\n",
    "print(\"root: \", root.key)\n",
    "print(\"left child: \", root.l_child)\n",
    "print(\"right child: \", root.r_child)"
   ]
  },
  {
   "cell_type": "code",
   "execution_count": 8,
   "id": "f633b97c",
   "metadata": {},
   "outputs": [
    {
     "name": "stdout",
     "output_type": "stream",
     "text": [
      "    10    \n",
      "5        15\n"
     ]
    }
   ],
   "source": [
    "root=10\n",
    "print(str(root).center(10,' '))\n",
    "print(str(5), str(15).rjust(9,' '))"
   ]
  },
  {
   "cell_type": "code",
   "execution_count": 3,
   "id": "e10ef6b9",
   "metadata": {},
   "outputs": [
    {
     "name": "stdout",
     "output_type": "stream",
     "text": [
      "     10     \n",
      "None    None\n"
     ]
    }
   ],
   "source": [
    "class bst:\n",
    "    # initialization for root node\n",
    "    def __init__(self, key):\n",
    "        self.key=key\n",
    "        self.l_child=None\n",
    "        self.r_child=None\n",
    "        \n",
    "    def insert(self, key):\n",
    "        # if tree is empty\n",
    "        if self.key==None:\n",
    "            self.key=key\n",
    "            print(str(self.key).center(12,' '))\n",
    "            print(str(self.l_child), str(self.r_child).rjust(7,' '))\n",
    "            #print(\"Root: \", self.key, \"Left Child:\", self.l_child, \"Right Child:\", self.r_child)\n",
    "        \n",
    "root=bst(None)\n",
    "root.insert(10)"
   ]
  },
  {
   "cell_type": "code",
   "execution_count": 9,
   "id": "a99b1b11",
   "metadata": {},
   "outputs": [
    {
     "name": "stdout",
     "output_type": "stream",
     "text": [
      "    3     \n",
      "3       5\n"
     ]
    }
   ],
   "source": [
    "class bst:\n",
    "    def __init__(self, key):\n",
    "        self.key=key\n",
    "        self.left=None\n",
    "        self.right=None\n",
    "        \n",
    "    def insert_node(self, data):\n",
    "        if self.key==None:\n",
    "            self.key=data\n",
    "        elif data<=self.key:\n",
    "            self.left=bst(data)\n",
    "        else:\n",
    "            self.right=bst(data)\n",
    "        \n",
    "node=bst(3)\n",
    "node.insert_node(5)\n",
    "node.insert_node(3)\n",
    "\n",
    "print(str(node.key).center(10,' '))\n",
    "print(str(node.left.key), str(node.right.key).rjust(7,' '))"
   ]
  },
  {
   "cell_type": "code",
   "execution_count": 19,
   "id": "1c72774b",
   "metadata": {},
   "outputs": [
    {
     "name": "stdout",
     "output_type": "stream",
     "text": [
      "How many children you want: 2\n",
      "Enter the child: 5\n",
      "Enter the child: 1\n",
      "    3     \n",
      "1       5\n"
     ]
    }
   ],
   "source": [
    "class bst:\n",
    "    def __init__(self, key):\n",
    "        self.key=key\n",
    "        self.left=None\n",
    "        self.right=None\n",
    "        \n",
    "    def insert_node(self, data):\n",
    "        if self.key==None:\n",
    "            self.key=data\n",
    "        elif data<=self.key:\n",
    "            if self.left==None:\n",
    "                self.left=bst(data)\n",
    "            else:\n",
    "                self.left.insert_node(data)\n",
    "        else:\n",
    "            if self.right==None:\n",
    "                self.right=bst(data)\n",
    "            else:\n",
    "                self.right.insert_node(data)\n",
    "                \n",
    "    def display(self, data):\n",
    "        if self.key==None:\n",
    "            self.key=data\n",
    "        else:\n",
    "            print(str(self.key).center(8,' '))\n",
    "            \n",
    "            if data<self.key:\n",
    "                if self.left is None:\n",
    "                    #self.left=bst(data)\n",
    "                    print(str(self.left.key))\n",
    "                else:\n",
    "                    self.left.display(data)\n",
    "                    print(str(self.left.key))\n",
    "            else:\n",
    "                if self.right is None:\n",
    "                    #self.right=bst(data)\n",
    "                    print(str(self.right.key).rjust(5,'>'))\n",
    "                else:\n",
    "                    self.right.display(data)\n",
    "                    print(str(self.right.key).rjust(5,'-'))\n",
    "\n",
    "node=bst('3')\n",
    "n=int(input(\"How many children you want: \"))\n",
    "for i in range(n):\n",
    "    c=input(\"Enter the child: \")\n",
    "    node.insert_node(c)\n",
    "    node.display(c)\n",
    "    \n",
    "print(str(node.key).center(10,' '))\n",
    "print(str(node.left.key), str(node.right.key).rjust(7,' '))"
   ]
  },
  {
   "cell_type": "code",
   "execution_count": 4,
   "id": "29c1ca87",
   "metadata": {},
   "outputs": [
    {
     "name": "stdout",
     "output_type": "stream",
     "text": [
      "In order traversing\n",
      "10 20 30 40 50 60 70 80 \n",
      "Pre order traversing\n",
      "10 50 30 20 40 70 60 80 \n",
      "Post order traversing\n",
      "10 50 30 20 40 70 60 80 \n",
      "Searching for 10:\n",
      "Data found!.\n"
     ]
    }
   ],
   "source": [
    "class bst:\n",
    "    # initialization for root node\n",
    "    def __init__(self, key):\n",
    "        self.key=key\n",
    "        self.l_child=None\n",
    "        self.r_child=None\n",
    "        \n",
    "    def insert(self, key):\n",
    "        # if tree is empty\n",
    "        if self.key==None:\n",
    "             return self.key\n",
    "         \n",
    "        # If tree is not empty check the position\n",
    "        else:\n",
    "            if key < self.key: \n",
    "                # If the left tree is empty create a node for that\n",
    "                if self.l_child is None:\n",
    "                    self.l_child=bst(key)\n",
    "                else:\n",
    "                    self.l_child.insert(key)\n",
    "\n",
    "            elif key > self.key: \n",
    "                # If the rightt tree is empty create a node for that\n",
    "                if self.r_child is None:\n",
    "                    self.r_child=bst(key)\n",
    "                else:\n",
    "                    self.r_child.insert(key)\n",
    "                    \n",
    "    def search(self, data):\n",
    "        if self.key== data:\n",
    "            print(\"Data found!.\")\n",
    "        else:\n",
    "            if data< self.key:\n",
    "                if self.l_child:\n",
    "                    self.l_child.search(data)\n",
    "                else:\n",
    "                    print(\"Empty\")\n",
    "            else:\n",
    "                if self.r_child:\n",
    "                    self.r_child.search(data)\n",
    "                else:\n",
    "                    print(\"Empty\")\n",
    "\n",
    "                    \n",
    "def inOrderTraverse(root):   # Left Root Right\n",
    "    if root is None:\n",
    "        return\n",
    "    else:\n",
    "        inOrderTraverse(root.l_child)\n",
    "        print(root.key, end=\" \")\n",
    "        inOrderTraverse(root.r_child)\n",
    "        \n",
    "def preOrderTraverse(root):   # Root Left Right\n",
    "    if root is None:\n",
    "        return\n",
    "    else:\n",
    "        print(root.key, end=\" \")\n",
    "        preOrderTraverse(root.l_child)\n",
    "        preOrderTraverse(root.r_child)\n",
    "        \n",
    "def postOrderTraverse(root):   # Root Right Left\n",
    "    if root is None:\n",
    "        return\n",
    "    else:\n",
    "        print(root.key, end=\" \")\n",
    "        preOrderTraverse(root.r_child)\n",
    "        preOrderTraverse(root.l_child)\n",
    "\n",
    "# Building a tree\n",
    "root=bst(10)\n",
    "l=[50, 30, 20, 40, 70, 60, 80]\n",
    "for i in l:\n",
    "    root.insert(i)\n",
    "    \n",
    "print(\"In order traversing\")\n",
    "inOrderTraverse(root)\n",
    "\n",
    "print(\"\\nPre order traversing\")\n",
    "preOrderTraverse(root)\n",
    "    \n",
    "print(\"\\nPost order traversing\")\n",
    "postOrderTraverse(root)\n",
    "\n",
    "print(\"\\nSearching for 10:\")\n",
    "root.search(10)"
   ]
  },
  {
   "cell_type": "code",
   "execution_count": 2,
   "id": "8b690d95",
   "metadata": {},
   "outputs": [
    {
     "name": "stdout",
     "output_type": "stream",
     "text": [
      "40\n",
      "\n",
      "40 found!\n"
     ]
    }
   ],
   "source": [
    "# searching in bst outside the class\n",
    "def search1(root, data):\n",
    "    if root is None or root.key == data:\n",
    "        return root\n",
    "    if root.key < data:\n",
    "        return search1(root.r_child, data)\n",
    "    return search1(root.l_child, data)\n",
    "                \n",
    "search_key = int(input())\n",
    "result = search1(root, search_key)\n",
    "if result and result.key == search_key:\n",
    "    print(f\"\\n{search_key} found!\")\n",
    "else:\n",
    "    print(f\"\\n{search_key} not found!\")"
   ]
  },
  {
   "cell_type": "code",
   "execution_count": 10,
   "id": "9a40bc30",
   "metadata": {},
   "outputs": [
    {
     "name": "stdout",
     "output_type": "stream",
     "text": [
      "Deleting node with key 30\n",
      "Not found.\n"
     ]
    }
   ],
   "source": [
    "# minimum value\n",
    "def minValueNode(node):\n",
    "    current = node\n",
    "    while current.l_child is not None:   # Keep going left to find the smallest node\n",
    "        current = current.l_child\n",
    "    return current\n",
    "\n",
    "# Delete\n",
    "def delete(root, data):\n",
    "    if root is None:\n",
    "        print(\"Not found.\")\n",
    "    else:\n",
    "        if data< root.key:  # True:- data present at left \n",
    "            root.l_child=delete(root.l_child, data)\n",
    "            \n",
    "        elif data > root.key:  # True:- data present at right\n",
    "            root.r_child=delete(root.r_child, data)\n",
    "        else:                 # If the key is the same as the root's key, delete that node\n",
    "            if root.l_child is None:   # If the node has only a right child\n",
    "                temp = root.r_child\n",
    "                root = None\n",
    "                return temp\n",
    "            \n",
    "            elif root.r_child is None: # If the node has only a left child\n",
    "                temp = root.l_child\n",
    "                root = None\n",
    "                return temp\n",
    "            \n",
    "            temp = minValueNode(root.r_child)  # Find the next small node\n",
    "            root.key = temp.key          # \n",
    "            root.r_child = delete(root.r_child, temp.key)\n",
    "        return root\n",
    "    \n",
    "print(\"Deleting node with key 30\")\n",
    "root = delete(root, 100)"
   ]
  },
  {
   "cell_type": "code",
   "execution_count": 11,
   "id": "01713209",
   "metadata": {},
   "outputs": [
    {
     "name": "stdout",
     "output_type": "stream",
     "text": [
      "In-order traversal after deletion:\n",
      "10 20 40 50 60 70 80 "
     ]
    }
   ],
   "source": [
    "print(\"In-order traversal after deletion:\")\n",
    "inOrderTraverse(root)"
   ]
  },
  {
   "cell_type": "code",
   "execution_count": 17,
   "id": "77c6714d",
   "metadata": {},
   "outputs": [
    {
     "name": "stdout",
     "output_type": "stream",
     "text": [
      "        -> 20\n",
      "    -> 15\n",
      "        -> 12\n",
      "-> 10\n",
      "        -> 7\n",
      "    -> 5\n",
      "        -> 2\n"
     ]
    }
   ],
   "source": [
    "class Node:\n",
    "    def __init__(self, key):\n",
    "        self.key = key\n",
    "        self.left = None\n",
    "        self.right = None\n",
    "\n",
    "class BST:\n",
    "    def __init__(self):\n",
    "        self.root = None\n",
    "\n",
    "    def insert(self, key):\n",
    "        self.root = self._insert_recursive(self.root, key)\n",
    "\n",
    "    def _insert_recursive(self, root, key):\n",
    "        if root is None:\n",
    "            return Node(key)\n",
    "        if key < root.key:\n",
    "            root.left = self._insert_recursive(root.left, key)\n",
    "        else:\n",
    "            root.right = self._insert_recursive(root.right, key)\n",
    "        return root\n",
    "\n",
    "    def display_tree(self):\n",
    "        self._display_recursive(self.root, 0)\n",
    "\n",
    "    def _display_recursive(self, root, level):\n",
    "        if root is not None:\n",
    "            self._display_recursive(root.right, level + 1)\n",
    "            print(' ' * 4 * level + '->', root.key)\n",
    "            self._display_recursive(root.left, level + 1)\n",
    "\n",
    "# Usage\n",
    "bst = BST()\n",
    "keys = [10, 5, 15, 2, 7, 12, 20]\n",
    "\n",
    "for key in keys:\n",
    "    bst.insert(key)\n",
    "\n",
    "bst.display_tree()"
   ]
  },
  {
   "cell_type": "code",
   "execution_count": 42,
   "id": "545834cc",
   "metadata": {},
   "outputs": [],
   "source": [
    "# min and max key\n",
    "def min_max_keys(root):\n",
    "    if root is None:\n",
    "        print(\"root\",root)\n",
    "    \n",
    "    if root.l_child is None:   # print(\"We have a tree.\")\n",
    "        print(\"Minimum is: \", root.key)\n",
    "\n",
    "    else:\n",
    "        min_max_keys(root.l_child)  # print(\"we have l tree also.\")\n",
    "\n",
    "    if root.r_child is None:\n",
    "        print(\"Maximum is: \", root.key)\n",
    "\n",
    "    else:\n",
    "        min_max_keys(root.r_child)  # print(\"we have r tree also.\")\n",
    "                \n",
    "    print(\"Minimum is: \", root.key)\n",
    "\n",
    "#min_max_keys(root)"
   ]
  },
  {
   "cell_type": "code",
   "execution_count": 46,
   "id": "9d0f94c1",
   "metadata": {},
   "outputs": [
    {
     "name": "stdout",
     "output_type": "stream",
     "text": [
      "Minimum key is: 20\n",
      "Maximum key is: 20\n"
     ]
    }
   ],
   "source": [
    "# Function to find the minimum and maximum keys in a BST\n",
    "def min_max_keys(root):\n",
    "    if root is None:  # If the tree is empty\n",
    "        return None  # Return None for both minimum and maximum\n",
    "    \n",
    "    min_key = root.key\n",
    "    max_key = root.key\n",
    "    \n",
    "    while root.l_child is not None:  # Traverse left to find the minimum key\n",
    "        min_key = root.l_child.key\n",
    "        root = root.l_child\n",
    "    \n",
    "    while root.r_child is not None:  # Traverse right to find the maximum key\n",
    "        max_key = root.r_child.key\n",
    "        root = root.r_child\n",
    "    \n",
    "    return min_key, max_key\n",
    "\n",
    "root=bst(20)\n",
    "min_key, max_key = min_max_keys(root)\n",
    "print(\"Minimum key is:\", min_key)\n",
    "print(\"Maximum key is:\", max_key)"
   ]
  },
  {
   "cell_type": "markdown",
   "id": "0455f71b",
   "metadata": {},
   "source": [
    "## Lesson 1 - Binary Search, Linked Lists and Complexity\n",
    "\n",
    "**QUESTION 1:** Alice has some cards with numbers written on them. She arranges the cards in decreasing order, and lays them out face down in a sequence on a table. She challenges Bob to pick out the card containing a given number by turning over as few cards as possible. Write a function to help Bob locate the card.\n",
    "\n",
    "<img src=\"https://i.imgur.com/mazym6s.png\" width=\"500px\">"
   ]
  },
  {
   "cell_type": "markdown",
   "id": "382869b7",
   "metadata": {},
   "source": [
    "**Prolem in our words:** Here we need to write a code to find the position of a given number in a list of cards which are arranged in decreasing order, also we need to minimize the number of times we access elements from that list.\n",
    "\n",
    "<img src=\"https://i.imgur.com/G9fBarb.png\" width=\"400px\" align=\"right\">\n",
    "\n",
    "**Input**\n",
    "1. cards: list of numbers sorted in decreasing order. E.g. [13, 11, 10, 7, 4, 3, 1, 0]\n",
    "2. query: A number, whose position in the array is to be determined. E.g. 7\n",
    "\n",
    "**Output**\n",
    "\n",
    "position: The position of query in the list cards. E.g. 3 in the above case (counting from 0)"
   ]
  },
  {
   "cell_type": "code",
   "execution_count": 1,
   "id": "e71fce15",
   "metadata": {},
   "outputs": [
    {
     "name": "stdout",
     "output_type": "stream",
     "text": [
      "3\n"
     ]
    }
   ],
   "source": [
    "# Linear Search Algorithm\n",
    "\n",
    "def locate_card(cards, query):\n",
    "    # If card is empty\n",
    "    if len(cards)==0:\n",
    "        return -1\n",
    "    \n",
    "    pos=0\n",
    "    while True:\n",
    "        # If we are at the correct position return the position\n",
    "        if cards[pos]==query:\n",
    "            return pos\n",
    "        \n",
    "        # or else increment the position\n",
    "        pos+=1\n",
    "        \n",
    "        # If we reached the end of the list\n",
    "        if pos==len(cards):\n",
    "            return -1    \n",
    "    \n",
    "cards = [13, 11, 10, 7, 4, 3, 1, 0]\n",
    "query = 7\n",
    "\n",
    "result = locate_card(cards, query)\n",
    "print(result)"
   ]
  },
  {
   "cell_type": "code",
   "execution_count": 2,
   "id": "0b0c1b92",
   "metadata": {},
   "outputs": [
    {
     "name": "stdout",
     "output_type": "stream",
     "text": [
      "6\n",
      "0\n",
      "-1\n",
      "2\n"
     ]
    }
   ],
   "source": [
    "# Some other test cases\n",
    "cards= [13, 11, 10, 7, 4, 3, 1, 0]\n",
    "query=1\n",
    "result = locate_card(cards, query)\n",
    "print(result)\n",
    "\n",
    "cards=[6]\n",
    "query=6\n",
    "result = locate_card(cards, query)\n",
    "print(result)\n",
    "\n",
    "cards=[]\n",
    "query=7\n",
    "result = locate_card(cards, query)\n",
    "print(result)\n",
    "\n",
    "cards=[8, 8, 6, 6, 6, 6, 6, 6, 3, 2, 2, 2, 0, 0, 0]\n",
    "query=6\n",
    "result = locate_card(cards, query)\n",
    "print(result) # When our query occurs multiple times in cards, we'll expect our code to return the 1st occurence "
   ]
  },
  {
   "cell_type": "code",
   "execution_count": 3,
   "id": "9c0cc85e",
   "metadata": {},
   "outputs": [
    {
     "name": "stdout",
     "output_type": "stream",
     "text": [
      "cards:  [13, 11, 10, 7, 4, 3, 1, 0]\n",
      "query:  1\n",
      "6\n",
      "cards:  [6]\n",
      "query:  6\n",
      "0\n",
      "cards:  []\n",
      "query:  7\n",
      "-1\n"
     ]
    }
   ],
   "source": [
    "def locate_card(cards, query):\n",
    "    \n",
    "    print('cards: ',cards)\n",
    "    print('query: ', query)\n",
    "    \n",
    "    position = 0\n",
    "    while position < len(cards):\n",
    "        if cards[position] == query:\n",
    "            return position\n",
    "        position += 1\n",
    "    return -1\n",
    "\n",
    "# test cases\n",
    "cards= [13, 11, 10, 7, 4, 3, 1, 0]\n",
    "query=1\n",
    "result = locate_card(cards, query)\n",
    "print(result)\n",
    "\n",
    "cards=[6]\n",
    "query=6\n",
    "result = locate_card(cards, query)\n",
    "print(result)\n",
    "\n",
    "cards=[]\n",
    "query=7\n",
    "result = locate_card(cards, query)\n",
    "print(result)"
   ]
  },
  {
   "cell_type": "markdown",
   "id": "3c268157",
   "metadata": {},
   "source": [
    "#### Analyze the algorithm's complexity and identify inefficiencies, if any\n",
    "Since we access a list element once in every iteration, for a list of size N we access the elements from the list up to N times. Thus, Bob may need to overturn up to N cards in the worst case, to find the required card.\n",
    "\n",
    "### Complexity and Big O Notation\n",
    "\n",
    "**Complexity** of an algorithm is a measure of the amount of time and/or space required by an algorithm for an input of a given size.\n",
    "\n",
    "Worst-case complexity is often expressed using the **Big O notation**.\n",
    "\n",
    "The time complexity of linear search is **O(N)** and its space complexity is **O(1)**."
   ]
  },
  {
   "cell_type": "markdown",
   "id": "8cbea7b1",
   "metadata": {},
   "source": [
    "### Binary Search\n",
    "#### Apply the right technique to overcome the inefficiency\n",
    "The next best idea would be to pick a random card, and use the fact that the list is sorted, to determine whether the target card lies to the left or right of it. In fact, if we pick the middle card, we can reduce the number of additional cards to be tested to half the size of the list. Then, we can simply repeat the process with each half. This technique is called **Binary Search**.\n",
    "\n",
    "<img src=\"https://www.algotree.org/images/Binary_Search.svg\" width=\"500px\">"
   ]
  },
  {
   "cell_type": "markdown",
   "id": "b3cb9bc5",
   "metadata": {},
   "source": [
    "<!DOCTYPE html>\n",
    "<html>\n",
    "<head>\n",
    "  <style>\n",
    "    .image-container {\n",
    "      width: 300px; /* Set the desired width */\n",
    "      height: 200px; /* Set the desired height */\n",
    "      overflow: hidden; /* Hide the overflowing parts */\n",
    "      position: relative;\n",
    "    }\n",
    "\n",
    "    .cropped-image {\n",
    "      width: 100%; /* Ensure the image takes up the full container */\n",
    "      height: auto; /* Maintain aspect ratio */\n",
    "      background-size: cover; /* Scale the image to cover the container */\n",
    "      background-position: center; /* Center the image */\n",
    "    }\n",
    "  </style>\n",
    "</head>\n",
    "<body>\n",
    "  <div class=\"image-container\">\n",
    "    <div class=\"cropped-image\" style=\"background-image: url('https://www.algotree.org/images/Binary_Search.svg')\"></div>\n",
    "  </div>\n",
    "</body>\n",
    "</html>\n"
   ]
  },
  {
   "cell_type": "code",
   "execution_count": 27,
   "id": "4f71e145",
   "metadata": {},
   "outputs": [],
   "source": [
    "def locate_card(cards, query):\n",
    "    beg, end=0, len(cards)-1\n",
    "    \n",
    "    while beg<= end:\n",
    "        mid=(beg+end)//2\n",
    "        print('middle index: ',mid,'middle number: ',cards[mid])\n",
    "        if cards[mid]==query:\n",
    "            return mid\n",
    "        \n",
    "        elif cards[mid]<query:\n",
    "            end= mid-1\n",
    "            \n",
    "        else:\n",
    "            beg= mid+1\n",
    "    return 'No such query.'"
   ]
  },
  {
   "cell_type": "code",
   "execution_count": 33,
   "id": "553eb85b",
   "metadata": {},
   "outputs": [
    {
     "name": "stdout",
     "output_type": "stream",
     "text": [
      "For query:  1\n",
      "middle index:  3 middle number:  7\n",
      "middle index:  5 middle number:  3\n",
      "middle index:  6 middle number:  1\n",
      "6\n",
      "\n",
      "For query:  6\n",
      "middle index:  0 middle number:  6\n",
      "0\n",
      "\n",
      "For query:  7\n",
      "No such query.\n"
     ]
    }
   ],
   "source": [
    "# test cases\n",
    "cards= [13, 11, 10, 7, 4, 3, 1, 0]\n",
    "query=1\n",
    "print('For query: ',query)\n",
    "result = locate_card(cards, query)\n",
    "print(result)\n",
    "print()\n",
    "\n",
    "cards=[6]\n",
    "query=6\n",
    "print('For query: ',query)\n",
    "result = locate_card(cards, query)\n",
    "print(result)\n",
    "print()\n",
    "\n",
    "cards=[]\n",
    "query=7\n",
    "print('For query: ',query)\n",
    "result = locate_card(cards, query)\n",
    "print(result)"
   ]
  },
  {
   "cell_type": "code",
   "execution_count": 34,
   "id": "e3c7fe8b",
   "metadata": {},
   "outputs": [
    {
     "name": "stdout",
     "output_type": "stream",
     "text": [
      "middle index:  7 middle number:  6\n",
      "7\n"
     ]
    }
   ],
   "source": [
    "cards=[8, 8, 6, 6, 6, 6, 6, 6, 3, 2, 2, 2, 0, 0, 0]\n",
    "query=6\n",
    "result = locate_card(cards, query)\n",
    "print(result) # But here instead of returning the 1st occurence of 6 it is giving at the middle psition, so our code failed at this case"
   ]
  },
  {
   "cell_type": "code",
   "execution_count": 9,
   "id": "b0ffa8ae",
   "metadata": {
    "scrolled": true
   },
   "outputs": [
    {
     "name": "stdout",
     "output_type": "stream",
     "text": [
      "2\n"
     ]
    }
   ],
   "source": [
    "def test_location(cards, query, mid):   # [8, 8, 6, 6, 6, 6, 6, 6, 3, 2, 2, 2, 0, 0, 0], 6, 7th index\n",
    "    #print(\"mid:\", mid, \", mid_number:\", cards[mid],'\\n')   # 7 6\n",
    "    if cards[mid] == query:\n",
    "        if mid-1 >= 0 and cards[mid-1] == query:\n",
    "            return 'left'\n",
    "        else:\n",
    "            return 'found'\n",
    "    elif cards[mid] < query:\n",
    "        return 'left'\n",
    "    else:\n",
    "        return 'right'\n",
    "\n",
    "def locate_card(cards, query):\n",
    "    beg, end=0, len(cards)-1\n",
    "    \n",
    "    while beg<= end:\n",
    "        mid=(beg+end)//2\n",
    "        result = test_location(cards, query, mid)\n",
    "        #print('result: ', result)\n",
    "        \n",
    "        #print('middle index:',mid,' middle number:',cards[mid], ' left:',beg, ' right:',end)\n",
    "        \n",
    "        if result == 'found':\n",
    "            return mid\n",
    "        \n",
    "        elif result == 'left':\n",
    "            end= mid-1\n",
    "            \n",
    "        else:\n",
    "            beg= mid+1\n",
    "    return 'No such query.'\n",
    "\n",
    "cards=[8, 8, 6, 6, 6, 6, 6, 6, 3, 2, 2, 2, 0, 0, 0]\n",
    "query=6\n",
    "result = locate_card(cards, query)\n",
    "print(result) "
   ]
  },
  {
   "cell_type": "code",
   "execution_count": 10,
   "id": "e4d43217",
   "metadata": {},
   "outputs": [
    {
     "name": "stdout",
     "output_type": "stream",
     "text": [
      "9\n"
     ]
    }
   ],
   "source": [
    "cards=[8, 8, 6, 6, 6, 6, 6, 6, 3, 2, 2, 2, 0, 0, 0]\n",
    "query=2\n",
    "\n",
    "result = locate_card(cards, query)\n",
    "print(result) "
   ]
  },
  {
   "cell_type": "markdown",
   "id": "7f4caccd",
   "metadata": {},
   "source": [
    "#### Again analyze the algorithm's complexity and identify inefficiencies, if any.\n",
    "\n",
    "Let's try to count the number of iterations in the algorithm. \n",
    "\n",
    "Initial length - N\n",
    "\n",
    "Iteration 1 - N/2\n",
    "\n",
    "Iteration 2 - N/4 i.e. N/2^2\n",
    "\n",
    "Iteration 3 - N/8 i.e. N/2^3\n",
    "\n",
    "...\n",
    "\n",
    "Iteration k - N/2^k\n",
    "\n",
    "Since the final length of the array is 1, we can find the\n",
    "\n",
    "N/2^k = 1\n",
    "\n",
    "Rearranging the terms, we get\n",
    "\n",
    "N = 2^k\n",
    "\n",
    "Taking the logarithm\n",
    "\n",
    "k = log N\n",
    "\n",
    "Therefore, our algorithm has the time complexity **O(log N)** and space complexity is **O(1)**."
   ]
  },
  {
   "cell_type": "markdown",
   "id": "577a49ab",
   "metadata": {},
   "source": [
    "### Problems for Practice\n",
    "\n",
    "\n",
    "Here are some resources to learn more and find problems to practice. \n",
    "\n",
    "* Assignment on Binary Search: https://jovian.ai/aakashns/python-binary-search-assignment\n",
    "* Binary Search Problems on LeetCode: https://leetcode.com/problems/binary-search/\n",
    "* Binary Search Problems on GeeksForGeeks: https://www.geeksforgeeks.org/binary-search/\n",
    "* Binary Search Problems on Codeforces: https://codeforces.com/problemset?tags=binary+search"
   ]
  },
  {
   "cell_type": "markdown",
   "id": "ef4f6e45",
   "metadata": {},
   "source": [
    "### Linked List\n",
    "It is a data structure used for storing a sequence of elements.It is a collection of nodes where each node contains data as well as the memory address of the next node in the list.\n",
    "<img src=\"https://cdn.programiz.com/sites/tutorial2program/files/linked-list-concept_0.png\" width='500px' align='right'>\n",
    "\n",
    "We create a Linked List Programmatically:\n",
    "* Create a node\n",
    "* Connect nodes\n",
    "* Append nodes\n",
    "* Insert nodes\n",
    "* Delete nodes"
   ]
  },
  {
   "cell_type": "code",
   "execution_count": 2,
   "id": "30d54087",
   "metadata": {},
   "outputs": [
    {
     "data": {
      "text/plain": [
       "(1, 2, 3)"
      ]
     },
     "execution_count": 2,
     "metadata": {},
     "output_type": "execute_result"
    }
   ],
   "source": [
    "# 1. Creating a Node\n",
    "class Node:\n",
    "    def __init__(self, data):\n",
    "        self.data=data\n",
    "        self.next=None   \n",
    "          \n",
    "node1 = Node(11)\n",
    "node2 = Node(18)\n",
    "node3 = Node(24)\n",
    "\n",
    "# 2. Creating a linked list to connect nodes\n",
    "class LinkedList:\n",
    "    def __init__(self):\n",
    "        self.head = None\n",
    "        \n",
    "list1 = LinkedList()\n",
    "list1.head = Node(1)\n",
    "list1.head.next = Node(2)\n",
    "list1.head.next.next = Node(3)\n",
    "\n",
    "list1.head.data, list1.head.next.data, list1.head.next.next.data"
   ]
  },
  {
   "cell_type": "code",
   "execution_count": 18,
   "id": "9ccc5d25",
   "metadata": {},
   "outputs": [
    {
     "name": "stdout",
     "output_type": "stream",
     "text": [
      "Linked List elements:\n",
      "10-> 20-> 30-> "
     ]
    }
   ],
   "source": [
    "# Creating a linked list \n",
    "class LinkedList:\n",
    "    def __init__(self):\n",
    "        self.head = None\n",
    "    \n",
    "    # 3. Append a node \n",
    "    def append(self, data):\n",
    "        if self.head is None:\n",
    "            self.head=Node(data)\n",
    "            \n",
    "        else:\n",
    "            current_node=self.head\n",
    "            \n",
    "            while current_node.next is not None:\n",
    "                current_node = current_node.next\n",
    "            current_node.next = Node(data)\n",
    "            \n",
    "ll=LinkedList()\n",
    "ll.append(10)\n",
    "ll.append(20)\n",
    "ll.append(30)\n",
    "\n",
    "# ll.head.data  # 10\n",
    "current_node = ll.head\n",
    "print(\"Linked List elements:\")\n",
    "while current_node is not None:\n",
    "    print(current_node.data, end=\"-> \")\n",
    "    current_node = current_node.next"
   ]
  },
  {
   "cell_type": "code",
   "execution_count": 9,
   "id": "9a19b731",
   "metadata": {},
   "outputs": [
    {
     "name": "stdout",
     "output_type": "stream",
     "text": [
      "20 --> 10 --> 100 --> 200 --> 300 --> \n",
      "20 --> 10 --> 50 --> 100 --> 200 --> 300 --> "
     ]
    }
   ],
   "source": [
    "class LinkedList:\n",
    "    def __init__(self):\n",
    "        self.head = None\n",
    "    \n",
    "    # Display list\n",
    "    def display(self):\n",
    "        if self.head is None:\n",
    "            return 'Linked list is empty.'\n",
    "            \n",
    "        else:\n",
    "            current_node=self.head\n",
    "            \n",
    "            while current_node is not None:\n",
    "                print(current_node.data,\"-->\", end=\" \")\n",
    "                current_node = current_node.next\n",
    "            \n",
    "    # 4. Insert nodes\n",
    "    def insertAtBegin(self, data):\n",
    "        new_node=Node(data)\n",
    "        new_node.next=self.head\n",
    "        self.head=new_node\n",
    "    \n",
    "    def insertAtEnd(self, data):\n",
    "        new_node=Node(data)\n",
    "        \n",
    "        if self.head is None:\n",
    "            self.head=new_node\n",
    "            \n",
    "        else:\n",
    "            temp=self.head  # Start from the beginning of the list\n",
    "            while temp.next is not None:\n",
    "                temp=temp.next\n",
    "            temp.next=new_node   # link the new node to the last node\n",
    "            \n",
    "    def insertAtAny(self, index, data):\n",
    "        new_node=Node(data)\n",
    "        temp=self.head     # Start from the beginning of the list\n",
    "        i=0\n",
    "        \n",
    "        # Traverse the list until reaching the node just before the specified index\n",
    "        while i<index-1 and temp is not None:\n",
    "            temp=temp.next\n",
    "            i+=1\n",
    "        \n",
    "        # If we go beyond the end of the list\n",
    "        if temp is None:\n",
    "            return \"Index out of range\"\n",
    "        \n",
    "        new_node.next = temp.next  # Link the new node to the node after the current position\n",
    "        temp.next=new_node     # link the current position to the new node, inserting it into the list\n",
    "            \n",
    "ll=LinkedList()\n",
    "ll.insertAtBegin(10)\n",
    "ll.insertAtBegin(20)\n",
    "ll.insertAtEnd(100)\n",
    "ll.insertAtEnd(200)\n",
    "ll.insertAtEnd(300)\n",
    "ll.display()\n",
    "\n",
    "print()\n",
    "ll.insertAtAny(2,50)\n",
    "ll.display()"
   ]
  },
  {
   "cell_type": "code",
   "execution_count": 30,
   "id": "6a93e45e",
   "metadata": {},
   "outputs": [
    {
     "name": "stdout",
     "output_type": "stream",
     "text": [
      "10 --> 20 --> 30 --> 40 --> 50 --> \n",
      "20 --> 30 --> 40 --> 50 --> \n",
      "20 --> 30 --> 40 --> \n",
      "20 --> 40 --> "
     ]
    }
   ],
   "source": [
    "class LinkedList:\n",
    "    def __init__(self):\n",
    "        self.head = None\n",
    "    \n",
    "    def append(self, data):\n",
    "        if self.head is None:\n",
    "            self.head=Node(data)\n",
    "            \n",
    "        else:\n",
    "            current_node=self.head\n",
    "            \n",
    "            while current_node.next is not None:\n",
    "                current_node = current_node.next\n",
    "            current_node.next = Node(data)\n",
    "            \n",
    "    def display(self):\n",
    "        if self.head is None:\n",
    "            return 'Linked list is empty.'\n",
    "            \n",
    "        else:\n",
    "            current_node=self.head\n",
    "            \n",
    "            while current_node is not None:\n",
    "                print(current_node.data,\"-->\", end=\" \")\n",
    "                current_node = current_node.next\n",
    "    \n",
    "    # 5. Delete nodes\n",
    "    def deleteAtFirst(self):\n",
    "        if self.head is None:\n",
    "            return \"List is empty\"\n",
    "        \n",
    "        temp=self.head\n",
    "        self.head=temp.next\n",
    "        del temp\n",
    "    \n",
    "    def deleteAtLast(self):\n",
    "        if self.head is None:\n",
    "            return \"List is empty.\"\n",
    "    \n",
    "        temp=self.head\n",
    "        prev=self.head\n",
    "        while temp.next:\n",
    "            prev=temp\n",
    "            temp=temp.next\n",
    "        prev.next=None\n",
    "        del temp\n",
    "        \n",
    "    def deleteAtAny(self, index):\n",
    "        if index < 0:\n",
    "            return \"Index should be a non-negative integer.\"\n",
    "        \n",
    "        temp=self.head\n",
    "        i=0\n",
    "        \n",
    "        while i<index-1 and temp is not None:\n",
    "            temp=temp.next\n",
    "            i+=1\n",
    "            \n",
    "        if temp is None or temp.next is None:\n",
    "            return \"Index out of range or empty list.\"\n",
    "        \n",
    "        nxt=temp.next\n",
    "        temp.next=nxt.next\n",
    "        del nxt\n",
    "            \n",
    "         \n",
    "            \n",
    "ll=LinkedList()\n",
    "ll.append(10)\n",
    "ll.append(20)\n",
    "ll.append(30)\n",
    "ll.append(40)\n",
    "ll.append(50)\n",
    "\n",
    "ll.display()\n",
    "print()\n",
    "ll.deleteAtFirst()\n",
    "ll.display()\n",
    "\n",
    "print()\n",
    "ll.deleteAtLast()\n",
    "ll.display()\n",
    "\n",
    "print()\n",
    "ll.deleteAtAny(1)\n",
    "ll.display()"
   ]
  },
  {
   "cell_type": "markdown",
   "id": "bc323d64",
   "metadata": {},
   "source": [
    "## Lesson 2 - Binary Search Trees, Traversals and Recursion"
   ]
  },
  {
   "cell_type": "code",
   "execution_count": null,
   "id": "2db17b68",
   "metadata": {},
   "outputs": [],
   "source": []
  },
  {
   "cell_type": "markdown",
   "id": "17b86d2e",
   "metadata": {},
   "source": [
    "### Bubble sort"
   ]
  },
  {
   "cell_type": "code",
   "execution_count": null,
   "id": "ae1dc3d4",
   "metadata": {},
   "outputs": [],
   "source": [
    "def bubble_sort(my_list):\n",
    "    n = len(my_list)\n",
    "    for i in range(n):\n",
    "        # Last i elements are already in place, so no need to check them\n",
    "        for j in range(0, n - i - 1):\n",
    "            # Swap if the element found is greater than the next element\n",
    "            if my_list[j] > my_list[j + 1]:\n",
    "                my_list[j], my_list[j + 1] = my_list[j + 1], my_list[j]\n",
    "\n",
    "# Example usage\n",
    "my_list = [64, 25, 12, 22, 11]\n",
    "bubble_sort(my_list)\n",
    "\n",
    "print(\"Sorted list in ascending order:\", my_list)"
   ]
  },
  {
   "cell_type": "code",
   "execution_count": null,
   "id": "3ecaf782",
   "metadata": {},
   "outputs": [],
   "source": []
  }
 ],
 "metadata": {
  "kernelspec": {
   "display_name": "Python 3 (ipykernel)",
   "language": "python",
   "name": "python3"
  },
  "language_info": {
   "codemirror_mode": {
    "name": "ipython",
    "version": 3
   },
   "file_extension": ".py",
   "mimetype": "text/x-python",
   "name": "python",
   "nbconvert_exporter": "python",
   "pygments_lexer": "ipython3",
   "version": "3.10.9"
  }
 },
 "nbformat": 4,
 "nbformat_minor": 5
}
