{
 "cells": [
  {
   "cell_type": "code",
   "execution_count": null,
   "id": "33f222cc",
   "metadata": {},
   "outputs": [],
   "source": [
    "###[tuf](https://www.youtube.com/watch?v=yVdKa8dnKiE&list=PLgUwDviBIf0rGlzIn_7rsaR2FQ5e6ZOL9)"
   ]
  },
  {
   "attachments": {
    "image-4.png": {
     "image/png": "[encoded data removed]"
    },
    "image-5.png": {
     "image/png": "[encoded data removed]"
    }
   },
   "cell_type": "markdown",
   "id": "c9a39336",
   "metadata": {},
   "source": [
    "**recursive step**: \n",
    "[![image-4.png](attachment:image-4.png)](https://ocw.mit.edu/courses/6-0001-introduction-to-computer-science-and-programming-in-python-fall-2016/876348c652c5353daccc96e1b7d577bb_MIT6_0001F16_Lec6.pdf)\n",
    "**base case**:  ![image-5.png](attachment:image-5.png)"
   ]
  },
  {
   "cell_type": "code",
   "execution_count": 1,
   "id": "a353f6e7",
   "metadata": {},
   "outputs": [
    {
     "name": "stdout",
     "output_type": "stream",
     "text": [
      "Hello World\n"
     ]
    }
   ],
   "source": [
    "#Function creation\n",
    "def myFun():\n",
    "    print(\"Hello World\")\n",
    "    \n",
    "#Function calling\n",
    "myFun()"
   ]
  },
  {
   "cell_type": "code",
   "execution_count": 25,
   "id": "19f187e6",
   "metadata": {},
   "outputs": [
    {
     "name": "stdout",
     "output_type": "stream",
     "text": [
      "1 Hello World\n",
      "2 Hello World\n",
      "3 Hello World\n",
      "4 Hello World\n",
      "5 Hello World\n"
     ]
    }
   ],
   "source": [
    "# def myFun(n):\n",
    "#     if n<=0:  #Without a base case, the recursive function can end up in an infinite loop\n",
    "#         return None\n",
    "#     print(\"Hello World\")\n",
    "#     return myFun(n-1)\n",
    "        \n",
    "# myFun(10)\n",
    "\n",
    "def myFun(n, c=1):\n",
    "    if n <= 0:\n",
    "        return None\n",
    "    print(c, \"Hello World\")\n",
    "    return myFun(n-1, c+1)\n",
    "\n",
    "myFun(5)"
   ]
  },
  {
   "cell_type": "code",
   "execution_count": 7,
   "id": "1deb3163",
   "metadata": {},
   "outputs": [
    {
     "name": "stdout",
     "output_type": "stream",
     "text": [
      "1245\n",
      "1245\n",
      "1265\n",
      "1234\n",
      "Enter successfully\n"
     ]
    }
   ],
   "source": [
    "# Check password\n",
    "def checkPW(p):\n",
    "    n=int(input())\n",
    "    if n==p:\n",
    "        return \"Entered successfully\"\n",
    "    else:\n",
    "        return checkPW(p)\n",
    "        \n",
    "print(checkPW(1234))"
   ]
  },
  {
   "cell_type": "code",
   "execution_count": 3,
   "id": "8b44f9d2",
   "metadata": {},
   "outputs": [
    {
     "name": "stdout",
     "output_type": "stream",
     "text": [
      "Enter a number: 19\n",
      "18\n",
      "16\n",
      "14\n",
      "12\n",
      "10\n",
      "8\n",
      "6\n",
      "4\n",
      "2\n",
      "0\n"
     ]
    }
   ],
   "source": [
    "# all even numbers less than 'n'\n",
    "def loe(n):\n",
    "    if n%2==0:\n",
    "        print(n)\n",
    "    else:\n",
    "        n=n-1\n",
    "        print(n)\n",
    "\n",
    "    if n==0:\n",
    "        return \n",
    "    else:\n",
    "        return loe(n-2)\n",
    "    \n",
    "n=int(input(\"Enter a number: \"))\n",
    "loe(n)"
   ]
  },
  {
   "cell_type": "code",
   "execution_count": 4,
   "id": "ceda8224",
   "metadata": {},
   "outputs": [
    {
     "name": "stdout",
     "output_type": "stream",
     "text": [
      "Enter a number: 9\n",
      "8\n",
      "6\n",
      "4\n",
      "2\n",
      "0\n"
     ]
    }
   ],
   "source": [
    "def print_even_numbers(n):\n",
    "    # Base case: if n is less than 0, stop the recursion\n",
    "    if n < 0:\n",
    "        return\n",
    "    \n",
    "    # If n is even, print it\n",
    "    if n % 2 == 0:\n",
    "        print(n)\n",
    "    # If n is odd, decrement n by 1 to make it even\n",
    "    else:\n",
    "        n -= 1\n",
    "        print(n)\n",
    "\n",
    "    # Recursive call with the next even number\n",
    "    print_even_numbers(n - 2)\n",
    "\n",
    "n = int(input(\"Enter a number: \"))\n",
    "print_even_numbers(n)"
   ]
  },
  {
   "cell_type": "code",
   "execution_count": 5,
   "id": "82bf1842",
   "metadata": {},
   "outputs": [
    {
     "data": {
      "text/plain": [
       "16"
      ]
     },
     "execution_count": 5,
     "metadata": {},
     "output_type": "execute_result"
    }
   ],
   "source": [
    "# sum of digits\n",
    "def sod(n):\n",
    "    if n==0: \n",
    "        return 0\n",
    "    else:\n",
    "        return n%10 + sod(n//10)\n",
    "    \n",
    "n=int(input(\"Enter a big number to calculate the sum of digits: \"))\n",
    "sod(n)"
   ]
  },
  {
   "cell_type": "code",
   "execution_count": 8,
   "id": "f0ec2246",
   "metadata": {},
   "outputs": [
    {
     "name": "stdout",
     "output_type": "stream",
     "text": [
      "durga prasad\n"
     ]
    },
    {
     "data": {
      "text/plain": [
       "'dasarp agrud'"
      ]
     },
     "execution_count": 8,
     "metadata": {},
     "output_type": "execute_result"
    }
   ],
   "source": [
    "# reverse a string\n",
    "def str_rev(s):\n",
    "    if len(s)==1:\n",
    "        return s\n",
    "    else:\n",
    "        return s[-1]+ str_rev(s[:-1])\n",
    "    \n",
    "s=input()\n",
    "str_rev(s)"
   ]
  },
  {
   "cell_type": "code",
   "execution_count": 9,
   "id": "64fc2a21",
   "metadata": {},
   "outputs": [
    {
     "data": {
      "text/plain": [
       "25"
      ]
     },
     "execution_count": 9,
     "metadata": {},
     "output_type": "execute_result"
    }
   ],
   "source": [
    "# power calculation\n",
    "def power(base, exponent):\n",
    "    if exponent==0:\n",
    "        return 1\n",
    "    else:\n",
    "        return base*power(base, exponent-1)\n",
    "    \n",
    "power(5, 2)"
   ]
  },
  {
   "cell_type": "code",
   "execution_count": 1,
   "id": "68387076",
   "metadata": {},
   "outputs": [
    {
     "name": "stdout",
     "output_type": "stream",
     "text": [
      "1275\n"
     ]
    }
   ],
   "source": [
    "#sum of n natural numbers\n",
    "def sumofNat(n):\n",
    "    # when the value of n becomes 1, the recursion will stop\n",
    "    if n == 0:  # Base case to terminate recursion\n",
    "        return 0\n",
    "    else:\n",
    "        return n + sumofNat(n-1)  # Recursive call\n",
    "    \n",
    "print(sumofNat(50)) "
   ]
  },
  {
   "cell_type": "code",
   "execution_count": 9,
   "id": "c655a1b3",
   "metadata": {},
   "outputs": [
    {
     "name": "stdout",
     "output_type": "stream",
     "text": [
      "6\n"
     ]
    },
    {
     "data": {
      "text/plain": [
       "720"
      ]
     },
     "execution_count": 9,
     "metadata": {},
     "output_type": "execute_result"
    }
   ],
   "source": [
    "#factorial\n",
    "def fact(n):\n",
    "    if n==1:\n",
    "        return 1\n",
    "    return n*fact(n-1)\n",
    "\n",
    "fact(int(input()))"
   ]
  },
  {
   "cell_type": "code",
   "execution_count": 1,
   "id": "6f9177a2",
   "metadata": {},
   "outputs": [
    {
     "name": "stdout",
     "output_type": "stream",
     "text": [
      "5\n"
     ]
    },
    {
     "data": {
      "text/plain": [
       "120"
      ]
     },
     "execution_count": 1,
     "metadata": {},
     "output_type": "execute_result"
    }
   ],
   "source": [
    "# Using lambda\n",
    "lambda_fact= lambda i:1 if i==0 else i*lambda_fact(i-1)\n",
    "\n",
    "n=int(input())\n",
    "lambda_fact(n)"
   ]
  },
  {
   "cell_type": "code",
   "execution_count": 15,
   "id": "795f66e0",
   "metadata": {},
   "outputs": [
    {
     "name": "stdout",
     "output_type": "stream",
     "text": [
      "Enter the value of n: 5\n",
      "[0, 1, 1, 2, 3]\n"
     ]
    }
   ],
   "source": [
    "def fibonacci_series(n):\n",
    "    if n <= 0:\n",
    "        return []\n",
    "    elif n == 1:\n",
    "        return [0]\n",
    "    elif n == 2:\n",
    "        return [0, 1]\n",
    "    \n",
    "    fib_series = [0, 1]\n",
    "    for i in range(2, n):\n",
    "        fib_series.append(fib_series[i - 1] + fib_series[i - 2])\n",
    "    \n",
    "    return fib_series\n",
    "\n",
    "n = int(input(\"Enter the value of n: \"))\n",
    "fibonacci_numbers = fibonacci_series(n)\n",
    "print(fibonacci_numbers)"
   ]
  },
  {
   "cell_type": "code",
   "execution_count": 16,
   "id": "7b826c14",
   "metadata": {},
   "outputs": [
    {
     "name": "stdout",
     "output_type": "stream",
     "text": [
      "Enter the value of n: 5\n",
      "Fibonacci numbers: [0, 1, 1, 2, 3]\n",
      "Sum of Fibonacci numbers: 7\n"
     ]
    }
   ],
   "source": [
    "def fibonacci_series_with_sum(n):\n",
    "    if n <= 0:\n",
    "        return [], 0\n",
    "    elif n == 1:\n",
    "        return [0], 0\n",
    "    elif n == 2:\n",
    "        return [0, 1], 1\n",
    "    \n",
    "    fib_series = [0, 1]\n",
    "    fib_sum = 1  # Initialize sum with the value of the second Fibonacci number\n",
    "    \n",
    "    for i in range(2, n):\n",
    "        next_fibonacci = fib_series[i - 1] + fib_series[i - 2]\n",
    "        fib_series.append(next_fibonacci)\n",
    "        fib_sum += next_fibonacci\n",
    "    \n",
    "    return fib_series, fib_sum\n",
    "\n",
    "n = int(input(\"Enter the value of n: \"))\n",
    "fibonacci_numbers, fibonacci_sum = fibonacci_series_with_sum(n)\n",
    "\n",
    "print(\"Fibonacci numbers:\", fibonacci_numbers)\n",
    "print(\"Sum of Fibonacci numbers:\", fibonacci_sum)"
   ]
  },
  {
   "cell_type": "code",
   "execution_count": 7,
   "id": "b1c46a3f",
   "metadata": {},
   "outputs": [
    {
     "name": "stdout",
     "output_type": "stream",
     "text": [
      "5^5=3125 5^4=625 5^3=125 5^2=25 5^1=5 "
     ]
    }
   ],
   "source": [
    "#Power function power(2, 3)=8\n",
    "def pow(n,x=5):\n",
    "    if x<=0:\n",
    "        return None\n",
    "    print(f'{n}^{x}=',n**x,sep=\"\",end=\" \")\n",
    "    return pow(n,x-1)\n",
    "\n",
    "pow(int(input()))"
   ]
  },
  {
   "cell_type": "code",
   "execution_count": 8,
   "id": "df3fba87",
   "metadata": {},
   "outputs": [
    {
     "name": "stdout",
     "output_type": "stream",
     "text": [
      "Enter the number: 8\n",
      "Enter the exponent: 2\n",
      "8^2 = 64\n"
     ]
    }
   ],
   "source": [
    "def pow(n, x=1):\n",
    "    if x <= 0:\n",
    "        return 1\n",
    "    return n * pow(n, x - 1)\n",
    "\n",
    "number = int(input(\"Enter the number: \"))\n",
    "exponent = int(input(\"Enter the exponent: \"))\n",
    "result = pow(number, exponent)\n",
    "print(f\"{number}^{exponent} = {result}\")"
   ]
  },
  {
   "cell_type": "code",
   "execution_count": 16,
   "id": "332a065f",
   "metadata": {},
   "outputs": [
    {
     "name": "stdout",
     "output_type": "stream",
     "text": [
      "0 3\n",
      "1 5\n",
      "2 6\n"
     ]
    }
   ],
   "source": [
    "#sum of digits of a positive integer n. For n=123 =>1 + 2 + 3 = 6\n",
    "n=123\n",
    "c=0\n",
    "for i in range(len(str(n))):\n",
    "    r=n%10  #3, 2, 1\n",
    "    n=n//10 #12, 1, 0\n",
    "    c+=r    #3, 5, 6\n",
    "    print(i,c)\n",
    "    \n",
    "# def sop(n,s=0):\n",
    "#     if n<=0:\n",
    "#         return None\n",
    "#     r=n%10\n",
    "#     n=n//10\n",
    "#     s+=r\n",
    "#     print(s)\n",
    "#     return sop(n,s)\n",
    "\n",
    "#The above code returns all the last digit  of the number\n",
    "\n",
    "# def sop(n, s=0):\n",
    "#     if n <= 0:\n",
    "#         return s\n",
    "#     r = n % 10\n",
    "#     n = n // 10\n",
    "#     s += r\n",
    "#     return sop(n, s)\n",
    "\n",
    "# result = sop(123)\n",
    "# print(result)\n",
    "\n",
    "# sop(123)"
   ]
  },
  {
   "cell_type": "code",
   "execution_count": 17,
   "id": "536c945b",
   "metadata": {},
   "outputs": [
    {
     "name": "stdout",
     "output_type": "stream",
     "text": [
      "True\n",
      "False\n",
      "True\n",
      "True\n",
      "True\n",
      "False\n"
     ]
    }
   ],
   "source": [
    "#given string is a palindrome or not\n",
    "def is_palindrome(s):\n",
    "    if len(s) <= 1:\n",
    "        return True\n",
    "    elif s[0].lower()!= s[-1].lower():\n",
    "        return False\n",
    "    else:\n",
    "        return is_palindrome(s[1:-1])\n",
    "\n",
    "def is_palindrome_recursive(s, i=0):\n",
    "    if i >= len(s) // 2:\n",
    "        return True\n",
    "\n",
    "    if s[i].lower() != s[len(s) - i - 1].lower():\n",
    "        return False\n",
    "\n",
    "    return is_palindrome_recursive(s, i + 1)\n",
    "\n",
    "# Test cases\n",
    "print(is_palindrome(\"radar\"))  # Output: True\n",
    "print(is_palindrome(\"racecar\"))  # Output: True\n",
    "print(is_palindrome_recursive(\"level\"))  # Output: True\n",
    "    \n",
    "s='radar'  #5\n",
    "c=''    \n",
    "for i in range(len(s)-1,-1,-1): \n",
    "    c+=s[i]\n",
    "    print(c)\n",
    "if c==s:\n",
    "    print(\"Palindrome\")"
   ]
  },
  {
   "cell_type": "code",
   "execution_count": 12,
   "id": "c9194ead",
   "metadata": {},
   "outputs": [
    {
     "name": "stdout",
     "output_type": "stream",
     "text": [
      "current:  \n",
      "current:  2\n",
      "current:  1\n",
      "current:  12\n",
      "current:  3\n",
      "current:  32\n",
      "current:  31\n",
      "current:  312\n"
     ]
    }
   ],
   "source": [
    "# Recursion on Subsequences\n",
    "'''\n",
    "Subsequence is a contiguous or non-contiguous which fallows the 'order\n",
    "'\n",
    "arr [3,1,2] my subsequences are {},3, 1, 2, (3,1), (1,2), (3,2), (3,1,2)\n",
    "Here (3,2) is non-contiguous, rest of all are contiguous\n",
    "But 3,2,1 is not a subsequence because it is not following order.\n",
    "The order is 3 should be first, 1 should be after 3 or before 2\n",
    "\n",
    "So for n=3 we've 8 subsequences\n",
    "'''\n",
    "\n",
    "# def get_all_subsequence(n,output,i):       \n",
    "#     if (i==len(n)):\n",
    "#         if (len(output)!=0):\n",
    "#             print(output)\n",
    "#     else:\n",
    "#         # exclude first character\n",
    "#         get_all_subsequence(n,output,i+1)\n",
    " \n",
    "#         # include first character\n",
    "#         output+=n[i]\n",
    "#         get_all_subsequence(n,output,i+1)\n",
    "#     return\n",
    " \n",
    "# n = input()\n",
    "# get_all_subsequence(n,\"\",0)\n",
    "# print(n[0])\n",
    "\n",
    "\n",
    "def find_subsequences(s, current='', index=0):\n",
    "    if index == len(s):\n",
    "        print(\"current: \",current)\n",
    "        return current\n",
    "    find_subsequences(s, current, index + 1)  # Exclude the current character\n",
    "\n",
    "    find_subsequences(s, current + s[index], index + 1)  # Include the current character\n",
    "\n",
    "# Test the function\n",
    "input_string = \"312\"\n",
    "find_subsequences(input_string)"
   ]
  },
  {
   "cell_type": "code",
   "execution_count": null,
   "id": "98de2112",
   "metadata": {},
   "outputs": [],
   "source": []
  }
 ],
 "metadata": {
  "kernelspec": {
   "display_name": "Python 3 (ipykernel)",
   "language": "python",
   "name": "python3"
  },
  "language_info": {
   "codemirror_mode": {
    "name": "ipython",
    "version": 3
   },
   "file_extension": ".py",
   "mimetype": "text/x-python",
   "name": "python",
   "nbconvert_exporter": "python",
   "pygments_lexer": "ipython3",
   "version": "3.10.9"
  }
 },
 "nbformat": 4,
 "nbformat_minor": 5
}
