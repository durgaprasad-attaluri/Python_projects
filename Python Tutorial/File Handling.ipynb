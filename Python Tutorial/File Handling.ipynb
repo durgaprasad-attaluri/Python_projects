{
 "cells": [
  {
   "cell_type": "markdown",
   "id": "5e02084b",
   "metadata": {},
   "source": [
    "File handling in computer science means working with files stored on the disk. This includes creating, deleting, opening or closing files and writing, reading or modifying data stored in those files.\n",
    "\n",
    "https://www.youtube.com/watch?v=uEtG9TclzKE&list=PLI4OVrCFuY55ZrOMkfYNt7CQGEkskxJlj&index=2"
   ]
  },
  {
   "cell_type": "markdown",
   "id": "9d04f267",
   "metadata": {},
   "source": [
    "### Opening and Closing a File"
   ]
  },
  {
   "cell_type": "code",
   "execution_count": null,
   "id": "d967d0b6",
   "metadata": {},
   "outputs": [],
   "source": [
    "#open(file_path, mode)\n",
    "\n",
    "# file_path-> a string that represents the path to the file we want to open, including the file name and its location\n",
    "# mode-> specifies the purpose for which you want to open the file"
   ]
  },
  {
   "cell_type": "markdown",
   "id": "e764e4a4",
   "metadata": {},
   "source": [
    "* 'r': Read mode (default). Opens the file for reading.\n",
    "* 'w': Write mode. Opens the file for writing. Creates a new file if it doesn't exist, or truncates the file if it does.\n",
    "* 'a': Append mode. Opens the file for writing, but appends new content to the existing file instead of overwriting it.\n",
    "* 'x': Exclusive creation mode. Opens the file for writing, but only if it doesn't already exist.\n",
    "* 'b': Binary mode. Opens the file in binary mode for reading or writing.\n",
    "* 't': Text mode (default). Opens the file in text mode for reading or writing."
   ]
  },
  {
   "cell_type": "code",
   "execution_count": 14,
   "id": "51b71c39",
   "metadata": {},
   "outputs": [],
   "source": [
    "#writing to a file\n",
    "file_path = 'example.txt'\n",
    "file_object = open(file_path, 'w')\n",
    "\n",
    "# Write a string to the file\n",
    "file_object.write(\"Hello, World!\")\n",
    "\n",
    "# Close the file\n",
    "file_object.close()"
   ]
  },
  {
   "cell_type": "code",
   "execution_count": 15,
   "id": "5d85083d",
   "metadata": {},
   "outputs": [
    {
     "name": "stdout",
     "output_type": "stream",
     "text": [
      "contents: Hello, World!\n"
     ]
    }
   ],
   "source": [
    "#Reading a file\n",
    "file_path = 'example.txt'\n",
    "file_object = open(file_path, 'r')\n",
    "\n",
    "# Read the entire contents of the file\n",
    "contents = file_object.read()\n",
    "print(\"contents:\",contents)\n",
    "\n",
    "file_object.close()"
   ]
  },
  {
   "cell_type": "markdown",
   "id": "3f732555",
   "metadata": {},
   "source": [
    "**Note:** Remember to close the file using the close() method when you're done with it to free up system resources and ensure that all changes are saved."
   ]
  },
  {
   "cell_type": "code",
   "execution_count": 16,
   "id": "b4e04f75",
   "metadata": {},
   "outputs": [
    {
     "name": "stdout",
     "output_type": "stream",
     "text": [
      "Hello, World!\n"
     ]
    }
   ],
   "source": [
    "file_path = 'example.txt'\n",
    "with open(file_path, 'r') as file_object:\n",
    "    # Perform operations on the file\n",
    "    contents = file_object.read()\n",
    "    print(contents)\n",
    "# The file will be automatically closed here"
   ]
  },
  {
   "cell_type": "code",
   "execution_count": 20,
   "id": "415388e3",
   "metadata": {},
   "outputs": [
    {
     "name": "stdout",
     "output_type": "stream",
     "text": [
      "Apple\n",
      "Orange\n",
      "Banana\n"
     ]
    }
   ],
   "source": [
    "#writing to a file\n",
    "file_path = 'example.txt'\n",
    "file_object = open(file_path, 'w')\n",
    "\n",
    "# Write multiple lines of text\n",
    "Fruits = [\"Apple\\n\", \"Orange\\n\", \"Banana\\n\"]  \n",
    "\n",
    "file_object.writelines(Fruits)\n",
    "\n",
    "# Close the file\n",
    "file_object.close()\n",
    "\n",
    "file_object = open(file_path, 'r')\n",
    "for i in file_object.readlines():\n",
    "    print(i.strip())"
   ]
  },
  {
   "cell_type": "markdown",
   "id": "886b206e",
   "metadata": {},
   "source": [
    "### With"
   ]
  },
  {
   "cell_type": "code",
   "execution_count": null,
   "id": "2bfe6292",
   "metadata": {},
   "outputs": [],
   "source": []
  }
 ],
 "metadata": {
  "kernelspec": {
   "display_name": "Python 3 (ipykernel)",
   "language": "python",
   "name": "python3"
  },
  "language_info": {
   "codemirror_mode": {
    "name": "ipython",
    "version": 3
   },
   "file_extension": ".py",
   "mimetype": "text/x-python",
   "name": "python",
   "nbconvert_exporter": "python",
   "pygments_lexer": "ipython3",
   "version": "3.10.9"
  }
 },
 "nbformat": 4,
 "nbformat_minor": 5
}
