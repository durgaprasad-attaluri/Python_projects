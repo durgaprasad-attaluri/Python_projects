{
 "cells": [
  {
   "cell_type": "markdown",
   "id": "76d0cfab",
   "metadata": {},
   "source": [
    "[YouTube](https://www.youtube.com/watch?v=bnSYeYFRCaA)"
   ]
  },
  {
   "cell_type": "code",
   "execution_count": 1,
   "id": "2e75096e",
   "metadata": {},
   "outputs": [
    {
     "name": "stdout",
     "output_type": "stream",
     "text": [
      "hello\n"
     ]
    },
    {
     "data": {
      "text/plain": [
       "'Hello'"
      ]
     },
     "execution_count": 1,
     "metadata": {},
     "output_type": "execute_result"
    }
   ],
   "source": [
    "# capitalize\n",
    "str=input()\n",
    "str.capitalize()  # 'Hello'"
   ]
  },
  {
   "cell_type": "code",
   "execution_count": 2,
   "id": "04b67443",
   "metadata": {},
   "outputs": [
    {
     "data": {
      "text/plain": [
       "'mario'"
      ]
     },
     "execution_count": 2,
     "metadata": {},
     "output_type": "execute_result"
    }
   ],
   "source": [
    "# casefold\n",
    "txt='MAriO'\n",
    "txt.casefold()  # 'mario'"
   ]
  },
  {
   "cell_type": "code",
   "execution_count": 6,
   "id": "f0b77b56",
   "metadata": {},
   "outputs": [
    {
     "data": {
      "text/plain": [
       "('  Durga   ', '**Durga***')"
      ]
     },
     "execution_count": 6,
     "metadata": {},
     "output_type": "execute_result"
    }
   ],
   "source": [
    "# center\n",
    "txt='Durga'\n",
    "txt.center(10), txt.center(10,'*')"
   ]
  },
  {
   "cell_type": "code",
   "execution_count": 26,
   "id": "b1c286d0",
   "metadata": {},
   "outputs": [
    {
     "data": {
      "text/plain": [
       "('Durga-----', '-----Durga')"
      ]
     },
     "execution_count": 26,
     "metadata": {},
     "output_type": "execute_result"
    }
   ],
   "source": [
    "txt='Durga'\n",
    "txt.ljust(10, '-'), txt.rjust(10, '-')"
   ]
  },
  {
   "cell_type": "code",
   "execution_count": 7,
   "id": "be486028",
   "metadata": {},
   "outputs": [
    {
     "data": {
      "text/plain": [
       "3"
      ]
     },
     "execution_count": 7,
     "metadata": {},
     "output_type": "execute_result"
    }
   ],
   "source": [
    "txt='abc_abc_ab'\n",
    "txt.count('ab')"
   ]
  },
  {
   "cell_type": "code",
   "execution_count": 9,
   "id": "601a0ca6",
   "metadata": {},
   "outputs": [
    {
     "data": {
      "text/plain": [
       "(True, True)"
      ]
     },
     "execution_count": 9,
     "metadata": {},
     "output_type": "execute_result"
    }
   ],
   "source": [
    "txt='apple'\n",
    "txt.endswith('e'), txt.endswith( ('a','e','i','o','u') )   # text ends with vowels"
   ]
  },
  {
   "cell_type": "code",
   "execution_count": 10,
   "id": "bc18b93e",
   "metadata": {},
   "outputs": [
    {
     "data": {
      "text/plain": [
       "(17, 'are you?')"
      ]
     },
     "execution_count": 10,
     "metadata": {},
     "output_type": "execute_result"
    }
   ],
   "source": [
    "# find\n",
    "txt=\"Hello World! How are you?\"\n",
    "pos=txt.find('are')\n",
    "pos, txt[pos:]"
   ]
  },
  {
   "cell_type": "code",
   "execution_count": 16,
   "id": "92b623be",
   "metadata": {},
   "outputs": [
    {
     "data": {
      "text/plain": [
       "(17, 'are you?')"
      ]
     },
     "execution_count": 16,
     "metadata": {},
     "output_type": "execute_result"
    }
   ],
   "source": [
    "# index\n",
    "txt=\"Hello World! How are you?\"\n",
    "pos=txt.index('are')\n",
    "pos, txt[pos:]"
   ]
  },
  {
   "cell_type": "code",
   "execution_count": 17,
   "id": "b8a68700",
   "metadata": {},
   "outputs": [
    {
     "data": {
      "text/plain": [
       "(-1, '?')"
      ]
     },
     "execution_count": 17,
     "metadata": {},
     "output_type": "execute_result"
    }
   ],
   "source": [
    "# find vs index\n",
    "txt=\"Hello World! How are you?\"\n",
    "pos=txt.find('You')  # if no such string is there it returns -1, but index returns error\n",
    "pos, txt[pos:]"
   ]
  },
  {
   "cell_type": "code",
   "execution_count": 11,
   "id": "9f036e3c",
   "metadata": {},
   "outputs": [
    {
     "data": {
      "text/plain": [
       "'Cat sounds meow'"
      ]
     },
     "execution_count": 11,
     "metadata": {},
     "output_type": "execute_result"
    }
   ],
   "source": [
    "# format\n",
    "txt1='{sub} sounds {sound}'\n",
    "txt1.format(sub='Cat', sound='meow')"
   ]
  },
  {
   "cell_type": "code",
   "execution_count": 13,
   "id": "8c3be3ac",
   "metadata": {},
   "outputs": [
    {
     "data": {
      "text/plain": [
       "'Dog sounds bark'"
      ]
     },
     "execution_count": 13,
     "metadata": {},
     "output_type": "execute_result"
    }
   ],
   "source": [
    "txt2='{} sounds {}'\n",
    "txt2.format('Dog', 'bark')"
   ]
  },
  {
   "cell_type": "code",
   "execution_count": 1,
   "id": "5147126c",
   "metadata": {},
   "outputs": [
    {
     "name": "stdout",
     "output_type": "stream",
     "text": [
      "Enter Animal name: Cat\n",
      "Enter the animal sound: Meow\n",
      "Cat sounds Meow.\n"
     ]
    }
   ],
   "source": [
    "ani=input(\"Enter Animal name: \")\n",
    "sou=input(\"Enter the animal sound: \")\n",
    "print('{} sounds {}.'.format(ani, sou))"
   ]
  },
  {
   "cell_type": "code",
   "execution_count": 14,
   "id": "fcf2ba23",
   "metadata": {},
   "outputs": [
    {
     "data": {
      "text/plain": [
       "'Coordinates: (10, -5)'"
      ]
     },
     "execution_count": 14,
     "metadata": {},
     "output_type": "execute_result"
    }
   ],
   "source": [
    "# format_map\n",
    "coordinates={'x':10, 'y':-5}\n",
    "txt='Coordinates: ({x}, {y})'\n",
    "txt.format_map(coordinates)"
   ]
  },
  {
   "cell_type": "code",
   "execution_count": 15,
   "id": "19c93102",
   "metadata": {},
   "outputs": [
    {
     "data": {
      "text/plain": [
       "'Cat meow'"
      ]
     },
     "execution_count": 15,
     "metadata": {},
     "output_type": "execute_result"
    }
   ],
   "source": [
    "pet_with_sound={'pet': 'Cat', 'sound': 'meow'}\n",
    "txt='{pet} {sound}'\n",
    "txt.format_map(pet_with_sound)"
   ]
  },
  {
   "cell_type": "code",
   "execution_count": 19,
   "id": "abb5625e",
   "metadata": {},
   "outputs": [
    {
     "data": {
      "text/plain": [
       "(True, False, True)"
      ]
     },
     "execution_count": 19,
     "metadata": {},
     "output_type": "execute_result"
    }
   ],
   "source": [
    "#isalnum\n",
    "txt='hello123'\n",
    "txt.isalnum(), txt.isalpha(), txt.isascii()"
   ]
  },
  {
   "cell_type": "code",
   "execution_count": 24,
   "id": "1335eb9a",
   "metadata": {},
   "outputs": [
    {
     "data": {
      "text/plain": [
       "(True, False, True, True)"
      ]
     },
     "execution_count": 24,
     "metadata": {},
     "output_type": "execute_result"
    }
   ],
   "source": [
    "# isdecimal\n",
    "txt1='123'\n",
    "txt2='123²3'\n",
    "txt1.isdecimal(), txt2.isdecimal(), txt1.isdigit(), txt2.isdigit()  # subscript is a digit, but fraction is not"
   ]
  },
  {
   "cell_type": "code",
   "execution_count": 23,
   "id": "918f29f4",
   "metadata": {},
   "outputs": [
    {
     "data": {
      "text/plain": [
       "(False, False)"
      ]
     },
     "execution_count": 23,
     "metadata": {},
     "output_type": "execute_result"
    }
   ],
   "source": [
    "txt='-123'\n",
    "txt.isdecimal(), txt.isdigit()"
   ]
  },
  {
   "cell_type": "code",
   "execution_count": 30,
   "id": "38acbf66",
   "metadata": {},
   "outputs": [
    {
     "data": {
      "text/plain": [
       "('love mango', 'I love')"
      ]
     },
     "execution_count": 30,
     "metadata": {},
     "output_type": "execute_result"
    }
   ],
   "source": [
    "# lstrip\n",
    "txt='I love mango'\n",
    "txt.lstrip('I '), txt.rstrip(' mango')"
   ]
  },
  {
   "cell_type": "code",
   "execution_count": 32,
   "id": "d5d9908d",
   "metadata": {},
   "outputs": [
    {
     "data": {
      "text/plain": [
       "'😀😀e😀'"
      ]
     },
     "execution_count": 32,
     "metadata": {},
     "output_type": "execute_result"
    }
   ],
   "source": [
    "# maketrans and translate\n",
    "txt=\"HHeH\"\n",
    "txt1=txt1.maketrans('H', '😀')\n",
    "txt.translate(txt1)"
   ]
  },
  {
   "cell_type": "code",
   "execution_count": 7,
   "id": "cca3a589",
   "metadata": {},
   "outputs": [
    {
     "name": "stdout",
     "output_type": "stream",
     "text": [
      "Hello World! Welcome to Python\n",
      "Hello World!Hello World!\n"
     ]
    },
    {
     "data": {
      "text/plain": [
       "'Hello World!, Hello World!, '"
      ]
     },
     "execution_count": 7,
     "metadata": {},
     "output_type": "execute_result"
    }
   ],
   "source": [
    "msg1='Hello World!'\n",
    "msg2='Welcome to Python'\n",
    "\n",
    "print(msg1+\" \"+msg2)\n",
    "print(msg1*2)\n",
    "(msg1+\", \")*2"
   ]
  },
  {
   "cell_type": "code",
   "execution_count": 5,
   "id": "0db4eaa2",
   "metadata": {},
   "outputs": [],
   "source": [
    "del msg1"
   ]
  },
  {
   "cell_type": "code",
   "execution_count": 1,
   "id": "1408c5ba",
   "metadata": {},
   "outputs": [
    {
     "data": {
      "text/plain": [
       "'string1'"
      ]
     },
     "execution_count": 1,
     "metadata": {},
     "output_type": "execute_result"
    }
   ],
   "source": [
    "s='string1'\n",
    "s"
   ]
  },
  {
   "cell_type": "code",
   "execution_count": 2,
   "id": "06226f34",
   "metadata": {},
   "outputs": [
    {
     "data": {
      "text/plain": [
       "'string2'"
      ]
     },
     "execution_count": 2,
     "metadata": {},
     "output_type": "execute_result"
    }
   ],
   "source": [
    "s='string2'\n",
    "s"
   ]
  },
  {
   "cell_type": "code",
   "execution_count": 9,
   "id": "530810a7",
   "metadata": {},
   "outputs": [
    {
     "name": "stdout",
     "output_type": "stream",
     "text": [
      "-----\n",
      "*****\n",
      "#####\n",
      "=====\n",
      ":-) :-) :-) :-) :-) \n"
     ]
    }
   ],
   "source": [
    "print(\"-\"*5)\n",
    "print(\"*\"*5)\n",
    "print(\"#\"*5)\n",
    "print(\"=\"*5)\n",
    "print(\":-) \"*5)"
   ]
  },
  {
   "cell_type": "markdown",
   "id": "ff078b00",
   "metadata": {},
   "source": [
    "### end & sep parameters"
   ]
  },
  {
   "cell_type": "code",
   "execution_count": 8,
   "id": "87e7f0f7",
   "metadata": {},
   "outputs": [
    {
     "name": "stdout",
     "output_type": "stream",
     "text": [
      "hii\n",
      "welcome\n",
      "hii\n",
      "welcome\n",
      "Hello!! Welcome to Python\n",
      "Hello!! coders Welcome to Python\n"
     ]
    }
   ],
   "source": [
    "#end -> append last to the print's output\n",
    "#by defaults end is a newline =>end=\"\\n\"\n",
    "\n",
    "print(\"hii\")\n",
    "print(\"welcome\")\n",
    "\n",
    "print(\"hii\",end=\"\\n\")\n",
    "print(\"welcome\")\n",
    "\n",
    "print(\"Hello!!\",end=\" \")\n",
    "print(\"Welcome to Python\")\n",
    "\n",
    "print(\"Hello!!\",end=\" coders \")\n",
    "print(\"Welcome to Python\")"
   ]
  },
  {
   "cell_type": "code",
   "execution_count": 15,
   "id": "308bcb16",
   "metadata": {},
   "outputs": [
    {
     "name": "stdout",
     "output_type": "stream",
     "text": [
      "Study Python\n",
      "Study Python\n",
      "\n",
      "study & learn\n",
      "Python_is_a_simple_programming_language\n",
      "T_R_A_I_N\n"
     ]
    }
   ],
   "source": [
    "#sep ->print multiple values\n",
    "#by default sep is whitespace(\" \")\n",
    "\n",
    "print(\"Study\", \"Python\")\n",
    "print(\"Study\", \"Python\", sep=' ')\n",
    "print()\n",
    "\n",
    "print('study','learn',sep=' & ')\n",
    "print('Python','is','a','simple','programming','language',sep='_')"
   ]
  },
  {
   "cell_type": "code",
   "execution_count": 21,
   "id": "8c454314",
   "metadata": {},
   "outputs": [
    {
     "name": "stdout",
     "output_type": "stream",
     "text": [
      "T-R-A-I-N_()-\n",
      "Python_is_a_simple_programming_language for_students"
     ]
    }
   ],
   "source": [
    "print('T','R','A','I','N',sep='-',end='_()-')\n",
    "print()\n",
    "print('Python','is','a','simple','programming','language',sep='_',end=\" for_students\")"
   ]
  },
  {
   "cell_type": "code",
   "execution_count": 13,
   "id": "bb8e1b81",
   "metadata": {},
   "outputs": [
    {
     "name": "stdout",
     "output_type": "stream",
     "text": [
      "Enter string: durga\n"
     ]
    },
    {
     "data": {
      "text/plain": [
       "('durga', 'DURGA', 'Durga')"
      ]
     },
     "execution_count": 13,
     "metadata": {},
     "output_type": "execute_result"
    }
   ],
   "source": [
    "s1=input(\"Enter string: \")\n",
    "s2=s1.replace(\" \",\"\") and s1.upper()  #the and operator does not modify the original string\n",
    "s3=s1.replace(\" \",\"\") and s1.upper() and s1.capitalize()\n",
    "s1,s2,s3"
   ]
  },
  {
   "cell_type": "code",
   "execution_count": 5,
   "id": "44016115",
   "metadata": {},
   "outputs": [
    {
     "name": "stdout",
     "output_type": "stream",
     "text": [
      "Enter string: durga prasad\n",
      "['D', 'U', 'R', 'G', 'A', 'P', 'R', 'A', 'S', 'A', 'D']\n"
     ]
    }
   ],
   "source": [
    "s=input(\"Enter string: \")\n",
    "s.replace(\" \",\"\").upper()\n",
    "l=[]\n",
    "for i in s:\n",
    "    l.append(i)\n",
    "print(l)"
   ]
  },
  {
   "cell_type": "code",
   "execution_count": 19,
   "id": "04c0854c",
   "metadata": {},
   "outputs": [
    {
     "name": "stdout",
     "output_type": "stream",
     "text": [
      "Enter string: durga prasad\n",
      "durga prasad ['D', 'U', 'R', 'G', 'A', 'P', 'R', 'A', 'S', 'A', 'D']\n"
     ]
    }
   ],
   "source": [
    "s= input(\"Enter string: \")\n",
    "s= list(s.upper().replace(\" \",''))\n",
    "print(s)"
   ]
  },
  {
   "cell_type": "markdown",
   "id": "6599dbb0",
   "metadata": {},
   "source": [
    "### Built-in String Functions"
   ]
  },
  {
   "cell_type": "code",
   "execution_count": 9,
   "id": "a36004cb",
   "metadata": {},
   "outputs": [
    {
     "data": {
      "text/plain": [
       "('\\x02', '#', '€')"
      ]
     },
     "execution_count": 9,
     "metadata": {},
     "output_type": "execute_result"
    }
   ],
   "source": [
    "#chr() -> Converts an integer to a character\n",
    "chr(2),chr(35),chr(8364)"
   ]
  },
  {
   "cell_type": "code",
   "execution_count": 7,
   "id": "0a9c5a10",
   "metadata": {},
   "outputs": [
    {
     "data": {
      "text/plain": [
       "(65, 35, 64)"
      ]
     },
     "execution_count": 7,
     "metadata": {},
     "output_type": "execute_result"
    }
   ],
   "source": [
    "#ord() -> Converts a character to an integer\n",
    "ord('A'),ord('#'),ord('@')"
   ]
  },
  {
   "cell_type": "code",
   "execution_count": 4,
   "id": "4bfdfcce",
   "metadata": {},
   "outputs": [
    {
     "data": {
      "text/plain": [
       "5"
      ]
     },
     "execution_count": 4,
     "metadata": {},
     "output_type": "execute_result"
    }
   ],
   "source": [
    "#len() -> Returns the length of a string\n",
    "len('Hello')"
   ]
  },
  {
   "cell_type": "code",
   "execution_count": 12,
   "id": "388a2f5d",
   "metadata": {},
   "outputs": [
    {
     "data": {
      "text/plain": [
       "('1', 'foo', '23', '(1+2j)')"
      ]
     },
     "execution_count": 12,
     "metadata": {},
     "output_type": "execute_result"
    }
   ],
   "source": [
    "#str() -> Returns a string representation of an object\n",
    "str(1),str('foo'),str(3+20),str(1+2j)"
   ]
  },
  {
   "cell_type": "markdown",
   "id": "27d43648",
   "metadata": {},
   "source": [
    "### We can't modify strings"
   ]
  },
  {
   "cell_type": "code",
   "execution_count": 14,
   "id": "3fcae7e0",
   "metadata": {},
   "outputs": [
    {
     "ename": "TypeError",
     "evalue": "'str' object does not support item assignment",
     "output_type": "error",
     "traceback": [
      "\u001b[1;31m---------------------------------------------------------------------------\u001b[0m",
      "\u001b[1;31mTypeError\u001b[0m                                 Traceback (most recent call last)",
      "Cell \u001b[1;32mIn[14], line 2\u001b[0m\n\u001b[0;32m      1\u001b[0m s\u001b[38;5;241m=\u001b[39m\u001b[38;5;124m'\u001b[39m\u001b[38;5;124mHello\u001b[39m\u001b[38;5;124m'\u001b[39m\n\u001b[1;32m----> 2\u001b[0m s[\u001b[38;5;241m0\u001b[39m]\u001b[38;5;241m=\u001b[39m\u001b[38;5;124m'\u001b[39m\u001b[38;5;124mc\u001b[39m\u001b[38;5;124m'\u001b[39m\n",
      "\u001b[1;31mTypeError\u001b[0m: 'str' object does not support item assignment"
     ]
    }
   ],
   "source": [
    "s='Hello'\n",
    "s[0]='c'"
   ]
  },
  {
   "cell_type": "code",
   "execution_count": 16,
   "id": "fd7d897c",
   "metadata": {},
   "outputs": [
    {
     "data": {
      "text/plain": [
       "'Jello'"
      ]
     },
     "execution_count": 16,
     "metadata": {},
     "output_type": "execute_result"
    }
   ],
   "source": [
    "text = \"Hello\"\n",
    "new_text = 'J' + text[1:]\n",
    "new_text"
   ]
  },
  {
   "cell_type": "code",
   "execution_count": 17,
   "id": "41f9c47f",
   "metadata": {},
   "outputs": [
    {
     "data": {
      "text/plain": [
       "'Real Python'"
      ]
     },
     "execution_count": 17,
     "metadata": {},
     "output_type": "execute_result"
    }
   ],
   "source": [
    "\"Fake Python\".replace(\"Fake\", \"Real\")"
   ]
  },
  {
   "cell_type": "code",
   "execution_count": 18,
   "id": "f24aa255",
   "metadata": {},
   "outputs": [
    {
     "data": {
      "text/plain": [
       "'Fake Python'"
      ]
     },
     "execution_count": 18,
     "metadata": {},
     "output_type": "execute_result"
    }
   ],
   "source": [
    "\"Fake Python\".replace(\"fake\", \"Real\")"
   ]
  },
  {
   "cell_type": "code",
   "execution_count": 22,
   "id": "e073e942",
   "metadata": {},
   "outputs": [
    {
     "data": {
      "text/plain": [
       "'Real python is Good and it is True'"
      ]
     },
     "execution_count": 22,
     "metadata": {},
     "output_type": "execute_result"
    }
   ],
   "source": [
    "#Multiple replacements\n",
    "repl=[('Fake','Real'),('Bad','Good'),('False','True')]\n",
    "s='Fake python is Bad and it is False'\n",
    "for old,new in repl:\n",
    "    s=s.replace(old,new)\n",
    "s"
   ]
  },
  {
   "cell_type": "markdown",
   "id": "d2480fd4",
   "metadata": {},
   "source": [
    "### [f-string](https://www.youtube.com/watch?v=EoNOWVYKyo0)"
   ]
  },
  {
   "cell_type": "code",
   "execution_count": 9,
   "id": "f80921d7",
   "metadata": {},
   "outputs": [
    {
     "name": "stdout",
     "output_type": "stream",
     "text": [
      "1_000_000\n",
      "1,000,000\n"
     ]
    }
   ],
   "source": [
    "n=1000000 # 1_000_000\n",
    "print(f'{n:_}')\n",
    "print(f'{n:,}')"
   ]
  },
  {
   "cell_type": "code",
   "execution_count": 22,
   "id": "a7ab8d6a",
   "metadata": {},
   "outputs": [
    {
     "name": "stdout",
     "output_type": "stream",
     "text": [
      ":       var\n",
      "var       :\n",
      ":   var    :\n",
      "\n",
      "XXXXXXXvar\n",
      "---var----\n"
     ]
    }
   ],
   "source": [
    "s='var'\n",
    "print(f':{s:>10}')\n",
    "print(f'{s:10}:')  # default \n",
    "print(f':{s:^10}:')\n",
    "\n",
    "print()\n",
    "\n",
    "print(f'{s:X>10}')   \n",
    "print(f'{s:-^10}')"
   ]
  },
  {
   "cell_type": "code",
   "execution_count": 29,
   "id": "2349ae44",
   "metadata": {},
   "outputs": [
    {
     "name": "stdout",
     "output_type": "stream",
     "text": [
      "02.04.2024 (08:01:41)\n",
      "02/04/2024\n",
      "2024 02,04\n",
      "Tue Apr  2 08:01:41 2024\n",
      "08 AM\n"
     ]
    }
   ],
   "source": [
    "from datetime import datetime\n",
    "now=datetime.now()\n",
    "print(f'{now:%d.%m.%Y (%H:%M:%S)}')\n",
    "print(f'{now:%d/%m/%Y}')\n",
    "print(f'{now:%Y %d,%m}')\n",
    "\n",
    "print(f'{now:%c}') # local version\n",
    "\n",
    "# 12hr format with am/pm\n",
    "print(f'{now:%I %p}')"
   ]
  },
  {
   "cell_type": "code",
   "execution_count": 30,
   "id": "aa03ca8b",
   "metadata": {},
   "outputs": [
    {
     "name": "stdout",
     "output_type": "stream",
     "text": [
      "1234.57\n",
      "1,234.57\n"
     ]
    }
   ],
   "source": [
    "n=1234.5678\n",
    "print(f'{n:.2f}')\n",
    "print(f'{n:,.2f}')"
   ]
  },
  {
   "cell_type": "code",
   "execution_count": 31,
   "id": "492f2ce3",
   "metadata": {},
   "outputs": [
    {
     "name": "stdout",
     "output_type": "stream",
     "text": [
      "a+b= 15\n",
      "a + b = 15\n",
      "s= 'Hello'\n"
     ]
    }
   ],
   "source": [
    "a,b=10,5\n",
    "s='Hello'\n",
    "\n",
    "print(f'a+b= {a+b}')  # look at the spaces in output also\n",
    "print(f'{a + b = }')\n",
    "print(f'{s= }')"
   ]
  },
  {
   "cell_type": "markdown",
   "id": "0672005d",
   "metadata": {},
   "source": [
    "## String Methods"
   ]
  },
  {
   "cell_type": "code",
   "execution_count": 32,
   "id": "028909d1",
   "metadata": {},
   "outputs": [
    {
     "name": "stdout",
     "output_type": "stream",
     "text": [
      "H E L L O   HELLO\n",
      "['welcome', 'to', 'the', 'jungle']\n",
      "original text:  welcome to the jungle\n",
      "welcometothejungle\n",
      "original text:  welcome to the jungle\n"
     ]
    }
   ],
   "source": [
    "# Remove White Space\n",
    "\n",
    "# using replace()\n",
    "s = \"H E L L O\"\n",
    "print(s,\" \",s.replace(\" \", \"\"))\n",
    "\n",
    "# Using split() and join\n",
    "txt = \"welcome to the jungle\"\n",
    "print(txt.split())\n",
    "print(\"original text: \",txt)\n",
    "\n",
    "# Now Use join() \n",
    "print(''.join(txt.split()))\n",
    "print(\"original text: \",txt)"
   ]
  },
  {
   "cell_type": "code",
   "execution_count": 46,
   "id": "a452ff67",
   "metadata": {},
   "outputs": [
    {
     "name": "stdout",
     "output_type": "stream",
     "text": [
      "hello world\n",
      "original string->    hello world   end\n",
      "hello world   \n",
      "original string->    hello world   end\n",
      "   hello world\n",
      "original string->    hello world   end"
     ]
    }
   ],
   "source": [
    "#strip()\n",
    "string = \"   hello world   \"\n",
    "print(string.strip()) #hello world\n",
    "print('original string->',string,end=\"end\")\n",
    "\n",
    "print()\n",
    "#lstrip()\n",
    "string = \"   hello world   \"\n",
    "print(string.lstrip())  # Output: \"hello world   \"\n",
    "print('original string->',string,end=\"end\")\n",
    "\n",
    "print()\n",
    "print(string.rstrip())\n",
    "print('original string->',string,end=\"end\")"
   ]
  },
  {
   "cell_type": "code",
   "execution_count": 7,
   "id": "90936b1f",
   "metadata": {},
   "outputs": [
    {
     "data": {
      "text/plain": [
       "'Hello world'"
      ]
     },
     "execution_count": 7,
     "metadata": {},
     "output_type": "execute_result"
    }
   ],
   "source": [
    "# capitalize() -> first letter as upper case \n",
    "msg=\"hello world\"\n",
    "msg.capitalize()"
   ]
  },
  {
   "cell_type": "code",
   "execution_count": 65,
   "id": "e300fa38",
   "metadata": {},
   "outputs": [
    {
     "data": {
      "text/plain": [
       "'Hello World'"
      ]
     },
     "execution_count": 65,
     "metadata": {},
     "output_type": "execute_result"
    }
   ],
   "source": [
    "#title()\n",
    "msg=\"hello world\"\n",
    "msg.title()"
   ]
  },
  {
   "cell_type": "code",
   "execution_count": 22,
   "id": "e1f14cb5",
   "metadata": {},
   "outputs": [
    {
     "name": "stdout",
     "output_type": "stream",
     "text": [
      "hello world\n",
      "HELLO WORLD hello world\n",
      "The strings are equal (case-insensitive).\n"
     ]
    }
   ],
   "source": [
    "# casefold() -> converts a string to a case-insensitive form\n",
    "msg=\"Hello World\"\n",
    "print(msg.casefold())\n",
    "\n",
    "s='HELLO WORLD'\n",
    "print(s,s.casefold())\n",
    "\n",
    "#compare two strings in a case-insensitive\n",
    "string1 = \"Hello\"\n",
    "string2 = \"hello\"\n",
    "\n",
    "if string1.casefold() == string2.casefold():\n",
    "    print(\"The strings are equal (case-insensitive).\")\n",
    "else:\n",
    "    print(\"The strings are not equal (case-insensitive).\")"
   ]
  },
  {
   "cell_type": "code",
   "execution_count": 12,
   "id": "e76a0433",
   "metadata": {},
   "outputs": [
    {
     "name": "stdout",
     "output_type": "stream",
     "text": [
      "       Hello        \n"
     ]
    },
    {
     "data": {
      "text/plain": [
       "'-------Hello--------'"
      ]
     },
     "execution_count": 12,
     "metadata": {},
     "output_type": "execute_result"
    }
   ],
   "source": [
    "# center() \n",
    "#Syntax : str.center(width, fillChar) here fillChar is optional\n",
    "msg='Hello'\n",
    "print(msg.center(20))\n",
    "msg.center(20,'-')"
   ]
  },
  {
   "cell_type": "code",
   "execution_count": 15,
   "id": "b98b3cef",
   "metadata": {},
   "outputs": [
    {
     "name": "stdout",
     "output_type": "stream",
     "text": [
      "2\n",
      "1\n",
      "1\n"
     ]
    }
   ],
   "source": [
    "# count()\n",
    "#syntax : str.count(substring, start, end) here start and stop are optional\n",
    "\n",
    "myText = 'Hello World Hello'\n",
    "print(myText.count('H'))\n",
    "\n",
    "print(myText.count('H',0,5))  #start-> 0 stop-> 5\n",
    "print(myText.count('H',7))    #start 7  "
   ]
  },
  {
   "cell_type": "code",
   "execution_count": 71,
   "id": "687008f8",
   "metadata": {},
   "outputs": [
    {
     "name": "stdout",
     "output_type": "stream",
     "text": [
      "H       e       l       l       o\n",
      "H    e    l    l    o\n"
     ]
    }
   ],
   "source": [
    "#expandtabs(tabsize(optional))->sets the tab size to the specified number of whitespaces.\n",
    "txt ='\\t'.join(\"Hello\")\n",
    "print(txt.expandtabs())  #tabsize is 8\n",
    "print(txt.expandtabs(5))"
   ]
  },
  {
   "cell_type": "code",
   "execution_count": 16,
   "id": "09491dda",
   "metadata": {},
   "outputs": [
    {
     "name": "stdout",
     "output_type": "stream",
     "text": [
      "True\n",
      "False\n",
      "True\n"
     ]
    }
   ],
   "source": [
    "# endsWith()\n",
    "#Syntax : str.endsWith(suffix, start, end)  here start and stop are optional\n",
    "\n",
    "text = \"Welcome to interview bit\"\n",
    "print(text.endswith('bit'))\n",
    "print(text.endswith('interview '))\n",
    "print(text.endswith('Welcome to interview bit'))"
   ]
  },
  {
   "cell_type": "code",
   "execution_count": 25,
   "id": "162275b6",
   "metadata": {},
   "outputs": [
    {
     "name": "stdout",
     "output_type": "stream",
     "text": [
      "Hello  14\n",
      "-1\n",
      "-1\n",
      "14\n",
      "14\n"
     ]
    }
   ],
   "source": [
    "# find() ->Returns the index of the first occurrence of a substring in a string.\n",
    "#Syntax : str.find(substr, start, end) Start & end: both are the optional\n",
    "sentence = 'Good Morning, Hello! Hello? How are you?'\n",
    "\n",
    "print(sentence.find('Hello'))\n",
    "print(sentence.find('Bye'))  #returns -1 if substring not found\n",
    "print(sentence.find('Hello',0,5))\n",
    "print(sentence.find('Hello',10))\n",
    "print(sentence.find('Hello',5,-20))"
   ]
  },
  {
   "cell_type": "code",
   "execution_count": 55,
   "id": "238cff51",
   "metadata": {},
   "outputs": [
    {
     "name": "stdout",
     "output_type": "stream",
     "text": [
      "7\n",
      "-1\n"
     ]
    }
   ],
   "source": [
    "#rfind()->find the last occurrence of a substring within a string.\n",
    "string = \"Hello World\"\n",
    "print(string.rfind(\"o\"))\n",
    "print(string.rfind(\"a\"))"
   ]
  },
  {
   "cell_type": "code",
   "execution_count": 80,
   "id": "80f4cf60",
   "metadata": {},
   "outputs": [
    {
     "name": "stdout",
     "output_type": "stream",
     "text": [
      "Hello beautiful World! good morning\n",
      "Hello customer, your bank balance is    999.46\n",
      "Hello customer, your bank balance is    999.46\n",
      "Hello John, good afternoon!\n"
     ]
    }
   ],
   "source": [
    "# format()\n",
    "\n",
    "# Positional Parameters\n",
    "S1 = 'Hello {0} World! {1}'\n",
    "print(S1.format('beautiful', 'good morning'))\n",
    " \n",
    "S2 = 'Hello {0}, your bank balance is {1:9.2f}'\n",
    "print(S2.format('customer', 999.456))\n",
    " \n",
    "# Keyword Parameters\n",
    "S3 = 'Hello {name}, good {timeofday}!'\n",
    "print(S3.format(timeofday='afternoon', name='John'))"
   ]
  },
  {
   "cell_type": "code",
   "execution_count": 2,
   "id": "ff8d3719",
   "metadata": {},
   "outputs": [
    {
     "name": "stdout",
     "output_type": "stream",
     "text": [
      "3.14\n",
      "1,000,000.00\n"
     ]
    }
   ],
   "source": [
    "num1=3.14159\n",
    "print(\"{:.2f}\".format(num1))  #for 2 it is 2.00\n",
    "\n",
    "num2=1000000\n",
    "print(\"{:,.2f}\".format(num2)) "
   ]
  },
  {
   "cell_type": "code",
   "execution_count": 4,
   "id": "719421ee",
   "metadata": {},
   "outputs": [
    {
     "name": "stdout",
     "output_type": "stream",
     "text": [
      "75.00%\n",
      "75.12%\n",
      "275.00%\n"
     ]
    }
   ],
   "source": [
    "percentage1 = 0.75\n",
    "formatted_percentage1 = \"{:.2%}\".format(percentage1)\n",
    "print(formatted_percentage1)  # Output: 75.00%\n",
    "\n",
    "percentage2 = 0.7512\n",
    "formatted_percentage2 = \"{:.2%}\".format(percentage2)\n",
    "print(formatted_percentage2)  # Output: 75.12%\n",
    "\n",
    "percentage3 = 2.75\n",
    "formatted_percentage3 = \"{:.2%}\".format(percentage3)\n",
    "print(formatted_percentage3)  # Output: 275.00%"
   ]
  },
  {
   "cell_type": "code",
   "execution_count": 11,
   "id": "5e596e4e",
   "metadata": {},
   "outputs": [
    {
     "data": {
      "text/plain": [
       "3"
      ]
     },
     "execution_count": 11,
     "metadata": {},
     "output_type": "execute_result"
    }
   ],
   "source": [
    "x=[1,2,3,4,5,5]\n",
    "x[n/2]\n",
    "6//2"
   ]
  },
  {
   "cell_type": "code",
   "execution_count": 26,
   "id": "e8bb9102",
   "metadata": {},
   "outputs": [
    {
     "name": "stdout",
     "output_type": "stream",
     "text": [
      "5\n",
      "even\n"
     ]
    }
   ],
   "source": [
    "def even(n):\n",
    "    if n%2:\n",
    "        return 'even'\n",
    "    else:\n",
    "        return 'odd'\n",
    "n=int(input())   \n",
    "print(even(n))"
   ]
  },
  {
   "cell_type": "code",
   "execution_count": 58,
   "id": "6eeff1e8",
   "metadata": {},
   "outputs": [
    {
     "name": "stdout",
     "output_type": "stream",
     "text": [
      "1\n"
     ]
    }
   ],
   "source": [
    "# from collections import Counter\n",
    "\n",
    "# def my_mode(sample):\n",
    "#     c = Counter(sample)\n",
    "#     return [k for k, v in c.items() if v == c.most_common(1)[0][1]]\n",
    "\n",
    "# my_mode([1,2,3,4,3])\n",
    "\n",
    "d={4: 1, 1: 1, 2: 1}\n",
    "print(max(d.values()))\n",
    "if max(d.values())<1:\n",
    "        print(min(i))"
   ]
  },
  {
   "cell_type": "code",
   "execution_count": 65,
   "id": "2658dda2",
   "metadata": {},
   "outputs": [
    {
     "name": "stdout",
     "output_type": "stream",
     "text": [
      "{4: 1, 1: 1, 2: 1}\n",
      "1\n"
     ]
    },
    {
     "ename": "TypeError",
     "evalue": "'int' object is not iterable",
     "output_type": "error",
     "traceback": [
      "\u001b[1;31m---------------------------------------------------------------------------\u001b[0m",
      "\u001b[1;31mTypeError\u001b[0m                                 Traceback (most recent call last)",
      "Cell \u001b[1;32mIn[65], line 17\u001b[0m\n\u001b[0;32m     14\u001b[0m         \u001b[38;5;28;01melif\u001b[39;00m d[i]\u001b[38;5;241m==\u001b[39m\u001b[38;5;28mmax\u001b[39m(d\u001b[38;5;241m.\u001b[39mvalues()):\n\u001b[0;32m     15\u001b[0m             \u001b[38;5;28;01mreturn\u001b[39;00m i\n\u001b[1;32m---> 17\u001b[0m \u001b[43mmode\u001b[49m\u001b[43m(\u001b[49m\u001b[43m[\u001b[49m\u001b[38;5;241;43m4\u001b[39;49m\u001b[43m,\u001b[49m\u001b[43m \u001b[49m\u001b[38;5;241;43m1\u001b[39;49m\u001b[43m,\u001b[49m\u001b[43m \u001b[49m\u001b[38;5;241;43m2\u001b[39;49m\u001b[43m]\u001b[49m\u001b[43m)\u001b[49m\n",
      "Cell \u001b[1;32mIn[65], line 13\u001b[0m, in \u001b[0;36mmode\u001b[1;34m(x)\u001b[0m\n\u001b[0;32m     11\u001b[0m \u001b[38;5;28;01mfor\u001b[39;00m i \u001b[38;5;129;01min\u001b[39;00m d:\n\u001b[0;32m     12\u001b[0m     \u001b[38;5;28;01mif\u001b[39;00m \u001b[38;5;28mmax\u001b[39m(d\u001b[38;5;241m.\u001b[39mvalues())\u001b[38;5;241m<\u001b[39m\u001b[38;5;241m=\u001b[39m\u001b[38;5;241m1\u001b[39m:\n\u001b[1;32m---> 13\u001b[0m         \u001b[38;5;28;01mreturn\u001b[39;00m \u001b[38;5;28;43mmin\u001b[39;49m\u001b[43m(\u001b[49m\u001b[43mi\u001b[49m\u001b[43m)\u001b[49m\n\u001b[0;32m     14\u001b[0m     \u001b[38;5;28;01melif\u001b[39;00m d[i]\u001b[38;5;241m==\u001b[39m\u001b[38;5;28mmax\u001b[39m(d\u001b[38;5;241m.\u001b[39mvalues()):\n\u001b[0;32m     15\u001b[0m         \u001b[38;5;28;01mreturn\u001b[39;00m i\n",
      "\u001b[1;31mTypeError\u001b[0m: 'int' object is not iterable"
     ]
    }
   ],
   "source": [
    "def mode(x):\n",
    "    d={}\n",
    "    for i in x:\n",
    "        if i in d.keys():\n",
    "            d[i]+=1\n",
    "        else:\n",
    "            d[i]=1\n",
    "    print(d)\n",
    "    print(max(d.values()))\n",
    "    \n",
    "    for i in d:\n",
    "        if max(d.values())<=1:\n",
    "            return min(i)\n",
    "        elif d[i]==max(d.values()):\n",
    "            return i\n",
    "        \n",
    "mode([4, 1, 2])"
   ]
  },
  {
   "cell_type": "code",
   "execution_count": 67,
   "id": "0cc9f9a5",
   "metadata": {},
   "outputs": [
    {
     "name": "stdout",
     "output_type": "stream",
     "text": [
      "1\n"
     ]
    }
   ],
   "source": [
    "def mode(x):\n",
    "    d = {}\n",
    "    for i in x:\n",
    "        if i in d:\n",
    "            d[i] += 1\n",
    "        else:\n",
    "            d[i] = 1\n",
    "    \n",
    "    max_count = max(d.values())\n",
    "    modes = [num for num, count in d.items() if count == max_count]\n",
    "    \n",
    "    if max_count < 2:\n",
    "        return min(x)\n",
    "    elif len(modes) == len(x):\n",
    "        return \"all numbers are modes\"\n",
    "    else:\n",
    "        return modes\n",
    "\n",
    "result = mode([4, 1, 2])\n",
    "print(result)"
   ]
  },
  {
   "cell_type": "code",
   "execution_count": 68,
   "id": "bf462791",
   "metadata": {},
   "outputs": [
    {
     "name": "stdout",
     "output_type": "stream",
     "text": [
      "4\n",
      "1\n",
      "2\n",
      "3\n",
      "4\n",
      "2.5\n",
      "2.5\n",
      "1\n"
     ]
    }
   ],
   "source": [
    "n = int(input())\n",
    "x = []\n",
    "for i in range(n):\n",
    "    s = int(input())\n",
    "    x.append(s)\n",
    "m = sum(x)\n",
    "print(\"{:.1f}\".format(m / float(n)))\n",
    "\n",
    "def med(x, n):\n",
    "    x = sorted(x)\n",
    "    if n % 2 == 0:\n",
    "        return (x[n // 2 - 1] + x[n // 2]) / 2\n",
    "    else:\n",
    "        return x[n // 2]\n",
    "\n",
    "print(med(x, n))\n",
    "\n",
    "def mode(x):\n",
    "    d = {}\n",
    "    for i in x:\n",
    "        if i in d:\n",
    "            d[i] += 1\n",
    "        else:\n",
    "            d[i] = 1\n",
    "    \n",
    "    max_count = max(d.values())\n",
    "    modes = [num for num, count in d.items() if count == max_count]\n",
    "    \n",
    "    if max_count < 2:\n",
    "        return min(x)\n",
    "    elif len(modes) == len(x):\n",
    "        return \"all numbers are modes\"\n",
    "    else:\n",
    "        return modes\n",
    "\n",
    "result = mode(x)\n",
    "print(result)"
   ]
  },
  {
   "cell_type": "code",
   "execution_count": 13,
   "id": "3f81c06d",
   "metadata": {},
   "outputs": [
    {
     "name": "stdout",
     "output_type": "stream",
     "text": [
      "is amazing -> 8\n",
      "i\n",
      "amazing after 20 -> 33\n",
      "ios between 20 and -8 -> 26\n",
      "amazing  between 20 and len of string -> 33\n"
     ]
    },
    {
     "ename": "ValueError",
     "evalue": "substring not found",
     "output_type": "error",
     "traceback": [
      "\u001b[1;31m---------------------------------------------------------------------------\u001b[0m",
      "\u001b[1;31mValueError\u001b[0m                                Traceback (most recent call last)",
      "Cell \u001b[1;32mIn[13], line 18\u001b[0m\n\u001b[0;32m     15\u001b[0m \u001b[38;5;28mprint\u001b[39m(\u001b[38;5;124m'\u001b[39m\u001b[38;5;124mamazing  between 20 and len of string ->\u001b[39m\u001b[38;5;124m'\u001b[39m, sentence\u001b[38;5;241m.\u001b[39mindex(\u001b[38;5;124m'\u001b[39m\u001b[38;5;124mamazing\u001b[39m\u001b[38;5;124m'\u001b[39m, \u001b[38;5;241m20\u001b[39m, \u001b[38;5;28mlen\u001b[39m(sentence)))\n\u001b[0;32m     17\u001b[0m \u001b[38;5;66;03m# 5 When substring not found, will return error\u001b[39;00m\n\u001b[1;32m---> 18\u001b[0m \u001b[38;5;28mprint\u001b[39m(\u001b[43msentence\u001b[49m\u001b[38;5;241;43m.\u001b[39;49m\u001b[43mindex\u001b[49m\u001b[43m(\u001b[49m\u001b[38;5;124;43m'\u001b[39;49m\u001b[38;5;124;43mandroid\u001b[39;49m\u001b[38;5;124;43m'\u001b[39;49m\u001b[43m,\u001b[49m\u001b[43m \u001b[49m\u001b[38;5;241;43m20\u001b[39;49m\u001b[43m,\u001b[49m\u001b[43m \u001b[49m\u001b[38;5;28;43mlen\u001b[39;49m\u001b[43m(\u001b[49m\u001b[43msentence\u001b[49m\u001b[43m)\u001b[49m\u001b[43m)\u001b[49m)\n",
      "\u001b[1;31mValueError\u001b[0m: substring not found"
     ]
    }
   ],
   "source": [
    "# index()\n",
    "# Syntax : str.index(substr, start, end)\n",
    "\n",
    "sentence = 'android is amazing, apple ios is amazing'\n",
    "print('is amazing ->', sentence.index('is amazing'))\n",
    "print(sentence[sentence.index('is amazing')])\n",
    "\n",
    "# 2 Substring is searched in 'apple ios is amazing'\n",
    "print('amazing after 20 ->', sentence.index('amazing', 20))\n",
    "\n",
    "# 3 Substring is searched in 'apple ios is'\n",
    "print('ios between 20 and -8 ->', sentence.index('ios', 20, -8))\n",
    "\n",
    "# 4 Substring is searched in 'apple ios is amazing'\n",
    "print('amazing  between 20 and len of string ->', sentence.index('amazing', 20, len(sentence)))\n",
    "\n",
    "# 5 When substring not found, will return error\n",
    "print(sentence.index('android', 20, len(sentence)))"
   ]
  },
  {
   "cell_type": "code",
   "execution_count": 35,
   "id": "5eac5cea",
   "metadata": {},
   "outputs": [
    {
     "data": {
      "text/plain": [
       "False"
      ]
     },
     "execution_count": 35,
     "metadata": {},
     "output_type": "execute_result"
    }
   ],
   "source": [
    "# isalnum() -> true if all characters in a string are alphanumeric\n",
    "word1 = \"onetwothree123\"\n",
    "word1.isalnum()  #True\n",
    "\n",
    "word2 = \"one two three 1 2 3\"\n",
    "word2.isalnum()  #False"
   ]
  },
  {
   "cell_type": "code",
   "execution_count": 47,
   "id": "d970f8ca",
   "metadata": {},
   "outputs": [
    {
     "data": {
      "text/plain": [
       "True"
      ]
     },
     "execution_count": 47,
     "metadata": {},
     "output_type": "execute_result"
    }
   ],
   "source": [
    "#istitle() ->checks if a string is in titlecase(first character of each word is capitalized and the rest are lowercase)\n",
    "string = \"Hello World\"\n",
    "string.istitle()"
   ]
  },
  {
   "cell_type": "code",
   "execution_count": 49,
   "id": "922b5a00",
   "metadata": {},
   "outputs": [
    {
     "name": "stdout",
     "output_type": "stream",
     "text": [
      "False\n"
     ]
    },
    {
     "data": {
      "text/plain": [
       "True"
      ]
     },
     "execution_count": 49,
     "metadata": {},
     "output_type": "execute_result"
    }
   ],
   "source": [
    "#isspace()->Return True if there are only whitespace characters \n",
    "print(string.isspace())\n",
    "s=' '\n",
    "s.isspace()"
   ]
  },
  {
   "cell_type": "code",
   "execution_count": 50,
   "id": "b5ed8ad0",
   "metadata": {},
   "outputs": [
    {
     "name": "stdout",
     "output_type": "stream",
     "text": [
      "World!\n",
      "Hello, World!\n"
     ]
    }
   ],
   "source": [
    "#removeprefix()\n",
    "string = \"Hello, World!\"\n",
    "result = string.removeprefix(\"Hello, \")\n",
    "print(result)  # Output: \"World!\"\n",
    "\n",
    "result = string.removeprefix(\"Hi, \")\n",
    "print(result)  # Output: \"Hello, World!\""
   ]
  },
  {
   "cell_type": "code",
   "execution_count": 52,
   "id": "8d9ca733",
   "metadata": {},
   "outputs": [
    {
     "name": "stdout",
     "output_type": "stream",
     "text": [
      "Hello, \n",
      "Hello, World!\n"
     ]
    }
   ],
   "source": [
    "#removesuffix()\n",
    "print(string.removesuffix('World!'))\n",
    "print(string.removesuffix('World')) "
   ]
  },
  {
   "cell_type": "code",
   "execution_count": 40,
   "id": "11cf1251",
   "metadata": {},
   "outputs": [
    {
     "name": "stdout",
     "output_type": "stream",
     "text": [
      "yesterday then today then tomorrow\n",
      "\n",
      "yesterday\n",
      "today\n",
      "tomorrow\n"
     ]
    }
   ],
   "source": [
    "# join()  ->Returns a string by joining all the elements of an iterable collection.\n",
    "#Syntax : str.join(collection)  #collections include: List, Tuple, Set & Dictionary.\n",
    "\n",
    "\n",
    "l=['yesterday','today','tomorrow']\n",
    "print(' then '.join(l) + '\\n')\n",
    "print('\\n'.join(l))"
   ]
  },
  {
   "cell_type": "code",
   "execution_count": 15,
   "id": "61987c96",
   "metadata": {},
   "outputs": [
    {
     "name": "stdout",
     "output_type": "stream",
     "text": [
      "123#######\n",
      "#######123\n"
     ]
    }
   ],
   "source": [
    "# ljust() ->left justified string\n",
    "#Syntax : str.ljust(width, fillchar)\n",
    "\n",
    "S = '123'\n",
    "print(S.ljust(10,'#'))\n",
    "print(S.rjust(10,'#'))"
   ]
  },
  {
   "cell_type": "code",
   "execution_count": 51,
   "id": "29b0fa03",
   "metadata": {},
   "outputs": [
    {
     "name": "stdout",
     "output_type": "stream",
     "text": [
      "('How are ', 'you', '? How have you been?')\n",
      "('', 'How', ' are you? How have you been?')\n",
      "('How are you? How have you been?', '', '')\n"
     ]
    }
   ],
   "source": [
    "# partition()\n",
    "# Syntax : str.partition(separator)\n",
    "\n",
    "S = 'How are you? How have you been?'\n",
    "print(S.partition('you'))\n",
    "print(S.partition('How'))\n",
    "print(S.partition('xyz'))"
   ]
  },
  {
   "cell_type": "code",
   "execution_count": 53,
   "id": "27960562",
   "metadata": {},
   "outputs": [
    {
     "name": "stdout",
     "output_type": "stream",
     "text": [
      "hELLO wORLD\n",
      "Hello World\n"
     ]
    },
    {
     "data": {
      "text/plain": [
       "'H@LLO w0RLD'"
      ]
     },
     "execution_count": 53,
     "metadata": {},
     "output_type": "execute_result"
    }
   ],
   "source": [
    "# swapcase()\n",
    "s='Hello World'\n",
    "print(s.swapcase())\n",
    "\n",
    "s1='hELLO wORLD'\n",
    "print(s1.swapcase())\n",
    "\n",
    "s2='h@llo W0rld'\n",
    "s2.swapcase()"
   ]
  },
  {
   "cell_type": "code",
   "execution_count": 59,
   "id": "6c6046ad",
   "metadata": {},
   "outputs": [
    {
     "name": "stdout",
     "output_type": "stream",
     "text": [
      "{104: 122, 114: 97, 97: 98, 101: 99}\n",
      "iez, iow bre zou?\n",
      "Hy, How Ar you?\n"
     ]
    }
   ],
   "source": [
    "#translate() Returns a string by replacing each character with its corresponding character provided in the mapping table\n",
    "# Syntax : str.translate(mappingTable)\n",
    "\n",
    "S = \"hey, how are you?\"\n",
    "print(S.maketrans('hrae', 'zabc')) # replacing 'h' with 'z', 'r' with 'a'\n",
    "print(S.translate(S.maketrans('hay', 'ibz')))\n",
    "\n",
    "#replacing 'a' with 'A', 'h' with 'H', 'e' with ''\n",
    "translation = { 97: 65, 104: 72, 101: None}\n",
    "print(S.translate(translation))"
   ]
  },
  {
   "cell_type": "code",
   "execution_count": 64,
   "id": "adc0587c",
   "metadata": {},
   "outputs": [
    {
     "name": "stdout",
     "output_type": "stream",
     "text": [
      "00042 length:  5\n",
      "-00005.2 length:  8\n",
      "123456 length:  6\n"
     ]
    }
   ],
   "source": [
    "#zfill()->pad a string with zeros (0) on the left side\n",
    "n='42'\n",
    "print(n.zfill(5),'length: ',len(n.zfill(5)))\n",
    "\n",
    "n='-5.2'\n",
    "print(n.zfill(8),'length: ',len(n.zfill(8)))\n",
    "\n",
    "n='123456'\n",
    "print(n.zfill(5),'length: ',len(n.zfill(5)))"
   ]
  },
  {
   "cell_type": "code",
   "execution_count": 1,
   "id": "67ded9c2",
   "metadata": {},
   "outputs": [
    {
     "name": "stdout",
     "output_type": "stream",
     "text": [
      "Gonzaga    ==>         31\n",
      "Baylor     ==>         28\n",
      "Michigan   ==>         25\n",
      "Illinois   ==>         24\n",
      "Houston    ==>         21\n"
     ]
    }
   ],
   "source": [
    "rankings = {\"Gonzaga\": 31, \"Baylor\": 28, \"Michigan\": 25, \"Illinois\": 24, \"Houston\": 21}\n",
    "for team, score in rankings.items():\n",
    "    print(f\"{team:10} ==> {score:10d}\") #: for  {team:10} and {score:10d} tells the computer to create a field that is 10 characters wide"
   ]
  },
  {
   "cell_type": "markdown",
   "id": "ba7201c7",
   "metadata": {},
   "source": [
    "### String Formatting / String Interpolation"
   ]
  },
  {
   "cell_type": "markdown",
   "id": "7038ff82",
   "metadata": {},
   "source": [
    "We formatting the strings in the following ways:\n",
    "* Formatting with Format Specifiers\n",
    "* Formatting using f-strings\n",
    "* Formatting using format() string method"
   ]
  },
  {
   "cell_type": "code",
   "execution_count": 1,
   "id": "36532560",
   "metadata": {},
   "outputs": [
    {
     "name": "stdout",
     "output_type": "stream",
     "text": [
      "Hello coders welcome to Python\n"
     ]
    }
   ],
   "source": [
    "#Format specfiers\n",
    "\n",
    "#for String -> '%s'\n",
    "st='Hello'\n",
    "lan='Python'\n",
    "print(\"%s coders welcome to %s\" %(st,lan))"
   ]
  },
  {
   "cell_type": "code",
   "execution_count": 5,
   "id": "0ac51de2",
   "metadata": {},
   "outputs": [
    {
     "name": "stdout",
     "output_type": "stream",
     "text": [
      "s\n"
     ]
    }
   ],
   "source": [
    "#for Single Character -> '%c'\n",
    "sc='s'\n",
    "print('%c' % sc)"
   ]
  },
  {
   "cell_type": "code",
   "execution_count": 3,
   "id": "3a57f392",
   "metadata": {},
   "outputs": [
    {
     "name": "stdout",
     "output_type": "stream",
     "text": [
      "3.141500\n",
      "3.142\n"
     ]
    }
   ],
   "source": [
    "#for Floating Point Decimal -> '%f'\n",
    "number = 3.1415\n",
    "print(\"%f\" % number)\n",
    "print(\"%.3f\" % number)"
   ]
  },
  {
   "cell_type": "code",
   "execution_count": 2,
   "id": "208440e1",
   "metadata": {},
   "outputs": [
    {
     "name": "stdout",
     "output_type": "stream",
     "text": [
      "10.00\n"
     ]
    }
   ],
   "source": [
    "number = 10\n",
    "result = \"{:.2f}\".format(number)\n",
    "print(result)  # Output: \"10.00\" (number is treated as a float and zero-padded with two decimal places)"
   ]
  },
  {
   "cell_type": "code",
   "execution_count": 2,
   "id": "0563946e",
   "metadata": {},
   "outputs": [
    {
     "name": "stdout",
     "output_type": "stream",
     "text": [
      "My code is 123\n"
     ]
    }
   ],
   "source": [
    "#for Signed Integer Decimal -> '%d'\n",
    "myCode=123\n",
    "print(\"My code is %d\" % myCode)"
   ]
  },
  {
   "cell_type": "code",
   "execution_count": 8,
   "id": "919a2771",
   "metadata": {},
   "outputs": [
    {
     "name": "stdout",
     "output_type": "stream",
     "text": [
      "Number is: -1234\n"
     ]
    }
   ],
   "source": [
    "#for single \n",
    "myNum = -1234\n",
    "print(\"Number is: {}\".format(myNum))"
   ]
  },
  {
   "cell_type": "code",
   "execution_count": 6,
   "id": "6a9a9584",
   "metadata": {},
   "outputs": [
    {
     "name": "stdout",
     "output_type": "stream",
     "text": [
      "Variable is 1234 and Code of Scaler is 1117\n"
     ]
    }
   ],
   "source": [
    "myCode = 1117\n",
    "myName = \"Scaler\"\n",
    "myVar = 1234\n",
    "myStr = \"Variable is {2} and Code of {0} is {1}\".format(myName, myCode, myVar)\n",
    "print(myStr)"
   ]
  },
  {
   "cell_type": "code",
   "execution_count": 7,
   "id": "f3d7cbf3",
   "metadata": {},
   "outputs": [
    {
     "name": "stdout",
     "output_type": "stream",
     "text": [
      "Variable is 1234 and Code of Scaler is 1117\n"
     ]
    }
   ],
   "source": [
    "myCode = 1117\n",
    "myName = \"Scaler\"\n",
    "myVar = 1234\n",
    "myStr = \"Variable is {2} and Code of {0} is {1}\".format(myName, myCode, myVar)\n",
    "print(myStr)"
   ]
  },
  {
   "cell_type": "code",
   "execution_count": 10,
   "id": "d2a00355",
   "metadata": {},
   "outputs": [
    {
     "name": "stdout",
     "output_type": "stream",
     "text": [
      "Left Aligned Number with length 10 is: -1234     .\n",
      "Right Aligned Number with length 10 is:      -1234.\n",
      "Center Aligned Number with length 10 is:   -1234   .\n"
     ]
    }
   ],
   "source": [
    "#align with format()\n",
    "myNum = -1234\n",
    "print(\"Left Aligned Number with length 10 is: {:<10}.\".format(myNum))\n",
    "print(\"Right Aligned Number with length 10 is: {:>10}.\".format(myNum))\n",
    "print(\"Center Aligned Number with length 10 is: {:^10}.\".format(myNum))"
   ]
  },
  {
   "cell_type": "code",
   "execution_count": 11,
   "id": "a0f699e7",
   "metadata": {},
   "outputs": [
    {
     "name": "stdout",
     "output_type": "stream",
     "text": [
      "Truncated String with length 3 is: Sca\n"
     ]
    }
   ],
   "source": [
    "#Truncating strings\n",
    "myString = \"Scaler\"\n",
    "print(\"Truncated String with length 3 is: {:.3}\".format(myString))"
   ]
  },
  {
   "cell_type": "code",
   "execution_count": 3,
   "id": "3f00850e",
   "metadata": {},
   "outputs": [
    {
     "data": {
      "text/plain": [
       "'Welcome Durga. Your age is 23'"
      ]
     },
     "execution_count": 3,
     "metadata": {},
     "output_type": "execute_result"
    }
   ],
   "source": [
    "def welcome(name1,age1):\n",
    "    return \"Welcome {name}. Your age is {age}\".format(name=name1,age=age1)\n",
    "\n",
    "welcome('Durga',23)"
   ]
  },
  {
   "cell_type": "code",
   "execution_count": 12,
   "id": "a24fd713",
   "metadata": {
    "scrolled": true
   },
   "outputs": [
    {
     "name": "stdout",
     "output_type": "stream",
     "text": [
      "M\\F\n",
      "doesn't\n",
      "I'm an \"Indian\"\n",
      "Hii\b\n",
      "hi\f",
      "\n",
      "C:\\some\n",
      "ame\n",
      "C:\\some\r",
      "ename\n",
      "Hello \tworld\n"
     ]
    }
   ],
   "source": [
    "#Escape characters\n",
    "\n",
    "# \\\\ ->store one \\  \n",
    "print(\"M\\\\F\")  #here \\f is a escape sequence that's why we used \\\\\n",
    "\n",
    "# \\' -> stores '\n",
    "print(\"doesn\\'t\")\n",
    "\n",
    "# \\\" -> stores \"\n",
    "print(\"I\\'m an \\\"Indian\\\"\")\n",
    "\n",
    "# \\b -> Backspace\n",
    "print(\"Hii\\b\")\n",
    "\n",
    "# \\f -> Formfeed\n",
    "print(\"hi\\f\")\n",
    "\n",
    "# \\n -> Newline(linefeed)\n",
    "print('C:\\some\\name')\n",
    "\n",
    "# \\r -> Carriage return\n",
    "print('C:\\some\\rename')\n",
    "\n",
    "# \\t -> Horizontal tab\n",
    "print(\"Hello \\tworld\")"
   ]
  },
  {
   "cell_type": "code",
   "execution_count": 4,
   "id": "9fb2ce9e",
   "metadata": {},
   "outputs": [
    {
     "name": "stdout",
     "output_type": "stream",
     "text": [
      "The boy replies \"My name is DP.\" \n"
     ]
    }
   ],
   "source": [
    "print(\"The boy replies \\\"My name is DP.\\\" \")"
   ]
  },
  {
   "cell_type": "code",
   "execution_count": 7,
   "id": "13293e42",
   "metadata": {},
   "outputs": [
    {
     "name": "stdout",
     "output_type": "stream",
     "text": [
      "today is Aug 15. \n",
      "India beccame independent on this day\n"
     ]
    }
   ],
   "source": [
    "print(\"today is Aug 15. \\nIndia beccame independent on this day\")"
   ]
  },
  {
   "cell_type": "code",
   "execution_count": 8,
   "id": "9c0521a6",
   "metadata": {},
   "outputs": [
    {
     "name": "stdout",
     "output_type": "stream",
     "text": [
      "Hello all \t Welcome to Python\n"
     ]
    }
   ],
   "source": [
    "print('Hello all \\t Welcome to Python')"
   ]
  },
  {
   "cell_type": "code",
   "execution_count": 9,
   "id": "3f20eb0d",
   "metadata": {},
   "outputs": [
    {
     "name": "stdout",
     "output_type": "stream",
     "text": [
      "I have studied many programming languages. But my favourite is python\n"
     ]
    }
   ],
   "source": [
    "print('I have studied many programming languages. \\\n",
    "But my favourite is python')"
   ]
  },
  {
   "cell_type": "markdown",
   "id": "db958f79",
   "metadata": {},
   "source": [
    "### String operations on data "
   ]
  },
  {
   "cell_type": "code",
   "execution_count": 4,
   "id": "af5fd4dd",
   "metadata": {},
   "outputs": [
    {
     "data": {
      "text/plain": [
       "'a, ab, abc, abcd, abcde'"
      ]
     },
     "execution_count": 4,
     "metadata": {},
     "output_type": "execute_result"
    }
   ],
   "source": [
    "s='a, ab, abc, abcd, abcde'\n",
    "s"
   ]
  },
  {
   "cell_type": "code",
   "execution_count": 9,
   "id": "ac57b936",
   "metadata": {},
   "outputs": [
    {
     "data": {
      "text/plain": [
       "['a', ' ab', ' abc', ' abcd', ' abcde']"
      ]
     },
     "execution_count": 9,
     "metadata": {},
     "output_type": "execute_result"
    }
   ],
   "source": [
    "s.split(',')"
   ]
  },
  {
   "cell_type": "code",
   "execution_count": 10,
   "id": "d2a81004",
   "metadata": {},
   "outputs": [
    {
     "data": {
      "text/plain": [
       "['a', 'ab', 'abc', 'abcd', 'abcde']"
      ]
     },
     "execution_count": 10,
     "metadata": {},
     "output_type": "execute_result"
    }
   ],
   "source": [
    "terms=[x.strip() for x in s.split(',')]  # Split and Remove whitespace \n",
    "terms"
   ]
  },
  {
   "cell_type": "code",
   "execution_count": 11,
   "id": "eaed65e8",
   "metadata": {},
   "outputs": [
    {
     "data": {
      "text/plain": [
       "('a', 'ab', 'abc', 'abcd', 'abcde')"
      ]
     },
     "execution_count": 11,
     "metadata": {},
     "output_type": "execute_result"
    }
   ],
   "source": [
    "# Concatenating string with delimeters\n",
    "first,second,third,fourth,fifth=terms\n",
    "first,second,third,fourth,fifth"
   ]
  },
  {
   "cell_type": "code",
   "execution_count": 12,
   "id": "59ec5bdb",
   "metadata": {},
   "outputs": [
    {
     "data": {
      "text/plain": [
       "'a::ab::abc::abcd::abcde'"
      ]
     },
     "execution_count": 12,
     "metadata": {},
     "output_type": "execute_result"
    }
   ],
   "source": [
    "first+'::'+second+'::'+third+'::'+fourth+'::'+fifth"
   ]
  },
  {
   "cell_type": "code",
   "execution_count": 13,
   "id": "da2a8f2b",
   "metadata": {},
   "outputs": [
    {
     "data": {
      "text/plain": [
       "'a::ab::abc::abcd::abcde'"
      ]
     },
     "execution_count": 13,
     "metadata": {},
     "output_type": "execute_result"
    }
   ],
   "source": [
    "# Using join method\n",
    "'::'.join(terms)"
   ]
  },
  {
   "cell_type": "code",
   "execution_count": 14,
   "id": "fb7492a5",
   "metadata": {},
   "outputs": [],
   "source": [
    "import re"
   ]
  },
  {
   "cell_type": "code",
   "execution_count": 20,
   "id": "51c40567",
   "metadata": {},
   "outputs": [
    {
     "data": {
      "text/plain": [
       "'Om namah\\t shivaya \\tchant 5 times'"
      ]
     },
     "execution_count": 20,
     "metadata": {},
     "output_type": "execute_result"
    }
   ],
   "source": [
    "# splitting string have different whitespaces (tabs,spaces, newline)\n",
    "text=\"Om namah\\t shivaya \\tchant 5 times\"\n",
    "text"
   ]
  },
  {
   "cell_type": "code",
   "execution_count": 21,
   "id": "14142bef",
   "metadata": {},
   "outputs": [
    {
     "data": {
      "text/plain": [
       "['Om', 'namah', 'shivaya', 'chant', '5', 'times']"
      ]
     },
     "execution_count": 21,
     "metadata": {},
     "output_type": "execute_result"
    }
   ],
   "source": [
    "# 1. '\\s+'\n",
    "re.split('\\s+',text)"
   ]
  },
  {
   "cell_type": "markdown",
   "id": "b6d0ce78",
   "metadata": {},
   "source": [
    "### Regular Expressions\n",
    "It is a powerful tool for various kinds of string manipulation. These are basically a special text string that is used for describing a search pattern to extract information from text such as code, file or even documents."
   ]
  },
  {
   "cell_type": "code",
   "execution_count": 1,
   "id": "e71a92fa",
   "metadata": {},
   "outputs": [],
   "source": [
    "import re"
   ]
  },
  {
   "cell_type": "markdown",
   "id": "13fa32d4",
   "metadata": {},
   "source": [
    "#### match()\n",
    "re.match(pattern,string,flags=0)\n",
    "\n",
    "to match the patterns with a string"
   ]
  },
  {
   "cell_type": "code",
   "execution_count": 4,
   "id": "9a2b22af",
   "metadata": {},
   "outputs": [
    {
     "name": "stdout",
     "output_type": "stream",
     "text": [
      "Not found\n",
      "match found\n"
     ]
    }
   ],
   "source": [
    "s1=\"she sells sea shells on the sea shore\"\n",
    "if re.match('sells',s1):\n",
    "    print(\"match found\")\n",
    "else:\n",
    "    print(\"Not found\")   # 'sells' not present at beginning\n",
    "    \n",
    "if re.match('she',s1):\n",
    "    print(\"match found\")\n",
    "else:\n",
    "    print(\"Not found\")"
   ]
  },
  {
   "cell_type": "markdown",
   "id": "50ffb976",
   "metadata": {},
   "source": [
    "#### search()\n",
    "re.search(pattern,string,flags=0)\n",
    "\n",
    "#search for a patterns anywhere in the string"
   ]
  },
  {
   "cell_type": "code",
   "execution_count": 5,
   "id": "2d863df3",
   "metadata": {},
   "outputs": [
    {
     "name": "stdout",
     "output_type": "stream",
     "text": [
      "match found\n",
      "match found\n"
     ]
    }
   ],
   "source": [
    "s1=\"she sells sea shells on the sea shore\"\n",
    "if re.search('sells',s1):\n",
    "    print(\"match found\")\n",
    "else:\n",
    "    print(\"Not found\")   \n",
    "    \n",
    "if re.search('she',s1):\n",
    "    print(\"match found\")\n",
    "else:\n",
    "    print(\"Not found\")"
   ]
  },
  {
   "cell_type": "markdown",
   "id": "3b4ab10b",
   "metadata": {},
   "source": [
    "#### sub()\n",
    "sub(pattern,repl,string,max=0)\n",
    "\n",
    "replaces all occurences of the pattern in string with repl"
   ]
  },
  {
   "cell_type": "code",
   "execution_count": 11,
   "id": "096ef00c",
   "metadata": {},
   "outputs": [
    {
     "name": "stdout",
     "output_type": "stream",
     "text": [
      "she sells beach shells on the sea shore\n",
      "she sells sea shells on the sea shore\n"
     ]
    }
   ],
   "source": [
    "s1=\"she sells sea shells on the sea shore\"\n",
    "s2=re.sub('sea','beach',s1,1) #only one occurence will replace since 1 is our max\n",
    "print(s2)\n",
    "\n",
    "s3= re.sub('sea','sea',s1) #all ocuurences will replace\n",
    "print(s3)"
   ]
  },
  {
   "cell_type": "markdown",
   "id": "b13121dd",
   "metadata": {},
   "source": [
    "#### findall()\n",
    "re.findall(pattern,input_str,flags=0)\n",
    "\n",
    "to search a string and returns a list of all substrings that match a pattern"
   ]
  },
  {
   "cell_type": "code",
   "execution_count": 18,
   "id": "5c3573b5",
   "metadata": {},
   "outputs": [
    {
     "name": "stdout",
     "output_type": "stream",
     "text": [
      "['K', 'G', 'F', 'R', 'R', 'R', 'B', 'a', 'h', 'u', 'b', 'a', 'l', 'i', 'P', 'u', 's', 'h', 'p', 'a']\n",
      "K,G,F,R,R,R,B,a,h,u,b,a,l,i,P,u,s,h,p,a,"
     ]
    }
   ],
   "source": [
    "pattern=r\"[a-zA-Z]\"  #pattern with 1 or more characters\n",
    "matches=re.findall(pattern,\"KGF 2020, RRR 2022, Bahubali 2016, Pushpa 2021\")\n",
    "print(matches)\n",
    "\n",
    "for match in matches:\n",
    "    print(match,end=\",\")"
   ]
  },
  {
   "cell_type": "code",
   "execution_count": null,
   "id": "e2263d87",
   "metadata": {},
   "outputs": [],
   "source": []
  }
 ],
 "metadata": {
  "kernelspec": {
   "display_name": "Python 3 (ipykernel)",
   "language": "python",
   "name": "python3"
  },
  "language_info": {
   "codemirror_mode": {
    "name": "ipython",
    "version": 3
   },
   "file_extension": ".py",
   "mimetype": "text/x-python",
   "name": "python",
   "nbconvert_exporter": "python",
   "pygments_lexer": "ipython3",
   "version": "3.10.9"
  }
 },
 "nbformat": 4,
 "nbformat_minor": 5
}
