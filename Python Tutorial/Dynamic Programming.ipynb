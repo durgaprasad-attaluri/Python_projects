{
 "cells": [
  {
   "cell_type": "markdown",
   "id": "7d376ddd",
   "metadata": {},
   "source": [
    "[1](https://www.youtube.com/watch?v=AgQUx1kGvDA)\n",
    "\n",
    "[Babber](https://www.youtube.com/watch?v=PGsgv6nXhLw&list=PLDzeHZWIZsTomOPnCiU3J95WufjE36wsb)\n",
    "\n",
    "[Aditya](https://www.youtube.com/watch?v=nqowUJzG-iM&list=PL_z_8CaSLPWekqhdCPmFohncHwz8TY2Go)\n",
    "\n",
    "[Dynamic Programming and Hashing](https://www.youtube.com/watch?v=sNV074Dw_ec)\n",
    "\n",
    "[tuf](https://www.youtube.com/watch?v=tyB0ztf0DNY&list=PLgUwDviBIf0qUlt5H_kiKYaNSqJ81PMMY&index=2)\n",
    "\n",
    "https://www.youtube.com/watch?v=Hdr64lKQ3e4"
   ]
  },
  {
   "cell_type": "markdown",
   "id": "b824479f",
   "metadata": {},
   "source": [
    "### Dynamic Programming\n",
    "DP is a method for solving problems by breaking them down into a collection of simpler subproblems, solving each of those subproblems just once, and storing their solutions. The next time the same subproblem occurs, instead of recomputing its solution, we simply look up the previously computed solution.\n",
    "\n",
    "### How to recognize a Dynamic Programming problem?\n",
    "whether our problem solution can be expressed as a function of solutions to similar smaller problems.\n",
    "\n",
    "### Characteristics of Dynamic Programming \n",
    "1. Overlapping Subproblems\n",
    "2. Optimal Substructure\n",
    "\n",
    "#### 1. Overlapping Subproblems\n",
    "It can be broken down into smaller parts called subproblems, which need to be solved again and again. This means that the same subproblem is needed again and again to generate the final solution.\n",
    "\n",
    "For example, in the Fibonacci Sequence problem, we have\n",
    "\n",
    "- F(n) = F(n-1) + F(n-2)\n",
    "- F(n-1) = F(n-2) + F(n-3)\n",
    "- F(n-2) = F(n-3) + F(n-4)\n",
    "- F(n-3) = F(n-4) + F(n-5)\n",
    "\n",
    "From this, it is clear that the subproblems F(n-2), F(n-3), and F(n-4) are used again and again to find the final solution.\n",
    "\n",
    "#### 2. Optimal Substructure\n",
    "It means that to find an optimal solution for the problem, the optimal solutions of its smaller subproblems are needed.So, by combining the optimal solutions of subproblems, we can obtain a solution efficiently.\n",
    "\n",
    "This property is used by the Dynamic Programming algorithm to ensure a correct solution to the given problem.\n",
    "\n",
    "The nth term of the Fibonacci Sequence is given by :\n",
    "\n",
    "F(n) = F(n-1) + F(n-2)\n",
    "\n",
    "So, to find the nth term , we need to find the correct solution for the (n-1)th and the (n-2)th term, which are smaller subproblems of the complete problem. And again to find the (n-1)th term and the (n-2)th term, we need to find the solution to even smaller subproblems."
   ]
  },
  {
   "cell_type": "markdown",
   "id": "484469f5",
   "metadata": {},
   "source": [
    "### Approach to solving DP problems\n",
    "- Using memoization\n",
    "- Using tabular method"
   ]
  },
  {
   "cell_type": "code",
   "execution_count": 1,
   "id": "e05c2ad4",
   "metadata": {},
   "outputs": [],
   "source": [
    "import time\n",
    "import timeit"
   ]
  },
  {
   "cell_type": "code",
   "execution_count": 2,
   "id": "0d18a1e3",
   "metadata": {},
   "outputs": [
    {
     "name": "stdout",
     "output_type": "stream",
     "text": [
      "7\n",
      "13\n",
      "2.751891851425171\n",
      "4.8 µs ± 96.8 ns per loop (mean ± std. dev. of 7 runs, 100,000 loops each)\n"
     ]
    }
   ],
   "source": [
    "def fib(n):\n",
    "    if n<=1:\n",
    "        return n\n",
    "    else:\n",
    "        return fib(n-1)+fib(n-2)\n",
    "        \n",
    "start = time.time()\n",
    "n=int(input())\n",
    "print(fib(n))\n",
    "end = time.time()\n",
    "print(end - start)\n",
    "\n",
    "%timeit fib(n)"
   ]
  },
  {
   "cell_type": "code",
   "execution_count": 4,
   "id": "cdd4f59b",
   "metadata": {},
   "outputs": [
    {
     "name": "stdout",
     "output_type": "stream",
     "text": [
      "7\n",
      "13\n",
      "5.632089138031006\n"
     ]
    }
   ],
   "source": [
    "def fib(n,dp):\n",
    "    if n==0:\n",
    "        return 0\n",
    "    elif n==1:\n",
    "        return 1\n",
    "    elif dp[n]!=-1:\n",
    "        return dp[n]\n",
    "    else:\n",
    "        dp[n]=fib(n-1,dp)+fib(n-2,dp)\n",
    "        return dp[n]\n",
    "\n",
    "start = time.time()\n",
    "n=int(input())\n",
    "dp=[-1]*(n+1)\n",
    "print(fib(n,dp))\n",
    "end = time.time()\n",
    "print(end - start)"
   ]
  },
  {
   "cell_type": "code",
   "execution_count": 5,
   "id": "5b70b3fe",
   "metadata": {},
   "outputs": [
    {
     "name": "stdout",
     "output_type": "stream",
     "text": [
      "5\n",
      "120\n",
      "1.7692110538482666\n"
     ]
    }
   ],
   "source": [
    "def fact(n,dp):\n",
    "    if n==1:\n",
    "        return 1\n",
    "    elif dp[n]!=-1:\n",
    "        return dp[n]\n",
    "    else:\n",
    "        dp[n]=n*fact(n-1,dp)\n",
    "        return dp[n]\n",
    " \n",
    "start = time.time()\n",
    "n=int(input())\n",
    "dp=[-1]*(n+1)\n",
    "print(fact(n,dp))\n",
    "end = time.time()\n",
    "print(end - start)"
   ]
  },
  {
   "cell_type": "markdown",
   "id": "bd930095",
   "metadata": {},
   "source": [
    "### memoization"
   ]
  },
  {
   "cell_type": "code",
   "execution_count": null,
   "id": "6eab7ecd",
   "metadata": {},
   "outputs": [],
   "source": [
    "def recSqu(n):\n",
    "    if n==1:\n",
    "        return 1\n",
    "    return recSqu(n - 1) + (2 * n) - 1\n",
    "\n",
    "recSqu(30)\n",
    "\n",
    "\n",
    "def square(n, memo={}):\n",
    "    if n in memo:\n",
    "        return memo[n]\n",
    "\n",
    "    if n == 0:\n",
    "        memo[n] = 0\n",
    "    elif n == 1:\n",
    "        memo[n] = 1\n",
    "    else:\n",
    "        memo[n] = square(n - 1, memo) + (2 * n) - 1\n",
    "\n",
    "    return memo[n]\n",
    "\n",
    "# Test the function\n",
    "number = 50000\n",
    "result = square(number)\n",
    "print(f\"The square of {number} is: {result}\")"
   ]
  },
  {
   "cell_type": "code",
   "execution_count": 9,
   "id": "7dd1cc22",
   "metadata": {},
   "outputs": [
    {
     "name": "stdout",
     "output_type": "stream",
     "text": [
      "30000\n",
      "900000000\n",
      "900000000\n",
      "900000000\n",
      "900000000\n",
      "900000000\n"
     ]
    }
   ],
   "source": [
    "#square of a number\n",
    "# n=int(input())\n",
    "# res=0\n",
    "# for i in range(1,n+1):  #1-5\n",
    "#     for j in range(1,n+1): #1-5\n",
    "#         res+=1\n",
    "# print(res)\n",
    "\n",
    "#For the above code if we want square for a large number the compile run very slow\n",
    "#To avoid this we use a list to store the previous values\n",
    "\n",
    "prevVal =[]\n",
    "\n",
    "def square(n):\n",
    "    if n in prevVal:\n",
    "        return prevVal[n]\n",
    "\n",
    "    res = 0\n",
    "    for i in range(1, n + 1):\n",
    "        for j in range(1, n + 1):\n",
    "            res += 1\n",
    "\n",
    "    prevVal[n] = res\n",
    "    return res\n",
    "\n",
    "n=int(input())\n",
    "print(square(n))\n",
    "print(square(n))\n",
    "print(square(n))\n",
    "print(square(n))\n",
    "print(square(n))\n",
    "\n",
    "#For the above code to print the 1st one it take some time, for others it prints in sec"
   ]
  },
  {
   "cell_type": "code",
   "execution_count": null,
   "id": "2e17f2c5",
   "metadata": {},
   "outputs": [],
   "source": [
    "#Js code\n",
    "const prevVal=[]\n",
    "function square(n){\n",
    "    if(prevVal[n]!=null){\n",
    "        return prevVal[n]\n",
    "    }\n",
    "    let res=0\n",
    "    for(let i=1;i<=n;i++){\n",
    "        for(let j-1;j<=n;j++){\n",
    "            res+=1\n",
    "        }\n",
    "    }\n",
    "    prevVal[n]=res\n",
    "    return res\n",
    "}"
   ]
  },
  {
   "cell_type": "markdown",
   "id": "7a644bb2",
   "metadata": {},
   "source": [
    "### Tabulation"
   ]
  },
  {
   "cell_type": "code",
   "execution_count": null,
   "id": "cb1166a9",
   "metadata": {},
   "outputs": [],
   "source": [
    "'''\n",
    "n==0: return 0\n",
    "n==1: return 1    \n",
    "fib(n-1)+fib(n-2)\n",
    "\n",
    "dp[0]=0 ;dp[1]=1\n",
    "\n",
    "for(i=2;i<=n;i++){\n",
    "  dp[i]=dp[i-1]+dp[i-2]\n",
    "  }\n",
    "'''"
   ]
  },
  {
   "cell_type": "code",
   "execution_count": 11,
   "id": "59b83f78",
   "metadata": {},
   "outputs": [
    {
     "name": "stdout",
     "output_type": "stream",
     "text": [
      "0 1 1 2 3 5 \n",
      "element at position 5: is \n"
     ]
    },
    {
     "data": {
      "text/plain": [
       "5"
      ]
     },
     "execution_count": 11,
     "metadata": {},
     "output_type": "execute_result"
    }
   ],
   "source": [
    "#0 1 1 2 3 5 since index starts from 0 \n",
    "def fib(n):\n",
    "    a=0\n",
    "    b=1 \n",
    "    print(a,b,end=\" \")\n",
    "    #After 0 1, now we have do from 2nd index \n",
    "    for i in range(2,n+1): # 1 2 3 5 \n",
    "        c=a+b\n",
    "        a=b\n",
    "        b=c\n",
    "        print(c,end=\" \")\n",
    "        \n",
    "    print()\n",
    "    print(f'element at position {n}: is ')\n",
    "    return c\n",
    "\n",
    "fib(5)"
   ]
  },
  {
   "cell_type": "markdown",
   "id": "04dbc587",
   "metadata": {},
   "source": [
    "1. Try to represent the problem in terms of array index\n",
    "1. Do all possible stuffs on that index acc to prblm stmt\n",
    "1.\n",
    "    1. sum of all stuffs -> if the qun is find count all possible ways\n",
    "   1. min of all stuffs -> if the qun is find minimum"
   ]
  },
  {
   "cell_type": "code",
   "execution_count": 2,
   "id": "3f1e6fb1",
   "metadata": {},
   "outputs": [
    {
     "name": "stdout",
     "output_type": "stream",
     "text": [
      "3\n",
      "Number of distinct ways to reach the top: 3\n"
     ]
    }
   ],
   "source": [
    "'''\n",
    "You are climbing a staircase. It takes n steps to reach the top.\n",
    "\n",
    "Each time you can either climb 1 or 2 steps. In how many distinct ways can you climb to the top(From 0th step to Nth step)?\n",
    "\n",
    "Example 1:\n",
    "Input: n = 2\n",
    "Output: 2\n",
    "Explanation: There are two ways to climb to the top.\n",
    "1. 1 step + 1 step\n",
    "2. 2 steps\n",
    "\n",
    "Example 2:\n",
    "Input: n = 3\n",
    "Output: 3\n",
    "Explanation: There are three ways to climb to the top.\n",
    "1. 1 step + 1 step + 1 step\n",
    "2. 1 step + 2 steps   #1st and last(3rd) step\n",
    "3. 2 steps + 1 step   #2nd and 3rd step\n",
    "'''\n",
    "\n",
    "'''\n",
    "https://www.youtube.com/watch?v=mLfjzJsN8us&list=PLgUwDviBIf0qUlt5H_kiKYaNSqJ81PMMY&index=3\n",
    "'''\n",
    "\n",
    "\n",
    "def climb_stairs(n):\n",
    "    if n <= 0:\n",
    "        return 0\n",
    "\n",
    "    # Create a list to store the number of ways to reach each step\n",
    "    dp = [0] * (n + 1)\n",
    "\n",
    "    # Base cases\n",
    "    dp[0] = 1\n",
    "    dp[1] = 1\n",
    "\n",
    "    # Calculate the number of ways to reach each step using the previous steps\n",
    "    for i in range(2, n + 1):\n",
    "        dp[i] = dp[i - 1] + dp[i - 2]\n",
    "\n",
    "    return dp[n]\n",
    "\n",
    "# Test the function\n",
    "num_steps =int(input())\n",
    "print(\"Number of distinct ways to reach the top:\", climb_stairs(num_steps))"
   ]
  },
  {
   "cell_type": "code",
   "execution_count": 4,
   "id": "58a4f71c",
   "metadata": {},
   "outputs": [
    {
     "name": "stdout",
     "output_type": "stream",
     "text": [
      "[1, 1, 1, 1, 1] [2, 1, 1, 1] [1, 2, 1, 1] [1, 1, 2, 1] [2, 2, 1] [1, 1, 1, 2] [2, 1, 2] [1, 2, 2] "
     ]
    }
   ],
   "source": [
    "def climb_stairs(n):\n",
    "    if n <= 0:\n",
    "        return []\n",
    "\n",
    "    # Create a list to store the number of ways to reach each step\n",
    "    dp = [[0]] * (n + 1)\n",
    "\n",
    "    # Base cases\n",
    "    dp[0] = [[]]\n",
    "    dp[1] = [[1]]\n",
    "\n",
    "    # Calculate the number of ways to reach each step and the paths taken\n",
    "    for i in range(2, n + 1):\n",
    "        ways = []\n",
    "        for path in dp[i - 1]:\n",
    "            ways.append(path + [1])\n",
    "        for path in dp[i - 2]:\n",
    "            ways.append(path + [2])\n",
    "        dp[i] = ways\n",
    "\n",
    "    return dp[n]\n",
    "\n",
    "# Test the function\n",
    "num_steps = 5\n",
    "all_ways = climb_stairs(num_steps)\n",
    "\n",
    "# Print all possible ways\n",
    "for ways in all_ways:\n",
    "    print(ways,end=\" \")"
   ]
  },
  {
   "cell_type": "code",
   "execution_count": null,
   "id": "8f3cd042",
   "metadata": {},
   "outputs": [],
   "source": []
  }
 ],
 "metadata": {
  "kernelspec": {
   "display_name": "Python 3 (ipykernel)",
   "language": "python",
   "name": "python3"
  },
  "language_info": {
   "codemirror_mode": {
    "name": "ipython",
    "version": 3
   },
   "file_extension": ".py",
   "mimetype": "text/x-python",
   "name": "python",
   "nbconvert_exporter": "python",
   "pygments_lexer": "ipython3",
   "version": "3.10.9"
  }
 },
 "nbformat": 4,
 "nbformat_minor": 5
}
