{
 "cells": [
  {
   "cell_type": "markdown",
   "id": "93bddf7f",
   "metadata": {},
   "source": [
    "### Class\n",
    "A class is a **blueprint for the object**. To create an object we require a model or plan or blueprint or design which is nothing but class.\n",
    "### Object\n",
    "Object is an **instance of a class**. The physical existence of a class is nothing but an object.\n",
    "\n",
    "> We can create many objects with one class.\n",
    "### Reference Varible\n",
    "To perform operations on the object."
   ]
  },
  {
   "cell_type": "markdown",
   "id": "f3327302",
   "metadata": {},
   "source": [
    "[freecodecamp](https://www.freecodecamp.org/news/crash-course-object-oriented-programming-in-python/#classes-allow-for-even-more-reusability)"
   ]
  },
  {
   "cell_type": "code",
   "execution_count": 1,
   "id": "f25027c9",
   "metadata": {},
   "outputs": [],
   "source": [
    "# Creating a vehicle class\n",
    "# Creating Veh Obj Vehicle()\n",
    "# Creating reference variable 'Audi' to Vehicle object \n",
    "\n",
    "class Vehicle():\n",
    "    pass\n",
    "\n",
    "Audi = Vehicle()\n",
    "BMW  = Vehicle()"
   ]
  },
  {
   "cell_type": "code",
   "execution_count": 14,
   "id": "14a59d76",
   "metadata": {},
   "outputs": [
    {
     "name": "stdout",
     "output_type": "stream",
     "text": [
      "Bob Bark's\n",
      "Macaow whistle's\n",
      "\n",
      "Bob eats Biscuits\n",
      "Macaow eats Fruits\n"
     ]
    }
   ],
   "source": [
    "# Class has properties (attributes- name, age, color, etc.) and action (behavior- dancing, singing, etc.) of the object\n",
    "## Properties represent variables, and the methods represent actions\n",
    "\n",
    "class Animal:\n",
    "    # attributes\n",
    "    name=\"\"\n",
    "    age=0\n",
    "    \n",
    "    # behaviour\n",
    "    def eat(self, item):\n",
    "        print(f'{self.name} eats {item}')\n",
    "        \n",
    "    def sound(self, s):\n",
    "        print(self.name+\" \"+s+\"'s\")\n",
    "        \n",
    "a1=Animal()\n",
    "a1.name=\"Bob\"\n",
    "a1.age=10\n",
    "    \n",
    "a2=Animal()\n",
    "a2.name=\"Macaow\"\n",
    "a2.age=5\n",
    "\n",
    "a1.sound(\"Bark\")\n",
    "a2.sound(\"whistle\")\n",
    "\n",
    "print()\n",
    "\n",
    "a1.eat(\"Biscuits\")\n",
    "a2.eat(\"Fruits\")"
   ]
  },
  {
   "cell_type": "code",
   "execution_count": 15,
   "id": "9c0c3392",
   "metadata": {},
   "outputs": [
    {
     "name": "stdout",
     "output_type": "stream",
     "text": [
      "Hero: Prabhas - Movie: Salar\n",
      "Hero: Ram Charan - Movie: RRR\n",
      "Hero: NTR - Movie: RRR\n"
     ]
    }
   ],
   "source": [
    "# init\n",
    "class Actor:\n",
    "    def __init__(self, name, movie):\n",
    "        self.name=name\n",
    "        self.movie=movie\n",
    "        \n",
    "    def __repr__(self):\n",
    "        return f'Hero: {self.name} - Movie: {self.movie}'\n",
    "    \n",
    "a1=Actor(\"Prabhas\",\"Salar\")\n",
    "a2=Actor(\"Ram Charan\", 'RRR')\n",
    "a3=Actor(\"NTR\", 'RRR')\n",
    "\n",
    "print(a1)\n",
    "print(a2)\n",
    "print(a3)"
   ]
  },
  {
   "cell_type": "markdown",
   "id": "54565ea6",
   "metadata": {},
   "source": [
    "## Class and Instance Variables"
   ]
  },
  {
   "cell_type": "code",
   "execution_count": 4,
   "id": "46978139",
   "metadata": {},
   "outputs": [
    {
     "name": "stdout",
     "output_type": "stream",
     "text": [
      "Durga 24\n",
      "ABC\n",
      "The school name is ABC\n",
      "Name: Durga, Age: 24, School: ABC\n"
     ]
    }
   ],
   "source": [
    "class Student:\n",
    "    # Class Variable\n",
    "    school=\"ABC\"\n",
    "    \n",
    "    # constructor\n",
    "    def __init__(self, name, age):\n",
    "        self.name=name\n",
    "        self.age=age\n",
    "        \n",
    "    def display(self):\n",
    "        # Access class variable using 'Class' name\n",
    "        print(f\"The school name is {Student.school}\")\n",
    "        \n",
    "        # Access class variable using 'self'\n",
    "        print(f'Name: {self.name}, Age: {self.age}, School: {self.school}')\n",
    "        \n",
    "s1=Student(\"Durga\", 24)\n",
    "print(s1.name, s1.age)\n",
    "\n",
    "\n",
    "# access class variable outside class\n",
    "print(s1.school)\n",
    "\n",
    "s1.display()"
   ]
  },
  {
   "cell_type": "code",
   "execution_count": 5,
   "id": "8c6fd907",
   "metadata": {},
   "outputs": [
    {
     "data": {
      "text/plain": [
       "'XYZ'"
      ]
     },
     "execution_count": 5,
     "metadata": {},
     "output_type": "execute_result"
    }
   ],
   "source": [
    "# Changing class variable outside\n",
    "s2=Student(\"Sri\", 24)\n",
    "s2.school=\"XYZ\"\n",
    "\n",
    "s2.school"
   ]
  },
  {
   "cell_type": "markdown",
   "id": "272b9229",
   "metadata": {},
   "source": [
    "## Methods"
   ]
  },
  {
   "cell_type": "markdown",
   "id": "55770040",
   "metadata": {},
   "source": [
    "### Class Method"
   ]
  },
  {
   "cell_type": "code",
   "execution_count": 12,
   "id": "8cd5265d",
   "metadata": {},
   "outputs": [
    {
     "name": "stdout",
     "output_type": "stream",
     "text": [
      "Jessa's age is: 20\n",
      "updated school name is XYZ\n",
      "Joy's age is: 29\n"
     ]
    }
   ],
   "source": [
    "from datetime import date\n",
    "\n",
    "class Student:\n",
    "    school=\"ABC\"\n",
    "    \n",
    "    def __init__(self, name, age):\n",
    "        self.name = name\n",
    "        self.age = age\n",
    "\n",
    "    @classmethod\n",
    "    def calculate_age(cls, name, birth_year):\n",
    "        # calculate age an set it as a age\n",
    "        # return new object\n",
    "        return cls(name, date.today().year - birth_year)\n",
    "    \n",
    "    @classmethod\n",
    "    def change_school(cls, name):\n",
    "        cls.school=name\n",
    "        print(f'updated school name is {cls.school}')\n",
    "\n",
    "    def show(self):\n",
    "        print(self.name + \"'s age is: \" + str(self.age))\n",
    "\n",
    "jessa = Student('Jessa', 20)\n",
    "jessa.show()\n",
    "\n",
    "jessa.change_school(\"XYZ\")\n",
    "\n",
    "# create new object using the factory method\n",
    "joy = Student.calculate_age(\"Joy\", 1995)\n",
    "joy.show()"
   ]
  },
  {
   "cell_type": "code",
   "execution_count": 1,
   "id": "05c3e4b4",
   "metadata": {},
   "outputs": [
    {
     "name": "stdout",
     "output_type": "stream",
     "text": [
      "Hello Durga\n"
     ]
    }
   ],
   "source": [
    "# a simple classmethod\n",
    "class Person:\n",
    "    def hello(self, name):\n",
    "        print(f\"Hello {name}\")\n",
    "        \n",
    "p1=Person()\n",
    "p1.hello(\"Durga\")"
   ]
  },
  {
   "cell_type": "code",
   "execution_count": 3,
   "id": "d45e6c8b",
   "metadata": {},
   "outputs": [
    {
     "name": "stdout",
     "output_type": "stream",
     "text": [
      "Hello Durga\n"
     ]
    }
   ],
   "source": [
    "class Student:\n",
    "    def __init__(self, name):\n",
    "        self.name=name\n",
    "    \n",
    "    def hello(self):\n",
    "        print(f\"Hello {self.name}\")\n",
    "        \n",
    "        \n",
    "Student(\"Durga\").hello()"
   ]
  },
  {
   "cell_type": "code",
   "execution_count": 8,
   "id": "0de656ec",
   "metadata": {},
   "outputs": [
    {
     "name": "stdout",
     "output_type": "stream",
     "text": [
      "My name is Durga and I born in the year 1999 studying in ABC College\n"
     ]
    }
   ],
   "source": [
    "# We can achieve the above with '@classmethod', as obj creation is very costly then we can use this\n",
    "class Student:\n",
    "    clg=\"ABC\"\n",
    "    def __init__(self, name):\n",
    "        self.name=name\n",
    "    \n",
    "    def hello(self):\n",
    "        print(f\"Hello {self.name}\")\n",
    "        \n",
    "    @classmethod\n",
    "    def dob(cls, name, birth_year):\n",
    "        print(f'My name is {name} and I born in the year {birth_year} studying in {cls.clg} College')\n",
    "        \n",
    "\n",
    "Student.dob(\"Durga\", 1999)"
   ]
  },
  {
   "cell_type": "markdown",
   "id": "571642d2",
   "metadata": {},
   "source": [
    "### Instance Method Vs Static Method Vs Class Method"
   ]
  },
  {
   "cell_type": "code",
   "execution_count": 11,
   "id": "30070883",
   "metadata": {},
   "outputs": [
    {
     "name": "stdout",
     "output_type": "stream",
     "text": [
      "No. of edges for circle: 0\n",
      "Sqaure color: blue\n"
     ]
    }
   ],
   "source": [
    "# instance method\n",
    "## objects having its own attributes and methods\n",
    "\n",
    "class Shape:\n",
    "    def __init__(self, edge, color):\n",
    "        \n",
    "        # Instance variable\n",
    "        self.edge=edge\n",
    "        self.color=color\n",
    "        \n",
    "    # instance method to access instance variable\n",
    "    def edges(self):\n",
    "        return self.edge\n",
    "    \n",
    "    \n",
    "circle=Shape(0, 'red')\n",
    "squre=Shape(4, 'blue')\n",
    "\n",
    "\n",
    "# call instance methods: obj.method_name()\n",
    "print(\"No. of edges for circle: \"+ str(circle.edges())) \n",
    "print(\"Sqaure color: \"+ squre.color) "
   ]
  },
  {
   "cell_type": "code",
   "execution_count": 12,
   "id": "d18809a5",
   "metadata": {},
   "outputs": [
    {
     "name": "stdout",
     "output_type": "stream",
     "text": [
      "class VIII\n",
      "Roll Number: 20 Name: Emma Age: 14\n",
      "class IX\n",
      "Roll Number: 35 Name: Emma Age: 15\n"
     ]
    }
   ],
   "source": [
    "# Modify Instance Variables inside Instance Method\n",
    "class Student:\n",
    "    def __init__(self, roll_no, name, age):\n",
    "        # Instance variable\n",
    "        self.roll_no = roll_no\n",
    "        self.name = name\n",
    "        self.age = age\n",
    "\n",
    "    # instance method access instance variable\n",
    "    def show(self):\n",
    "        print('Roll Number:', self.roll_no, 'Name:', self.name, 'Age:', self.age)\n",
    "\n",
    "    # instance method to modify instance variable\n",
    "    def update(self, roll_number, age):\n",
    "        self.roll_no = roll_number\n",
    "        self.age = age\n",
    "\n",
    "\n",
    "print('class VIII')\n",
    "stud = Student(20, \"Emma\", 14)\n",
    "stud.show()\n",
    "\n",
    "# Modify instance variables\n",
    "print('class IX')\n",
    "stud.update(35, 15)\n",
    "stud.show()"
   ]
  },
  {
   "cell_type": "code",
   "execution_count": null,
   "id": "01d7cbc0",
   "metadata": {},
   "outputs": [],
   "source": []
  }
 ],
 "metadata": {
  "kernelspec": {
   "display_name": "Python 3 (ipykernel)",
   "language": "python",
   "name": "python3"
  },
  "language_info": {
   "codemirror_mode": {
    "name": "ipython",
    "version": 3
   },
   "file_extension": ".py",
   "mimetype": "text/x-python",
   "name": "python",
   "nbconvert_exporter": "python",
   "pygments_lexer": "ipython3",
   "version": "3.10.9"
  }
 },
 "nbformat": 4,
 "nbformat_minor": 5
}
