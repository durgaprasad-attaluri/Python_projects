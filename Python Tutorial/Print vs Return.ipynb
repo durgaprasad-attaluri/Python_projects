{
 "cells": [
  {
   "cell_type": "markdown",
   "id": "409aba58",
   "metadata": {},
   "source": [
    "### return in loop"
   ]
  },
  {
   "cell_type": "code",
   "execution_count": 2,
   "id": "6aa0e784",
   "metadata": {},
   "outputs": [
    {
     "data": {
      "text/plain": [
       "True"
      ]
     },
     "execution_count": 2,
     "metadata": {},
     "output_type": "execute_result"
    }
   ],
   "source": [
    "def is_any(l):\n",
    "    for i in l:\n",
    "        if i:\n",
    "            return True    # exit the loop when it is true this saves a lot of time when i is true at 1st iteration\n",
    "    return False\n",
    "\n",
    "l=[0,0,0,0,1]  # True\n",
    "#l=[0,0,0,0]   # False\n",
    "is_any(l)"
   ]
  },
  {
   "cell_type": "markdown",
   "id": "fba0f3b7",
   "metadata": {},
   "source": [
    "print() is a function that is used to display a message on the console or terminal screen. It can take one or more arguments and can display them in various formats. "
   ]
  },
  {
   "cell_type": "code",
   "execution_count": 5,
   "id": "965bdce8",
   "metadata": {},
   "outputs": [
    {
     "name": "stdout",
     "output_type": "stream",
     "text": [
      "a b c\n",
      "a\n",
      "b\n",
      "c\n",
      "a b c\n"
     ]
    }
   ],
   "source": [
    "print('a','b','c', sep=' ')\n",
    "print('a','b','c', sep='\\n')\n",
    "print('a','b','c', end='\\n')"
   ]
  },
  {
   "cell_type": "markdown",
   "id": "0b9f9f39",
   "metadata": {},
   "source": [
    "We use the return statement in Python when we want to exit a function and return a value to the caller of the function. When a return statement is executed, it immediately terminates the function and returns the specified value."
   ]
  },
  {
   "cell_type": "code",
   "execution_count": 3,
   "id": "4168d0c7",
   "metadata": {},
   "outputs": [
    {
     "name": "stdout",
     "output_type": "stream",
     "text": [
      "I printed\n",
      "Now let us see what the values of f1 and f2 are\n",
      "None\n",
      "I returned\n"
     ]
    }
   ],
   "source": [
    "def function_that_prints():\n",
    "    print(\"I printed\")\n",
    "\n",
    "def function_that_returns():\n",
    "    return \"I returned\"\n",
    "\n",
    "f1 = function_that_prints()\n",
    "f2 = function_that_returns()\n",
    "print(\"Now let us see what the values of f1 and f2 are\")\n",
    "print(f1)\n",
    "print(f2)"
   ]
  },
  {
   "cell_type": "code",
   "execution_count": 5,
   "id": "0e89652b",
   "metadata": {},
   "outputs": [
    {
     "data": {
      "text/plain": [
       "42"
      ]
     },
     "execution_count": 5,
     "metadata": {},
     "output_type": "execute_result"
    }
   ],
   "source": [
    "def dead_code():\n",
    "    return 42\n",
    "    # Dead code\n",
    "    print(\"Hello, World\")\n",
    "\n",
    "dead_code()"
   ]
  },
  {
   "cell_type": "code",
   "execution_count": 6,
   "id": "69d6c29f",
   "metadata": {},
   "outputs": [
    {
     "name": "stdout",
     "output_type": "stream",
     "text": [
      "Hello!\n"
     ]
    }
   ],
   "source": [
    "def no_dead_code(cond):\n",
    "    if cond:\n",
    "        return \"Hi\"\n",
    "    print(\"Hello!\")\n",
    "    \n",
    "#no_dead_code(True)\n",
    "no_dead_code(False)"
   ]
  },
  {
   "cell_type": "code",
   "execution_count": 12,
   "id": "1c29ad2b",
   "metadata": {},
   "outputs": [
    {
     "name": "stdout",
     "output_type": "stream",
     "text": [
      "Number is positive\n"
     ]
    },
    {
     "data": {
      "text/plain": [
       "'Number is negative'"
      ]
     },
     "execution_count": 12,
     "metadata": {},
     "output_type": "execute_result"
    }
   ],
   "source": [
    "#Exiting a function early\n",
    "def check_number(num):\n",
    "    if num < 0:\n",
    "        return \"Number is negative\"\n",
    "    elif num == 0:\n",
    "        return \"Number is zero\"\n",
    "    else:\n",
    "        return \"Number is positive\"\n",
    "    \n",
    "result=check_number(5)\n",
    "print(result)\n",
    "check_number(-3)"
   ]
  },
  {
   "cell_type": "code",
   "execution_count": 8,
   "id": "8144f254",
   "metadata": {},
   "outputs": [
    {
     "name": "stdout",
     "output_type": "stream",
     "text": [
      "1 2 3\n"
     ]
    }
   ],
   "source": [
    "a=1;b=2;c=3\n",
    "print(a,b,c)"
   ]
  },
  {
   "cell_type": "code",
   "execution_count": 9,
   "id": "80ae6d22",
   "metadata": {},
   "outputs": [
    {
     "name": "stdout",
     "output_type": "stream",
     "text": [
      "John 15 9th\n"
     ]
    }
   ],
   "source": [
    "def get_student_info(name, age, grade):\n",
    "    return name, age, grade\n",
    "\n",
    "name, age, grade = get_student_info(\"John\", 15, \"9th\")\n",
    "print(name,age,grade)"
   ]
  },
  {
   "cell_type": "code",
   "execution_count": 10,
   "id": "147e04fd",
   "metadata": {},
   "outputs": [
    {
     "data": {
      "text/plain": [
       "42"
      ]
     },
     "execution_count": 10,
     "metadata": {},
     "output_type": "execute_result"
    }
   ],
   "source": [
    "def return_42():\n",
    "    return 42  # An explicit return statement\n",
    "\n",
    "return_42()  # The caller code gets 42"
   ]
  },
  {
   "cell_type": "code",
   "execution_count": 13,
   "id": "335e3fb7",
   "metadata": {},
   "outputs": [
    {
     "name": "stdout",
     "output_type": "stream",
     "text": [
      "Hello, World\n"
     ]
    },
    {
     "data": {
      "text/plain": [
       "'Hello, World'"
      ]
     },
     "execution_count": 13,
     "metadata": {},
     "output_type": "execute_result"
    }
   ],
   "source": [
    "def print_greeting():\n",
    "    print(\"Hello, World\")\n",
    "print_greeting()  # Hello, World\n",
    "\n",
    "def return_greeting():\n",
    "    return \"Hello, World\"\n",
    "return_greeting()  # 'Hello, World'\n",
    "\n",
    "#There’s only a subtle visible difference—the '' marks in the second example."
   ]
  },
  {
   "cell_type": "code",
   "execution_count": 14,
   "id": "721cff65",
   "metadata": {},
   "outputs": [
    {
     "name": "stdout",
     "output_type": "stream",
     "text": [
      "42\n"
     ]
    },
    {
     "data": {
      "text/plain": [
       "42"
      ]
     },
     "execution_count": 14,
     "metadata": {},
     "output_type": "execute_result"
    }
   ],
   "source": [
    "def print_42():\n",
    "    print(42)\n",
    "print_42()        #42\n",
    "\n",
    "def return_42():\n",
    "    return 42\n",
    "return_42()       #42\n",
    "\n",
    "#There’s no visible difference now. "
   ]
  },
  {
   "cell_type": "code",
   "execution_count": 15,
   "id": "40fced3e",
   "metadata": {},
   "outputs": [
    {
     "data": {
      "text/plain": [
       "4"
      ]
     },
     "execution_count": 15,
     "metadata": {},
     "output_type": "execute_result"
    }
   ],
   "source": [
    "def add(a, b):\n",
    "    result = a + b\n",
    "    return result\n",
    "\n",
    "add(2, 2)"
   ]
  },
  {
   "cell_type": "code",
   "execution_count": 19,
   "id": "4f23ebd9",
   "metadata": {},
   "outputs": [
    {
     "name": "stdout",
     "output_type": "stream",
     "text": [
      "5\n"
     ]
    }
   ],
   "source": [
    "print(5)"
   ]
  },
  {
   "cell_type": "code",
   "execution_count": 21,
   "id": "a52ac938",
   "metadata": {},
   "outputs": [
    {
     "name": "stdout",
     "output_type": "stream",
     "text": [
      "5\n"
     ]
    }
   ],
   "source": [
    "def add(a, b):\n",
    "#     result = a + b\n",
    "    print(a+b)\n",
    "\n",
    "res=add(2,3)\n",
    "res"
   ]
  },
  {
   "cell_type": "code",
   "execution_count": 3,
   "id": "531fc89f",
   "metadata": {},
   "outputs": [
    {
     "name": "stdout",
     "output_type": "stream",
     "text": [
      "Checking the number is even or odd.\n",
      "Even\n",
      "Checking the number is even or odd.\n",
      "Even\n",
      "Odd\n"
     ]
    }
   ],
   "source": [
    "def even_or_odd_1(n):\n",
    "    print(\"Checking the number is even or odd.\")\n",
    "    if n%2==0:\n",
    "        print(\"Even\")\n",
    "        return  # Exit the function if it's an even number\n",
    "    print(\"Odd\")\n",
    "    \n",
    "def even_or_odd_2(n):\n",
    "    print(\"Checking the number is even or odd.\")\n",
    "    if n%2==0:\n",
    "        print(\"Even\")\n",
    "    print(\"Odd\")\n",
    "    \n",
    "even_or_odd_1(2)\n",
    "even_or_odd_2(2)"
   ]
  },
  {
   "cell_type": "code",
   "execution_count": 5,
   "id": "1c65e0df",
   "metadata": {},
   "outputs": [
    {
     "name": "stdout",
     "output_type": "stream",
     "text": [
      "2000 is a leap year.\n",
      "2020 is a leap year.\n",
      "2021 is not a leap year.\n"
     ]
    }
   ],
   "source": [
    "def check_leap_year(year):\n",
    "    if year % 4 == 0:\n",
    "        if year % 100 == 0:\n",
    "            if year % 400 == 0:\n",
    "                print(year, \"is a leap year.\")\n",
    "                return  # Exit the function if it's a leap year\n",
    "            else:\n",
    "                print(year, \"is not a leap year.\")\n",
    "        else:\n",
    "            print(year, \"is a leap year.\")\n",
    "            return  # Exit the function if it's a leap year\n",
    "    else:\n",
    "        print(year, \"is not a leap year.\")\n",
    "\n",
    "check_leap_year(2000)\n",
    "check_leap_year(2020)\n",
    "check_leap_year(2021)"
   ]
  },
  {
   "cell_type": "markdown",
   "id": "cf6cae33",
   "metadata": {},
   "source": [
    "### is *vs* ==\n",
    "The \"==\" operator compares the value or equality of two objects, whereas the Python \"is\" operator checks whether two variables point to the same object in memory. \n",
    "\n",
    "* We should not use the Python is operator to compare values.\n",
    "* Use the equality operators == and !=, except when we’re comparing to **None**."
   ]
  },
  {
   "cell_type": "code",
   "execution_count": 1,
   "id": "8ce17ff2",
   "metadata": {},
   "outputs": [
    {
     "data": {
      "text/plain": [
       "True"
      ]
     },
     "execution_count": 1,
     "metadata": {},
     "output_type": "execute_result"
    }
   ],
   "source": [
    "l1=['Durga', 'Durga1', 'Durga2']\n",
    "l2=['Durga', 'Durga1', 'Durga2']\n",
    "\n",
    "l1 == l2  # == is for value equality, here two objects have the same val"
   ]
  },
  {
   "cell_type": "code",
   "execution_count": 2,
   "id": "5ec58b8c",
   "metadata": {},
   "outputs": [
    {
     "data": {
      "text/plain": [
       "False"
      ]
     },
     "execution_count": 2,
     "metadata": {},
     "output_type": "execute_result"
    }
   ],
   "source": [
    "l1 is l2  # is is for reference equality, True if they are the exact same object."
   ]
  },
  {
   "cell_type": "code",
   "execution_count": 3,
   "id": "99cb337d",
   "metadata": {},
   "outputs": [
    {
     "data": {
      "text/plain": [
       "(1193606507648, 1193606507136)"
      ]
     },
     "execution_count": 3,
     "metadata": {},
     "output_type": "execute_result"
    }
   ],
   "source": [
    "id(l1), id(l2)"
   ]
  },
  {
   "cell_type": "code",
   "execution_count": 4,
   "id": "028fc825",
   "metadata": {},
   "outputs": [
    {
     "data": {
      "text/plain": [
       "True"
      ]
     },
     "execution_count": 4,
     "metadata": {},
     "output_type": "execute_result"
    }
   ],
   "source": [
    "l3 =l1\n",
    "l1 is l3"
   ]
  },
  {
   "cell_type": "code",
   "execution_count": 5,
   "id": "69087e6c",
   "metadata": {},
   "outputs": [
    {
     "data": {
      "text/plain": [
       "(1193606507648, 1193606507648)"
      ]
     },
     "execution_count": 5,
     "metadata": {},
     "output_type": "execute_result"
    }
   ],
   "source": [
    "id(l1), id(l3)"
   ]
  },
  {
   "cell_type": "code",
   "execution_count": 6,
   "id": "a9db9093",
   "metadata": {},
   "outputs": [
    {
     "data": {
      "text/plain": [
       "(True, True)"
      ]
     },
     "execution_count": 6,
     "metadata": {},
     "output_type": "execute_result"
    }
   ],
   "source": [
    "l2 == l1, l3 is l1"
   ]
  },
  {
   "cell_type": "code",
   "execution_count": 7,
   "id": "55599704",
   "metadata": {},
   "outputs": [
    {
     "data": {
      "text/plain": [
       "True"
      ]
     },
     "execution_count": 7,
     "metadata": {},
     "output_type": "execute_result"
    }
   ],
   "source": [
    "a=5;b=5  # ranging from -5 to 256\n",
    "a is b"
   ]
  },
  {
   "cell_type": "code",
   "execution_count": 8,
   "id": "f81dc271",
   "metadata": {},
   "outputs": [
    {
     "data": {
      "text/plain": [
       "False"
      ]
     },
     "execution_count": 8,
     "metadata": {},
     "output_type": "execute_result"
    }
   ],
   "source": [
    "a=257;b=257   # stored at separate memory addresses.\n",
    "a is b "
   ]
  },
  {
   "cell_type": "code",
   "execution_count": 9,
   "id": "1f49368b",
   "metadata": {},
   "outputs": [
    {
     "data": {
      "text/plain": [
       "True"
      ]
     },
     "execution_count": 9,
     "metadata": {},
     "output_type": "execute_result"
    }
   ],
   "source": [
    "a=[1,2,3]\n",
    "b=a\n",
    "\n",
    "a.append(4)\n",
    "a is b"
   ]
  },
  {
   "cell_type": "code",
   "execution_count": 11,
   "id": "714647f1",
   "metadata": {},
   "outputs": [
    {
     "name": "stdout",
     "output_type": "stream",
     "text": [
      "False\n"
     ]
    },
    {
     "data": {
      "text/plain": [
       "False"
      ]
     },
     "execution_count": 11,
     "metadata": {},
     "output_type": "execute_result"
    }
   ],
   "source": [
    "# define lists independently of each other\n",
    "a = [1, 2, 3]\n",
    "b = [1, 2, 3]\n",
    "c=a is b\n",
    "print(c)\n",
    "\n",
    "# changing one doesn’t affect the other.\n",
    "a.append(4)\n",
    "a is b"
   ]
  },
  {
   "cell_type": "code",
   "execution_count": 12,
   "id": "3fd779a2",
   "metadata": {},
   "outputs": [
    {
     "data": {
      "text/plain": [
       "(True, False)"
      ]
     },
     "execution_count": 12,
     "metadata": {},
     "output_type": "execute_result"
    }
   ],
   "source": [
    "a = [1, 2, 3]\n",
    "b = a.copy()\n",
    "\n",
    "a == b, a is b"
   ]
  },
  {
   "cell_type": "markdown",
   "id": "f3a5a41d",
   "metadata": {},
   "source": [
    "### None"
   ]
  },
  {
   "cell_type": "code",
   "execution_count": 13,
   "id": "c59c6202",
   "metadata": {},
   "outputs": [
    {
     "name": "stdout",
     "output_type": "stream",
     "text": [
      "No result.\n"
     ]
    }
   ],
   "source": [
    "some_result = None\n",
    "if some_result:\n",
    "    print(\"Got a result!\")\n",
    "else:\n",
    "    print(\"No result.\")"
   ]
  },
  {
   "cell_type": "code",
   "execution_count": null,
   "id": "63050fe2",
   "metadata": {},
   "outputs": [],
   "source": []
  }
 ],
 "metadata": {
  "kernelspec": {
   "display_name": "Python 3 (ipykernel)",
   "language": "python",
   "name": "python3"
  },
  "language_info": {
   "codemirror_mode": {
    "name": "ipython",
    "version": 3
   },
   "file_extension": ".py",
   "mimetype": "text/x-python",
   "name": "python",
   "nbconvert_exporter": "python",
   "pygments_lexer": "ipython3",
   "version": "3.10.9"
  }
 },
 "nbformat": 4,
 "nbformat_minor": 5
}
