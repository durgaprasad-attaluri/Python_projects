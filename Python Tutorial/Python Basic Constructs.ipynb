{
 "cells": [
  {
   "cell_type": "markdown",
   "id": "a2af4010",
   "metadata": {},
   "source": [
    "### Variables"
   ]
  },
  {
   "cell_type": "markdown",
   "id": "a775b68c",
   "metadata": {},
   "source": [
    " a reserved memory location to store values.\n",
    " \n",
    "**Rules for naming a variable:**\n",
    " * begin with either uppercase (A to Z) or lowercase (a to z) or an     underscore ( _ ).\n",
    " * meaningful name\n",
    " * If a variable has multiple words, it is advised to separate them with an underscore.\n",
    " * should not be similar to keywords\n",
    " * should not begin with a digit or contain any white spaces or special characters such as #,@,&.\n"
   ]
  },
  {
   "cell_type": "code",
   "execution_count": 1,
   "id": "e494ff2a",
   "metadata": {},
   "outputs": [
    {
     "name": "stdout",
     "output_type": "stream",
     "text": [
      "10\n",
      "redeclared value 20\n"
     ]
    }
   ],
   "source": [
    "no_of_chocolates=10\n",
    "print(no_of_chocolates)\n",
    "\n",
    "#redeclaring\n",
    "no_of_chocolates=20\n",
    "print(\"redeclared value\",no_of_chocolates)"
   ]
  },
  {
   "cell_type": "code",
   "execution_count": 2,
   "id": "38e7c693",
   "metadata": {},
   "outputs": [
    {
     "name": "stdout",
     "output_type": "stream",
     "text": [
      "5 5 5\n"
     ]
    }
   ],
   "source": [
    "a=b=c=5\n",
    "print(a,b,c,sep=\" \")"
   ]
  },
  {
   "cell_type": "code",
   "execution_count": 4,
   "id": "448c225d",
   "metadata": {},
   "outputs": [
    {
     "name": "stdout",
     "output_type": "stream",
     "text": [
      "10 hii True\n"
     ]
    }
   ],
   "source": [
    "a,b,c=10,'hii',True\n",
    "print(a,b,c,sep=' ')"
   ]
  },
  {
   "cell_type": "code",
   "execution_count": 5,
   "id": "b73140b8",
   "metadata": {},
   "outputs": [],
   "source": [
    "del a "
   ]
  },
  {
   "cell_type": "markdown",
   "id": "ca979831",
   "metadata": {},
   "source": [
    "### Key words"
   ]
  },
  {
   "cell_type": "code",
   "execution_count": 7,
   "id": "41187e20",
   "metadata": {},
   "outputs": [
    {
     "name": "stdout",
     "output_type": "stream",
     "text": [
      "\n",
      "Here is a list of the Python keywords.  Enter any keyword to get more help.\n",
      "\n",
      "False               class               from                or\n",
      "None                continue            global              pass\n",
      "True                def                 if                  raise\n",
      "and                 del                 import              return\n",
      "as                  elif                in                  try\n",
      "assert              else                is                  while\n",
      "async               except              lambda              with\n",
      "await               finally             nonlocal            yield\n",
      "break               for                 not                 \n",
      "\n"
     ]
    }
   ],
   "source": [
    "help(\"keywords\")"
   ]
  },
  {
   "cell_type": "code",
   "execution_count": 15,
   "id": "1325cf3f",
   "metadata": {},
   "outputs": [
    {
     "name": "stdout",
     "output_type": "stream",
     "text": [
      "['False', 'None', 'True', 'and', 'as', 'assert', 'async', 'await', 'break', 'class', 'continue', 'def', 'del', 'elif', 'else', 'except', 'finally', 'for', 'from', 'global', 'if', 'import', 'in', 'is', 'lambda', 'nonlocal', 'not', 'or', 'pass', 'raise', 'return', 'try', 'while', 'with', 'yield'] \n",
      "\n",
      "35\n"
     ]
    }
   ],
   "source": [
    "import keyword\n",
    "x=keyword.kwlist\n",
    "print(x,end=\" \")\n",
    "print(\"\\n\")\n",
    "print(len(x))"
   ]
  },
  {
   "cell_type": "code",
   "execution_count": 16,
   "id": "5eea83af",
   "metadata": {},
   "outputs": [
    {
     "data": {
      "text/plain": [
       "False"
      ]
     },
     "execution_count": 16,
     "metadata": {},
     "output_type": "execute_result"
    }
   ],
   "source": [
    "keyword.iskeyword(\"hi\")"
   ]
  },
  {
   "cell_type": "markdown",
   "id": "6a2d2c21",
   "metadata": {},
   "source": [
    "**Value keywords:**\n",
    "* True\n",
    "* False\n",
    "* None"
   ]
  },
  {
   "cell_type": "code",
   "execution_count": 4,
   "id": "21e9a2ee",
   "metadata": {},
   "outputs": [
    {
     "name": "stdout",
     "output_type": "stream",
     "text": [
      "True\n",
      "True\n",
      "False\n",
      "False\n"
     ]
    },
    {
     "data": {
      "text/plain": [
       "True"
      ]
     },
     "execution_count": 4,
     "metadata": {},
     "output_type": "execute_result"
    }
   ],
   "source": [
    "print(1==1)\n",
    "print(True or False)\n",
    "print(2>5)\n",
    "print(True and False)\n",
    "x,y=None,None\n",
    "x==y"
   ]
  },
  {
   "cell_type": "markdown",
   "id": "45bf4d74",
   "metadata": {},
   "source": [
    "**Operator keywords:**\n",
    "* and\n",
    "* or\n",
    "* not\n",
    "* in\n",
    "* is"
   ]
  },
  {
   "cell_type": "code",
   "execution_count": 8,
   "id": "8e1b7265",
   "metadata": {},
   "outputs": [
    {
     "name": "stdout",
     "output_type": "stream",
     "text": [
      "False\n",
      "True\n",
      "True\n",
      "True\n",
      "True\n"
     ]
    },
    {
     "data": {
      "text/plain": [
       "False"
      ]
     },
     "execution_count": 8,
     "metadata": {},
     "output_type": "execute_result"
    }
   ],
   "source": [
    "print(True and False)\n",
    "print(True or False)\n",
    "print(not False)\n",
    "a='Python is very easy'\n",
    "print('easy' in a)\n",
    "print(True is True)\n",
    "a is True"
   ]
  },
  {
   "cell_type": "markdown",
   "id": "5c16cb16",
   "metadata": {},
   "source": [
    "**Control Flow:**\n",
    "* if\n",
    "* elif\n",
    "* else"
   ]
  },
  {
   "cell_type": "code",
   "execution_count": 9,
   "id": "e3a3339a",
   "metadata": {},
   "outputs": [
    {
     "name": "stdout",
     "output_type": "stream",
     "text": [
      "45\n",
      "56\n",
      "enter operation: +, -, *, /\n",
      "+\n",
      "101\n"
     ]
    }
   ],
   "source": [
    "# My Calculator\n",
    "a = int( input())\n",
    "b = int(input())\n",
    "print ('enter operation: +, -, *, /')\n",
    "opt = input()\n",
    " \n",
    "if opt == '+':\n",
    "    print (a+b)\n",
    "elif opt == '-':\n",
    "    print (a-b)\n",
    "elif opt == '*':\n",
    "    print (a*b)\n",
    "elif opt == '/':\n",
    "    print (a/b)\n",
    "else:\n",
    "    print ('invalid input')"
   ]
  },
  {
   "cell_type": "markdown",
   "id": "3ff9975e",
   "metadata": {},
   "source": [
    "**Iteration:**\n",
    "* for\n",
    "* while\n",
    "* break\n",
    "* continue"
   ]
  },
  {
   "cell_type": "code",
   "execution_count": 29,
   "id": "f9e74f54",
   "metadata": {},
   "outputs": [
    {
     "name": "stdout",
     "output_type": "stream",
     "text": [
      "0 1 2 3 4 \n",
      "1 2 3 4 5 \n",
      "0 1 2 3 4 \n",
      "1 3 5 7 9 "
     ]
    }
   ],
   "source": [
    "for i in range(5):\n",
    "    print(i,end=\" \")\n",
    "\n",
    "print()\n",
    "i,n=1,5\n",
    "while i<=n:\n",
    "    print(i,end=\" \")\n",
    "    i+=1\n",
    "\n",
    "print() \n",
    "for i in range(10):\n",
    "    if i ==5:\n",
    "        break\n",
    "    print(i,end=\" \")\n",
    "print()\n",
    "\n",
    "for i in range(10):\n",
    "    if i %2==0:\n",
    "        continue\n",
    "    print(i,end=\" \")\n",
    "\n",
    "number = 0"
   ]
  },
  {
   "cell_type": "markdown",
   "id": "5f29f256",
   "metadata": {},
   "source": [
    "**Structural:**\n",
    "* def\n",
    "* class\n",
    "* with\n",
    "* as\n",
    "* pass\n",
    "* lambda\n",
    "**Return:**\n",
    "* return\n",
    "* yield\n",
    "\n",
    "**Import:**\n",
    "* from \n",
    "* as\n",
    "\n",
    "**Exception handling:**\n",
    "* try\n",
    "* except\n",
    "* raise\n",
    "* finally\n",
    "* assert\n",
    "\n",
    "**Asynchronous:**\n",
    "* async\n",
    "* await\n",
    "\n",
    "**Variable Handling:**\n",
    "* del\n",
    "* global\n",
    "* nonlocal"
   ]
  },
  {
   "cell_type": "markdown",
   "id": "005ae481",
   "metadata": {},
   "source": [
    "### Literals"
   ]
  },
  {
   "cell_type": "markdown",
   "id": "99d11871",
   "metadata": {},
   "source": [
    "The data that we assign to a variable or a constant, is called a literal.\n",
    "\n",
    "**Types of Literals:**\n",
    "* String -> a series of characters surrounded by quotes. When we say quotes, they can be single, double, or triple quotes.\n",
    "* Numeric -> immutable (unchangeable)\n",
    "* Boolean -> True or False\n",
    "* Collections\n",
    "* Special literals"
   ]
  },
  {
   "cell_type": "code",
   "execution_count": 30,
   "id": "28c086c9",
   "metadata": {},
   "outputs": [
    {
     "name": "stdout",
     "output_type": "stream",
     "text": [
      "Python is easy\n",
      "Welcome\n",
      "Welcome to Python\n",
      "\n",
      "Welcome to Python \n",
      "B\n"
     ]
    }
   ],
   "source": [
    "#string\n",
    "nrml_lit='Python is easy'\n",
    "dou_lit=\"Welcome\"\n",
    "mul_dou_line_lit=\"Welcome \\\n",
    "to \\\n",
    "Python\"\n",
    "mul_tri_line_lit=\"\"\"\n",
    "Welcome \\\n",
    "to \\\n",
    "Python \"\"\"\n",
    "cha_lit='B'\n",
    "\n",
    "print(nrml_lit)\n",
    "print(dou_lit)\n",
    "print(mul_dou_line_lit)\n",
    "print(mul_tri_line_lit)\n",
    "print(cha_lit)"
   ]
  },
  {
   "cell_type": "code",
   "execution_count": 32,
   "id": "86a5ea5f",
   "metadata": {},
   "outputs": [
    {
     "name": "stdout",
     "output_type": "stream",
     "text": [
      "2586 -9856\n",
      "21 505 232 299\n",
      "42.3 350.0\n",
      "3.14j 3.14 0.0\n"
     ]
    }
   ],
   "source": [
    "#numeric\n",
    "\n",
    "# integer literal\n",
    "\n",
    "x=2586      #positive whole numbers\n",
    "y = -9856   #negative whole numbers\n",
    "a = 0b10101 # binary literal\n",
    "b = 505     # decimal literal\n",
    "c = 0o350   # octal literal\n",
    "d = 0x12b   # hexadecimal literal\n",
    "print (x,y)\n",
    "print(a, b, c, d)\n",
    "\n",
    "#Float\n",
    "float_1 = 42.3\n",
    "float_2 = 3.5e2\n",
    "print(float_1, float_2)\n",
    "\n",
    "#Complex Literal\n",
    "complex_num = 3.14j\n",
    "print(complex_num, complex_num.imag, complex_num.real)"
   ]
  },
  {
   "cell_type": "code",
   "execution_count": 33,
   "id": "0f0a1608",
   "metadata": {},
   "outputs": [
    {
     "name": "stdout",
     "output_type": "stream",
     "text": [
      "x is True\n",
      "y is False\n"
     ]
    }
   ],
   "source": [
    "#Boolean\n",
    "#boolean literals\n",
    "x = (1 == 1)  \n",
    "y = (7 == False) \n",
    "print(\"x is\", x)  \n",
    "print(\"y is\", y)"
   ]
  },
  {
   "cell_type": "code",
   "execution_count": 34,
   "id": "58eabf3e",
   "metadata": {},
   "outputs": [
    {
     "name": "stdout",
     "output_type": "stream",
     "text": [
      "['lilly', 'rose', 'tulip']\n",
      "(1, 3, 5)\n",
      "{'a': 'avengers', 'b': 'black_panther', 'c': 'captain_america'}\n",
      "{'u', 'e', 'a', 'i', 'o'}\n"
     ]
    }
   ],
   "source": [
    "#collection\n",
    "flowers = [\"lilly\", \"rose\", \"tulip\"] #list\n",
    "numbers = (1, 3, 5) #tuple\n",
    "alphabets = {'a':'avengers', 'b':'black_panther', 'c':'captain_america'} #dictionary\n",
    "vowels = {'a', 'e', 'i' , 'o', 'u'} #set\n",
    "\n",
    "print(flowers)\n",
    "print(numbers)\n",
    "print(alphabets)\n",
    "print(vowels)"
   ]
  },
  {
   "cell_type": "code",
   "execution_count": 35,
   "id": "4628dd3d",
   "metadata": {},
   "outputs": [
    {
     "name": "stdout",
     "output_type": "stream",
     "text": [
      "Available\n",
      "None\n"
     ]
    }
   ],
   "source": [
    "#special -None\n",
    "deadpool_1 = \"Available\"\n",
    "deadpool_2 = None\n",
    "\n",
    "def movie(x):\n",
    "    if x == deadpool_1:\n",
    "        print(deadpool_1)\n",
    "    else:\n",
    "        print(deadpool_2)\n",
    "\n",
    "movie(deadpool_1)\n",
    "movie(deadpool_2)"
   ]
  },
  {
   "cell_type": "code",
   "execution_count": null,
   "id": "8212ff33",
   "metadata": {},
   "outputs": [],
   "source": []
  }
 ],
 "metadata": {
  "kernelspec": {
   "display_name": "Python 3 (ipykernel)",
   "language": "python",
   "name": "python3"
  },
  "language_info": {
   "codemirror_mode": {
    "name": "ipython",
    "version": 3
   },
   "file_extension": ".py",
   "mimetype": "text/x-python",
   "name": "python",
   "nbconvert_exporter": "python",
   "pygments_lexer": "ipython3",
   "version": "3.10.9"
  }
 },
 "nbformat": 4,
 "nbformat_minor": 5
}
