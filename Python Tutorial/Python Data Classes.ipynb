{
 "cells": [
  {
   "cell_type": "markdown",
   "id": "f2fed680",
   "metadata": {},
   "source": [
    "The data class decorator is a feature introduced in Python 3.7 that provides a concise way to define class primarily intended to store data."
   ]
  },
  {
   "cell_type": "code",
   "execution_count": 7,
   "id": "50123c3a",
   "metadata": {},
   "outputs": [
    {
     "name": "stdout",
     "output_type": "stream",
     "text": [
      "<__main__.Person object at 0x000001A664F7D810>\n",
      "Durga 23\n"
     ]
    }
   ],
   "source": [
    "class Person:\n",
    "    def __init__(self,name,age):\n",
    "        self.name=name\n",
    "        self.age=age\n",
    "p=Person('Durga',23)\n",
    "print(p)\n",
    "print(p.name,p.age)"
   ]
  },
  {
   "cell_type": "code",
   "execution_count": 3,
   "id": "b3075ff7",
   "metadata": {},
   "outputs": [
    {
     "name": "stdout",
     "output_type": "stream",
     "text": [
      "Person(name='Durga', age=23)\n"
     ]
    }
   ],
   "source": [
    "from dataclasses import dataclass\n",
    "@dataclass\n",
    "class Person:\n",
    "    name:str\n",
    "    age:int\n",
    "p=Person(\"Durga\",23) \n",
    "print(p)"
   ]
  },
  {
   "cell_type": "code",
   "execution_count": 11,
   "id": "0ed09657",
   "metadata": {},
   "outputs": [
    {
     "name": "stdout",
     "output_type": "stream",
     "text": [
      "Person(name='Durga', age=23, profession='AI') \n",
      " Person(name='Prasad', age=23, profession='Data Scientist') \n",
      " Person(name='Attaluri', age=23, profession='Data Scientist')\n"
     ]
    }
   ],
   "source": [
    "@dataclass\n",
    "class Person:\n",
    "    name:str\n",
    "    age:int\n",
    "    profession:str='Data Scientist'\n",
    "p1=Person(\"Durga\",23,'AI')\n",
    "p2=Person(\"Prasad\",23)\n",
    "p3=Person(\"Attaluri\",23)\n",
    "print(p1,\"\\n\",p2,\"\\n\",p3)"
   ]
  },
  {
   "cell_type": "code",
   "execution_count": 12,
   "id": "9ebbf131",
   "metadata": {},
   "outputs": [
    {
     "name": "stdout",
     "output_type": "stream",
     "text": [
      "Person(name='Durga', age=23, profession='AI') \n",
      " Person(name='Prasad', age=23, profession='ML') \n",
      " Person(name='Attaluri', age=23, profession='Data Scientist')\n"
     ]
    }
   ],
   "source": [
    "p2.profession='ML'\n",
    "print(p1,\"\\n\",p2,\"\\n\",p3)"
   ]
  },
  {
   "cell_type": "code",
   "execution_count": 1,
   "id": "33afca42",
   "metadata": {},
   "outputs": [
    {
     "name": "stdout",
     "output_type": "stream",
     "text": [
      "Alice\n",
      "26\n",
      "Hi, my name is Alice. I am 26 years old and work as a teacher.\n"
     ]
    }
   ],
   "source": [
    "from dataclasses import dataclass\n",
    "\n",
    "@dataclass\n",
    "class Person:\n",
    "    name: str\n",
    "    age: int\n",
    "    occupation: str\n",
    "\n",
    "    def introduce(self):\n",
    "        print(f\"Hi, my name is {self.name}. I am {self.age} years old and work as a {self.occupation}.\")\n",
    "\n",
    "# Create an instance of the Person class\n",
    "person1 = Person(\"Alice\", 25, \"teacher\")\n",
    "\n",
    "# Access and modify attributes\n",
    "print(person1.name)  # Output: Alice\n",
    "person1.age = 26\n",
    "print(person1.age)  # Output: 26\n",
    "\n",
    "# Call methods\n",
    "person1.introduce()  # Output: Hi, my name is Alice. I am 26 years old and work as a teacher."
   ]
  },
  {
   "cell_type": "code",
   "execution_count": 3,
   "id": "ce4ff708",
   "metadata": {},
   "outputs": [
    {
     "name": "stdout",
     "output_type": "stream",
     "text": [
      "Alice\n",
      "26\n",
      "Hi, my name is Alice. I am 26 years old and work as a teacher.\n"
     ]
    }
   ],
   "source": [
    "from dataclasses import dataclass\n",
    "\n",
    "@dataclass\n",
    "class Person:\n",
    "    def __init__(self, name: str, age: int, occupation: str):\n",
    "        self.name = name\n",
    "        self.age = age\n",
    "        self.occupation = occupation\n",
    "\n",
    "    def introduce(self):\n",
    "        print(f\"Hi, my name is {self.name}. I am {self.age} years old and work as a {self.occupation}.\")\n",
    "\n",
    "# Create an instance of the Person class\n",
    "person1 = Person(\"Alice\", 25, \"teacher\")\n",
    "\n",
    "# Access and modify attributes\n",
    "print(person1.name)  # Output: Alice\n",
    "person1.age = 26\n",
    "print(person1.age)  # Output: 26\n",
    "\n",
    "# Call methods\n",
    "person1.introduce()  # Output: Hi, my name is Alice. I am 26 years old and work as a teacher."
   ]
  },
  {
   "cell_type": "code",
   "execution_count": 9,
   "id": "edde2bb1",
   "metadata": {},
   "outputs": [
    {
     "name": "stdout",
     "output_type": "stream",
     "text": [
      "Hi, my name is Durga. I am 23 years old and from ABC.\n"
     ]
    }
   ],
   "source": [
    "from dataclasses import dataclass\n",
    "\n",
    "@dataclass\n",
    "class Student:\n",
    "    name: str\n",
    "    age: int\n",
    "    sch: str = 'ABC'\n",
    "\n",
    "    def show(self):\n",
    "        print(f\"Hi, my name is {self.name}. I am {self.age} years old and from {self.sch}.\")\n",
    "\n",
    "s = Student(\"Durga\", 23)\n",
    "s.show()"
   ]
  },
  {
   "cell_type": "code",
   "execution_count": 16,
   "id": "7e283ac3",
   "metadata": {},
   "outputs": [
    {
     "name": "stdout",
     "output_type": "stream",
     "text": [
      "Hi, my name is Durga. I am 23 years old and from ABC.\n",
      "Hi, my name is Prasad. I am 24 years old and from ABC.\n"
     ]
    }
   ],
   "source": [
    "from dataclasses import dataclass\n",
    "\n",
    "@dataclass\n",
    "class Student:\n",
    "    name: str\n",
    "    age: int\n",
    "    sch: str = 'ABC'\n",
    "\n",
    "    def show(self):\n",
    "        print(f\"Hi, my name is {self.name}. I am {self.age} years old and from {self.sch}.\")\n",
    "        \n",
    "    def cha_name(self,new_name):\n",
    "        print(f\"Hi, my name is {new_name}. I am {self.age} years old and from {self.sch}.\")\n",
    "\n",
    "s1 = Student(\"Durga\", 23)\n",
    "s1.show()\n",
    "s2=Student(\"Durga\",24)\n",
    "s2.cha_name(\"Prasad\")"
   ]
  },
  {
   "cell_type": "code",
   "execution_count": 16,
   "id": "f0ff7aa5",
   "metadata": {},
   "outputs": [
    {
     "ename": "FrozenInstanceError",
     "evalue": "cannot assign to field 'school'",
     "output_type": "error",
     "traceback": [
      "\u001b[1;31m---------------------------------------------------------------------------\u001b[0m",
      "\u001b[1;31mFrozenInstanceError\u001b[0m                       Traceback (most recent call last)",
      "Cell \u001b[1;32mIn[16], line 8\u001b[0m\n\u001b[0;32m      6\u001b[0m     age:\u001b[38;5;28mint\u001b[39m\n\u001b[0;32m      7\u001b[0m s1\u001b[38;5;241m=\u001b[39mSchool(\u001b[38;5;124m'\u001b[39m\u001b[38;5;124mABC\u001b[39m\u001b[38;5;124m'\u001b[39m,\u001b[38;5;124m'\u001b[39m\u001b[38;5;124mDurga\u001b[39m\u001b[38;5;124m'\u001b[39m,\u001b[38;5;241m23\u001b[39m)\n\u001b[1;32m----> 8\u001b[0m s1\u001b[38;5;241m.\u001b[39mschool\u001b[38;5;241m=\u001b[39m\u001b[38;5;124m'\u001b[39m\u001b[38;5;124mXYZ\u001b[39m\u001b[38;5;124m'\u001b[39m\n",
      "File \u001b[1;32m<string>:4\u001b[0m, in \u001b[0;36m__setattr__\u001b[1;34m(self, name, value)\u001b[0m\n",
      "\u001b[1;31mFrozenInstanceError\u001b[0m: cannot assign to field 'school'"
     ]
    }
   ],
   "source": [
    "#Immutable class ->once the object is intialized we can't change\n",
    "@dataclass(frozen=True)\n",
    "class School:\n",
    "    school:str\n",
    "    name:str\n",
    "    age:int\n",
    "s1=School('ABC','Durga',23)\n",
    "s1.school='XYZ'"
   ]
  },
  {
   "cell_type": "code",
   "execution_count": 19,
   "id": "986cff58",
   "metadata": {},
   "outputs": [
    {
     "name": "stdout",
     "output_type": "stream",
     "text": [
      "Person(name='Durga', age=23) \n",
      " Employee(name='Prasad', age=23, e_id=181901, dept='AI')\n"
     ]
    }
   ],
   "source": [
    "#with inheritance\n",
    "@dataclass\n",
    "class Person:\n",
    "    name:str\n",
    "    age:int\n",
    "    \n",
    "@dataclass\n",
    "class Employee(Person):\n",
    "    e_id:int\n",
    "    dept:str\n",
    "        \n",
    "p=Person(\"Durga\",23)\n",
    "e=Employee(\"Prasad\",23,181901,'AI')\n",
    "print(p,\"\\n\",e)"
   ]
  },
  {
   "cell_type": "code",
   "execution_count": 22,
   "id": "7ed36401",
   "metadata": {},
   "outputs": [
    {
     "name": "stdout",
     "output_type": "stream",
     "text": [
      "Person(name='Durga', age=23, add='Hyd') \n",
      " Address(street='Pattabhi', city='Vij') \n",
      " Person(name='Prasad', age=23, add=Address(street='Pattabhi', city='Vij'))\n"
     ]
    }
   ],
   "source": [
    "#nested dataclass\n",
    "@dataclass\n",
    "class Person:\n",
    "    name:str\n",
    "    age:int\n",
    "    add:str\n",
    "    \n",
    "@dataclass\n",
    "class Address():\n",
    "    street:str\n",
    "    city:str\n",
    "        \n",
    "p1=Person(\"Durga\",23,'Hyd')\n",
    "e=Address('Pattabhi','Vij')\n",
    "p2=Person(\"Prasad\",23,e)\n",
    "print(p1,\"\\n\",e,\"\\n\",p2)"
   ]
  },
  {
   "cell_type": "code",
   "execution_count": 18,
   "id": "bf8243cd",
   "metadata": {},
   "outputs": [
    {
     "name": "stdout",
     "output_type": "stream",
     "text": [
      "Hi, my name is Durga. I am 23 years old and from ABC school.\n",
      "This is a static method example.\n"
     ]
    }
   ],
   "source": [
    "from dataclasses import dataclass\n",
    "\n",
    "@dataclass\n",
    "class Student:\n",
    "    name: str\n",
    "    age: int\n",
    "    sch: str = 'ABC'\n",
    "\n",
    "    def show(self):\n",
    "        print(f\"Hi, my name is {self.name}. I am {self.age} years old and from {self.sch} school.\")\n",
    "\n",
    "    @staticmethod\n",
    "    def static_method_example():\n",
    "        print(\"This is a static method example.\")\n",
    "\n",
    "# Create an instance of the Student class\n",
    "s = Student(\"Durga\", 23)\n",
    "s.show()\n",
    "\n",
    "# Call the static method\n",
    "Student.static_method_example()"
   ]
  },
  {
   "cell_type": "code",
   "execution_count": 21,
   "id": "51a72f86",
   "metadata": {},
   "outputs": [
    {
     "name": "stdout",
     "output_type": "stream",
     "text": [
      "3\n",
      "sim id:1\n",
      "customer name:raj\n",
      "balance:100\n",
      "rate per second:1.5\n",
      "circle:kol\n",
      "\n",
      "sim id:2\n",
      "customer name:chetan\n",
      "balance:200\n",
      "rate per second:1.6\n",
      "circle:ahd\n",
      "\n",
      "sim id:3\n",
      "customer name:asha\n",
      "balance:150\n",
      "rate per second:1.7\n",
      "circle:ahd\n",
      "\n",
      "ahd\n",
      "kol\n",
      "3 asha kol 1.7\n",
      "2 chetan kol 1.6\n"
     ]
    }
   ],
   "source": [
    "from dataclasses import dataclass\n",
    "\n",
    "@dataclass\n",
    "class Sim:\n",
    "    simId: int\n",
    "    customerName: str\n",
    "    balance: float\n",
    "    ratePerSecond: float\n",
    "    circle: str\n",
    "\n",
    "@dataclass\n",
    "class Solution:\n",
    "    @staticmethod\n",
    "    def transferCustomerCircle(sim_arr, circle1, circle2):\n",
    "        c_lis = []\n",
    "        for sim in sim_arr:\n",
    "            if sim.circle.lower() == circle1.lower():\n",
    "                sim.circle = circle2\n",
    "                c_lis.append(sim)\n",
    "        sorted_lis = sorted(c_lis, key=lambda x: x.ratePerSecond, reverse=True)\n",
    "        return sorted_lis\n",
    "\n",
    "\n",
    "n = int(input())\n",
    "s_lst = []\n",
    "for i in range(n):\n",
    "    s_id = int(input(\"sim id:\"))\n",
    "    cname = input(\"customer name:\")\n",
    "    bal = float(input(\"balance:\"))\n",
    "    rps = float(input(\"rate per second:\"))\n",
    "    cir = input(\"circle:\")\n",
    "    print()\n",
    "    s_lst.append(Sim(s_id, cname, bal, rps, cir))\n",
    "\n",
    "circle1 = input()\n",
    "circle2 = input()\n",
    "\n",
    "transferred_sims = Solution.transferCustomerCircle(s_lst, circle1, circle2)\n",
    "\n",
    "for sim in transferred_sims:\n",
    "    print(sim.simId, sim.customerName, sim.circle, sim.ratePerSecond)"
   ]
  },
  {
   "cell_type": "code",
   "execution_count": null,
   "id": "c9cfa5a0",
   "metadata": {},
   "outputs": [],
   "source": []
  }
 ],
 "metadata": {
  "kernelspec": {
   "display_name": "Python 3 (ipykernel)",
   "language": "python",
   "name": "python3"
  },
  "language_info": {
   "codemirror_mode": {
    "name": "ipython",
    "version": 3
   },
   "file_extension": ".py",
   "mimetype": "text/x-python",
   "name": "python",
   "nbconvert_exporter": "python",
   "pygments_lexer": "ipython3",
   "version": "3.10.9"
  }
 },
 "nbformat": 4,
 "nbformat_minor": 5
}
