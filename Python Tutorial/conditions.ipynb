{
 "cells": [
  {
   "cell_type": "markdown",
   "id": "52347e16",
   "metadata": {},
   "source": [
    "## If\n",
    "<img src=\"https://files.realpython.com/media/t.78f3bacaa261.png\" width=\"300px\">"
   ]
  },
  {
   "cell_type": "code",
   "execution_count": 1,
   "id": "d16f1137",
   "metadata": {},
   "outputs": [
    {
     "name": "stdout",
     "output_type": "stream",
     "text": [
      "After conditional\n"
     ]
    }
   ],
   "source": [
    "if 'foo' in ['bar', 'baz', 'qux']:\n",
    "    print('Expression was true')\n",
    "    print('Executing statement in suite')\n",
    "    print('...')\n",
    "    print('Done.')\n",
    "print('After conditional')"
   ]
  },
  {
   "cell_type": "markdown",
   "id": "55356216",
   "metadata": {},
   "source": [
    "## else"
   ]
  },
  {
   "cell_type": "code",
   "execution_count": 5,
   "id": "fe5fd35a",
   "metadata": {},
   "outputs": [
    {
     "name": "stdout",
     "output_type": "stream",
     "text": [
      "x is smaller than y.\n"
     ]
    }
   ],
   "source": [
    "x,y= 3,10\n",
    "if x > y: print(\"x is greater than y. \")\n",
    "else: print(\"x is smaller than y.\")"
   ]
  },
  {
   "cell_type": "markdown",
   "id": "6a3dff28",
   "metadata": {},
   "source": [
    "## elif"
   ]
  },
  {
   "cell_type": "code",
   "execution_count": 6,
   "id": "03f6c61f",
   "metadata": {},
   "outputs": [
    {
     "name": "stdout",
     "output_type": "stream",
     "text": [
      "x = y.\n"
     ]
    }
   ],
   "source": [
    "x,y= 3,3\n",
    "if x > y: print(\"x is greater than y. \")\n",
    "elif x<y: print(\"x is smaller than y.\")\n",
    "else: print(\"x = y.\")"
   ]
  },
  {
   "cell_type": "code",
   "execution_count": 7,
   "id": "7e8c0f1e",
   "metadata": {},
   "outputs": [
    {
     "name": "stdout",
     "output_type": "stream",
     "text": [
      "I'll build a snowman.\n"
     ]
    }
   ],
   "source": [
    "tomorrow = \"snowy\"\n",
    "\n",
    "if tomorrow == \"warm\":\n",
    "    print(\"I'll go to the sea.\")\n",
    "elif tomorrow == \"very hot\":\n",
    "    print(\"I'll go to the forest.\")\n",
    "elif tomorrow == \"snowy\":\n",
    "    print(\"I'll build a snowman.\")\n",
    "elif tomorrow == \"rainy\":\n",
    "    print(\"I'll stay home.\")\n",
    "else:\n",
    "    print(\"Weather not recognized.\")"
   ]
  },
  {
   "cell_type": "markdown",
   "id": "d653f093",
   "metadata": {},
   "source": [
    "## Nested If "
   ]
  },
  {
   "cell_type": "code",
   "execution_count": 3,
   "id": "355106b5",
   "metadata": {},
   "outputs": [
    {
     "name": "stdout",
     "output_type": "stream",
     "text": [
      "Enter first number: 5\n",
      "Enter second number: 6\n",
      "Enter third number: 1\n",
      "6 is the greatest number among the three\n"
     ]
    }
   ],
   "source": [
    "# Python Program to display the greatest among three \n",
    "# distinct numbers using nested if statement\n",
    "\n",
    "# Inputting the three numbers\n",
    "a = int(input(\"Enter first number: \"))\n",
    "b = int(input(\"Enter second number: \"))\n",
    "c = int(input(\"Enter third number: \"))\n",
    "\n",
    "# If a is greater than b\n",
    "if a > b:               \n",
    "    # If b is greater than c\n",
    "    if a > c:\n",
    "        print(f\"{a} is the greatest number among the three\")\n",
    "\n",
    "# If b is greater than c\n",
    "if b > c:\n",
    "    # If b is greater than a\n",
    "    if b > a:\n",
    "        print(f\"{b} is the greatest number among the three\")\n",
    "        \n",
    "# If c is greater than a\n",
    "if c > a:\n",
    "    # If c is greater than b\n",
    "    if c > b:\n",
    "        print(f\"{c} is the greatest number among the three\")"
   ]
  },
  {
   "cell_type": "code",
   "execution_count": 2,
   "id": "b4802716",
   "metadata": {},
   "outputs": [
    {
     "name": "stdout",
     "output_type": "stream",
     "text": [
      "Enter any year: 2004\n",
      "2004 is a leap year.\n"
     ]
    }
   ],
   "source": [
    "# Python Program to check if the given year is a leap year or not\n",
    "\n",
    "# Inputting the year\n",
    "year = int(input(\"Enter any year: \"))\n",
    "\n",
    "if year % 4 == 0:    # if the year is divisible by 4\n",
    "    if year % 100 == 0:    # if the year is divisible by 100\n",
    "        if year % 400 == 0:    # if the year is divisible by 400\n",
    "            print(f\"{year} is a leap year.\")\n",
    "        else:    # if the year is divisible by 100 but not 400\n",
    "            print(f\"{year} is not a leap year.\")\n",
    "    else:    # if the year is divisible by 4 but not 100\n",
    "        print(f\"{year} is a leap year.\")\n",
    "else:    # if the year is not divisible by 4   \n",
    "    print(f\"{year} is not a leap year.\")"
   ]
  },
  {
   "cell_type": "code",
   "execution_count": 12,
   "id": "4a86d333",
   "metadata": {},
   "outputs": [
    {
     "name": "stdout",
     "output_type": "stream",
     "text": [
      "-5\n",
      "There is no negative morning. Plz check again.\n"
     ]
    }
   ],
   "source": [
    "marks=int(input())\n",
    "if marks>=60 and marks<=100:\n",
    "    if marks>=90:\n",
    "        print(\"O grade\")\n",
    "    elif marks>=80:\n",
    "        print(\"A grade\")\n",
    "    elif marks>=70:\n",
    "        print(\"B grade\")\n",
    "    else:\n",
    "        print(\"C grade\")\n",
    "elif marks>100:\n",
    "    print(\"Tot marks are 100 only. It is higher than 100.\")\n",
    "elif marks<0:\n",
    "    print(\"There is no negative morning. Plz check again.\")\n",
    "elif marks>45:\n",
    "    print(\"D grade.\")\n",
    "else:\n",
    "    print(\"Failed in exam\")"
   ]
  },
  {
   "cell_type": "code",
   "execution_count": null,
   "id": "53e481f0",
   "metadata": {},
   "outputs": [],
   "source": []
  }
 ],
 "metadata": {
  "kernelspec": {
   "display_name": "Python 3 (ipykernel)",
   "language": "python",
   "name": "python3"
  },
  "language_info": {
   "codemirror_mode": {
    "name": "ipython",
    "version": 3
   },
   "file_extension": ".py",
   "mimetype": "text/x-python",
   "name": "python",
   "nbconvert_exporter": "python",
   "pygments_lexer": "ipython3",
   "version": "3.10.9"
  }
 },
 "nbformat": 4,
 "nbformat_minor": 5
}
