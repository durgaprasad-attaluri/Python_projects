{
 "cells": [
  {
   "cell_type": "code",
   "execution_count": 3,
   "id": "a83e8f55",
   "metadata": {},
   "outputs": [
    {
     "data": {
      "text/plain": [
       "12.0"
      ]
     },
     "execution_count": 3,
     "metadata": {},
     "output_type": "execute_result"
    }
   ],
   "source": [
    "# using import statement\n",
    "import math\n",
    "\n",
    "# access a particular method from module\n",
    "math.sqrt(144)"
   ]
  },
  {
   "cell_type": "code",
   "execution_count": 4,
   "id": "d37ec0bd",
   "metadata": {},
   "outputs": [
    {
     "data": {
      "text/plain": [
       "0.0"
      ]
     },
     "execution_count": 4,
     "metadata": {},
     "output_type": "execute_result"
    }
   ],
   "source": [
    "# using from statement\n",
    "from math import sin\n",
    "sin(0)"
   ]
  },
  {
   "cell_type": "code",
   "execution_count": 5,
   "id": "97de0db9",
   "metadata": {},
   "outputs": [
    {
     "data": {
      "text/plain": [
       "(1.0, 1.6197751905438615)"
      ]
     },
     "execution_count": 5,
     "metadata": {},
     "output_type": "execute_result"
    }
   ],
   "source": [
    "from math import cos, tan\n",
    "\n",
    "# access a particular method from module\n",
    "cos(0), tan(45)"
   ]
  },
  {
   "cell_type": "code",
   "execution_count": 6,
   "id": "64b95430",
   "metadata": {},
   "outputs": [
    {
     "data": {
      "text/plain": [
       "8.0"
      ]
     },
     "execution_count": 6,
     "metadata": {},
     "output_type": "execute_result"
    }
   ],
   "source": [
    "from math import *\n",
    "pow(2,3)"
   ]
  },
  {
   "cell_type": "markdown",
   "id": "b8b1d713",
   "metadata": {},
   "source": [
    "### math module"
   ]
  },
  {
   "cell_type": "code",
   "execution_count": 7,
   "id": "bdb1b49d",
   "metadata": {},
   "outputs": [],
   "source": [
    "from math import *"
   ]
  },
  {
   "cell_type": "code",
   "execution_count": 17,
   "id": "d44b9e16",
   "metadata": {},
   "outputs": [],
   "source": [
    "#help(math)"
   ]
  },
  {
   "cell_type": "code",
   "execution_count": 10,
   "id": "46684075",
   "metadata": {},
   "outputs": [
    {
     "data": {
      "text/plain": [
       "(5.0, 2.23606797749979)"
      ]
     },
     "execution_count": 10,
     "metadata": {},
     "output_type": "execute_result"
    }
   ],
   "source": [
    "sqrt(25), sqrt(5)"
   ]
  },
  {
   "cell_type": "code",
   "execution_count": 9,
   "id": "11065518",
   "metadata": {},
   "outputs": [
    {
     "data": {
      "text/plain": [
       "(3, 2)"
      ]
     },
     "execution_count": 9,
     "metadata": {},
     "output_type": "execute_result"
    }
   ],
   "source": [
    "# ceil(x) return the smallest integer not less than x\n",
    "  # ceil(6.1) returns 7 in the set of {1,2,3,4,5,6,7,8,....}  smallest after x\n",
    "\n",
    "# floor(x) return the largest integer not greater than x\n",
    "  # floor(6.1) returns 6 in the set of {1,2,3,4,5,6,7,8,....}  largest before x\n",
    "\n",
    "ceil(sqrt(5)), floor(sqrt(5))"
   ]
  },
  {
   "cell_type": "code",
   "execution_count": 11,
   "id": "b4770e48",
   "metadata": {},
   "outputs": [
    {
     "data": {
      "text/plain": [
       "(-2, -3)"
      ]
     },
     "execution_count": 11,
     "metadata": {},
     "output_type": "execute_result"
    }
   ],
   "source": [
    "ceil(-2.6), floor(-2.6)"
   ]
  },
  {
   "cell_type": "code",
   "execution_count": 13,
   "id": "acb1b2c6",
   "metadata": {},
   "outputs": [
    {
     "data": {
      "text/plain": [
       "(625.0, 6.25)"
      ]
     },
     "execution_count": 13,
     "metadata": {},
     "output_type": "execute_result"
    }
   ],
   "source": [
    "pow(5,4), pow(2.5,2)  # we can use pow() without importing math module and it returns in int format"
   ]
  },
  {
   "cell_type": "code",
   "execution_count": 15,
   "id": "f901e2db",
   "metadata": {},
   "outputs": [],
   "source": [
    "#pow(2,4,5)  # 2^4=16%5=1; if we run without importing math we get output o.w we get error"
   ]
  },
  {
   "cell_type": "code",
   "execution_count": 19,
   "id": "9586aafb",
   "metadata": {},
   "outputs": [
    {
     "data": {
      "text/plain": [
       "(16, 16.23)"
      ]
     },
     "execution_count": 19,
     "metadata": {},
     "output_type": "execute_result"
    }
   ],
   "source": [
    "abs(16), abs(-16.23)"
   ]
  },
  {
   "cell_type": "code",
   "execution_count": 20,
   "id": "dc2c8d5b",
   "metadata": {},
   "outputs": [
    {
     "data": {
      "text/plain": [
       "(16.0, 16.0, 16.123, 25.32)"
      ]
     },
     "execution_count": 20,
     "metadata": {},
     "output_type": "execute_result"
    }
   ],
   "source": [
    "# floating absolute value\n",
    "fabs(16),fabs(-16.0),fabs(-16.123), fabs(25.32)"
   ]
  },
  {
   "cell_type": "code",
   "execution_count": 31,
   "id": "3a8c21d8",
   "metadata": {},
   "outputs": [
    {
     "data": {
      "text/plain": [
       "(114.59155902616465,\n",
       " 143.2394487827058,\n",
       " -171.88733853924697,\n",
       " 1718.8733853924696)"
      ]
     },
     "execution_count": 31,
     "metadata": {},
     "output_type": "execute_result"
    }
   ],
   "source": [
    "# degrees(x): converts angle x from radians to degrees; x must be numerical\n",
    "degrees(2), degrees(2.5), degrees(-3.0), degrees(30)"
   ]
  },
  {
   "cell_type": "code",
   "execution_count": 32,
   "id": "c4a0ad21",
   "metadata": {},
   "outputs": [
    {
     "data": {
      "text/plain": [
       "(3.0, 0.5235987755982988, -0.01724440495424737)"
      ]
     },
     "execution_count": 32,
     "metadata": {},
     "output_type": "execute_result"
    }
   ],
   "source": [
    "radians(171.88733853924697), radians(30), radians(-0.9880316240928618)"
   ]
  },
  {
   "cell_type": "code",
   "execution_count": 29,
   "id": "7d2b9e5c",
   "metadata": {},
   "outputs": [
    {
     "data": {
      "text/plain": [
       "-0.9880316240928618"
      ]
     },
     "execution_count": 29,
     "metadata": {},
     "output_type": "execute_result"
    }
   ],
   "source": [
    "sin(30)"
   ]
  },
  {
   "cell_type": "code",
   "execution_count": 25,
   "id": "b1f1407f",
   "metadata": {},
   "outputs": [
    {
     "data": {
      "text/plain": [
       "(3.141592653589793, 2.718281828459045)"
      ]
     },
     "execution_count": 25,
     "metadata": {},
     "output_type": "execute_result"
    }
   ],
   "source": [
    "# constants in math\n",
    "pi, e"
   ]
  },
  {
   "cell_type": "code",
   "execution_count": 27,
   "id": "7fc1ad06",
   "metadata": {},
   "outputs": [
    {
     "data": {
      "text/plain": [
       "120"
      ]
     },
     "execution_count": 27,
     "metadata": {},
     "output_type": "execute_result"
    }
   ],
   "source": [
    "factorial(5)"
   ]
  },
  {
   "cell_type": "code",
   "execution_count": 28,
   "id": "0fe894ce",
   "metadata": {},
   "outputs": [
    {
     "name": "stdout",
     "output_type": "stream",
     "text": [
      "Help on built-in function cosh in module math:\n",
      "\n",
      "cosh(x, /)\n",
      "    Return the hyperbolic cosine of x.\n",
      "\n"
     ]
    }
   ],
   "source": [
    "help(cosh)"
   ]
  },
  {
   "cell_type": "markdown",
   "id": "c8cbc6a5",
   "metadata": {},
   "source": [
    "### Random"
   ]
  },
  {
   "cell_type": "code",
   "execution_count": 2,
   "id": "a5f3039e",
   "metadata": {},
   "outputs": [],
   "source": [
    "# random()\n",
    "import random"
   ]
  },
  {
   "cell_type": "code",
   "execution_count": 35,
   "id": "3f5e2aba",
   "metadata": {},
   "outputs": [
    {
     "data": {
      "text/plain": [
       "0.14021303399670815"
      ]
     },
     "execution_count": 35,
     "metadata": {},
     "output_type": "execute_result"
    }
   ],
   "source": [
    "random.random()  # float value between 0 & 1"
   ]
  },
  {
   "cell_type": "code",
   "execution_count": 43,
   "id": "af1d28e5",
   "metadata": {},
   "outputs": [
    {
     "data": {
      "text/plain": [
       "(4, 6, 6)"
      ]
     },
     "execution_count": 43,
     "metadata": {},
     "output_type": "execute_result"
    }
   ],
   "source": [
    "# randrange(start, stop=None, step=1):- integer within given range excluding upper limit\n",
    "random.randrange(2,5), random.randrange(2,10,2), random.randrange(10)"
   ]
  },
  {
   "cell_type": "code",
   "execution_count": 44,
   "id": "91ab2620",
   "metadata": {},
   "outputs": [
    {
     "data": {
      "text/plain": [
       "10"
      ]
     },
     "execution_count": 44,
     "metadata": {},
     "output_type": "execute_result"
    }
   ],
   "source": [
    "random.randint(3,10) # between 3 and 10 include both boundaries 3, 10"
   ]
  },
  {
   "cell_type": "code",
   "execution_count": 46,
   "id": "aab1af87",
   "metadata": {},
   "outputs": [
    {
     "data": {
      "text/plain": [
       "4.760701910781545"
      ]
     },
     "execution_count": 46,
     "metadata": {},
     "output_type": "execute_result"
    }
   ],
   "source": [
    "# uniform:-  returns float between the given range exclude upper \n",
    "random.uniform(2,5)"
   ]
  },
  {
   "cell_type": "code",
   "execution_count": 50,
   "id": "454edf85",
   "metadata": {},
   "outputs": [
    {
     "data": {
      "text/plain": [
       "(4, 20)"
      ]
     },
     "execution_count": 50,
     "metadata": {},
     "output_type": "execute_result"
    }
   ],
   "source": [
    "# choice():- random number in a sequence(list, tuple, string)\n",
    "random.choice([1,2,3,4,5,6]), random.choice((10,20,30,40))"
   ]
  },
  {
   "cell_type": "code",
   "execution_count": 53,
   "id": "af6f7a10",
   "metadata": {},
   "outputs": [
    {
     "data": {
      "text/plain": [
       "'1'"
      ]
     },
     "execution_count": 53,
     "metadata": {},
     "output_type": "execute_result"
    }
   ],
   "source": [
    "random.choice('1234') # it generates either 1 or 2 or 3 or 4"
   ]
  },
  {
   "cell_type": "code",
   "execution_count": 55,
   "id": "876a99f2",
   "metadata": {},
   "outputs": [],
   "source": [
    "# shuffle()\n",
    "l=[10,20,30,40]\n",
    "random.shuffle(l)"
   ]
  },
  {
   "cell_type": "code",
   "execution_count": 56,
   "id": "6a7ddcb9",
   "metadata": {},
   "outputs": [
    {
     "data": {
      "text/plain": [
       "[30, 40, 20, 10]"
      ]
     },
     "execution_count": 56,
     "metadata": {},
     "output_type": "execute_result"
    }
   ],
   "source": [
    "l"
   ]
  },
  {
   "cell_type": "markdown",
   "id": "ccc8819d",
   "metadata": {},
   "source": [
    "statsmodels"
   ]
  },
  {
   "cell_type": "code",
   "execution_count": 3,
   "id": "a065b7ac",
   "metadata": {},
   "outputs": [],
   "source": [
    "from statistics import *"
   ]
  },
  {
   "cell_type": "code",
   "execution_count": 16,
   "id": "9adf8c3b",
   "metadata": {},
   "outputs": [],
   "source": [
    "#help(statistics)"
   ]
  },
  {
   "cell_type": "code",
   "execution_count": 4,
   "id": "17724e61",
   "metadata": {},
   "outputs": [
    {
     "data": {
      "text/plain": [
       "4"
      ]
     },
     "execution_count": 4,
     "metadata": {},
     "output_type": "execute_result"
    }
   ],
   "source": [
    "# mean\n",
    "mean([2,3,4,5,6])"
   ]
  },
  {
   "cell_type": "code",
   "execution_count": 6,
   "id": "b8a1c95b",
   "metadata": {},
   "outputs": [
    {
     "data": {
      "text/plain": [
       "2.75"
      ]
     },
     "execution_count": 6,
     "metadata": {},
     "output_type": "execute_result"
    }
   ],
   "source": [
    "# fmean:- floating point arithmetic mean\n",
    "  # runs faster than the mean() function and it always returns a float.\n",
    "fmean([1,3,5,2])"
   ]
  },
  {
   "cell_type": "markdown",
   "id": "4dddb13a",
   "metadata": {},
   "source": [
    "<img src=\"https://d138zd1ktt9iqe.cloudfront.net/media/seo_landing_files/harmonic-mean-formula-1633672497.png\" style=\"width:400px; height:150px\" align=\"left\">\n",
    "\n",
    "<img src=\"https://d138zd1ktt9iqe.cloudfront.net/media/seo_landing_files/geometric-mean-1643780418.png\" style=\"width:400px; height:150px\" align=\"right\">"
   ]
  },
  {
   "cell_type": "code",
   "execution_count": 9,
   "id": "b8ca8490",
   "metadata": {},
   "outputs": [
    {
     "data": {
      "text/plain": [
       "(2.213363839400643, 2.2133638394006434)"
      ]
     },
     "execution_count": 9,
     "metadata": {},
     "output_type": "execute_result"
    }
   ],
   "source": [
    "# geometric_mean: sqrt( [AM × HM] )\n",
    "24**(1/4), geometric_mean([1,2,3,4])   # 1x2x3x4=24; 24^(1/4)"
   ]
  },
  {
   "cell_type": "code",
   "execution_count": 13,
   "id": "ed6dc73c",
   "metadata": {},
   "outputs": [
    {
     "data": {
      "text/plain": [
       "(3.4615384615384617, 3.4615384615384617)"
      ]
     },
     "execution_count": 13,
     "metadata": {},
     "output_type": "execute_result"
    }
   ],
   "source": [
    "# harmonic mean: HM= 2/[(1/a) + (1/b)]\n",
    "3/((1/5)+(1/2)+(1/6)) ,harmonic_mean([5,2,6])"
   ]
  },
  {
   "cell_type": "code",
   "execution_count": 16,
   "id": "1f45d2a9",
   "metadata": {},
   "outputs": [
    {
     "data": {
      "text/plain": [
       "(45, 45.5)"
      ]
     },
     "execution_count": 16,
     "metadata": {},
     "output_type": "execute_result"
    }
   ],
   "source": [
    "median([23,2,464,45,56]), median([23,2,46,45,47,56])"
   ]
  },
  {
   "cell_type": "code",
   "execution_count": 4,
   "id": "9491f3dd",
   "metadata": {},
   "outputs": [
    {
     "data": {
      "text/plain": [
       "45"
      ]
     },
     "execution_count": 4,
     "metadata": {},
     "output_type": "execute_result"
    }
   ],
   "source": [
    "# Low median of data\n",
    "  # When the number of data points is odd, the middle value is returned.\n",
    "  # When it is even, the smaller of the two middle values is returned.\n",
    "median_low([23,2,46,45,47,56])"
   ]
  },
  {
   "cell_type": "code",
   "execution_count": 5,
   "id": "e804253c",
   "metadata": {},
   "outputs": [
    {
     "data": {
      "text/plain": [
       "52.5"
      ]
     },
     "execution_count": 5,
     "metadata": {},
     "output_type": "execute_result"
    }
   ],
   "source": [
    "median_grouped([52, 52, 53, 54]) # Return the 50th percentile (median) of grouped continuous data."
   ]
  },
  {
   "cell_type": "code",
   "execution_count": 6,
   "id": "8bef54ca",
   "metadata": {},
   "outputs": [
    {
     "data": {
      "text/plain": [
       "3"
      ]
     },
     "execution_count": 6,
     "metadata": {},
     "output_type": "execute_result"
    }
   ],
   "source": [
    "mode([1,2,3,3,4,4])"
   ]
  },
  {
   "cell_type": "code",
   "execution_count": 8,
   "id": "12e37a6e",
   "metadata": {},
   "outputs": [
    {
     "data": {
      "text/plain": [
       "([4], [2, 3, 4])"
      ]
     },
     "execution_count": 8,
     "metadata": {},
     "output_type": "execute_result"
    }
   ],
   "source": [
    "multimode([1,2,2,3,3,4,4,4]), multimode([1,2,2,3,3,4,4])"
   ]
  },
  {
   "cell_type": "code",
   "execution_count": 15,
   "id": "0e0cbd5d",
   "metadata": {},
   "outputs": [
    {
     "data": {
      "text/plain": [
       "([10.0], [7.666666666666667, 14.0], [5.5, 10.0, 16.0])"
      ]
     },
     "execution_count": 15,
     "metadata": {},
     "output_type": "execute_result"
    }
   ],
   "source": [
    "l=[2, 4, 7, 9, 10, 12, 15, 17, 20]\n",
    "quantiles(data=l,n=2), quantiles(l,n=3), quantiles(l,n=4)  # median; Quantiles at 1/3 and 2/3; 25%, 50%, 75% "
   ]
  },
  {
   "cell_type": "code",
   "execution_count": null,
   "id": "eb6009f0",
   "metadata": {},
   "outputs": [],
   "source": []
  }
 ],
 "metadata": {
  "kernelspec": {
   "display_name": "Python 3 (ipykernel)",
   "language": "python",
   "name": "python3"
  },
  "language_info": {
   "codemirror_mode": {
    "name": "ipython",
    "version": 3
   },
   "file_extension": ".py",
   "mimetype": "text/x-python",
   "name": "python",
   "nbconvert_exporter": "python",
   "pygments_lexer": "ipython3",
   "version": "3.10.9"
  }
 },
 "nbformat": 4,
 "nbformat_minor": 5
}
