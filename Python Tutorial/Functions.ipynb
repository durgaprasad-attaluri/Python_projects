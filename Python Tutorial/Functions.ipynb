{
 "cells": [
  {
   "cell_type": "markdown",
   "id": "ec6ce6b2",
   "metadata": {},
   "source": []
  },
  {
   "cell_type": "code",
   "execution_count": 3,
   "id": "1871fe1a",
   "metadata": {},
   "outputs": [
    {
     "name": "stdout",
     "output_type": "stream",
     "text": [
      "Enter a whole positive integer: -3.14516\n"
     ]
    },
    {
     "data": {
      "text/plain": [
       "3"
      ]
     },
     "execution_count": 3,
     "metadata": {},
     "output_type": "execute_result"
    }
   ],
   "source": [
    "# Nested Function calls\n",
    "round(abs(float(input(\"Enter a whole positive integer: \"))))"
   ]
  },
  {
   "cell_type": "markdown",
   "id": "5d78476d",
   "metadata": {},
   "source": [
    "### sort"
   ]
  },
  {
   "cell_type": "code",
   "execution_count": 9,
   "id": "4476583c",
   "metadata": {},
   "outputs": [
    {
     "name": "stdout",
     "output_type": "stream",
     "text": [
      "David, Dhoni, Rohit, Sachin, "
     ]
    }
   ],
   "source": [
    "# with list\n",
    "s=['Sachin', 'David', 'Rohit', 'Dhoni']\n",
    "s.sort()\n",
    "\n",
    "for i in s:\n",
    "    print(i, end=\", \")"
   ]
  },
  {
   "cell_type": "code",
   "execution_count": 11,
   "id": "8eec9626",
   "metadata": {},
   "outputs": [
    {
     "name": "stdout",
     "output_type": "stream",
     "text": [
      "Sachin, Rohit, Dhoni, David, "
     ]
    }
   ],
   "source": [
    "s=['Sachin', 'David', 'Rohit', 'Dhoni']\n",
    "s.sort(reverse=True)\n",
    "\n",
    "for i in s:\n",
    "    print(i, end=\", \")"
   ]
  },
  {
   "cell_type": "code",
   "execution_count": 10,
   "id": "89916d99",
   "metadata": {},
   "outputs": [
    {
     "name": "stdout",
     "output_type": "stream",
     "text": [
      "David, Dhoni, Rohit, Sachin, "
     ]
    }
   ],
   "source": [
    "# working with other iterables\n",
    "s=('Sachin', 'David', 'Rohit', 'Dhoni')\n",
    "# s.sort() -> AttributeError: 'tuple' object has no attribute 'sort'\n",
    "\n",
    "sorted_s=sorted(s)\n",
    "for i in sorted_s:\n",
    "    print(i, end= \", \")"
   ]
  },
  {
   "cell_type": "code",
   "execution_count": 17,
   "id": "b720a726",
   "metadata": {},
   "outputs": [
    {
     "name": "stdout",
     "output_type": "stream",
     "text": [
      "('Balaji', 'C', 21)\n",
      "('Durga', 'A', 24)\n",
      "('Mahesh', 'A', 25)\n",
      "('Sri', 'A', 23)\n",
      "('Venu', 'B', 22)\n"
     ]
    }
   ],
   "source": [
    "# list of tuples\n",
    "## Here we have s_name, grade and thier age\n",
    "s=[  ( 'Durga', 'A', 24),\n",
    "   ('Sri','A', 23),\n",
    "   ('Venu', 'B', 22),\n",
    "   ('Balaji', 'C', 21),\n",
    "   ('Mahesh', 'A', 25)   ]\n",
    "\n",
    "# sort by 1st column\n",
    "s.sort()\n",
    "\n",
    "for i in s:\n",
    "    print(i)"
   ]
  },
  {
   "cell_type": "code",
   "execution_count": 18,
   "id": "99a2662e",
   "metadata": {},
   "outputs": [
    {
     "name": "stdout",
     "output_type": "stream",
     "text": [
      "('Sri', 'A', 23)\n",
      "('Durga', 'A', 24)\n",
      "('Mahesh', 'A', 25)\n",
      "('Venu', 'B', 22)\n",
      "('Balaji', 'C', 21)\n"
     ]
    }
   ],
   "source": [
    "# sort by 'Grade'\n",
    "s.sort(key= lambda x: (x[1], x[2]))\n",
    "\n",
    "for i in s:\n",
    "    print(i)"
   ]
  },
  {
   "cell_type": "code",
   "execution_count": 16,
   "id": "114e57a4",
   "metadata": {},
   "outputs": [
    {
     "name": "stdout",
     "output_type": "stream",
     "text": [
      "('Mahesh', 'A', 25)\n",
      "('Durga', 'A', 24)\n",
      "('Sri', 'A', 23)\n",
      "('Venu', 'B', 22)\n",
      "('Balaji', 'C', 21)\n"
     ]
    }
   ],
   "source": [
    "# sort by 'Age'\n",
    "age= lambda x: x[2]\n",
    "s.sort(key= age, reverse=True)\n",
    "\n",
    "for i in s:\n",
    "    print(i)"
   ]
  },
  {
   "cell_type": "code",
   "execution_count": 21,
   "id": "2615d084",
   "metadata": {},
   "outputs": [
    {
     "name": "stdout",
     "output_type": "stream",
     "text": [
      "('Durga', 'A', 24) ('Sri', 'A', 23) ('Venu', 'B', 22) ('Balaji', 'C', 21) ('Mahesh', 'A', 25) ('Rakesh', 'B', 23) ('Dominic', 'C', 22) \n",
      "('Dominic', 'C', 22) ('Balaji', 'C', 21) ('Rakesh', 'B', 23) ('Venu', 'B', 22) ('Mahesh', 'A', 25) ('Durga', 'A', 24) ('Sri', 'A', 23) "
     ]
    }
   ],
   "source": [
    "# tuple of tuples\n",
    "s=( ( 'Durga', 'A', 24),\n",
    "   ('Sri','A', 23),\n",
    "   ('Venu', 'B', 22),\n",
    "   ('Balaji', 'C', 21),\n",
    "   ('Mahesh', 'A', 25), ('Rakesh', 'B',23), ('Dominic', 'C', 22)  )\n",
    "\n",
    "age= lambda a:(a[1], a[2])\n",
    "sorted_s=sorted(s, key=age, reverse=True)\n",
    "\n",
    "for i in s:\n",
    "    print(i, end=\" \")\n",
    "    \n",
    "print()\n",
    "for i in sorted_s:\n",
    "    print(i, end=\" \")"
   ]
  },
  {
   "cell_type": "code",
   "execution_count": 23,
   "id": "41bf61c3",
   "metadata": {},
   "outputs": [
    {
     "name": "stdout",
     "output_type": "stream",
     "text": [
      "('Balaji', 'C', 21) ('Dominic', 'C', 22) ('Venu', 'B', 22) ('Rakesh', 'B', 23) ('Sri', 'A', 23) ('Durga', 'A', 24) ('Mahesh', 'A', 25) "
     ]
    }
   ],
   "source": [
    "age_grade_sort=lambda a:(-ord(a[1]), a[2])\n",
    "sorted_by_age_gra=sorted(s, key=age_grade_sort)\n",
    "\n",
    "for i in sorted_by_age_gra:\n",
    "    print(i, end=\" \")"
   ]
  },
  {
   "cell_type": "code",
   "execution_count": 26,
   "id": "2fbd056d",
   "metadata": {},
   "outputs": [
    {
     "name": "stdout",
     "output_type": "stream",
     "text": [
      "Original tuple of tuples:\n",
      "('Durga', 'A', 24) ('Sri', 'A', 23) ('Venu', 'B', 22) ('Balaji', 'C', 21) ('Mahesh', 'A', 25) ('Rakesh', 'B', 23) ('Dominic', 'C', 22) \n",
      "\n",
      "Sorted tuple of tuples (higher grade and younger age):\n",
      "('Balaji', 'C', 21) ('Dominic', 'C', 22) ('Venu', 'B', 22) ('Rakesh', 'B', 23) ('Sri', 'A', 23) ('Durga', 'A', 24) ('Mahesh', 'A', 25) "
     ]
    }
   ],
   "source": [
    "# lambda to sort by grade (reversed) and then by age\n",
    "age_grade_sort = lambda a: (-ord(a[1]), a[2])\n",
    "\n",
    "# Sort the tuple of tuples\n",
    "sorted_s = sorted(s, key=age_grade_sort)\n",
    "\n",
    "# Print the original list 's'\n",
    "print(\"Original tuple of tuples:\")\n",
    "for i in s:\n",
    "    print(i, end=\" \")\n",
    "\n",
    "print(\"\\n\")  # Print a newline for clarity\n",
    "\n",
    "# Print the sorted list 'sorted_s'\n",
    "print(\"Sorted tuple of tuples (higher grade and younger age):\")\n",
    "for i in sorted_s:\n",
    "    print(i, end=\" \")"
   ]
  },
  {
   "cell_type": "markdown",
   "id": "9acb8fa4",
   "metadata": {},
   "source": [
    "#### Normal query"
   ]
  },
  {
   "cell_type": "code",
   "execution_count": 1,
   "id": "418f1915",
   "metadata": {},
   "outputs": [
    {
     "name": "stdout",
     "output_type": "stream",
     "text": [
      "Enter upto how many numbers you want:10\n",
      "sum of squares upto 10 are 385\n"
     ]
    }
   ],
   "source": [
    "#sum of squares\n",
    "n=int(input(\"Enter upto how many numbers you want:\"))\n",
    "s=0\n",
    "for i in range(1,n+1):\n",
    "    s+=i**2\n",
    "print(f'sum of squares upto {n} are {s}')"
   ]
  },
  {
   "cell_type": "markdown",
   "id": "645c5154",
   "metadata": {},
   "source": [
    "## Lambda"
   ]
  },
  {
   "cell_type": "markdown",
   "id": "8acd4f37",
   "metadata": {},
   "source": [
    " ***lambda argument(s) : expression***\n",
    " \n",
    " similar to user-defined functions but without a name(anonymous function). \n",
    " \n",
    "**anonymous function does not have a return keyword.**"
   ]
  },
  {
   "cell_type": "code",
   "execution_count": 1,
   "id": "9312c68f",
   "metadata": {},
   "outputs": [
    {
     "data": {
      "text/plain": [
       "<function __main__.<lambda>(x)>"
      ]
     },
     "execution_count": 1,
     "metadata": {},
     "output_type": "execute_result"
    }
   ],
   "source": [
    "# bound variable: argument to a lambda function\n",
    "lambda x: x"
   ]
  },
  {
   "cell_type": "code",
   "execution_count": 7,
   "id": "fb4954f7",
   "metadata": {},
   "outputs": [
    {
     "name": "stdout",
     "output_type": "stream",
     "text": [
      "<function <lambda> at 0x000002693A0E69E0>\n"
     ]
    }
   ],
   "source": [
    "# Free variable: a constant or a variable defined in the enclosing scope\n",
    "a = 2\n",
    "print(lambda a: a + 1) # Here 1 is a free variable and this isn't the right way to call a lambda function. "
   ]
  },
  {
   "cell_type": "code",
   "execution_count": 10,
   "id": "cffca079",
   "metadata": {},
   "outputs": [
    {
     "data": {
      "text/plain": [
       "4"
      ]
     },
     "execution_count": 10,
     "metadata": {},
     "output_type": "execute_result"
    }
   ],
   "source": [
    "(lambda a:a+1)(3)"
   ]
  },
  {
   "cell_type": "code",
   "execution_count": 3,
   "id": "50280a1b",
   "metadata": {},
   "outputs": [
    {
     "name": "stdout",
     "output_type": "stream",
     "text": [
      "5\n"
     ]
    },
    {
     "data": {
      "text/plain": [
       "125"
      ]
     },
     "execution_count": 3,
     "metadata": {},
     "output_type": "execute_result"
    }
   ],
   "source": [
    "n=int(input())\n",
    "(lambda x:x**3)(n)  #enclose the entire statement when we want to call it."
   ]
  },
  {
   "cell_type": "code",
   "execution_count": 4,
   "id": "b7938ac9",
   "metadata": {},
   "outputs": [
    {
     "name": "stdout",
     "output_type": "stream",
     "text": [
      "Enter no. to find square:48\n"
     ]
    },
    {
     "data": {
      "text/plain": [
       "2304"
      ]
     },
     "execution_count": 4,
     "metadata": {},
     "output_type": "execute_result"
    }
   ],
   "source": [
    "a=lambda x:x**2\n",
    "n=int(input(\"Enter no. to find square: \"))\n",
    "a(n)"
   ]
  },
  {
   "cell_type": "code",
   "execution_count": 5,
   "id": "f821dd8e",
   "metadata": {},
   "outputs": [
    {
     "name": "stdout",
     "output_type": "stream",
     "text": [
      "square of number: 5\n"
     ]
    },
    {
     "data": {
      "text/plain": [
       "25"
      ]
     },
     "execution_count": 5,
     "metadata": {},
     "output_type": "execute_result"
    }
   ],
   "source": [
    "a=lambda x:x**2\n",
    "a(int(input(\"square of : \")))"
   ]
  },
  {
   "cell_type": "code",
   "execution_count": 27,
   "id": "cf95fb63",
   "metadata": {},
   "outputs": [
    {
     "data": {
      "text/plain": [
       "40"
      ]
     },
     "execution_count": 27,
     "metadata": {},
     "output_type": "execute_result"
    }
   ],
   "source": [
    "(lambda a, b: a if a>b else b)(23,40)"
   ]
  },
  {
   "cell_type": "code",
   "execution_count": 3,
   "id": "9e1f90ff",
   "metadata": {},
   "outputs": [
    {
     "name": "stdout",
     "output_type": "stream",
     "text": [
      "durga\n",
      "prasad\n"
     ]
    },
    {
     "data": {
      "text/plain": [
       "'Your full name is Durga Prasad'"
      ]
     },
     "execution_count": 3,
     "metadata": {},
     "output_type": "execute_result"
    }
   ],
   "source": [
    "full_name=lambda fir, lst: f'Your full name is {fir.title()} {lst.title()}'\n",
    "\n",
    "f_name=input()\n",
    "l_name=input()\n",
    "full_name(f_name, l_name)"
   ]
  },
  {
   "cell_type": "code",
   "execution_count": 14,
   "id": "d6eea766",
   "metadata": {},
   "outputs": [
    {
     "data": {
      "text/plain": [
       "'I am Durga Prasad.I am 24 years old'"
      ]
     },
     "execution_count": 14,
     "metadata": {},
     "output_type": "execute_result"
    }
   ],
   "source": [
    "(lambda f, l, a: \"I am %s %s. I am %d years old\" %(f, l, a))(\"Durga\", \"Prasad\", 24)"
   ]
  },
  {
   "cell_type": "code",
   "execution_count": 5,
   "id": "25eb9a96",
   "metadata": {},
   "outputs": [
    {
     "data": {
      "text/plain": [
       "10"
      ]
     },
     "execution_count": 5,
     "metadata": {},
     "output_type": "execute_result"
    }
   ],
   "source": [
    "(lambda x, y, z: x + y + z)(1, 2, 3)   #6\n",
    "(lambda x, y, z=4: x + y + z)(1, 2)    #7\n",
    "(lambda x, y, z=4: x + y + z)(1, y=5)  #10\n",
    "#(lambda x, y, z=4: x + y + z)(1, y=5,z=3) #9"
   ]
  },
  {
   "cell_type": "code",
   "execution_count": 21,
   "id": "c1794295",
   "metadata": {},
   "outputs": [
    {
     "data": {
      "text/plain": [
       "(['p', 'p', 'l', 'e', 'a'], ['a', 'p', 'p', 'l', 'e'])"
      ]
     },
     "execution_count": 21,
     "metadata": {},
     "output_type": "execute_result"
    }
   ],
   "source": [
    "a=['a','p','p','l','e']\n",
    "(lambda a:sorted(a,reverse=True))(a), a"
   ]
  },
  {
   "cell_type": "code",
   "execution_count": 6,
   "id": "483bf91a",
   "metadata": {},
   "outputs": [
    {
     "data": {
      "text/plain": [
       "(None, ['s', 'p', 'o', 'l', 'a'])"
      ]
     },
     "execution_count": 6,
     "metadata": {},
     "output_type": "execute_result"
    }
   ],
   "source": [
    "b=['a','s','o','p','l']\n",
    "(lambda x:x.sort(reverse=True))(b), b"
   ]
  },
  {
   "cell_type": "code",
   "execution_count": 23,
   "id": "0596f593",
   "metadata": {},
   "outputs": [
    {
     "data": {
      "text/plain": [
       "['u', 'r', 'g', 'd', 'a']"
      ]
     },
     "execution_count": 23,
     "metadata": {},
     "output_type": "execute_result"
    }
   ],
   "source": [
    "a=['d','u','r','g','a']\n",
    "a.sort(key=lambda x:x,reverse=True)\n",
    "a"
   ]
  },
  {
   "cell_type": "code",
   "execution_count": 31,
   "id": "a59ce10c",
   "metadata": {},
   "outputs": [
    {
     "data": {
      "text/plain": [
       "['u', 'r', 'g', 'd', 'a']"
      ]
     },
     "execution_count": 31,
     "metadata": {},
     "output_type": "execute_result"
    }
   ],
   "source": [
    "a=['d','u','r','g','a']\n",
    "sorted(a,key=lambda x:x,reverse=True)"
   ]
  },
  {
   "cell_type": "code",
   "execution_count": 28,
   "id": "332b93ba",
   "metadata": {},
   "outputs": [
    {
     "data": {
      "text/plain": [
       "1"
      ]
     },
     "execution_count": 28,
     "metadata": {},
     "output_type": "execute_result"
    }
   ],
   "source": [
    "a=[1,2,3,4,5]\n",
    "min(a,key=lambda x:x)"
   ]
  },
  {
   "cell_type": "code",
   "execution_count": 24,
   "id": "d11d963d",
   "metadata": {},
   "outputs": [
    {
     "data": {
      "text/plain": [
       "6"
      ]
     },
     "execution_count": 24,
     "metadata": {},
     "output_type": "execute_result"
    }
   ],
   "source": [
    "(lambda *args: sum(args))(1,2,3)  #6\n",
    "(lambda **kwargs: sum(kwargs.values()))(one=1, two=2, three=3)"
   ]
  },
  {
   "cell_type": "markdown",
   "id": "4710a142",
   "metadata": {},
   "source": [
    "higher-order function (HOF):\n",
    "* takes one or more functions as arguments\n",
    "* returns a function as its result."
   ]
  },
  {
   "cell_type": "code",
   "execution_count": 10,
   "id": "feca64ac",
   "metadata": {},
   "outputs": [
    {
     "name": "stdout",
     "output_type": "stream",
     "text": [
      "6\n"
     ]
    },
    {
     "data": {
      "text/plain": [
       "7"
      ]
     },
     "execution_count": 10,
     "metadata": {},
     "output_type": "execute_result"
    }
   ],
   "source": [
    "high_ord_func = lambda x, func: x + func(x)\n",
    "\n",
    "print(high_ord_func(2, lambda x: x * x))  #2*2 +2\n",
    "high_ord_func(2, lambda x: x + 3)"
   ]
  },
  {
   "cell_type": "code",
   "execution_count": 9,
   "id": "96ef73c7",
   "metadata": {},
   "outputs": [
    {
     "data": {
      "text/plain": [
       "'odd'"
      ]
     },
     "execution_count": 9,
     "metadata": {},
     "output_type": "execute_result"
    }
   ],
   "source": [
    "(lambda x:(x % 2 and 'odd' or 'even'))(3)"
   ]
  },
  {
   "cell_type": "code",
   "execution_count": 30,
   "id": "4a393e3f",
   "metadata": {},
   "outputs": [
    {
     "name": "stdout",
     "output_type": "stream",
     "text": [
      "4.0\n"
     ]
    }
   ],
   "source": [
    "print((lambda x: x**(1/2) if(x > 10) else 10)(16))\n",
    "(lambda x: x * 10 if x > 10 else (x * 5 if x < 5 else x))(11)"
   ]
  },
  {
   "cell_type": "code",
   "execution_count": 35,
   "id": "6a687b71",
   "metadata": {},
   "outputs": [
    {
     "data": {
      "text/html": [
       "<div>\n",
       "<style scoped>\n",
       "    .dataframe tbody tr th:only-of-type {\n",
       "        vertical-align: middle;\n",
       "    }\n",
       "\n",
       "    .dataframe tbody tr th {\n",
       "        vertical-align: top;\n",
       "    }\n",
       "\n",
       "    .dataframe thead th {\n",
       "        text-align: right;\n",
       "    }\n",
       "</style>\n",
       "<table border=\"1\" class=\"dataframe\">\n",
       "  <thead>\n",
       "    <tr style=\"text-align: right;\">\n",
       "      <th></th>\n",
       "      <th>name</th>\n",
       "      <th>score</th>\n",
       "    </tr>\n",
       "  </thead>\n",
       "  <tbody>\n",
       "    <tr>\n",
       "      <th>0</th>\n",
       "      <td>IBRAHIM</td>\n",
       "      <td>50</td>\n",
       "    </tr>\n",
       "    <tr>\n",
       "      <th>1</th>\n",
       "      <td>SEGUN</td>\n",
       "      <td>32</td>\n",
       "    </tr>\n",
       "    <tr>\n",
       "      <th>2</th>\n",
       "      <td>YUSUF</td>\n",
       "      <td>45</td>\n",
       "    </tr>\n",
       "    <tr>\n",
       "      <th>3</th>\n",
       "      <td>DARE</td>\n",
       "      <td>45</td>\n",
       "    </tr>\n",
       "    <tr>\n",
       "      <th>4</th>\n",
       "      <td>BOLA</td>\n",
       "      <td>23</td>\n",
       "    </tr>\n",
       "    <tr>\n",
       "      <th>5</th>\n",
       "      <td>SOKUNBI</td>\n",
       "      <td>45</td>\n",
       "    </tr>\n",
       "  </tbody>\n",
       "</table>\n",
       "</div>"
      ],
      "text/plain": [
       "      name  score\n",
       "0  IBRAHIM     50\n",
       "1    SEGUN     32\n",
       "2    YUSUF     45\n",
       "3     DARE     45\n",
       "4     BOLA     23\n",
       "5  SOKUNBI     45"
      ]
     },
     "execution_count": 35,
     "metadata": {},
     "output_type": "execute_result"
    }
   ],
   "source": [
    "import pandas as pd\n",
    "\n",
    "df = pd.DataFrame(\n",
    "    {\"name\": [\"IBRAHIM\", \"SEGUN\", \"YUSUF\", \"DARE\", \"BOLA\", \"SOKUNBI\"],\n",
    "     \"score\": [50, 32, 45, 45, 23, 45]\n",
    "    }\n",
    ")\n",
    "df"
   ]
  },
  {
   "cell_type": "code",
   "execution_count": 37,
   "id": "f6ce8974",
   "metadata": {},
   "outputs": [
    {
     "data": {
      "text/html": [
       "<div>\n",
       "<style scoped>\n",
       "    .dataframe tbody tr th:only-of-type {\n",
       "        vertical-align: middle;\n",
       "    }\n",
       "\n",
       "    .dataframe tbody tr th {\n",
       "        vertical-align: top;\n",
       "    }\n",
       "\n",
       "    .dataframe thead th {\n",
       "        text-align: right;\n",
       "    }\n",
       "</style>\n",
       "<table border=\"1\" class=\"dataframe\">\n",
       "  <thead>\n",
       "    <tr style=\"text-align: right;\">\n",
       "      <th></th>\n",
       "      <th>name</th>\n",
       "      <th>score</th>\n",
       "      <th>lower_name</th>\n",
       "    </tr>\n",
       "  </thead>\n",
       "  <tbody>\n",
       "    <tr>\n",
       "      <th>0</th>\n",
       "      <td>IBRAHIM</td>\n",
       "      <td>50</td>\n",
       "      <td>ibrahim</td>\n",
       "    </tr>\n",
       "    <tr>\n",
       "      <th>1</th>\n",
       "      <td>SEGUN</td>\n",
       "      <td>32</td>\n",
       "      <td>segun</td>\n",
       "    </tr>\n",
       "    <tr>\n",
       "      <th>2</th>\n",
       "      <td>YUSUF</td>\n",
       "      <td>45</td>\n",
       "      <td>yusuf</td>\n",
       "    </tr>\n",
       "    <tr>\n",
       "      <th>3</th>\n",
       "      <td>DARE</td>\n",
       "      <td>45</td>\n",
       "      <td>dare</td>\n",
       "    </tr>\n",
       "    <tr>\n",
       "      <th>4</th>\n",
       "      <td>BOLA</td>\n",
       "      <td>23</td>\n",
       "      <td>bola</td>\n",
       "    </tr>\n",
       "    <tr>\n",
       "      <th>5</th>\n",
       "      <td>SOKUNBI</td>\n",
       "      <td>45</td>\n",
       "      <td>sokunbi</td>\n",
       "    </tr>\n",
       "  </tbody>\n",
       "</table>\n",
       "</div>"
      ],
      "text/plain": [
       "      name  score lower_name\n",
       "0  IBRAHIM     50    ibrahim\n",
       "1    SEGUN     32      segun\n",
       "2    YUSUF     45      yusuf\n",
       "3     DARE     45       dare\n",
       "4     BOLA     23       bola\n",
       "5  SOKUNBI     45    sokunbi"
      ]
     },
     "execution_count": 37,
     "metadata": {},
     "output_type": "execute_result"
    }
   ],
   "source": [
    "df[\"lower_name\"] = df[\"name\"].apply(lambda x: x.lower())\n",
    "df"
   ]
  },
  {
   "cell_type": "code",
   "execution_count": 1,
   "id": "db0947f2",
   "metadata": {},
   "outputs": [
    {
     "name": "stdout",
     "output_type": "stream",
     "text": [
      "25\n",
      "6\n",
      "Double the number: res1(5)\n",
      "15\n",
      "25\n",
      "Before sorting \n",
      " [('English', 88), ('Science', 90), ('Maths', 97), ('Social sciences', 82)]\n",
      "[('Social sciences', 82), ('English', 88), ('Science', 90), ('Maths', 97)]\n",
      "[{'make': 'Nokia', 'model': 216, 'color': 'Black'}, {'make': 'Mi Max', 'model': '2', 'color': 'Gold'}, {'make': 'Samsung', 'model': 7, 'color': 'Blue'}]\n",
      "[{'make': 'Nokia', 'model': 216, 'color': 'Black'}, {'make': 'Samsung', 'model': 7, 'color': 'Blue'}, {'make': 'Mi Max', 'model': '2', 'color': 'Gold'}]\n",
      "[2, 4, 6, 8, 10]\n",
      "[1, 4, 9, 16, 25, 36, 49, 64, 81, 100]\n",
      "[1, 8, 27, 64, 125, 216, 343, 512, 729, 1000]\n",
      "True\n",
      "Today is 2024-10-18 14:30:07.495898\n",
      "18\n",
      "10\n"
     ]
    }
   ],
   "source": [
    "a=lambda x:x+15  # adds 15 to a given number\n",
    "b=lambda x,y:x*y # multiplies argument x with argument y\n",
    "print(a(10))\n",
    "print(b(2,3))\n",
    "\n",
    "# one argmet multiplied with another argmnt\n",
    "def mul(n):\n",
    "    return lambda x:x*n\n",
    "res1=mul(2)\n",
    "print(f'Double the number: res1(5)')  # 2 times of 5\n",
    "\n",
    "res2=mul(3)\n",
    "print(res2(5))  # 3 times of 5\n",
    "\n",
    "res3=mul(5)\n",
    "print(res3(5))  # 5 times of 5\n",
    "\n",
    "# sort\n",
    "t=[('English', 88), ('Science', 90), ('Maths', 97), ('Social sciences', 82)]\n",
    "print(f'Before sorting \\n {t}')\n",
    "t.sort(key=lambda x:x[1])\n",
    "print(t)\n",
    "\n",
    "d=[{'make': 'Nokia', 'model': 216, 'color': 'Black'}, {'make': 'Mi Max', 'model': '2', 'color': 'Gold'}, {'make': 'Samsung', 'model': 7, 'color': 'Blue'}]\n",
    "print(d)\n",
    "sorted_d=sorted(d, key=lambda x: x['color'])\n",
    "print(sorted_d)\n",
    "\n",
    "l=[1, 2, 3, 4, 5, 6, 7, 8, 9, 10]\n",
    "even_list=list(filter(lambda x: x%2==0, l))\n",
    "odd_list=list(filter(lambda x: x%2!=0, l))\n",
    "\n",
    "print(even_list)\n",
    "\n",
    "squ_list=list(map(lambda x: x**2, l))\n",
    "print(squ_list)\n",
    "\n",
    "cub_list=list(map(lambda x: x**3, l))\n",
    "print(cub_list)\n",
    "\n",
    "def fn(s):\n",
    "    return lambda x: x.startswith(s)\n",
    "res_str=fn('D')\n",
    "print(res_str(\"Durga\"))\n",
    "\n",
    "import datetime as dt\n",
    "now=dt.datetime.now()\n",
    "print(f'Today is {now}')\n",
    "day=lambda x: x.day\n",
    "mnth=lambda x: x.month\n",
    "print(day(now))\n",
    "print(mnth(now))"
   ]
  },
  {
   "cell_type": "markdown",
   "id": "ed3f0e26",
   "metadata": {},
   "source": [
    "## Filter()"
   ]
  },
  {
   "cell_type": "markdown",
   "id": "d9d14eba",
   "metadata": {},
   "source": [
    "***filter(function, iterable)***\n",
    "\n",
    "specific values in an iterable"
   ]
  },
  {
   "cell_type": "code",
   "execution_count": 31,
   "id": "de506bc9",
   "metadata": {},
   "outputs": [
    {
     "name": "stdout",
     "output_type": "stream",
     "text": [
      "False\n"
     ]
    }
   ],
   "source": [
    "def even(n):\n",
    "    if n%2==0:\n",
    "        return True\n",
    "    else:\n",
    "        return False\n",
    "    \n",
    "e=even(5)\n",
    "print(e)"
   ]
  },
  {
   "cell_type": "code",
   "execution_count": 39,
   "id": "3dde246a",
   "metadata": {},
   "outputs": [
    {
     "name": "stdout",
     "output_type": "stream",
     "text": [
      "The list is  [35, 25, 24, 89, 84, 104]\n",
      "The even list is  [24, 84, 104]\n",
      "The oddlist is  [35, 25, 89]\n"
     ]
    }
   ],
   "source": [
    "l=[35, 25, 24, 89, 84, 104]\n",
    "print(\"The list is \", l)\n",
    "\n",
    "print(\"The even list is \", end=\" \")\n",
    "print(list(filter(even, l)))\n",
    "\n",
    "print(\"The oddlist is \", end=\" \")\n",
    "print(list(filter(lambda x: x%2!=0, l)))"
   ]
  },
  {
   "cell_type": "code",
   "execution_count": 13,
   "id": "fc109811",
   "metadata": {},
   "outputs": [
    {
     "data": {
      "text/plain": [
       "[11, 22, 33]"
      ]
     },
     "execution_count": 13,
     "metadata": {},
     "output_type": "execute_result"
    }
   ],
   "source": [
    "lst = [33, 3, 22, 2, 11, 1]\n",
    "sorted(filter(lambda x: x > 10, lst))  # returns the no.'s who satisfies the condition"
   ]
  },
  {
   "cell_type": "code",
   "execution_count": 33,
   "id": "76cce308",
   "metadata": {},
   "outputs": [
    {
     "data": {
      "text/plain": [
       "[2, 4, 6, 8, 10]"
      ]
     },
     "execution_count": 33,
     "metadata": {},
     "output_type": "execute_result"
    }
   ],
   "source": [
    "list1 = [1, 2, 3, 4, 5, 6, 7, 8, 9, 10]\n",
    "list(filter(lambda x: x % 2 == 0, list1))"
   ]
  },
  {
   "cell_type": "markdown",
   "id": "2200118d",
   "metadata": {},
   "source": [
    "## map()"
   ]
  },
  {
   "cell_type": "markdown",
   "id": "baf69338",
   "metadata": {},
   "source": [
    "map(function, iterable, [iterable1, iterable2, ...])\n",
    "\n",
    "to modify every value in an iterable."
   ]
  },
  {
   "cell_type": "code",
   "execution_count": 29,
   "id": "ba48b5e4",
   "metadata": {},
   "outputs": [
    {
     "data": {
      "text/plain": [
       "[2, 3, 4, 5, 6]"
      ]
     },
     "execution_count": 29,
     "metadata": {},
     "output_type": "execute_result"
    }
   ],
   "source": [
    "l=[1,2,3,4,5]\n",
    "l_one=lambda a:a+1\n",
    "list(map(l_one, l))"
   ]
  },
  {
   "cell_type": "code",
   "execution_count": 6,
   "id": "41a56154",
   "metadata": {},
   "outputs": [
    {
     "data": {
      "text/plain": [
       "[1, 4, 9, 16, 25]"
      ]
     },
     "execution_count": 6,
     "metadata": {},
     "output_type": "execute_result"
    }
   ],
   "source": [
    "num=[1,2,3,4,5]\n",
    "list(map(lambda x:x**2,num))"
   ]
  },
  {
   "cell_type": "code",
   "execution_count": 7,
   "id": "28418b6b",
   "metadata": {},
   "outputs": [
    {
     "name": "stdout",
     "output_type": "stream",
     "text": [
      "The number 8 is even.\n",
      "The number 101 is odd.\n"
     ]
    }
   ],
   "source": [
    "def even_or_odd(n):\n",
    "    if n%2==0:\n",
    "        return f'The number {n} is even.'\n",
    "    else:\n",
    "        return f'The number {n} is odd.'\n",
    "        \n",
    "print(even_or_odd(8))\n",
    "print(even_or_odd(101))"
   ]
  },
  {
   "cell_type": "code",
   "execution_count": 8,
   "id": "cb08595d",
   "metadata": {},
   "outputs": [
    {
     "data": {
      "text/plain": [
       "['The number 24 is even.',\n",
       " 'The number 25 is odd.',\n",
       " 'The number 64 is even.',\n",
       " 'The number 80 is even.',\n",
       " 'The number 101 is odd.',\n",
       " 'The number 125 is odd.',\n",
       " 'The number 164 is even.',\n",
       " 'The number 253 is odd.']"
      ]
     },
     "execution_count": 8,
     "metadata": {},
     "output_type": "execute_result"
    }
   ],
   "source": [
    "# what if we want to check the numbers in a list, we can use loop but it takes a lot of time\n",
    "l=[24, 25, 64, 80, 101, 125, 164, 253]\n",
    "\n",
    "list(map(even_or_odd, l))"
   ]
  },
  {
   "cell_type": "code",
   "execution_count": 2,
   "id": "8b15190a",
   "metadata": {},
   "outputs": [
    {
     "name": "stdout",
     "output_type": "stream",
     "text": [
      "27\n",
      "[1, 8, 27, 64, 125]\n"
     ]
    }
   ],
   "source": [
    "org_list = [1, 2, 3, 4, 5]\n",
    "\n",
    "# define a function that returns the cube of `num`\n",
    "def cube(num):\n",
    "    return num**3\n",
    "\n",
    "print(cube(3))\n",
    "\n",
    "#For a list of numbers\n",
    "fin_list = list(map(cube, org_list))\n",
    "print(fin_list) # [1, 8, 27, 64, 125]"
   ]
  },
  {
   "cell_type": "code",
   "execution_count": 5,
   "id": "97f0da40",
   "metadata": {},
   "outputs": [
    {
     "data": {
      "text/plain": [
       "[[1, 8, 27], [64, 125, 216]]"
      ]
     },
     "execution_count": 5,
     "metadata": {},
     "output_type": "execute_result"
    }
   ],
   "source": [
    "l1=[1,2,3]\n",
    "l2=[4,5,6]\n",
    "\n",
    "def cube(l):\n",
    "    return [i**3 for i in l]\n",
    "    \n",
    "list(map(cube, [l1,l2]))"
   ]
  },
  {
   "cell_type": "code",
   "execution_count": 3,
   "id": "54a5cedb",
   "metadata": {},
   "outputs": [
    {
     "data": {
      "text/plain": [
       "([4, 8, 6, 5, 3, 2, 8, 9, 2, 5],\n",
       " ['4', '8', '6', '5', '3', '2', '8', '9', '2', '5'])"
      ]
     },
     "execution_count": 3,
     "metadata": {},
     "output_type": "execute_result"
    }
   ],
   "source": [
    "str_nums = [\"4\", \"8\", \"6\", \"5\", \"3\", \"2\", \"8\", \"9\", \"2\", \"5\"]\n",
    "\n",
    "int_nums = list(map(int, str_nums))\n",
    "int_nums,str_nums"
   ]
  },
  {
   "cell_type": "code",
   "execution_count": 4,
   "id": "c7c163f9",
   "metadata": {},
   "outputs": [
    {
     "data": {
      "text/plain": [
       "[7, 2, 5, 2]"
      ]
     },
     "execution_count": 4,
     "metadata": {},
     "output_type": "execute_result"
    }
   ],
   "source": [
    "words=['welcome','hi','world','to']\n",
    "list(map(len,words))"
   ]
  },
  {
   "cell_type": "code",
   "execution_count": 9,
   "id": "76628813",
   "metadata": {},
   "outputs": [
    {
     "name": "stdout",
     "output_type": "stream",
     "text": [
      "['Processing', 'Strings', 'With', 'Map']\n",
      "['PROCESSING', 'STRINGS', 'WITH', 'MAP']\n",
      "['processing', 'strings', 'with', 'map']\n"
     ]
    }
   ],
   "source": [
    "string_it = [\"processing\", \"strings\", \"with\", \"map\"]\n",
    "print(list(map(str.capitalize, string_it)))\n",
    "\n",
    "print(list(map(str.upper, string_it)))\n",
    "\n",
    "print(list(map(str.lower, string_it)))"
   ]
  },
  {
   "cell_type": "code",
   "execution_count": 1,
   "id": "0939e190",
   "metadata": {},
   "outputs": [
    {
     "data": {
      "text/plain": [
       "['processing', 'strings', 'with', 'map']"
      ]
     },
     "execution_count": 1,
     "metadata": {},
     "output_type": "execute_result"
    }
   ],
   "source": [
    "with_dots = [\"processing..\", \"...strings\", \"with....\", \"..map..\"]\n",
    "\n",
    "list(map(lambda s: s.strip(\".\"), with_dots))"
   ]
  },
  {
   "cell_type": "code",
   "execution_count": 34,
   "id": "9f4cddb2",
   "metadata": {},
   "outputs": [
    {
     "name": "stdout",
     "output_type": "stream",
     "text": [
      "[1, 32, 729]\n"
     ]
    },
    {
     "data": {
      "text/plain": [
       "[16, 25, 36, 49]"
      ]
     },
     "execution_count": 34,
     "metadata": {},
     "output_type": "execute_result"
    }
   ],
   "source": [
    "#Processing Multiple Input Iterables\n",
    "first_it = [1, 2, 3]\n",
    "second_it = [4, 5, 6, 7]\n",
    "\n",
    "print(list(map(pow, first_it, second_it)))  #1**4,2**5,3**6\n",
    "#pow() takes two arguments\n",
    "\n",
    "list(map(lambda x: pow(x, 2),second_it))"
   ]
  },
  {
   "cell_type": "markdown",
   "id": "2a1def4d",
   "metadata": {},
   "source": [
    "### map() with filter()"
   ]
  },
  {
   "cell_type": "code",
   "execution_count": 3,
   "id": "8734a0f3",
   "metadata": {},
   "outputs": [
    {
     "name": "stdout",
     "output_type": "stream",
     "text": [
      "[2, 4]\n"
     ]
    },
    {
     "data": {
      "text/plain": [
       "[False, True, False, True, False]"
      ]
     },
     "execution_count": 3,
     "metadata": {},
     "output_type": "execute_result"
    }
   ],
   "source": [
    "#map vs filter\n",
    "num=[1,2,3,4,5]\n",
    "\n",
    "print(list(filter(lambda x:x%2==0,num)))\n",
    "list(map(lambda x:x%2==0,num))"
   ]
  },
  {
   "cell_type": "code",
   "execution_count": 15,
   "id": "fa4ad457",
   "metadata": {},
   "outputs": [
    {
     "ename": "ValueError",
     "evalue": "math domain error",
     "output_type": "error",
     "traceback": [
      "\u001b[1;31m---------------------------------------------------------------------------\u001b[0m",
      "\u001b[1;31mValueError\u001b[0m                                Traceback (most recent call last)",
      "Cell \u001b[1;32mIn[15], line 3\u001b[0m\n\u001b[0;32m      1\u001b[0m \u001b[38;5;28;01mimport\u001b[39;00m \u001b[38;5;21;01mmath\u001b[39;00m\n\u001b[0;32m      2\u001b[0m num_list\u001b[38;5;241m=\u001b[39m[\u001b[38;5;241m1\u001b[39m,\u001b[38;5;241m-\u001b[39m\u001b[38;5;241m2\u001b[39m,\u001b[38;5;241m3\u001b[39m,\u001b[38;5;241m4\u001b[39m,\u001b[38;5;241m-\u001b[39m\u001b[38;5;241m5\u001b[39m]\n\u001b[1;32m----> 3\u001b[0m \u001b[38;5;28;43mlist\u001b[39;49m\u001b[43m(\u001b[49m\u001b[38;5;28;43mmap\u001b[39;49m\u001b[43m(\u001b[49m\u001b[43mmath\u001b[49m\u001b[38;5;241;43m.\u001b[39;49m\u001b[43msqrt\u001b[49m\u001b[43m,\u001b[49m\u001b[43mnum_list\u001b[49m\u001b[43m)\u001b[49m\u001b[43m)\u001b[49m\n",
      "\u001b[1;31mValueError\u001b[0m: math domain error"
     ]
    }
   ],
   "source": [
    "import math\n",
    "num_list=[1,-2,3,4,-5]\n",
    "list(map(math.sqrt,num_list))"
   ]
  },
  {
   "cell_type": "code",
   "execution_count": 20,
   "id": "48710869",
   "metadata": {},
   "outputs": [
    {
     "data": {
      "text/plain": [
       "[1.0, 1.73, 2.0]"
      ]
     },
     "execution_count": 20,
     "metadata": {},
     "output_type": "execute_result"
    }
   ],
   "source": [
    "#filtering all negative values\n",
    "def is_positive(n):\n",
    "    return n>=0\n",
    "\n",
    "list(map(lambda x: round(math.sqrt(x), 2), filter(is_positive,num_list)))"
   ]
  },
  {
   "cell_type": "code",
   "execution_count": 21,
   "id": "737c1886",
   "metadata": {},
   "outputs": [
    {
     "data": {
      "text/plain": [
       "[1.0, 1.73, 2.0]"
      ]
     },
     "execution_count": 21,
     "metadata": {},
     "output_type": "execute_result"
    }
   ],
   "source": [
    "list(map(lambda x: round(math.sqrt(x), 2), filter(lambda x: x>0, num_list)))"
   ]
  },
  {
   "cell_type": "markdown",
   "id": "febc7a7a",
   "metadata": {},
   "source": [
    "## reduce()"
   ]
  },
  {
   "cell_type": "markdown",
   "id": "489e40b5",
   "metadata": {},
   "source": [
    "***reduce(function, iterable)***\n",
    "\n",
    "breaking a structure down into a single value.\n",
    "\n",
    "The reduce method can do what map/filter do"
   ]
  },
  {
   "cell_type": "code",
   "execution_count": 22,
   "id": "041ac28a",
   "metadata": {},
   "outputs": [
    {
     "data": {
      "text/plain": [
       "10"
      ]
     },
     "execution_count": 22,
     "metadata": {},
     "output_type": "execute_result"
    }
   ],
   "source": [
    "from functools import reduce \n",
    "\n",
    "nums = [1, 2, 3, 4]\n",
    "reduce(lambda x, y: x + y, nums) "
   ]
  },
  {
   "cell_type": "code",
   "execution_count": 3,
   "id": "ad55072c",
   "metadata": {},
   "outputs": [
    {
     "data": {
      "text/plain": [
       "210"
      ]
     },
     "execution_count": 3,
     "metadata": {},
     "output_type": "execute_result"
    }
   ],
   "source": [
    "def product(x,y):\n",
    "    return x*y\n",
    "\n",
    "reduce(product, [2, 5, 3, 7])"
   ]
  },
  {
   "cell_type": "code",
   "execution_count": 23,
   "id": "ff362dfc",
   "metadata": {},
   "outputs": [
    {
     "data": {
      "text/plain": [
       "6"
      ]
     },
     "execution_count": 23,
     "metadata": {},
     "output_type": "execute_result"
    }
   ],
   "source": [
    "reduce(lambda x,y: x*y, [1,2,3])"
   ]
  },
  {
   "cell_type": "markdown",
   "id": "ab7ad257",
   "metadata": {},
   "source": [
    "## join()"
   ]
  },
  {
   "cell_type": "markdown",
   "id": "41b2d62e",
   "metadata": {},
   "source": [
    "**Syntax** ->***stringSeperator.join(iterable)***\n",
    "\n",
    "create a new string from a list of string"
   ]
  },
  {
   "cell_type": "code",
   "execution_count": 3,
   "id": "10dc400f",
   "metadata": {},
   "outputs": [
    {
     "data": {
      "text/plain": [
       "'H-e-l-l-o-W-o-r-l-d'"
      ]
     },
     "execution_count": 3,
     "metadata": {},
     "output_type": "execute_result"
    }
   ],
   "source": [
    "s1=\"Hello\"\n",
    "s2=\"World\"\n",
    "sep='-'\n",
    "sep.join(s1+s2)"
   ]
  },
  {
   "cell_type": "code",
   "execution_count": 6,
   "id": "c62f5482",
   "metadata": {},
   "outputs": [
    {
     "name": "stdout",
     "output_type": "stream",
     "text": [
      "L I S T\n",
      "T-E-S\n",
      "TUPLE\n"
     ]
    }
   ],
   "source": [
    "l=['L','I','S','T']\n",
    "s={'S','E','T'}\n",
    "t=('T','U','P','L','E')\n",
    "sep='-'\n",
    "print(\" \".join(l))\n",
    "print(sep.join(s))\n",
    "print(\"\".join(t))"
   ]
  },
  {
   "cell_type": "code",
   "execution_count": 7,
   "id": "002eb71f",
   "metadata": {},
   "outputs": [
    {
     "name": "stdout",
     "output_type": "stream",
     "text": [
      "A->B\n"
     ]
    }
   ],
   "source": [
    "#join() with dictionaries\n",
    "newDict = {'A': 1, \"B\": 2}\n",
    "sep = '->'\n",
    "print(sep.join(newDict))\n",
    "\n",
    "#Note: If key is not string we get Error"
   ]
  },
  {
   "cell_type": "markdown",
   "id": "2c547870",
   "metadata": {},
   "source": [
    "## List Comprehension\n",
    "It offers a shorter syntax to create a new list based on the values of an existing list.\n",
    "\n",
    "### Syntax \n",
    "[expression for item in iterable if condition == True]"
   ]
  },
  {
   "cell_type": "code",
   "execution_count": 4,
   "id": "68e3ceca",
   "metadata": {},
   "outputs": [
    {
     "name": "stdout",
     "output_type": "stream",
     "text": [
      "['apple', 'banana', 'mango']\n"
     ]
    }
   ],
   "source": [
    "fruits = [\"apple\", \"banana\", \"cherry\", \"kiwi\", \"mango\"]\n",
    "newlist = [x for x in fruits if \"a\" in x]\n",
    "print(newlist)"
   ]
  },
  {
   "cell_type": "code",
   "execution_count": 5,
   "id": "908e68ad",
   "metadata": {},
   "outputs": [
    {
     "data": {
      "text/plain": [
       "([0, 1, 2, 3, 4, 5, 6, 7, 8, 9], [0, 1, 2, 3, 4])"
      ]
     },
     "execution_count": 5,
     "metadata": {},
     "output_type": "execute_result"
    }
   ],
   "source": [
    "[x for x in range(10)],[x for x in range(10) if x<5]"
   ]
  },
  {
   "cell_type": "code",
   "execution_count": 6,
   "id": "d1582399",
   "metadata": {},
   "outputs": [
    {
     "data": {
      "text/plain": [
       "['apple', 'orange', 'cherry', 'kiwi', 'mango']"
      ]
     },
     "execution_count": 6,
     "metadata": {},
     "output_type": "execute_result"
    }
   ],
   "source": [
    "[x if x != \"banana\" else \"orange\" for x in fruits]"
   ]
  },
  {
   "cell_type": "code",
   "execution_count": 8,
   "id": "56e59b9d",
   "metadata": {},
   "outputs": [
    {
     "data": {
      "text/plain": [
       "{'a', 'e', 'i', 'u'}"
      ]
     },
     "execution_count": 8,
     "metadata": {},
     "output_type": "execute_result"
    }
   ],
   "source": [
    "quote = \"life, uh, finds a way\"\n",
    "{i for i in quote if i in 'aeiou'}  # unique_vowels"
   ]
  },
  {
   "cell_type": "code",
   "execution_count": 9,
   "id": "877113e6",
   "metadata": {},
   "outputs": [
    {
     "data": {
      "text/plain": [
       "{0: 0, 1: 1, 2: 4, 3: 9, 4: 16, 5: 25, 6: 36, 7: 49, 8: 64, 9: 81}"
      ]
     },
     "execution_count": 9,
     "metadata": {},
     "output_type": "execute_result"
    }
   ],
   "source": [
    "{i: i * i for i in range(10)}  #squares"
   ]
  },
  {
   "cell_type": "code",
   "execution_count": 12,
   "id": "82f2bb76",
   "metadata": {},
   "outputs": [
    {
     "data": {
      "text/plain": [
       "[[0, 1, 2, 3, 4], [0, 1, 2, 3, 4], [0, 1, 2, 3, 4]]"
      ]
     },
     "execution_count": 12,
     "metadata": {},
     "output_type": "execute_result"
    }
   ],
   "source": [
    "matrix=[[i for i in range(5)] for _ in range(3)] \n",
    "matrix"
   ]
  },
  {
   "cell_type": "code",
   "execution_count": 15,
   "id": "c8948bbf",
   "metadata": {},
   "outputs": [
    {
     "name": "stdout",
     "output_type": "stream",
     "text": [
      "0 1 2 3 4 0 1 2 3 4 0 1 2 3 4 "
     ]
    }
   ],
   "source": [
    "for row in matrix:\n",
    "    for num in row:\n",
    "        print(num,end=\" \")"
   ]
  },
  {
   "cell_type": "code",
   "execution_count": 13,
   "id": "a277577c",
   "metadata": {},
   "outputs": [
    {
     "data": {
      "text/plain": [
       "[0, 1, 2, 3, 4, 0, 1, 2, 3, 4, 0, 1, 2, 3, 4]"
      ]
     },
     "execution_count": 13,
     "metadata": {},
     "output_type": "execute_result"
    }
   ],
   "source": [
    "[num for row in matrix for num in row]"
   ]
  },
  {
   "cell_type": "markdown",
   "id": "223a0862",
   "metadata": {},
   "source": []
  }
 ],
 "metadata": {
  "kernelspec": {
   "display_name": "Python 3 (ipykernel)",
   "language": "python",
   "name": "python3"
  },
  "language_info": {
   "codemirror_mode": {
    "name": "ipython",
    "version": 3
   },
   "file_extension": ".py",
   "mimetype": "text/x-python",
   "name": "python",
   "nbconvert_exporter": "python",
   "pygments_lexer": "ipython3",
   "version": "3.10.9"
  }
 },
 "nbformat": 4,
 "nbformat_minor": 5
}
