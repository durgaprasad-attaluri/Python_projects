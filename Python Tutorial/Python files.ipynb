{
 "cells": [
  {
   "cell_type": "code",
   "execution_count": 1,
   "id": "ecc8a1e3",
   "metadata": {},
   "outputs": [],
   "source": [
    "import os"
   ]
  },
  {
   "cell_type": "code",
   "execution_count": 2,
   "id": "1238bded",
   "metadata": {},
   "outputs": [
    {
     "data": {
      "text/plain": [
       "'Python Developer Roadmap\\n# https://www.youtube.com/watch?v=ikHt4iGSKrs\\n\\n1. Basics\\n    variables\\n    Data types\\n    Control structures(conditins, loops)\\n    Functions\\n    Modules\\n    \\n2. Data structure\\n    List\\n    Tuples\\n    Dictionaries\\n    Sets\\n    Strings\\n\\n3. File handling\\n    Read and Write files\\n    \\n4. OOPs\\n    Class\\n    Objects\\n    Inheritance\\n    Encapuslation\\n    Polymorphism\\n    \\n5. Error handling\\n    Exception handling\\n    \\n6.  Advanced Data structures\\n    Collections Module\\n    List comprehension\\n    Generators\\n    Iterators\\n    \\n7. Functional Programming\\n    Lambda\\n    Map\\n    Filter\\n    Reduce\\n    \\n8. Working with API\\n    Requests library\\n    JSON data\\n    \\n9. Connecting database\\n    Basics of sql\\n    Connectivity with python\\n    '"
      ]
     },
     "execution_count": 2,
     "metadata": {},
     "output_type": "execute_result"
    }
   ],
   "source": [
    "# Open and Read file \n",
    "f=open(\"Roadmap.txt\", \"r\")\n",
    "f.read()"
   ]
  },
  {
   "cell_type": "code",
   "execution_count": 10,
   "id": "5ab1d11b",
   "metadata": {},
   "outputs": [
    {
     "data": {
      "text/plain": [
       "'\"Hello World!\"'"
      ]
     },
     "execution_count": 10,
     "metadata": {},
     "output_type": "execute_result"
    }
   ],
   "source": [
    "file=open(\"file_handling_practice.txt\", \"r\")\n",
    "file.read()"
   ]
  },
  {
   "cell_type": "code",
   "execution_count": 16,
   "id": "8846f161",
   "metadata": {},
   "outputs": [
    {
     "name": "stdout",
     "output_type": "stream",
     "text": [
      "Oops! I have deleted the text.\n"
     ]
    }
   ],
   "source": [
    "with open(\"file_handling_practice.txt\") as f:\n",
    "    print(f.read())"
   ]
  },
  {
   "cell_type": "code",
   "execution_count": 17,
   "id": "6f6fcb98",
   "metadata": {},
   "outputs": [
    {
     "name": "stdout",
     "output_type": "stream",
     "text": [
      "File not found ):\n"
     ]
    }
   ],
   "source": [
    "# if the file is not found\n",
    "try:\n",
    "    with open(\"file.txt\") as f:\n",
    "        print(f.read())\n",
    "except FileNotFoundError:\n",
    "    print(\"File not found ):\")"
   ]
  },
  {
   "cell_type": "code",
   "execution_count": 14,
   "id": "756a0c33",
   "metadata": {},
   "outputs": [],
   "source": [
    "# Write a file\n",
    "file=open(\"file_handling_practice.txt\", \"w\")\n",
    "file.write(\"Oops! I have deleted the text.\")\n",
    "file.close()"
   ]
  },
  {
   "cell_type": "code",
   "execution_count": 15,
   "id": "127a6b9a",
   "metadata": {},
   "outputs": [
    {
     "data": {
      "text/plain": [
       "'Oops! I have deleted the text.'"
      ]
     },
     "execution_count": 15,
     "metadata": {},
     "output_type": "execute_result"
    }
   ],
   "source": [
    "file=open(\"file_handling_practice.txt\", \"r\")\n",
    "file.read()"
   ]
  },
  {
   "cell_type": "code",
   "execution_count": 18,
   "id": "d89217e3",
   "metadata": {},
   "outputs": [],
   "source": [
    "# Write a file\n",
    "txt=\"How are you :)\"\n",
    "with open(\"file_handling_practice.txt\", \"w\") as f:\n",
    "    f.write(txt)"
   ]
  },
  {
   "cell_type": "code",
   "execution_count": 19,
   "id": "2901d176",
   "metadata": {},
   "outputs": [
    {
     "data": {
      "text/plain": [
       "'How are you :)'"
      ]
     },
     "execution_count": 19,
     "metadata": {},
     "output_type": "execute_result"
    }
   ],
   "source": [
    "# Read and Write a file\n",
    "file=open(\"file_handling_practice.txt\", \"r+\")\n",
    "file.read()"
   ]
  },
  {
   "cell_type": "code",
   "execution_count": null,
   "id": "abdf905e",
   "metadata": {},
   "outputs": [],
   "source": []
  }
 ],
 "metadata": {
  "kernelspec": {
   "display_name": "Python 3 (ipykernel)",
   "language": "python",
   "name": "python3"
  },
  "language_info": {
   "codemirror_mode": {
    "name": "ipython",
    "version": 3
   },
   "file_extension": ".py",
   "mimetype": "text/x-python",
   "name": "python",
   "nbconvert_exporter": "python",
   "pygments_lexer": "ipython3",
   "version": "3.10.9"
  }
 },
 "nbformat": 4,
 "nbformat_minor": 5
}
