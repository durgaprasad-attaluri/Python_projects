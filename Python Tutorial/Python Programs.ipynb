{
 "cells": [
  {
   "cell_type": "markdown",
   "id": "34ae92c2",
   "metadata": {},
   "source": [
    "### Divisible or not"
   ]
  },
  {
   "cell_type": "code",
   "execution_count": 49,
   "id": "5c1d6121",
   "metadata": {},
   "outputs": [
    {
     "data": {
      "text/plain": [
       "True"
      ]
     },
     "execution_count": 49,
     "metadata": {},
     "output_type": "execute_result"
    }
   ],
   "source": [
    "def is_divisible(a,b):\n",
    "    if not a%b:  # Note that in Python, a 0 value is falsy, so you need to use the not operator to negate the truth value of the condition.\n",
    "        return True\n",
    "    return False\n",
    "\n",
    "is_divisible(4,2)"
   ]
  },
  {
   "cell_type": "code",
   "execution_count": 51,
   "id": "dd9513a7",
   "metadata": {},
   "outputs": [
    {
     "data": {
      "text/plain": [
       "True"
      ]
     },
     "execution_count": 51,
     "metadata": {},
     "output_type": "execute_result"
    }
   ],
   "source": [
    "def is_diviible(a,b):\n",
    "    return not a%b\n",
    "\n",
    "is_diviible(4,2)"
   ]
  },
  {
   "cell_type": "code",
   "execution_count": 52,
   "id": "36e93467",
   "metadata": {},
   "outputs": [
    {
     "data": {
      "text/plain": [
       "True"
      ]
     },
     "execution_count": 52,
     "metadata": {},
     "output_type": "execute_result"
    }
   ],
   "source": [
    "def is_equal(a,b):\n",
    "    if a==b:\n",
    "        return True\n",
    "    return False\n",
    "\n",
    "is_equal(2,2)"
   ]
  },
  {
   "cell_type": "code",
   "execution_count": 53,
   "id": "a1715954",
   "metadata": {},
   "outputs": [
    {
     "data": {
      "text/plain": [
       "(True, True, False)"
      ]
     },
     "execution_count": 53,
     "metadata": {},
     "output_type": "execute_result"
    }
   ],
   "source": [
    "def both_true(a,b):\n",
    "    return True if a and b else False\n",
    "\n",
    "both_true(1,2), both_true(1,1), both_true(1,0)"
   ]
  },
  {
   "cell_type": "markdown",
   "id": "d2f3c212",
   "metadata": {},
   "source": [
    "### Prime numbers"
   ]
  },
  {
   "cell_type": "code",
   "execution_count": 9,
   "id": "6409266b",
   "metadata": {},
   "outputs": [
    {
     "name": "stdout",
     "output_type": "stream",
     "text": [
      "7\n"
     ]
    },
    {
     "data": {
      "text/plain": [
       "'prime'"
      ]
     },
     "execution_count": 9,
     "metadata": {},
     "output_type": "execute_result"
    }
   ],
   "source": [
    "def is_prime(n):\n",
    "    if n < 2:\n",
    "        return \"Not Prime\"\n",
    "    \n",
    "    for i in range(2,n):\n",
    "        if n%i==0:\n",
    "            return \"Not Prime\"\n",
    "    return \"prime\"\n",
    "            \n",
    "is_prime(int(input()))"
   ]
  },
  {
   "cell_type": "code",
   "execution_count": 12,
   "id": "0613ea16",
   "metadata": {},
   "outputs": [
    {
     "name": "stdout",
     "output_type": "stream",
     "text": [
      "2 3 5 7 11 13 "
     ]
    }
   ],
   "source": [
    "a=int(input())\n",
    "b=int(input())\n",
    "\n",
    "for i in range(a,b+1):\n",
    "    if i>1:\n",
    "        for j in range(2,i):\n",
    "            if i%j==0:\n",
    "                break\n",
    "        else:\n",
    "            print(i, end=\" \")"
   ]
  },
  {
   "cell_type": "markdown",
   "id": "f467c512",
   "metadata": {},
   "source": [
    "### Factorial"
   ]
  },
  {
   "cell_type": "code",
   "execution_count": 15,
   "id": "ec3225ac",
   "metadata": {},
   "outputs": [
    {
     "name": "stdout",
     "output_type": "stream",
     "text": [
      "12\n"
     ]
    },
    {
     "data": {
      "text/plain": [
       "479001600"
      ]
     },
     "execution_count": 15,
     "metadata": {},
     "output_type": "execute_result"
    }
   ],
   "source": [
    "def fact(n):\n",
    "    f=1\n",
    "    for i in range(1,n+1):\n",
    "        f*=i\n",
    "    return f\n",
    "\n",
    "fact(int(input()))"
   ]
  },
  {
   "cell_type": "code",
   "execution_count": 18,
   "id": "6d21a9c1",
   "metadata": {},
   "outputs": [
    {
     "name": "stdout",
     "output_type": "stream",
     "text": [
      "-2\n"
     ]
    },
    {
     "data": {
      "text/plain": [
       "'No factorial'"
      ]
     },
     "execution_count": 18,
     "metadata": {},
     "output_type": "execute_result"
    }
   ],
   "source": [
    "def factorial(n):\n",
    "    if n<0:\n",
    "        return \"No factorial\"\n",
    "    elif n<=1:\n",
    "        return 1\n",
    "    else:\n",
    "        return n*factorial(n-1)\n",
    "    \n",
    "factorial(int(input()))"
   ]
  },
  {
   "cell_type": "markdown",
   "id": "e5acc131",
   "metadata": {},
   "source": [
    "### Fibonacci"
   ]
  },
  {
   "cell_type": "code",
   "execution_count": 19,
   "id": "173e9715",
   "metadata": {},
   "outputs": [
    {
     "name": "stdout",
     "output_type": "stream",
     "text": [
      "5\n"
     ]
    },
    {
     "data": {
      "text/plain": [
       "[0, 1, 1, 2, 3]"
      ]
     },
     "execution_count": 19,
     "metadata": {},
     "output_type": "execute_result"
    }
   ],
   "source": [
    "def fibonacci(n):\n",
    "    if n<0:\n",
    "        return \"No series\"\n",
    "    else:\n",
    "        s=[]\n",
    "        a,b=0,1\n",
    "        for i in range(n):\n",
    "            s.append(a)\n",
    "            a,b=b,a+b\n",
    "\n",
    "        return s\n",
    "    \n",
    "fibonacci(int(input()))"
   ]
  },
  {
   "cell_type": "markdown",
   "id": "06f7a3e3",
   "metadata": {},
   "source": [
    "### Factors of a Number"
   ]
  },
  {
   "cell_type": "code",
   "execution_count": 21,
   "id": "d6fbd2d1",
   "metadata": {},
   "outputs": [
    {
     "name": "stdout",
     "output_type": "stream",
     "text": [
      "The factors of 320 are:\n",
      "1 2 4 5 8 10 16 20 32 40 64 80 160 320 "
     ]
    }
   ],
   "source": [
    "def print_factors(x):\n",
    "    print(\"The factors of\",x,\"are:\")\n",
    "    for i in range(1, x + 1):\n",
    "        if x % i == 0:\n",
    "            print(i, end=\" \")\n",
    "\n",
    "num = 320\n",
    "print_factors(num)"
   ]
  },
  {
   "cell_type": "markdown",
   "id": "e7ee9e9c",
   "metadata": {},
   "source": [
    "### HCF & LCM"
   ]
  },
  {
   "cell_type": "code",
   "execution_count": 24,
   "id": "d46e6dd3",
   "metadata": {},
   "outputs": [
    {
     "data": {
      "text/plain": [
       "100"
      ]
     },
     "execution_count": 24,
     "metadata": {},
     "output_type": "execute_result"
    }
   ],
   "source": [
    "def hcf(x, y):\n",
    "    while(y):\n",
    "        x, y = y, x % y\n",
    "    return x\n",
    "\n",
    "hcf(300, 400)"
   ]
  },
  {
   "cell_type": "code",
   "execution_count": 26,
   "id": "ee6b9781",
   "metadata": {},
   "outputs": [
    {
     "data": {
      "text/plain": [
       "30"
      ]
     },
     "execution_count": 26,
     "metadata": {},
     "output_type": "execute_result"
    }
   ],
   "source": [
    "def lcm(x,y):\n",
    "    return (x*y)//hcf(x,y)\n",
    "\n",
    "lcm(15,10)"
   ]
  },
  {
   "cell_type": "code",
   "execution_count": 27,
   "id": "cb79b3aa",
   "metadata": {},
   "outputs": [
    {
     "name": "stdout",
     "output_type": "stream",
     "text": [
      "Enter the first number: 5\n",
      "Enter the second number: 10\n"
     ]
    },
    {
     "data": {
      "text/plain": [
       "10"
      ]
     },
     "execution_count": 27,
     "metadata": {},
     "output_type": "execute_result"
    }
   ],
   "source": [
    "def lcm(a, b):\n",
    "    multiple = max(a, b)\n",
    "\n",
    "    while True:\n",
    "        if multiple % a == 0 and multiple % b == 0:\n",
    "            return multiple\n",
    "        multiple += 1\n",
    "\n",
    "# Take user input for the two numbers\n",
    "num1 = int(input(\"Enter the first number: \"))\n",
    "num2 = int(input(\"Enter the second number: \"))\n",
    "\n",
    "# Calculate the LCM\n",
    "lcm(num1, num2)"
   ]
  },
  {
   "cell_type": "markdown",
   "id": "c649ecc3",
   "metadata": {},
   "source": [
    "### Leap year finding"
   ]
  },
  {
   "cell_type": "code",
   "execution_count": 3,
   "id": "f678daa6",
   "metadata": {},
   "outputs": [
    {
     "name": "stdout",
     "output_type": "stream",
     "text": [
      "2026\n"
     ]
    },
    {
     "data": {
      "text/plain": [
       "'Not leap year'"
      ]
     },
     "execution_count": 3,
     "metadata": {},
     "output_type": "execute_result"
    }
   ],
   "source": [
    "def leap_year(year):\n",
    "    # divided by 100 means century year (ending with 00)\n",
    "    # century year divided by 400 is leap year\n",
    "    if (year%100==0) and (year%400==0):\n",
    "        return \"Leap Year\"\n",
    "    \n",
    "    # year divided by 4 is a leap year\n",
    "    if year%4==0:\n",
    "        return \"Leap Year\"\n",
    "    \n",
    "    else:\n",
    "        return \"Not leap year\"\n",
    "    \n",
    "leap_year(int(input()))"
   ]
  },
  {
   "cell_type": "markdown",
   "id": "5eb471ee",
   "metadata": {},
   "source": [
    "### Armstrong Number"
   ]
  },
  {
   "cell_type": "code",
   "execution_count": 25,
   "id": "6413399b",
   "metadata": {},
   "outputs": [
    {
     "name": "stdout",
     "output_type": "stream",
     "text": [
      "1634\n"
     ]
    },
    {
     "data": {
      "text/plain": [
       "'Armstrong'"
      ]
     },
     "execution_count": 25,
     "metadata": {},
     "output_type": "execute_result"
    }
   ],
   "source": [
    "def armstrong(n):\n",
    "    sum=0\n",
    "    temp=n\n",
    "    order=len(str(n))\n",
    "    while temp>0:\n",
    "        rem=temp%10\n",
    "        sum+=rem**order\n",
    "        temp=temp//10\n",
    "        \n",
    "    if n==sum:\n",
    "        return \"Armstrong\"\n",
    "    else:\n",
    "        return \"Not Armstrong\"\n",
    "\n",
    "armstrong(int(input()))"
   ]
  },
  {
   "cell_type": "code",
   "execution_count": 30,
   "id": "d7bf4301",
   "metadata": {},
   "outputs": [
    {
     "name": "stdout",
     "output_type": "stream",
     "text": [
      "100\n",
      "2000\n",
      "153 370 371 407 1634 "
     ]
    }
   ],
   "source": [
    "def armstrong_list(a,b):\n",
    "    for n in range(a, b+1):\n",
    "        order=len(str(n))\n",
    "        sum=0\n",
    "        temp=n\n",
    "        while temp>0:\n",
    "            r=temp%10\n",
    "            sum+=r**order\n",
    "            temp//=10\n",
    "        if n==sum:\n",
    "            print(sum, end=\" \")\n",
    "            \n",
    "a=int(input())\n",
    "b=int(input())\n",
    "armstrong_list(a,b)"
   ]
  },
  {
   "cell_type": "markdown",
   "id": "aa7b899e",
   "metadata": {},
   "source": [
    "### Division and Square-root"
   ]
  },
  {
   "cell_type": "code",
   "execution_count": 2,
   "id": "bf617dac",
   "metadata": {},
   "outputs": [
    {
     "name": "stdout",
     "output_type": "stream",
     "text": [
      "10\n"
     ]
    },
    {
     "data": {
      "text/plain": [
       "3.1622776601683795"
      ]
     },
     "execution_count": 2,
     "metadata": {},
     "output_type": "execute_result"
    }
   ],
   "source": [
    "def divide_or_square(n):\n",
    "    if n%5==0:\n",
    "        return n**(1/2)\n",
    "    else:\n",
    "        return n%5\n",
    "    \n",
    "divide_or_square(int(input()))"
   ]
  },
  {
   "cell_type": "markdown",
   "id": "f9cfa2c5",
   "metadata": {},
   "source": [
    "### Longest Value"
   ]
  },
  {
   "cell_type": "code",
   "execution_count": 5,
   "id": "5e2c37b6",
   "metadata": {},
   "outputs": [
    {
     "data": {
      "text/plain": [
       "'green-red'"
      ]
     },
     "execution_count": 5,
     "metadata": {},
     "output_type": "execute_result"
    }
   ],
   "source": [
    "def longest_val(d):\n",
    "    longest=max(d.values(), key=len)\n",
    "    return longest\n",
    "\n",
    "fruits= {'fruit': 'apple', 'color': 'green-red'}\n",
    "longest_val(fruits)"
   ]
  },
  {
   "cell_type": "markdown",
   "id": "496c992d",
   "metadata": {},
   "source": [
    "### String to Int then Sum"
   ]
  },
  {
   "cell_type": "code",
   "execution_count": 6,
   "id": "7ddc55ba",
   "metadata": {},
   "outputs": [
    {
     "data": {
      "text/plain": [
       "6"
      ]
     },
     "execution_count": 6,
     "metadata": {},
     "output_type": "execute_result"
    }
   ],
   "source": [
    "def convert_add(l):\n",
    "    s=0\n",
    "    for i in l:\n",
    "        s+=int(i)\n",
    "    return s\n",
    "\n",
    "l=['1', '2', '3']\n",
    "convert_add(l)"
   ]
  },
  {
   "cell_type": "markdown",
   "id": "03ce6cc5",
   "metadata": {},
   "source": [
    "### Check Duplicates"
   ]
  },
  {
   "cell_type": "code",
   "execution_count": 14,
   "id": "1e9aaae4",
   "metadata": {},
   "outputs": [
    {
     "data": {
      "text/plain": [
       "'banana'"
      ]
     },
     "execution_count": 14,
     "metadata": {},
     "output_type": "execute_result"
    }
   ],
   "source": [
    "def duplicate_check(l):\n",
    "    for i in l:\n",
    "        if l.count(i)>1:\n",
    "            return i\n",
    "        else:\n",
    "            return 'No duplicates'\n",
    "        \n",
    "fruits=['banana', 'apple', 'orange', 'banana', 'apple']\n",
    "duplicate_check(fruits)"
   ]
  },
  {
   "cell_type": "code",
   "execution_count": 7,
   "id": "cafb2543",
   "metadata": {},
   "outputs": [
    {
     "data": {
      "text/plain": [
       "{'banana': 2, 'apple': 2, 'orange': 1}"
      ]
     },
     "execution_count": 7,
     "metadata": {},
     "output_type": "execute_result"
    }
   ],
   "source": [
    "d={}\n",
    "for i in ['banana', 'apple', 'orange', 'banana', 'apple']:\n",
    "    if i in d.keys():\n",
    "        d[i]+=1\n",
    "    else:\n",
    "        d[i]=1\n",
    "d"
   ]
  },
  {
   "cell_type": "markdown",
   "id": "939a8bdd",
   "metadata": {},
   "source": []
  },
  {
   "cell_type": "code",
   "execution_count": 9,
   "id": "8f44abe2",
   "metadata": {},
   "outputs": [
    {
     "data": {
      "text/plain": [
       "('# of students registered ', 3)"
      ]
     },
     "execution_count": 9,
     "metadata": {},
     "output_type": "execute_result"
    }
   ],
   "source": [
    "def registered_stu(d):\n",
    "    c=0\n",
    "    for i in d.values():\n",
    "        if i.lower()=='yes':\n",
    "            c+=1\n",
    "    return '# of students registered ',c\n",
    "\n",
    "s={'A': 'yes', 'B': 'No', 'C': 'Yes', 'D': 'yes'}\n",
    "registered_stu(s)"
   ]
  },
  {
   "cell_type": "code",
   "execution_count": 57,
   "id": "fc66613e",
   "metadata": {},
   "outputs": [
    {
     "data": {
      "text/plain": [
       "0"
      ]
     },
     "execution_count": 57,
     "metadata": {},
     "output_type": "execute_result"
    }
   ],
   "source": [
    "def word_index(l):\n",
    "    c=len(l[0])   \n",
    "    ind=0\n",
    "    for i in range(len(l)):\n",
    "        if len(l[i])>c:\n",
    "            c=len(l[i])\n",
    "            ind=i\n",
    "        \n",
    "        elif len(l[i])==c and i<ind:\n",
    "            ind=i\n",
    "    return ind\n",
    "    \n",
    "#l=[\"Hate\", \"remorse\", \"vengeance\"]\n",
    "l=['Word', 'Hate']\n",
    "word_index(l)            "
   ]
  },
  {
   "cell_type": "code",
   "execution_count": 55,
   "id": "38282744",
   "metadata": {},
   "outputs": [
    {
     "name": "stdout",
     "output_type": "stream",
     "text": [
      "Index of the longest string: 0\n"
     ]
    }
   ],
   "source": [
    "def find_longest_index(strings):\n",
    "    # Check if all strings have the same length\n",
    "    if all(len(s) == len(strings[0]) for s in strings):\n",
    "        return 0\n",
    "    \n",
    "    # Find the index of the longest string\n",
    "    longest_index = max(range(len(strings)), key=lambda i: len(strings[i]))\n",
    "    return longest_index\n",
    "\n",
    "# Example usage:\n",
    "#my_strings = [\"apple\", \"banana\", \"orange\", \"grape\"]\n",
    "my_strings=['love', 'hate', 'pyar', 'kush']\n",
    "result = find_longest_index(my_strings)\n",
    "\n",
    "print(\"Index of the longest string:\", result)"
   ]
  },
  {
   "cell_type": "code",
   "execution_count": 41,
   "id": "deb9ad53",
   "metadata": {},
   "outputs": [
    {
     "data": {
      "text/plain": [
       "True"
      ]
     },
     "execution_count": 41,
     "metadata": {},
     "output_type": "execute_result"
    }
   ],
   "source": [
    "def is_equal_len(l):\n",
    "    c=len(l[0])\n",
    "    el=True\n",
    "    for i in range(len(l)):\n",
    "        if len(l[i])==c:\n",
    "            el=True\n",
    "        else:\n",
    "            el=False\n",
    "    return el\n",
    "        \n",
    "        \n",
    "#l=[\"Hate\", \"remorse\", \"vengeance\"]\n",
    "l=['Love', 'Hate', 'Pyar']\n",
    "is_equal_len(l)"
   ]
  },
  {
   "cell_type": "code",
   "execution_count": 47,
   "id": "5c0503f5",
   "metadata": {},
   "outputs": [
    {
     "name": "stdout",
     "output_type": "stream",
     "text": [
      "Enter the price: 150\n",
      "Enter the discount: 15\n"
     ]
    },
    {
     "data": {
      "text/plain": [
       "'This item cost is 150 with discount 15 and now you have to pay 127.5'"
      ]
     },
     "execution_count": 47,
     "metadata": {},
     "output_type": "execute_result"
    }
   ],
   "source": [
    "def discount():\n",
    "    price=int(input(\"Enter the price: \"))\n",
    "    dis=int(input(\"Enter the discount: \"))\n",
    "    cost=price* (100-dis)/100\n",
    "    return f'This item cost is {price} with discount {dis} and now you have to pay {cost}'\n",
    "\n",
    "discount()"
   ]
  },
  {
   "cell_type": "code",
   "execution_count": null,
   "id": "203123ae",
   "metadata": {},
   "outputs": [],
   "source": []
  }
 ],
 "metadata": {
  "kernelspec": {
   "display_name": "Python 3 (ipykernel)",
   "language": "python",
   "name": "python3"
  },
  "language_info": {
   "codemirror_mode": {
    "name": "ipython",
    "version": 3
   },
   "file_extension": ".py",
   "mimetype": "text/x-python",
   "name": "python",
   "nbconvert_exporter": "python",
   "pygments_lexer": "ipython3",
   "version": "3.10.9"
  }
 },
 "nbformat": 4,
 "nbformat_minor": 5
}
