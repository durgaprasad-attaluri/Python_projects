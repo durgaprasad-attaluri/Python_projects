{
 "cells": [
  {
   "cell_type": "markdown",
   "id": "e8463c2d",
   "metadata": {},
   "source": [
    "## Lists"
   ]
  },
  {
   "cell_type": "markdown",
   "id": "2826f18d",
   "metadata": {},
   "source": [
    "* Lists are used to store multiple items in a single variable.\n",
    "* List items are ordered, changeable(mutable), and allow duplicate values.\n",
    "* List can contain different kinds of elements"
   ]
  },
  {
   "cell_type": "markdown",
   "id": "6d8b7596",
   "metadata": {},
   "source": [
    "### Creating Lists"
   ]
  },
  {
   "cell_type": "code",
   "execution_count": 2,
   "id": "163ee95f",
   "metadata": {},
   "outputs": [
    {
     "name": "stdout",
     "output_type": "stream",
     "text": [
      "[1, 2, 3]\n",
      "[1, 2, 3]\n",
      "[1.0, 'Jessa', 3]\n",
      "[]\n",
      "[]\n"
     ]
    }
   ],
   "source": [
    "# Using list constructor\n",
    "my_list1 = list((1, 2, 3))\n",
    "print(my_list1)            # Output [1, 2, 3]\n",
    "\n",
    "# Using square brackets[]\n",
    "my_list2 = list([1, 2, 3])\n",
    "print(my_list2)            # Output [1, 2, 3]\n",
    "\n",
    "# with heterogeneous items\n",
    "my_list3 = [1.0, 'Jessa', 3]\n",
    "print(my_list3)            # Output [1.0, 'Jessa', 3]\n",
    "\n",
    "# empty list using list()\n",
    "my_list4 = list()\n",
    "print(my_list4)            # Output []\n",
    "\n",
    "# empty list using []\n",
    "my_list5 = []\n",
    "print(my_list4)            # Output []"
   ]
  },
  {
   "cell_type": "code",
   "execution_count": 3,
   "id": "3040bfab",
   "metadata": {},
   "outputs": [
    {
     "name": "stdout",
     "output_type": "stream",
     "text": [
      "['red', 'blue', 'green', 'red']\n",
      "red\n",
      "green\n",
      "['red', 'blue', 'green', 'yellow']\n",
      "4\n"
     ]
    }
   ],
   "source": [
    "colors = ['red', 'blue', 'green','red']\n",
    "print(colors)       # ['red', 'blue', 'green', 'red']\n",
    "print(colors[0])    # red\n",
    "print(colors[2])    # green\n",
    "\n",
    "#updating element \n",
    "colors[3]='yellow'\n",
    "print(colors)       # ['red', 'blue', 'green', 'yellow']\n",
    "print(len(colors))  # 4"
   ]
  },
  {
   "cell_type": "code",
   "execution_count": 32,
   "id": "e9e272d1",
   "metadata": {
    "scrolled": true
   },
   "outputs": [
    {
     "name": "stdout",
     "output_type": "stream",
     "text": [
      "30\n",
      "yes\n",
      "Eat Apple\n",
      "Eat Apple\n"
     ]
    }
   ],
   "source": [
    "#For and In\n",
    "squares = [1, 4, 9, 16]\n",
    "sum = 0\n",
    "for num in squares:\n",
    "    sum += num\n",
    "print(sum)  # 30\n",
    "\n",
    "#If and In\n",
    "list = ['larry', 'curly', 'moe']\n",
    "if 'curly' in list:\n",
    "    print('yes')\n",
    "\n",
    "#While and In\n",
    "s=['a','p','p','l','e']\n",
    "while 'p' in s:\n",
    "    print(\"Eat Apple\")\n",
    "    s.remove('p')"
   ]
  },
  {
   "cell_type": "code",
   "execution_count": 5,
   "id": "d2e2f773",
   "metadata": {},
   "outputs": [
    {
     "name": "stdout",
     "output_type": "stream",
     "text": [
      "Durga Pra\n"
     ]
    },
    {
     "data": {
      "text/plain": [
       "(['D', 'u', 'r', 'g', 'a', ' ', 'P', 'r', 'a'], ['Durga', 'Pra'])"
      ]
     },
     "execution_count": 5,
     "metadata": {},
     "output_type": "execute_result"
    }
   ],
   "source": [
    "# List from string\n",
    "s=input()\n",
    "list(s), list(s.split( ))"
   ]
  },
  {
   "cell_type": "markdown",
   "id": "137526c4",
   "metadata": {},
   "source": [
    "### Access List Elements"
   ]
  },
  {
   "cell_type": "code",
   "execution_count": 1,
   "id": "134fb1c6",
   "metadata": {},
   "outputs": [
    {
     "name": "stdout",
     "output_type": "stream",
     "text": [
      "Python\n",
      "C++\n"
     ]
    }
   ],
   "source": [
    "languages = [\"Python\", \"Swift\", \"C++\"]\n",
    "\n",
    "# access item at index 0\n",
    "print(languages[0])   # Python\n",
    "\n",
    "# access item at index 2\n",
    "print(languages[2])   # C++"
   ]
  },
  {
   "cell_type": "code",
   "execution_count": 2,
   "id": "9696f1d4",
   "metadata": {},
   "outputs": [
    {
     "name": "stdout",
     "output_type": "stream",
     "text": [
      "C++\n",
      "Python\n"
     ]
    }
   ],
   "source": [
    "languages = [\"Python\", \"Swift\", \"C++\"]\n",
    "\n",
    "# access item at index 0\n",
    "print(languages[-1])   # C++\n",
    "\n",
    "# access item at index 2\n",
    "print(languages[-3])   # Python"
   ]
  },
  {
   "cell_type": "markdown",
   "id": "bd83ea74",
   "metadata": {},
   "source": [
    "### Slicing of a List"
   ]
  },
  {
   "cell_type": "code",
   "execution_count": 3,
   "id": "0482d6b5",
   "metadata": {},
   "outputs": [
    {
     "name": "stdout",
     "output_type": "stream",
     "text": [
      "['D', 'U', 'R', 'G', 'A']\n",
      "['D', 'U', 'R', 'G', 'A', ' ', 'P']\n",
      "['U', 'R', 'G', 'A']\n",
      "[' ', 'P']\n",
      "['A', ' ', 'P']\n"
     ]
    }
   ],
   "source": [
    "my_list=['D','U','R','G','A',' ','P','R','A','S','A','D']\n",
    "print(my_list[:5])\n",
    "print(my_list[:-5])\n",
    "print(my_list[1:5])\n",
    "print(my_list[-7:-5])\n",
    "print(my_list[4:-5])"
   ]
  },
  {
   "cell_type": "code",
   "execution_count": 16,
   "id": "b0fd9cbd",
   "metadata": {},
   "outputs": [
    {
     "name": "stdout",
     "output_type": "stream",
     "text": [
      "['U', 'G', ' ', 'R', 'S']\n",
      "['D', 'R', 'A', 'P', 'A', 'A']\n"
     ]
    }
   ],
   "source": [
    "print(my_list[1:10:2])\n",
    "print(my_list[::2]) #with skip count 2"
   ]
  },
  {
   "cell_type": "markdown",
   "id": "6cf67e7f",
   "metadata": {},
   "source": [
    "### Iterating a List"
   ]
  },
  {
   "cell_type": "code",
   "execution_count": 4,
   "id": "35941227",
   "metadata": {},
   "outputs": [
    {
     "name": "stdout",
     "output_type": "stream",
     "text": [
      "1 2 DP 2.0 "
     ]
    }
   ],
   "source": [
    "myList=[1,2,'DP',2.0]\n",
    "for i in myList:\n",
    "    print(i,end=\" \")"
   ]
  },
  {
   "cell_type": "code",
   "execution_count": 8,
   "id": "34e8c9eb",
   "metadata": {},
   "outputs": [
    {
     "name": "stdout",
     "output_type": "stream",
     "text": [
      "0 : 1; 1 : 2; 2 : DP; 3 : 2.0; "
     ]
    }
   ],
   "source": [
    "#iterating along with index\n",
    "for i in range(len(myList)):\n",
    "    print(i,\":\",myList[i],end=\"; \")"
   ]
  },
  {
   "cell_type": "markdown",
   "id": "83afd3c1",
   "metadata": {},
   "source": [
    "### List Operations"
   ]
  },
  {
   "cell_type": "code",
   "execution_count": 9,
   "id": "ea0b28fc",
   "metadata": {},
   "outputs": [
    {
     "data": {
      "text/plain": [
       "2"
      ]
     },
     "execution_count": 9,
     "metadata": {},
     "output_type": "execute_result"
    }
   ],
   "source": [
    "fruits = ['orange', 'apple', 'pear', 'banana', 'kiwi', 'apple', 'banana']\n",
    "fruits.count('apple')"
   ]
  },
  {
   "cell_type": "code",
   "execution_count": 2,
   "id": "0904f94c",
   "metadata": {},
   "outputs": [
    {
     "data": {
      "text/plain": [
       "0"
      ]
     },
     "execution_count": 2,
     "metadata": {},
     "output_type": "execute_result"
    }
   ],
   "source": [
    "fruits.count('tangerine')"
   ]
  },
  {
   "cell_type": "code",
   "execution_count": 10,
   "id": "df3ad0ab",
   "metadata": {},
   "outputs": [
    {
     "data": {
      "text/plain": [
       "1"
      ]
     },
     "execution_count": 10,
     "metadata": {},
     "output_type": "execute_result"
    }
   ],
   "source": [
    "fruits.index('apple')"
   ]
  },
  {
   "cell_type": "code",
   "execution_count": 3,
   "id": "0f15f338",
   "metadata": {},
   "outputs": [
    {
     "data": {
      "text/plain": [
       "3"
      ]
     },
     "execution_count": 3,
     "metadata": {},
     "output_type": "execute_result"
    }
   ],
   "source": [
    "fruits.index('banana')"
   ]
  },
  {
   "cell_type": "code",
   "execution_count": 4,
   "id": "3bb3894a",
   "metadata": {},
   "outputs": [
    {
     "ename": "ValueError",
     "evalue": "'Banana' is not in list",
     "output_type": "error",
     "traceback": [
      "\u001b[1;31m---------------------------------------------------------------------------\u001b[0m",
      "\u001b[1;31mValueError\u001b[0m                                Traceback (most recent call last)",
      "Cell \u001b[1;32mIn[4], line 1\u001b[0m\n\u001b[1;32m----> 1\u001b[0m \u001b[43mfruits\u001b[49m\u001b[38;5;241;43m.\u001b[39;49m\u001b[43mindex\u001b[49m\u001b[43m(\u001b[49m\u001b[38;5;124;43m'\u001b[39;49m\u001b[38;5;124;43mBanana\u001b[39;49m\u001b[38;5;124;43m'\u001b[39;49m\u001b[43m)\u001b[49m\n",
      "\u001b[1;31mValueError\u001b[0m: 'Banana' is not in list"
     ]
    }
   ],
   "source": [
    "fruits.index('Banana')"
   ]
  },
  {
   "cell_type": "code",
   "execution_count": 7,
   "id": "0cf0415f",
   "metadata": {},
   "outputs": [
    {
     "data": {
      "text/plain": [
       "['banana', 'apple', 'kiwi', 'banana', 'pear', 'apple', 'orange']"
      ]
     },
     "execution_count": 7,
     "metadata": {},
     "output_type": "execute_result"
    }
   ],
   "source": [
    "fruits.reverse()\n",
    "fruits"
   ]
  },
  {
   "cell_type": "code",
   "execution_count": 8,
   "id": "6ea3727b",
   "metadata": {},
   "outputs": [
    {
     "data": {
      "text/plain": [
       "['banana', 'apple', 'kiwi', 'banana', 'pear', 'apple', 'orange', 'grape']"
      ]
     },
     "execution_count": 8,
     "metadata": {},
     "output_type": "execute_result"
    }
   ],
   "source": [
    "fruits.append('grape')\n",
    "fruits"
   ]
  },
  {
   "cell_type": "code",
   "execution_count": 10,
   "id": "ef9ce549",
   "metadata": {},
   "outputs": [
    {
     "data": {
      "text/plain": [
       "['apple', 'apple', 'banana', 'banana', 'grape', 'kiwi', 'orange', 'pear']"
      ]
     },
     "execution_count": 10,
     "metadata": {},
     "output_type": "execute_result"
    }
   ],
   "source": [
    "fruits.sort()\n",
    "fruits"
   ]
  },
  {
   "cell_type": "code",
   "execution_count": 2,
   "id": "185c410c",
   "metadata": {},
   "outputs": [
    {
     "data": {
      "text/plain": [
       "['apple', 'apple', 'banana', 'banana', 'kiwi', 'orange', 'pear']"
      ]
     },
     "execution_count": 2,
     "metadata": {},
     "output_type": "execute_result"
    }
   ],
   "source": [
    "sorted(fruits)"
   ]
  },
  {
   "cell_type": "code",
   "execution_count": 3,
   "id": "9c217af4",
   "metadata": {},
   "outputs": [
    {
     "data": {
      "text/plain": [
       "['pear', 'orange', 'kiwi', 'banana', 'banana', 'apple', 'apple']"
      ]
     },
     "execution_count": 3,
     "metadata": {},
     "output_type": "execute_result"
    }
   ],
   "source": [
    "sorted(fruits,reverse=True)"
   ]
  },
  {
   "cell_type": "code",
   "execution_count": 12,
   "id": "ee2af178",
   "metadata": {},
   "outputs": [
    {
     "data": {
      "text/plain": [
       "'pear'"
      ]
     },
     "execution_count": 12,
     "metadata": {},
     "output_type": "execute_result"
    }
   ],
   "source": [
    "fruits.pop()"
   ]
  },
  {
   "cell_type": "markdown",
   "id": "eb81e37c",
   "metadata": {},
   "source": [
    "### Adding elements "
   ]
  },
  {
   "cell_type": "code",
   "execution_count": 1,
   "id": "5123b5ef",
   "metadata": {},
   "outputs": [
    {
     "name": "stdout",
     "output_type": "stream",
     "text": [
      "[5, 8, 'Tom', 7.5, 'Emma']\n",
      "[5, 8, 'Tom', 7.5, 'Emma', [25, 50, 75]]\n"
     ]
    }
   ],
   "source": [
    "#Append an item  ->adding an item at the end\n",
    "my_list = list([5, 8, 'Tom', 7.50])\n",
    "\n",
    "# Using append()\n",
    "my_list.append('Emma')\n",
    "print(my_list)            # Output [5, 8, 'Tom', 7.5, 'Emma']\n",
    "\n",
    "# append the nested list at the end\n",
    "my_list.append([25, 50, 75])\n",
    "print(my_list)            # Output [5, 8, 'Tom', 7.5, 'Emma', [25, 50, 75]]"
   ]
  },
  {
   "cell_type": "code",
   "execution_count": 2,
   "id": "a8a4bf5f",
   "metadata": {},
   "outputs": [
    {
     "data": {
      "text/plain": [
       "[5, 8, 25, [10, 20, 30], 'Tom', 7.5, 'Emma', [25, 50, 75]]"
      ]
     },
     "execution_count": 2,
     "metadata": {},
     "output_type": "execute_result"
    }
   ],
   "source": [
    "#Adding at the specified position \n",
    "my_list.insert(2,25)\n",
    "my_list.insert(3,[10,20,30])\n",
    "my_list"
   ]
  },
  {
   "cell_type": "code",
   "execution_count": 29,
   "id": "b64b1ce2",
   "metadata": {},
   "outputs": [
    {
     "name": "stdout",
     "output_type": "stream",
     "text": [
      "[5, 8, 25, [10, 20, 30], 25, [10, 20, 30], 'Tom', 7.5, 'Emma', [25, 50, 75], 25, 75, 100]\n"
     ]
    }
   ],
   "source": [
    "my_list.extend([25, 75, 100])\n",
    "print(my_list)               # Output [5, 8, 'Tom', 7.5, 25, 75, 100]"
   ]
  },
  {
   "cell_type": "code",
   "execution_count": 30,
   "id": "61c829aa",
   "metadata": {},
   "outputs": [
    {
     "name": "stdout",
     "output_type": "stream",
     "text": [
      "[2, 3, 4, [5, 6]]\n",
      "[2, 3, 4, 5, 6]\n"
     ]
    }
   ],
   "source": [
    "#append vs extend\n",
    "list_one = [2, 3, 4]\n",
    "list_two = [2, 3, 4]\n",
    "x = [5, 6]\n",
    "\n",
    "list_one.append(x)\n",
    "list_two.extend(x)\n",
    "\n",
    "print(list_one)\n",
    "print(list_two)"
   ]
  },
  {
   "cell_type": "code",
   "execution_count": 8,
   "id": "0899a2c7",
   "metadata": {},
   "outputs": [
    {
     "name": "stdout",
     "output_type": "stream",
     "text": [
      "append\n",
      "['apple', 'mango', 'banana', 'orange']\n",
      "['apple', 'mango', 'banana', 'orange']\n",
      "\n",
      "cloning\n",
      "['apple', 'mango', 'banana', 'orange']\n",
      "['apple', 'mango', 'banana']\n"
     ]
    }
   ],
   "source": [
    "# append vs clone\n",
    "  # append() has a side effect\n",
    "    \n",
    "fruits=['apple','mango','banana']\n",
    "diet=fruits\n",
    "diet.append('orange')\n",
    "\n",
    "print('append')\n",
    "print(diet)\n",
    "print(fruits)\n",
    "\n",
    "print( )\n",
    "print('cloning')\n",
    "fruits1=['apple','mango','banana']\n",
    "fav=fruits1[:] # cloning a list/ copy every element\n",
    "fav.append('orange')\n",
    "print(fav)\n",
    "print(fruits1)"
   ]
  },
  {
   "cell_type": "markdown",
   "id": "a2d8c7c9",
   "metadata": {},
   "source": [
    "### Removing elements "
   ]
  },
  {
   "cell_type": "code",
   "execution_count": 11,
   "id": "ea72c58c",
   "metadata": {},
   "outputs": [
    {
     "name": "stdout",
     "output_type": "stream",
     "text": [
      "[2, 4, 10, 12, 6]\n"
     ]
    }
   ],
   "source": [
    "my_list = list([2, 4, 6, 8, 10, 12,6])\n",
    "\n",
    "my_list.remove(6)\n",
    "my_list.remove(8)\n",
    "\n",
    "print(my_list)      # Output [2, 4, 10, 12]"
   ]
  },
  {
   "cell_type": "code",
   "execution_count": 4,
   "id": "fc2780a2",
   "metadata": {},
   "outputs": [
    {
     "data": {
      "text/plain": [
       "[1, 3, 3, 4, 5, 6, 2]"
      ]
     },
     "execution_count": 4,
     "metadata": {},
     "output_type": "execute_result"
    }
   ],
   "source": [
    "a=[1,2,3,3,4,5,6,2]\n",
    "a.remove(2)\n",
    "a"
   ]
  },
  {
   "cell_type": "code",
   "execution_count": 1,
   "id": "41cfa756",
   "metadata": {},
   "outputs": [
    {
     "name": "stdout",
     "output_type": "stream",
     "text": [
      "Updated List: [1, 3, 4, 5]\n"
     ]
    }
   ],
   "source": [
    "numbers = [1, 2, 3, 4, 2, 5, 2]\n",
    "target_number = 2\n",
    "\n",
    "while target_number in numbers:\n",
    "    numbers.remove(target_number)\n",
    "print(\"Updated List:\", numbers)"
   ]
  },
  {
   "cell_type": "code",
   "execution_count": 26,
   "id": "867a177a",
   "metadata": {},
   "outputs": [
    {
     "name": "stdout",
     "output_type": "stream",
     "text": [
      "Updated List: [1, 3, 4, 5]\n"
     ]
    }
   ],
   "source": [
    "l=[1, 2, 3, 4, 2, 5, 2]\n",
    "target=2\n",
    "for i in l:\n",
    "    if i==target:\n",
    "        l.remove(i)\n",
    "print(\"Updated List:\",l)"
   ]
  },
  {
   "cell_type": "code",
   "execution_count": 40,
   "id": "ea3e7b5a",
   "metadata": {},
   "outputs": [
    {
     "name": "stdout",
     "output_type": "stream",
     "text": [
      "[2, 4, 8, 10, 12]\n"
     ]
    }
   ],
   "source": [
    "#remove item at given index\n",
    "my_list = list([2, 4, 6, 8, 10, 12])\n",
    "\n",
    "# remove item present at index 2\n",
    "my_list.pop(2)\n",
    "print(my_list)        # Output [2, 4, 8, 10, 12]"
   ]
  },
  {
   "cell_type": "code",
   "execution_count": 41,
   "id": "1fc3a805",
   "metadata": {},
   "outputs": [
    {
     "name": "stdout",
     "output_type": "stream",
     "text": [
      "[2, 4]\n"
     ]
    }
   ],
   "source": [
    "#remove range of items\n",
    "del my_list[2:5]\n",
    "print(my_list)"
   ]
  },
  {
   "cell_type": "code",
   "execution_count": 43,
   "id": "c129d511",
   "metadata": {},
   "outputs": [
    {
     "data": {
      "text/plain": [
       "[]"
      ]
     },
     "execution_count": 43,
     "metadata": {},
     "output_type": "execute_result"
    }
   ],
   "source": [
    "#remove all items\n",
    "my_list.clear()\n",
    "my_list"
   ]
  },
  {
   "cell_type": "code",
   "execution_count": 45,
   "id": "bd87ccf2",
   "metadata": {},
   "outputs": [
    {
     "ename": "NameError",
     "evalue": "name 'my_list' is not defined",
     "output_type": "error",
     "traceback": [
      "\u001b[1;31m---------------------------------------------------------------------------\u001b[0m",
      "\u001b[1;31mNameError\u001b[0m                                 Traceback (most recent call last)",
      "Cell \u001b[1;32mIn[45], line 2\u001b[0m\n\u001b[0;32m      1\u001b[0m \u001b[38;5;66;03m#deleting entire list\u001b[39;00m\n\u001b[1;32m----> 2\u001b[0m \u001b[38;5;28;01mdel\u001b[39;00m my_list\n\u001b[0;32m      3\u001b[0m my_list\n",
      "\u001b[1;31mNameError\u001b[0m: name 'my_list' is not defined"
     ]
    }
   ],
   "source": [
    "#deleting entire list\n",
    "del my_list\n",
    "my_list"
   ]
  },
  {
   "cell_type": "code",
   "execution_count": 26,
   "id": "a207f7b9",
   "metadata": {},
   "outputs": [
    {
     "data": {
      "text/plain": [
       "[2, 3, 4]"
      ]
     },
     "execution_count": 26,
     "metadata": {},
     "output_type": "execute_result"
    }
   ],
   "source": [
    "# removing duplicates\n",
    "'''\n",
    "    the output will be [2, 3, 4] rather than removing only elements 1 and 2 (which are in both lists, L1 and L2). \n",
    "    The reason is that when 1 is removed, the list shifts, and the loop doesn't properly check all elements. \n",
    "    This leads to the skipping of 2 in the removal process.\n",
    "'''\n",
    "\n",
    "def remove_dups(L1, L2):\n",
    "    for e in L1:\n",
    "        if e in L2:\n",
    "            L1.remove(e)\n",
    "    return L1\n",
    "            \n",
    "L1 = [1, 2, 3, 4]\n",
    "L2 = [1, 2, 5, 6]\n",
    "remove_dups(L1, L2) # L1 is [2,3,4] not [3,4]"
   ]
  },
  {
   "cell_type": "code",
   "execution_count": 24,
   "id": "36fb3fda",
   "metadata": {},
   "outputs": [
    {
     "name": "stdout",
     "output_type": "stream",
     "text": [
      "[3, 4]\n"
     ]
    }
   ],
   "source": [
    "'''\n",
    "    To avoid this issue, it's better to create a new list containing the elements that are common between L1 and L2, \n",
    "    or create a new list without the duplicates.\n",
    "'''\n",
    "\n",
    "def remove_dups(L1, L2):\n",
    "    return [x for x in L1 if x not in L2]\n",
    "\n",
    "L1 = [1, 2, 3, 4]\n",
    "L2 = [1, 2, 5, 6]\n",
    "result = remove_dups(L1, L2)\n",
    "print(result)"
   ]
  },
  {
   "cell_type": "code",
   "execution_count": 25,
   "id": "9763456b",
   "metadata": {},
   "outputs": [
    {
     "name": "stdout",
     "output_type": "stream",
     "text": [
      "([2, 3, 4], [1, 2, 5, 6])\n"
     ]
    },
    {
     "data": {
      "text/plain": [
       "([3, 4], [1, 2, 5, 6], [2, 3, 4])"
      ]
     },
     "execution_count": 25,
     "metadata": {},
     "output_type": "execute_result"
    }
   ],
   "source": [
    "def rem_dup2(l1,l2):\n",
    "    l1_copy=l1[:]\n",
    "    for e in l1_copy:\n",
    "        if e in l2:\n",
    "            l1.remove(e)\n",
    "    return l1,l2,l1_copy\n",
    "\n",
    "l1=[1,2,3,4]\n",
    "l2=[1,2,5,6]\n",
    "\n",
    "rem_dup2(l1,l2)"
   ]
  },
  {
   "cell_type": "markdown",
   "id": "f60ca007",
   "metadata": {},
   "source": [
    "### Finding an element"
   ]
  },
  {
   "cell_type": "code",
   "execution_count": 70,
   "id": "89f714aa",
   "metadata": {},
   "outputs": [
    {
     "name": "stdout",
     "output_type": "stream",
     "text": [
      "4\n",
      "3\n",
      "The index of e: 1\n",
      "The index of i: 6\n",
      "The index of i: 6\n"
     ]
    }
   ],
   "source": [
    "my_list = list([2, 4, 6, 8, 10, 12,10])\n",
    "\n",
    "print(my_list.index(10))        # Output 4\n",
    "\n",
    "a=[1,2,3,3,4,5,6,7,3]\n",
    "print(a.index(3,3,9))\n",
    "\n",
    "# alphabets list\n",
    "alphabets = ['a', 'e', 'i', 'o', 'g', 'l', 'i', 'u']\n",
    "\n",
    "print('The index of e:',alphabets.index('e'))\n",
    "print('The index of i:',alphabets.index('i',4))  # i after 4\n",
    "print('The index of i:',alphabets.index('i',3,7)) #i between 3 and 7"
   ]
  },
  {
   "cell_type": "markdown",
   "id": "b7823206",
   "metadata": {},
   "source": [
    "### Concatenation of two lists"
   ]
  },
  {
   "cell_type": "code",
   "execution_count": 14,
   "id": "f1746860",
   "metadata": {},
   "outputs": [
    {
     "data": {
      "text/plain": [
       "([1, 2], [1], [[0, 2]])"
      ]
     },
     "execution_count": 14,
     "metadata": {},
     "output_type": "execute_result"
    }
   ],
   "source": [
    "[1]+[2],[]+[1],[[0]+[2]]"
   ]
  },
  {
   "cell_type": "code",
   "execution_count": 2,
   "id": "bbdee296",
   "metadata": {},
   "outputs": [
    {
     "name": "stdout",
     "output_type": "stream",
     "text": [
      "[1, 2, 3, 4, 5, 6]\n",
      "[1, 2, 3, 4, 5, 6]\n"
     ]
    }
   ],
   "source": [
    "my_list1 = [1, 2, 3]\n",
    "my_list2 = [4, 5, 6]\n",
    "\n",
    "# Using + operator\n",
    "my_list3 = my_list1 + my_list2\n",
    "print(my_list3)               # Output [1, 2, 3, 4, 5, 6]\n",
    "\n",
    "# Using extend() method\n",
    "my_list1.extend(my_list2)\n",
    "print(my_list1)               # Output [1, 2, 3, 4, 5, 6]"
   ]
  },
  {
   "cell_type": "code",
   "execution_count": 4,
   "id": "60670c62",
   "metadata": {},
   "outputs": [
    {
     "name": "stdout",
     "output_type": "stream",
     "text": [
      "6\n",
      "1\n",
      "19\n"
     ]
    }
   ],
   "source": [
    "mylist = [3, 4, 5, 6, 1]\n",
    "print(max(mylist)) \n",
    "print(min(mylist)) \n",
    "print(sum(mylist))"
   ]
  },
  {
   "cell_type": "markdown",
   "id": "2cb103b6",
   "metadata": {},
   "source": [
    "### any() and all()"
   ]
  },
  {
   "cell_type": "code",
   "execution_count": 59,
   "id": "624632dc",
   "metadata": {},
   "outputs": [
    {
     "name": "stdout",
     "output_type": "stream",
     "text": [
      "False\n",
      "False\n",
      "False\n",
      "False\n"
     ]
    }
   ],
   "source": [
    "# truth value of None is False\n",
    "print(bool(None))    # Output False\n",
    "\n",
    "# truth value of an empty string (\"\") is False\n",
    "print(bool(\"\"))      # Output False\n",
    "\n",
    "# truth value of an empty list (or any iterable) is False\n",
    "print(bool([]))      # Output False\n",
    "\n",
    "# truth value of 0 {int (0), float (0.0) and complex (0j)} is False\n",
    "print(bool(0))       # Output False"
   ]
  },
  {
   "cell_type": "markdown",
   "id": "13a84d16",
   "metadata": {},
   "source": [
    "Syntax: any(iterable)\n",
    "\n",
    "* Returns True if bool(x) is True for any x in the iterable.\n",
    "* Returns False if the iterable is empty."
   ]
  },
  {
   "cell_type": "code",
   "execution_count": 58,
   "id": "77a27cd4",
   "metadata": {},
   "outputs": [
    {
     "name": "stdout",
     "output_type": "stream",
     "text": [
      "False\n",
      "False\n",
      "True\n",
      "True\n",
      "False\n",
      "True\n",
      "False\n",
      "True\n"
     ]
    }
   ],
   "source": [
    "list_1 = [False, False, False]\n",
    "print(any(list_1))\n",
    "\n",
    "list_2 = [0j,0,0,0.0,0,0,0.0,0]\n",
    "print(any(list_2))\n",
    "\n",
    "list_3 = [True, False, False]\n",
    "print(any(list_3))\n",
    "\n",
    "a=[1,0,0,0,0]\n",
    "print(any(a))\n",
    "\n",
    "b=[0,0,0,0]\n",
    "print(any(b))\n",
    "\n",
    "c=[\" \",' ','s',\"' '\"]\n",
    "print(any(c))\n",
    "\n",
    "d=[\"\",'',\"\"]\n",
    "print(any(d))\n",
    "\n",
    "e=[\" \",'',\"\"]\n",
    "print(any(e))"
   ]
  },
  {
   "cell_type": "markdown",
   "id": "d1e3b941",
   "metadata": {},
   "source": [
    "Syntax: all(iterable)\n",
    "\n",
    "* Returns True if bool(x) is True for all values x in the iterable.\n",
    "* Returns True if the iterable is empty."
   ]
  },
  {
   "cell_type": "markdown",
   "id": "93e71c2e",
   "metadata": {},
   "source": [
    "### List Comprehension"
   ]
  },
  {
   "cell_type": "code",
   "execution_count": 60,
   "id": "544c1037",
   "metadata": {},
   "outputs": [
    {
     "name": "stdout",
     "output_type": "stream",
     "text": [
      "[16, 324, 400]\n"
     ]
    }
   ],
   "source": [
    "inputList = [4,7,11,13,18,20]\n",
    "squareList = [var**2 for var in inputList if var%2==0]\n",
    "print(squareList)"
   ]
  },
  {
   "cell_type": "code",
   "execution_count": 5,
   "id": "4701bc4f",
   "metadata": {},
   "outputs": [
    {
     "name": "stdout",
     "output_type": "stream",
     "text": [
      "[4, 16, 36, 64, 100]\n"
     ]
    }
   ],
   "source": [
    "#creating even square list for a range of numbers\n",
    "squarelist1 = [s**2 for s in range(1,11) if s%2 == 0]\n",
    "print(squarelist1)"
   ]
  },
  {
   "cell_type": "code",
   "execution_count": 6,
   "id": "ca1859a5",
   "metadata": {},
   "outputs": [
    {
     "data": {
      "text/plain": [
       "[5, 6, 7, 8, 9]"
      ]
     },
     "execution_count": 6,
     "metadata": {},
     "output_type": "execute_result"
    }
   ],
   "source": [
    "[i for i in range(10) if i>4]"
   ]
  },
  {
   "cell_type": "code",
   "execution_count": 2,
   "id": "ca53131a",
   "metadata": {},
   "outputs": [
    {
     "data": {
      "text/plain": [
       "['column_0', 'column_1', 'column_2']"
      ]
     },
     "execution_count": 2,
     "metadata": {},
     "output_type": "execute_result"
    }
   ],
   "source": [
    "[f'column_{i}' for i in range(3)]"
   ]
  },
  {
   "cell_type": "markdown",
   "id": "6f4b6803",
   "metadata": {},
   "source": [
    "#### enumerate"
   ]
  },
  {
   "cell_type": "code",
   "execution_count": 18,
   "id": "5bad3417",
   "metadata": {},
   "outputs": [
    {
     "data": {
      "text/plain": [
       "[(0, 'Eat'), (1, 'Sleep'), (2, 'Repeat')]"
      ]
     },
     "execution_count": 18,
     "metadata": {},
     "output_type": "execute_result"
    }
   ],
   "source": [
    "tasks=['Eat', 'Sleep', 'Repeat']\n",
    "list(enumerate(tasks))"
   ]
  },
  {
   "cell_type": "code",
   "execution_count": 12,
   "id": "c58ebeab",
   "metadata": {},
   "outputs": [
    {
     "data": {
      "text/plain": [
       "{0: 'Eat', 1: 'Sleep', 2: 'Repeat'}"
      ]
     },
     "execution_count": 12,
     "metadata": {},
     "output_type": "execute_result"
    }
   ],
   "source": [
    "dict(list(enumerate(tasks)))"
   ]
  },
  {
   "cell_type": "code",
   "execution_count": 14,
   "id": "0a070e62",
   "metadata": {},
   "outputs": [
    {
     "data": {
      "text/plain": [
       "[(10, 'Eat'), (11, 'Sleep'), (12, 'Repeat')]"
      ]
     },
     "execution_count": 14,
     "metadata": {},
     "output_type": "execute_result"
    }
   ],
   "source": [
    "e=enumerate(tasks, 10)\n",
    "list(e)"
   ]
  },
  {
   "cell_type": "code",
   "execution_count": 16,
   "id": "d63ab1e6",
   "metadata": {},
   "outputs": [
    {
     "data": {
      "text/plain": [
       "{0: 'Eat', 1: 'Sleep', 2: 'Repeat'}"
      ]
     },
     "execution_count": 16,
     "metadata": {},
     "output_type": "execute_result"
    }
   ],
   "source": [
    "e=enumerate(tasks)\n",
    "dict(list(e))"
   ]
  },
  {
   "cell_type": "code",
   "execution_count": 6,
   "id": "7af36705",
   "metadata": {},
   "outputs": [
    {
     "name": "stdout",
     "output_type": "stream",
     "text": [
      "(0, 'Bread')\n",
      "(1, 'Milk')\n",
      "(2, 'Eggs')\n"
     ]
    }
   ],
   "source": [
    "grocery=['Bread', 'Milk', 'Eggs']\n",
    "\n",
    "for item in enumerate(grocery):\n",
    "    print(item)"
   ]
  },
  {
   "cell_type": "code",
   "execution_count": 7,
   "id": "1032ff10",
   "metadata": {},
   "outputs": [
    {
     "name": "stdout",
     "output_type": "stream",
     "text": [
      "10 Bread\n",
      "11 Milk\n",
      "12 Eggs\n"
     ]
    }
   ],
   "source": [
    "for value, item in enumerate(grocery, 10):\n",
    "    print(value, item)"
   ]
  },
  {
   "cell_type": "markdown",
   "id": "7179e1f5",
   "metadata": {},
   "source": [
    "## Tuple"
   ]
  },
  {
   "cell_type": "markdown",
   "id": "4eef276e",
   "metadata": {},
   "source": [
    "* ordered \n",
    "* Unchangeable /immutable \n",
    "* heterogeneous \n",
    "* contains duplicate"
   ]
  },
  {
   "cell_type": "markdown",
   "id": "da98362f",
   "metadata": {},
   "source": [
    "### Creating tuple"
   ]
  },
  {
   "cell_type": "code",
   "execution_count": 10,
   "id": "c28a7839",
   "metadata": {},
   "outputs": [
    {
     "name": "stdout",
     "output_type": "stream",
     "text": [
      "(10, 20, 30, 10)\n",
      "('Jessie', 30, 30.25, [23, 45, 75])\n",
      "(10,)\n"
     ]
    },
    {
     "data": {
      "text/plain": [
       "tuple"
      ]
     },
     "execution_count": 10,
     "metadata": {},
     "output_type": "execute_result"
    }
   ],
   "source": [
    "#usisng ()\n",
    "no_tuple=(10,20,30,10)\n",
    "print(no_tuple)\n",
    "\n",
    "#using tuple()\n",
    "het_tuple=tuple(('Jessie',30,30.25,[23,45,75]))\n",
    "print(het_tuple)\n",
    "\n",
    "#with single element\n",
    "sin_tuple=(10,)\n",
    "print(sin_tuple)\n",
    "\n",
    "#with empty ()\n",
    "type(())"
   ]
  },
  {
   "cell_type": "markdown",
   "id": "48ca9a68",
   "metadata": {},
   "source": [
    "### Packing and Unpacking"
   ]
  },
  {
   "cell_type": "code",
   "execution_count": 11,
   "id": "2e0fbebe",
   "metadata": {},
   "outputs": [
    {
     "name": "stdout",
     "output_type": "stream",
     "text": [
      "(1, 2, 'Hi')\n",
      "<class 'tuple'>\n",
      "1 2 Hi\n"
     ]
    }
   ],
   "source": [
    "#packing -> creating tuple without using a tuple() constructor or enclosing the items inside the parentheses.\n",
    "tupl1=1,2,\"Hi\"\n",
    "print(tupl1);print(type(tupl1))\n",
    "\n",
    "#unpacking tuple into variables\n",
    "i,j,k=tupl1\n",
    "print(i,j,k)"
   ]
  },
  {
   "cell_type": "code",
   "execution_count": 4,
   "id": "f710c4d0",
   "metadata": {},
   "outputs": [
    {
     "data": {
      "text/plain": [
       "('T', 'T', ('Y', 'T', 'H', 'O'))"
      ]
     },
     "execution_count": 4,
     "metadata": {},
     "output_type": "execute_result"
    }
   ],
   "source": [
    "#slicing Tuple\n",
    "tuple1 = ('P', 'Y', 'T', 'H', 'O', 'N')\n",
    "tuple1[2],tuple1[-4],tuple1[1:5]"
   ]
  },
  {
   "cell_type": "markdown",
   "id": "7cd12aec",
   "metadata": {},
   "source": [
    "### Finding an item"
   ]
  },
  {
   "cell_type": "code",
   "execution_count": 5,
   "id": "036faba9",
   "metadata": {},
   "outputs": [
    {
     "name": "stdout",
     "output_type": "stream",
     "text": [
      "True\n",
      "index of 30 is 2\n",
      "index of 60 is 5\n",
      "index of 10 is 0\n"
     ]
    },
    {
     "ename": "ValueError",
     "evalue": "tuple.index(x): x not in tuple",
     "output_type": "error",
     "traceback": [
      "\u001b[1;31m---------------------------------------------------------------------------\u001b[0m",
      "\u001b[1;31mValueError\u001b[0m                                Traceback (most recent call last)",
      "Cell \u001b[1;32mIn[5], line 15\u001b[0m\n\u001b[0;32m     12\u001b[0m position2 \u001b[38;5;241m=\u001b[39m tuple1\u001b[38;5;241m.\u001b[39mindex(\u001b[38;5;241m10\u001b[39m, \u001b[38;5;241m0\u001b[39m, \u001b[38;5;241m3\u001b[39m)  \u001b[38;5;66;03m#get index of item 10 from location 0 to 3\u001b[39;00m\n\u001b[0;32m     13\u001b[0m \u001b[38;5;28mprint\u001b[39m(\u001b[38;5;124mf\u001b[39m\u001b[38;5;124m'\u001b[39m\u001b[38;5;124mindex of 10 is \u001b[39m\u001b[38;5;132;01m{\u001b[39;00mposition2\u001b[38;5;132;01m}\u001b[39;00m\u001b[38;5;124m'\u001b[39m) \n\u001b[1;32m---> 15\u001b[0m position3 \u001b[38;5;241m=\u001b[39m \u001b[43mtuple1\u001b[49m\u001b[38;5;241;43m.\u001b[39;49m\u001b[43mindex\u001b[49m\u001b[43m(\u001b[49m\u001b[38;5;241;43m10\u001b[39;49m\u001b[43m,\u001b[49m\u001b[43m \u001b[49m\u001b[38;5;241;43m4\u001b[39;49m\u001b[43m,\u001b[49m\u001b[43m \u001b[49m\u001b[38;5;241;43m6\u001b[39;49m\u001b[43m)\u001b[49m  \u001b[38;5;66;03m#get index of item 10 from location 4 to 6\u001b[39;00m\n\u001b[0;32m     16\u001b[0m \u001b[38;5;28mprint\u001b[39m(\u001b[38;5;124mf\u001b[39m\u001b[38;5;124m'\u001b[39m\u001b[38;5;124mindex of 10 is \u001b[39m\u001b[38;5;132;01m{\u001b[39;00mposition3\u001b[38;5;132;01m}\u001b[39;00m\u001b[38;5;124m'\u001b[39m)\n",
      "\u001b[1;31mValueError\u001b[0m: tuple.index(x): x not in tuple"
     ]
    }
   ],
   "source": [
    "tuple1 = (10, 20, 30, 40, 50, 60, 70, 80)\n",
    "\n",
    "print(50 in tuple1)\n",
    "\n",
    "# get index of item 30\n",
    "index= tuple1.index(30)\n",
    "print(f'index of 30 is {index}')  # Output 2\n",
    "\n",
    "position1 = tuple1.index(60, 4, 6)  #get index of item 60 from location 4 to 6\n",
    "print(f'index of 60 is {position1}')  \n",
    "\n",
    "position2 = tuple1.index(10, 0, 3)  #get index of item 10 from location 0 to 3\n",
    "print(f'index of 10 is {position2}') \n",
    "\n",
    "position3 = tuple1.index(10, 4, 6)  #get index of item 10 from location 4 to 6\n",
    "print(f'index of 10 is {position3}') "
   ]
  },
  {
   "cell_type": "code",
   "execution_count": 10,
   "id": "85c91a3c",
   "metadata": {},
   "outputs": [
    {
     "name": "stdout",
     "output_type": "stream",
     "text": [
      "A after 3rd index is at 2\n",
      "A after 5th index is at 5\n",
      "B after 5th index is at 6\n",
      "C after 5th index is at 7\n"
     ]
    }
   ],
   "source": [
    "str_tup=('A', 'B', 'A', 'C', 'B', 'A', 'B', 'C', 'C')\n",
    "print(f'A after 2nd index is at {str_tup.index(\"A\", 2)}')\n",
    "print(f'A after 5th index is at {str_tup.index(\"A\", 5)}')\n",
    "print(f'B after 5th index is at {str_tup.index(\"B\", 5)}')\n",
    "print(f'C after 5th index is at {str_tup.index(\"C\", 5)}')"
   ]
  },
  {
   "cell_type": "markdown",
   "id": "e8d0c861",
   "metadata": {},
   "source": [
    "### Count the occurrence"
   ]
  },
  {
   "cell_type": "code",
   "execution_count": 9,
   "id": "dc65c266",
   "metadata": {},
   "outputs": [
    {
     "name": "stdout",
     "output_type": "stream",
     "text": [
      "3\n"
     ]
    },
    {
     "data": {
      "text/plain": [
       "0"
      ]
     },
     "execution_count": 9,
     "metadata": {},
     "output_type": "execute_result"
    }
   ],
   "source": [
    "tuple1 = (10, 20, 60, 30, 60, 40, 60)\n",
    "count = tuple1.count(60)\n",
    "print(count)# Output 3\n",
    "\n",
    "tuple1.count(600)"
   ]
  },
  {
   "cell_type": "markdown",
   "id": "24a7d0de",
   "metadata": {},
   "source": [
    "### Adding and Changing items"
   ]
  },
  {
   "cell_type": "code",
   "execution_count": 12,
   "id": "96aefb34",
   "metadata": {},
   "outputs": [
    {
     "ename": "TypeError",
     "evalue": "'tuple' object does not support item assignment",
     "output_type": "error",
     "traceback": [
      "\u001b[1;31m---------------------------------------------------------------------------\u001b[0m",
      "\u001b[1;31mTypeError\u001b[0m                                 Traceback (most recent call last)",
      "Cell \u001b[1;32mIn[12], line 2\u001b[0m\n\u001b[0;32m      1\u001b[0m tuple1 \u001b[38;5;241m=\u001b[39m (\u001b[38;5;241m0\u001b[39m, \u001b[38;5;241m1\u001b[39m, \u001b[38;5;241m2\u001b[39m, \u001b[38;5;241m3\u001b[39m, \u001b[38;5;241m4\u001b[39m, \u001b[38;5;241m5\u001b[39m)\n\u001b[1;32m----> 2\u001b[0m tuple1[\u001b[38;5;241m1\u001b[39m] \u001b[38;5;241m=\u001b[39m \u001b[38;5;241m10\u001b[39m\n",
      "\u001b[1;31mTypeError\u001b[0m: 'tuple' object does not support item assignment"
     ]
    }
   ],
   "source": [
    "tuple1 = (0, 1, 2, 3, 4, 5)\n",
    "tuple1[1] = 10    # Output TypeError: 'tuple' object does not support item assignment"
   ]
  },
  {
   "cell_type": "code",
   "execution_count": 13,
   "id": "fc16b5f5",
   "metadata": {},
   "outputs": [
    {
     "name": "stdout",
     "output_type": "stream",
     "text": [
      "(0, 1, 2, 3, 4, 5, 6)\n"
     ]
    }
   ],
   "source": [
    "sample_list =list(tuple1)  # converting tuple into a list\n",
    "sample_list.append(6)       # add item to list\n",
    "\n",
    "tuple1 = tuple(sample_list) # converting list back into a tuple\n",
    "print(tuple1)               # Output (0, 1, 2, 3, 4, 5, 6)"
   ]
  },
  {
   "cell_type": "code",
   "execution_count": 11,
   "id": "fa917540",
   "metadata": {},
   "outputs": [
    {
     "data": {
      "text/plain": [
       "(1, 2, [5, 4, 5])"
      ]
     },
     "execution_count": 11,
     "metadata": {},
     "output_type": "execute_result"
    }
   ],
   "source": [
    "#If one of the items is itself a mutable data type as a list, then we can change its values in the case of a nested tuple\n",
    "tuple2=(1,2,[3,4,5])\n",
    "tuple2[2][0]=5\n",
    "tuple2"
   ]
  },
  {
   "cell_type": "markdown",
   "id": "22e9b17e",
   "metadata": {},
   "source": [
    "### Removing items"
   ]
  },
  {
   "cell_type": "code",
   "execution_count": 13,
   "id": "9e71f7a9",
   "metadata": {},
   "outputs": [
    {
     "ename": "AttributeError",
     "evalue": "'tuple' object has no attribute 'clear'",
     "output_type": "error",
     "traceback": [
      "\u001b[1;31m---------------------------------------------------------------------------\u001b[0m",
      "\u001b[1;31mAttributeError\u001b[0m                            Traceback (most recent call last)",
      "Cell \u001b[1;32mIn[13], line 1\u001b[0m\n\u001b[1;32m----> 1\u001b[0m \u001b[43mtuple2\u001b[49m\u001b[38;5;241;43m.\u001b[39;49m\u001b[43mclear\u001b[49m()\n",
      "\u001b[1;31mAttributeError\u001b[0m: 'tuple' object has no attribute 'clear'"
     ]
    }
   ],
   "source": [
    "tuple2.clear()"
   ]
  },
  {
   "cell_type": "code",
   "execution_count": 19,
   "id": "63195b8a",
   "metadata": {},
   "outputs": [
    {
     "ename": "NameError",
     "evalue": "name 'tuple2' is not defined",
     "output_type": "error",
     "traceback": [
      "\u001b[1;31m---------------------------------------------------------------------------\u001b[0m",
      "\u001b[1;31mNameError\u001b[0m                                 Traceback (most recent call last)",
      "Cell \u001b[1;32mIn[19], line 2\u001b[0m\n\u001b[0;32m      1\u001b[0m \u001b[38;5;28;01mdel\u001b[39;00m tuple2\n\u001b[1;32m----> 2\u001b[0m \u001b[43mtuple2\u001b[49m\n",
      "\u001b[1;31mNameError\u001b[0m: name 'tuple2' is not defined"
     ]
    }
   ],
   "source": [
    "del tuple2  #deleting entire tuple\n",
    "tuple2"
   ]
  },
  {
   "cell_type": "code",
   "execution_count": 20,
   "id": "1f47d91a",
   "metadata": {},
   "outputs": [
    {
     "ename": "AttributeError",
     "evalue": "'tuple' object has no attribute 'remove'",
     "output_type": "error",
     "traceback": [
      "\u001b[1;31m---------------------------------------------------------------------------\u001b[0m",
      "\u001b[1;31mAttributeError\u001b[0m                            Traceback (most recent call last)",
      "Cell \u001b[1;32mIn[20], line 1\u001b[0m\n\u001b[1;32m----> 1\u001b[0m \u001b[43mtuple1\u001b[49m\u001b[38;5;241;43m.\u001b[39;49m\u001b[43mremove\u001b[49m(\u001b[38;5;241m1\u001b[39m)\n",
      "\u001b[1;31mAttributeError\u001b[0m: 'tuple' object has no attribute 'remove'"
     ]
    }
   ],
   "source": [
    "tuple1.remove(1)"
   ]
  },
  {
   "cell_type": "code",
   "execution_count": 21,
   "id": "ebc6f085",
   "metadata": {},
   "outputs": [
    {
     "name": "stdout",
     "output_type": "stream",
     "text": [
      "(0, 1, 3, 4, 5, 6)\n"
     ]
    }
   ],
   "source": [
    "sample_list = list(tuple1)  # converting tuple into a list\n",
    "sample_list.remove(2)       # reomve 2nd item\n",
    "\n",
    "tuple1 = tuple(sample_list)\n",
    "print(tuple1)               # Output (0, 1, 3, 4, 5, 6)"
   ]
  },
  {
   "cell_type": "markdown",
   "id": "fac14cfc",
   "metadata": {},
   "source": [
    "### Copying a tuple"
   ]
  },
  {
   "cell_type": "code",
   "execution_count": 15,
   "id": "0b7c9cc5",
   "metadata": {},
   "outputs": [
    {
     "name": "stdout",
     "output_type": "stream",
     "text": [
      "(0, 1, 2, 3, 4, 5)\n",
      "(0, 1, 2, 3, 4, 5)\n",
      "(0, 1, 2, 3, 4, 5, 6)\n"
     ]
    }
   ],
   "source": [
    "tuple1 = (0, 1, 2, 3, 4, 5)\n",
    "\n",
    "# copy tuple\n",
    "tuple2 = tuple1\n",
    "print(tuple2)            # Output (0, 1, 2, 3, 4, 5)\n",
    "\n",
    "# changing tuple2\n",
    "# converting it into a list\n",
    "sample_list = list(tuple2)\n",
    "sample_list.append(6)\n",
    "\n",
    "# converting list back into a tuple2\n",
    "tuple2 = tuple(sample_list)\n",
    "\n",
    "# printing the two tuples\n",
    "print(tuple1)           # Output (0, 1, 2, 3, 4, 5)\n",
    "print(tuple2)           # Output (0, 1, 2, 3, 4, 5, 6)"
   ]
  },
  {
   "cell_type": "markdown",
   "id": "85473026",
   "metadata": {},
   "source": [
    "### Concatenating two Tuples"
   ]
  },
  {
   "cell_type": "code",
   "execution_count": 23,
   "id": "0340de39",
   "metadata": {},
   "outputs": [
    {
     "name": "stdout",
     "output_type": "stream",
     "text": [
      "(1, 2, 3, 4, 5, 3, 4, 5, 6, 7)\n"
     ]
    }
   ],
   "source": [
    "#using '+'\n",
    "tuple1 = (1, 2, 3, 4, 5)\n",
    "tuple2 = (3, 4, 5, 6, 7)\n",
    "\n",
    "tuple3 = tuple1 + tuple2\n",
    "print(tuple3)           # Output (1, 2, 3, 4, 5, 3, 4, 5, 6, 7)"
   ]
  },
  {
   "cell_type": "code",
   "execution_count": 24,
   "id": "226a4a5a",
   "metadata": {},
   "outputs": [
    {
     "name": "stdout",
     "output_type": "stream",
     "text": [
      "(1, 2, 3, 4, 5, 3, 4, 5, 6, 7)\n"
     ]
    }
   ],
   "source": [
    "#using sum() ->the sum function takes an Empty tuple as an argument and it returns the items from both the tuples.\n",
    "tuple4 = sum((tuple1, tuple2), ())\n",
    "print(tuple4)"
   ]
  },
  {
   "cell_type": "markdown",
   "id": "842b2460",
   "metadata": {},
   "source": [
    "### min() and max()"
   ]
  },
  {
   "cell_type": "code",
   "execution_count": 16,
   "id": "a67a85cf",
   "metadata": {},
   "outputs": [
    {
     "name": "stdout",
     "output_type": "stream",
     "text": [
      "zara\n",
      "abc\n",
      "22\n",
      "4\n",
      "47\n"
     ]
    }
   ],
   "source": [
    "tuple1 = ('xyz', 'zara', 'abc')\n",
    "print(max(tuple1))  # Output zara\n",
    "\n",
    "print(min(tuple1))  # Output abc\n",
    "\n",
    "tuple2 = (11, 22, 10, 4)\n",
    "print(max(tuple2))  # Output 22\n",
    "print(min(tuple2))  # Output 4\n",
    "print(sum(tuple2))  # Output 47"
   ]
  },
  {
   "cell_type": "markdown",
   "id": "74ef572a",
   "metadata": {},
   "source": [
    "### Chain"
   ]
  },
  {
   "cell_type": "code",
   "execution_count": 10,
   "id": "4c2f7fe2",
   "metadata": {},
   "outputs": [
    {
     "name": "stdout",
     "output_type": "stream",
     "text": [
      "(1, 2, 3, 4, 5, 3, 4, 5, 6, 7)\n"
     ]
    }
   ],
   "source": [
    "import itertools\n",
    "\n",
    "tuple1 = (1, 2, 3, 4, 5)\n",
    "tuple2 = (3, 4, 5, 6, 7)\n",
    "\n",
    "# using itertools\n",
    "tuple3 = tuple(item for item in itertools.chain(tuple1, tuple2))\n",
    "print(tuple3)   # Output (1, 2, 3, 4, 5, 3, 4, 5, 6, 7)"
   ]
  },
  {
   "cell_type": "code",
   "execution_count": 11,
   "id": "e1455ac0",
   "metadata": {},
   "outputs": [
    {
     "name": "stdout",
     "output_type": "stream",
     "text": [
      "P\n",
      "tuple (20, 40, 60) elements\n",
      "20, 40, 60, \n",
      "\n",
      "tuple (10, 30, 50) elements\n",
      "10, 30, 50, \n",
      "\n",
      "tuple Python elements\n",
      "P, y, t, h, o, n, \n",
      "\n"
     ]
    }
   ],
   "source": [
    "## Nested tuples\n",
    "nested_tuple = ((20, 40, 60), (10, 30, 50), \"Python\")\n",
    "\n",
    "# access the first item of the third tuple\n",
    "print(nested_tuple[2][0])  # P\n",
    "\n",
    "# iterate a nested tuple\n",
    "for i in nested_tuple:\n",
    "    print(\"tuple\", i, \"elements\")\n",
    "    for j in i:\n",
    "        print(j, end=\", \")\n",
    "    print(\"\\n\")"
   ]
  },
  {
   "cell_type": "markdown",
   "id": "3f9be510",
   "metadata": {},
   "source": [
    "## Dictionary"
   ]
  },
  {
   "cell_type": "markdown",
   "id": "c607e086",
   "metadata": {},
   "source": [
    "* Unordered ->In Python 3.6 and lower version\n",
    "* Ordered   ->After Python 3.7 \n",
    "* Unique ->the Keys in Dictionaries should be unique\n",
    "* Mutable ->we can add or remove items after the creation."
   ]
  },
  {
   "cell_type": "code",
   "execution_count": 1,
   "id": "55fd789c",
   "metadata": {},
   "outputs": [
    {
     "data": {
      "text/plain": [
       "{'Colorado': 'Rockies',\n",
       " 'Boston': 'Red Sox',\n",
       " 'Minnesota': 'Twins',\n",
       " 'Milwaukee': 'Brewers',\n",
       " 'Seattle': 'Mariners'}"
      ]
     },
     "execution_count": 1,
     "metadata": {},
     "output_type": "execute_result"
    }
   ],
   "source": [
    "#create a dictionary using {}\n",
    "MLB_team = {\n",
    "    'Colorado' : 'Rockies',\n",
    "    'Boston'   : 'Red Sox',\n",
    "    'Minnesota': 'Twins',\n",
    "    'Milwaukee': 'Brewers',\n",
    "    'Seattle'  : 'Mariners'\n",
    "}\n",
    "MLB_team"
   ]
  },
  {
   "cell_type": "code",
   "execution_count": 2,
   "id": "23dc002b",
   "metadata": {},
   "outputs": [
    {
     "data": {
      "text/plain": [
       "{'Colorado': 'Rockies',\n",
       " 'Boston': 'Red Sox',\n",
       " 'Minnesota': 'Twins',\n",
       " 'Milwaukee': 'Brewers',\n",
       " 'Seattle': 'Mariners'}"
      ]
     },
     "execution_count": 2,
     "metadata": {},
     "output_type": "execute_result"
    }
   ],
   "source": [
    "#creating dictionary using dict()\n",
    "MLB_team = dict([\n",
    "    ('Colorado', 'Rockies'),\n",
    "    ('Boston', 'Red Sox'),\n",
    "    ('Minnesota', 'Twins'),\n",
    "    ('Milwaukee', 'Brewers'),\n",
    "    ('Seattle', 'Mariners')\n",
    "])\n",
    "MLB_team"
   ]
  },
  {
   "cell_type": "code",
   "execution_count": 7,
   "id": "c4508717",
   "metadata": {},
   "outputs": [
    {
     "data": {
      "text/plain": [
       "{'Colorado': 'Rockies',\n",
       " 'Boston': 'Red Sox',\n",
       " 'Minnesota': 'Twins',\n",
       " 'Milwaukee': 'Brewers',\n",
       " 'Seattle': 'Mariners'}"
      ]
     },
     "execution_count": 7,
     "metadata": {},
     "output_type": "execute_result"
    }
   ],
   "source": [
    "#If the key values are simple strings\n",
    "MLB_team = dict(\n",
    "    Colorado= 'Rockies',\n",
    "    Boston='Red Sox',\n",
    "    Minnesota= 'Twins',\n",
    "    Milwaukee='Brewers',\n",
    "    Seattle='Mariners'\n",
    ")\n",
    "MLB_team"
   ]
  },
  {
   "cell_type": "code",
   "execution_count": 11,
   "id": "93eb1ad3",
   "metadata": {},
   "outputs": [
    {
     "name": "stdout",
     "output_type": "stream",
     "text": [
      "<class 'dict'>\n"
     ]
    }
   ],
   "source": [
    "#empty dictionary \n",
    "emptydict = {}\n",
    "print(type(emptydict))  # Output class 'dict'"
   ]
  },
  {
   "cell_type": "code",
   "execution_count": 10,
   "id": "baf37cf4",
   "metadata": {},
   "outputs": [
    {
     "name": "stdout",
     "output_type": "stream",
     "text": [
      "{'name': 'Mark', 'country': 'USA', 'telephone': 1178}\n",
      "{'name': 'Jessa', 10: 'Mobile'}\n",
      "{'name': 'Jessa', 'telephones': [1178, 2563, 4569]}\n"
     ]
    }
   ],
   "source": [
    "# create a dictionary from sequence having each item as a pair\n",
    "person = dict([(\"name\", \"Mark\"), (\"country\", \"USA\"), (\"telephone\", 1178)])\n",
    "print(person)          # output {'name': 'Mark', 'country': 'USA', 'telephone': 1178}\n",
    "\n",
    "# create dictionary with mixed keys keys first key is string and second is an integer\n",
    "sample_dict = {\"name\": \"Jessa\", 10: \"Mobile\"}\n",
    "print(sample_dict)     # output {'name': 'Jessa', 10: 'Mobile'}\n",
    "\n",
    "# create dictionary with value as a list\n",
    "person = {\"name\": \"Jessa\", \"telephones\": [1178, 2563, 4569]}\n",
    "print(person)          # output {'name': 'Jessa', 'telephones': [1178, 2563, 4569]}"
   ]
  },
  {
   "cell_type": "code",
   "execution_count": 1,
   "id": "9359a495",
   "metadata": {},
   "outputs": [
    {
     "name": "stdout",
     "output_type": "stream",
     "text": [
      "{'id': 2, 'name': 'Prasad'}\n"
     ]
    }
   ],
   "source": [
    "# unique keys\n",
    "d={'id':1, 'name': 'Durga', 'id':2, 'name': 'Prasad'}  \n",
    "# as keys are with the same name the last occurrence will overwrite the previous one.\n",
    "print(d)"
   ]
  },
  {
   "cell_type": "markdown",
   "id": "74ce3131",
   "metadata": {},
   "source": [
    "### Accessing Dictionary Values"
   ]
  },
  {
   "cell_type": "code",
   "execution_count": 3,
   "id": "6ceb2dcd",
   "metadata": {},
   "outputs": [
    {
     "data": {
      "text/plain": [
       "{'Colorado': 'Rockies',\n",
       " 'Boston': 'Red Sox',\n",
       " 'Minnesota': 'Twins',\n",
       " 'Milwaukee': 'Brewers',\n",
       " 'Seattle': 'Mariners'}"
      ]
     },
     "execution_count": 3,
     "metadata": {},
     "output_type": "execute_result"
    }
   ],
   "source": [
    "#If the key values are simple strings\n",
    "MLB_team = dict(Colorado= 'Rockies',Boston='Red Sox',Minnesota= 'Twins',Milwaukee='Brewers',Seattle='Mariners')\n",
    "MLB_team"
   ]
  },
  {
   "cell_type": "code",
   "execution_count": 8,
   "id": "3ce3123f",
   "metadata": {},
   "outputs": [
    {
     "data": {
      "text/plain": [
       "'Twins'"
      ]
     },
     "execution_count": 8,
     "metadata": {},
     "output_type": "execute_result"
    }
   ],
   "source": [
    "MLB_team['Minnesota']"
   ]
  },
  {
   "cell_type": "code",
   "execution_count": 9,
   "id": "60858ed8",
   "metadata": {},
   "outputs": [
    {
     "ename": "KeyError",
     "evalue": "'Toranto'",
     "output_type": "error",
     "traceback": [
      "\u001b[1;31m---------------------------------------------------------------------------\u001b[0m",
      "\u001b[1;31mKeyError\u001b[0m                                  Traceback (most recent call last)",
      "Cell \u001b[1;32mIn[9], line 1\u001b[0m\n\u001b[1;32m----> 1\u001b[0m \u001b[43mMLB_team\u001b[49m\u001b[43m[\u001b[49m\u001b[38;5;124;43m'\u001b[39;49m\u001b[38;5;124;43mToranto\u001b[39;49m\u001b[38;5;124;43m'\u001b[39;49m\u001b[43m]\u001b[49m\n",
      "\u001b[1;31mKeyError\u001b[0m: 'Toranto'"
     ]
    }
   ],
   "source": [
    "MLB_team['Toranto']"
   ]
  },
  {
   "cell_type": "code",
   "execution_count": 7,
   "id": "7379084e",
   "metadata": {},
   "outputs": [
    {
     "data": {
      "text/plain": [
       "'Mariners'"
      ]
     },
     "execution_count": 7,
     "metadata": {},
     "output_type": "execute_result"
    }
   ],
   "source": [
    "# get retrieves the value associated with the specified key\n",
    "MLB_team.get('Seattle')"
   ]
  },
  {
   "cell_type": "code",
   "execution_count": 6,
   "id": "8a06ee0b",
   "metadata": {},
   "outputs": [
    {
     "data": {
      "text/plain": [
       "0"
      ]
     },
     "execution_count": 6,
     "metadata": {},
     "output_type": "execute_result"
    }
   ],
   "source": [
    "MLB_team.get('Toranto',0)  # If the key does not exist it will return the default value 0"
   ]
  },
  {
   "cell_type": "code",
   "execution_count": 6,
   "id": "c9e22281",
   "metadata": {},
   "outputs": [
    {
     "data": {
      "text/plain": [
       "[]"
      ]
     },
     "execution_count": 6,
     "metadata": {},
     "output_type": "execute_result"
    }
   ],
   "source": [
    "MLB_team.get('Toranto', [])"
   ]
  },
  {
   "cell_type": "code",
   "execution_count": 20,
   "id": "5520e316",
   "metadata": {},
   "outputs": [
    {
     "data": {
      "text/plain": [
       "'Mariners'"
      ]
     },
     "execution_count": 20,
     "metadata": {},
     "output_type": "execute_result"
    }
   ],
   "source": [
    "MLB_team.get('Seattle',0)"
   ]
  },
  {
   "cell_type": "code",
   "execution_count": 19,
   "id": "c311ef43",
   "metadata": {},
   "outputs": [
    {
     "data": {
      "text/plain": [
       "{'Colorado': 'Rockies',\n",
       " 'Boston': 'Red Sox',\n",
       " 'Minnesota': 'Twins',\n",
       " 'Milwaukee': 'Brewers',\n",
       " 'Seattle': 'Mariners'}"
      ]
     },
     "execution_count": 19,
     "metadata": {},
     "output_type": "execute_result"
    }
   ],
   "source": [
    "d=MLB_team\n",
    "d['Colorado']=d.get('Colorado',0)\n",
    "d"
   ]
  },
  {
   "cell_type": "code",
   "execution_count": 5,
   "id": "b6549fe1",
   "metadata": {},
   "outputs": [
    {
     "name": "stdout",
     "output_type": "stream",
     "text": [
      "dict_keys(['Colorado', 'Boston', 'Minnesota', 'Milwaukee', 'Seattle'])\n",
      "dict_values(['Rockies', 'Red Sox', 'Twins', 'Brewers', 'Mariners'])\n",
      "dict_items([('Colorado', 'Rockies'), ('Boston', 'Red Sox'), ('Minnesota', 'Twins'), ('Milwaukee', 'Brewers'), ('Seattle', 'Mariners')])\n"
     ]
    }
   ],
   "source": [
    "#Get all keys,values,items\n",
    "print(MLB_team.keys())\n",
    "print(MLB_team.values())\n",
    "print(MLB_team.items())  #  returns a list of tuples"
   ]
  },
  {
   "cell_type": "markdown",
   "id": "194d126a",
   "metadata": {},
   "source": [
    "### Iterating a dictionary"
   ]
  },
  {
   "cell_type": "code",
   "execution_count": 25,
   "id": "132d811a",
   "metadata": {},
   "outputs": [
    {
     "name": "stdout",
     "output_type": "stream",
     "text": [
      "Colorado : Rockies\n",
      "Boston : Red Sox\n",
      "Minnesota : Twins\n",
      "Milwaukee : Brewers\n",
      "Seattle : Mariners\n",
      "\n",
      "Colorado Rockies\n",
      "Boston Red Sox\n",
      "Minnesota Twins\n",
      "Milwaukee Brewers\n",
      "Seattle Mariners\n",
      "\n",
      "Colorado Rockies\n",
      "Boston Red Sox\n",
      "Minnesota Twins\n",
      "Milwaukee Brewers\n",
      "Seattle Mariners\n"
     ]
    }
   ],
   "source": [
    "for k in MLB_team:                    #k=['Colorado', 'Boston', 'Minnesota', 'Milwaukee', 'Seattle']\n",
    "    print(k,':',MLB_team[k])  \n",
    "    \n",
    "print()\n",
    "for key_value in MLB_team.items():   #key_value=[('Colorado', 'Rockies'), ('Boston', 'Red Sox'),...]; 0->colorado,1->Rockies\n",
    "    print(key_value[0],key_value[1])\n",
    "\n",
    "print()\n",
    "for key,val in MLB_team.items():\n",
    "    print(key,val)"
   ]
  },
  {
   "cell_type": "code",
   "execution_count": 3,
   "id": "c5aac7a5",
   "metadata": {},
   "outputs": [
    {
     "name": "stdout",
     "output_type": "stream",
     "text": [
      "0 : Colorado\n",
      "1 : Boston\n",
      "2 : Minnesota\n",
      "3 : Milwaukee\n",
      "4 : Seattle\n"
     ]
    }
   ],
   "source": [
    "for index,key in enumerate(MLB_team):\n",
    "    print(index,':',key)"
   ]
  },
  {
   "cell_type": "code",
   "execution_count": 26,
   "id": "eb76098e",
   "metadata": {},
   "outputs": [
    {
     "data": {
      "text/plain": [
       "5"
      ]
     },
     "execution_count": 26,
     "metadata": {},
     "output_type": "execute_result"
    }
   ],
   "source": [
    "#length of dictionary \n",
    "len(MLB_team)"
   ]
  },
  {
   "cell_type": "code",
   "execution_count": 4,
   "id": "eec9fbd3",
   "metadata": {},
   "outputs": [
    {
     "name": "stdout",
     "output_type": "stream",
     "text": [
      "Key for value 'Rockies' is: Colorado\n"
     ]
    }
   ],
   "source": [
    "def get_key_from_value(dictionary, value_to_find):\n",
    "    for key, value in dictionary.items():\n",
    "        if value == value_to_find:\n",
    "            return key\n",
    "    return None  # Return None if the value is not found in the dictionary\n",
    "\n",
    "MLB_team = {'Colorado': 'Rockies', 'Boston': 'Red Sox', 'Minnesota': 'Twins', 'Milwaukee': 'Brewers', 'Seattle': 'Mariners'}\n",
    "\n",
    "value_to_find = 'Rockies'\n",
    "key = get_key_from_value(MLB_team, value_to_find)\n",
    "\n",
    "if key is not None:\n",
    "    print(\"Key for value '{}' is: {}\".format(value_to_find, key))\n",
    "else:\n",
    "    print(\"Value '{}' not found in the dictionary.\".format(value_to_find))"
   ]
  },
  {
   "cell_type": "markdown",
   "id": "c24676ad",
   "metadata": {},
   "source": [
    "### Adding items"
   ]
  },
  {
   "cell_type": "code",
   "execution_count": 12,
   "id": "db5d25e4",
   "metadata": {},
   "outputs": [
    {
     "name": "stdout",
     "output_type": "stream",
     "text": [
      "{'name': 'Durga', 'country': 'USA', 'telephone': 1178, 'weight': 50}\n"
     ]
    }
   ],
   "source": [
    "#Using key-value assignment\n",
    "person = {\"name\": \"Jessa\", 'country': \"USA\", \"telephone\": 1178}\n",
    "person[\"weight\"] = 50\n",
    "person[\"name\"]=\"Durga\"\n",
    "print(person)      # output {'name': 'Jessa', 'country': 'USA', 'telephone': 1178, 'weight': 50, 'height': 6}"
   ]
  },
  {
   "cell_type": "code",
   "execution_count": 13,
   "id": "03aa544a",
   "metadata": {},
   "outputs": [
    {
     "name": "stdout",
     "output_type": "stream",
     "text": [
      "{'name': 'Durga', 'country': 'USA', 'telephone': 1178, 'weight': 50, 'height': 6}\n"
     ]
    }
   ],
   "source": [
    "#Using update()\n",
    "person.update({\"height\": 6})\n",
    "print(person)"
   ]
  },
  {
   "cell_type": "code",
   "execution_count": 14,
   "id": "fceab2a5",
   "metadata": {},
   "outputs": [
    {
     "name": "stdout",
     "output_type": "stream",
     "text": [
      "{'name': 'Durga', 'country': 'USA', 'telephone': 1178, 'weight': 50, 'height': 6, 'age': 23, 'hobbies': ['movies', 'music', 'reading']}\n"
     ]
    }
   ],
   "source": [
    "person.update({\"age\":23, \"hobbies\":[\"movies\",'music','reading']})\n",
    "print(person)"
   ]
  },
  {
   "cell_type": "code",
   "execution_count": 15,
   "id": "dbba757a",
   "metadata": {},
   "outputs": [
    {
     "name": "stdout",
     "output_type": "stream",
     "text": [
      "{'name': 'Durga', 'country': 'USA', 'telephone': 1178, 'weight': 50, 'height': 6, 'age': 23, 'hobbies': ['movies', 'music', 'reading'], 'city': 'Texas', 'company': 'Google'}\n"
     ]
    }
   ],
   "source": [
    "person.update([(\"city\", \"Texas\"), (\"company\", \"Google\",)])\n",
    "print(person)"
   ]
  },
  {
   "cell_type": "markdown",
   "id": "79088442",
   "metadata": {},
   "source": [
    "### Set default value"
   ]
  },
  {
   "cell_type": "code",
   "execution_count": 16,
   "id": "5bb359a5",
   "metadata": {},
   "outputs": [
    {
     "name": "stdout",
     "output_type": "stream",
     "text": [
      "name : Jessa\n",
      "country : USA\n",
      "telephone : 1178\n",
      "state : Texas\n",
      "zip : None\n"
     ]
    }
   ],
   "source": [
    "person_details = {\"name\": \"Jessa\", \"country\": \"USA\", \"telephone\": 1178}\n",
    "\n",
    "# set default value if key doesn't exists\n",
    "person_details.setdefault('state', 'Texas')\n",
    "\n",
    "# key doesn't exists and value not mentioned. default None\n",
    "person_details.setdefault(\"zip\")\n",
    "\n",
    "# key exists and value mentioned. doesn't  change value\n",
    "person_details.setdefault('country', 'Canada')\n",
    "\n",
    "# Display dictionary\n",
    "for key, value in person_details.items():\n",
    "    print(key, ':', value)"
   ]
  },
  {
   "cell_type": "markdown",
   "id": "e5720dc4",
   "metadata": {},
   "source": [
    "### Modify the values"
   ]
  },
  {
   "cell_type": "code",
   "execution_count": 37,
   "id": "e01f71ac",
   "metadata": {},
   "outputs": [
    {
     "data": {
      "text/plain": [
       "('India', 5.2)"
      ]
     },
     "execution_count": 37,
     "metadata": {},
     "output_type": "execute_result"
    }
   ],
   "source": [
    "#using key name\n",
    "person['country']=\"India\"\n",
    "\n",
    "#using update()\n",
    "person.update({\"height\":5.2})\n",
    "\n",
    "person['country'],person['height']"
   ]
  },
  {
   "cell_type": "markdown",
   "id": "66c5ecad",
   "metadata": {},
   "source": [
    "### Removing items"
   ]
  },
  {
   "cell_type": "code",
   "execution_count": 24,
   "id": "fae91090",
   "metadata": {},
   "outputs": [
    {
     "data": {
      "text/plain": [
       "{'name': 'Jessa', 'country': 'USA', 'weight': 50}"
      ]
     },
     "execution_count": 24,
     "metadata": {},
     "output_type": "execute_result"
    }
   ],
   "source": [
    "person = {'name': 'Jessa', 'country': 'USA', 'telephone': 1178, 'weight': 50, 'height': 6}\n",
    "\n",
    "#pop() ->removes item with key\n",
    "person.pop('telephone')\n",
    "\n",
    "#popitem() ->removes the last inserted item\n",
    "person.popitem()\n",
    "person"
   ]
  },
  {
   "cell_type": "code",
   "execution_count": 41,
   "id": "9933cac8",
   "metadata": {},
   "outputs": [
    {
     "data": {
      "text/plain": [
       "{'name': 'Jessa', 'country': 'USA'}"
      ]
     },
     "execution_count": 41,
     "metadata": {},
     "output_type": "execute_result"
    }
   ],
   "source": [
    "#using del\n",
    "del person['weight']\n",
    "person"
   ]
  },
  {
   "cell_type": "code",
   "execution_count": 43,
   "id": "58245c9d",
   "metadata": {},
   "outputs": [
    {
     "data": {
      "text/plain": [
       "{}"
      ]
     },
     "execution_count": 43,
     "metadata": {},
     "output_type": "execute_result"
    }
   ],
   "source": [
    "#using clear()\n",
    "person.clear()\n",
    "person"
   ]
  },
  {
   "cell_type": "code",
   "execution_count": 44,
   "id": "222f0e48",
   "metadata": {},
   "outputs": [
    {
     "ename": "NameError",
     "evalue": "name 'person' is not defined",
     "output_type": "error",
     "traceback": [
      "\u001b[1;31m---------------------------------------------------------------------------\u001b[0m",
      "\u001b[1;31mNameError\u001b[0m                                 Traceback (most recent call last)",
      "Cell \u001b[1;32mIn[44], line 3\u001b[0m\n\u001b[0;32m      1\u001b[0m \u001b[38;5;66;03m#deletting the entire dictionary \u001b[39;00m\n\u001b[0;32m      2\u001b[0m \u001b[38;5;28;01mdel\u001b[39;00m person\n\u001b[1;32m----> 3\u001b[0m \u001b[43mperson\u001b[49m\n",
      "\u001b[1;31mNameError\u001b[0m: name 'person' is not defined"
     ]
    }
   ],
   "source": [
    "#deletting the entire dictionary \n",
    "del person\n",
    "person"
   ]
  },
  {
   "cell_type": "markdown",
   "id": "ca346a75",
   "metadata": {},
   "source": [
    "### Checking if a key exists"
   ]
  },
  {
   "cell_type": "code",
   "execution_count": 16,
   "id": "e0f2f880",
   "metadata": {},
   "outputs": [
    {
     "name": "stdout",
     "output_type": "stream",
     "text": [
      "Alice\n",
      "None\n",
      "not present\n"
     ]
    }
   ],
   "source": [
    "my_dict = {'name': 'Alice', 'age': 30, 'city': 'New York'}\n",
    "print(my_dict.get('name')) \n",
    "print(my_dict.get('gender'))\n",
    "print(my_dict.get('gender','not present')) "
   ]
  },
  {
   "cell_type": "code",
   "execution_count": 1,
   "id": "b1cf2d56",
   "metadata": {},
   "outputs": [
    {
     "name": "stdout",
     "output_type": "stream",
     "text": [
      "country name is USA\n"
     ]
    }
   ],
   "source": [
    "person = {'name': 'Jessa', 'country': 'USA', 'telephone': 1178}\n",
    "\n",
    "# Get the list of keys and check if 'country' key is present\n",
    "key_name = 'country'\n",
    "if key_name in person.keys():\n",
    "    print(\"country name is\", person[key_name])\n",
    "else:\n",
    "    print(\"Key not found\")       # Output country name is USA"
   ]
  },
  {
   "cell_type": "code",
   "execution_count": 32,
   "id": "f663dda2",
   "metadata": {},
   "outputs": [
    {
     "name": "stdout",
     "output_type": "stream",
     "text": [
      "Enter string: apple\n"
     ]
    },
    {
     "data": {
      "text/plain": [
       "{'a': 1, 'p': 2, 'l': 1, 'e': 1}"
      ]
     },
     "execution_count": 32,
     "metadata": {},
     "output_type": "execute_result"
    }
   ],
   "source": [
    "# l=['a','p','p','l','e']\n",
    "l=input('Enter string: ').replace('',' ').split()\n",
    "d={}\n",
    "for i in l:\n",
    "    if i in d.keys():\n",
    "        d[i]+=1\n",
    "    else:\n",
    "        d[i]=1\n",
    "d"
   ]
  },
  {
   "cell_type": "code",
   "execution_count": 8,
   "id": "be0c4903",
   "metadata": {},
   "outputs": [
    {
     "name": "stdout",
     "output_type": "stream",
     "text": [
      "Enter a name: usa\n",
      "The person is present\n"
     ]
    }
   ],
   "source": [
    "person = {'name': 'Jessa', 'country': 'USA', 'telephone': 1178}\n",
    "def checkName(name):\n",
    "    for v in person.values():\n",
    "        if v.lower() == name.lower():\n",
    "            print('The person is present')\n",
    "            return\n",
    "    print('The person is not present')\n",
    "\n",
    "n = input(\"Enter a name: \")\n",
    "checkName(n)"
   ]
  },
  {
   "cell_type": "code",
   "execution_count": 9,
   "id": "591bbd9d",
   "metadata": {},
   "outputs": [
    {
     "name": "stdout",
     "output_type": "stream",
     "text": [
      "{1: [0], 2: [1], 3: [2], 4: [3], 5: [4]}\n"
     ]
    }
   ],
   "source": [
    "t = [1, 2, 3, 4, 5]\n",
    "h = {}\n",
    "for index, value in enumerate(t):\n",
    "    h[value] = h.get(value, []) + [index] #get(value, []) returns [] if key not present \n",
    "\n",
    "print(h)"
   ]
  },
  {
   "cell_type": "code",
   "execution_count": 1,
   "id": "8d5ddcf5",
   "metadata": {},
   "outputs": [
    {
     "data": {
      "text/plain": [
       "{1: 2, 2: 2, 3: 2, 4: 1, 5: 1}"
      ]
     },
     "execution_count": 1,
     "metadata": {},
     "output_type": "execute_result"
    }
   ],
   "source": [
    "#counting the occurrences of each element in the list\n",
    "t=[1,2,3,2,3,4,5,1]\n",
    "h={}\n",
    "for i in t:\n",
    "    h[i]=h.get(i,0)+1  #first it ckecks for keys if they are not present it give '0' so for '1' it gives 0 and we add 1 to it \n",
    "h"
   ]
  },
  {
   "cell_type": "markdown",
   "id": "d1b6624b",
   "metadata": {},
   "source": [
    "### Join two dictionaries"
   ]
  },
  {
   "cell_type": "code",
   "execution_count": 46,
   "id": "cee629fb",
   "metadata": {},
   "outputs": [
    {
     "name": "stdout",
     "output_type": "stream",
     "text": [
      "{'Jessa': 70, 'Arul': 80, 'Emma': 55, 'Kelly': 68, 'Harry': 50, 'Olivia': 66}\n"
     ]
    }
   ],
   "source": [
    "#using update()\n",
    "dict1 = {'Jessa': 70, 'Arul': 80, 'Emma': 55}\n",
    "dict2 = {'Kelly': 68, 'Harry': 50, 'Olivia': 66}\n",
    "\n",
    "# copy second dictionary into first dictionary\n",
    "dict1.update(dict2)\n",
    "print(dict1)            # output {'Jessa': 70, 'Arul': 80, 'Emma': 55, 'Kelly': 68, 'Harry': 50, 'Olivia': 66}"
   ]
  },
  {
   "cell_type": "code",
   "execution_count": 34,
   "id": "d552beb8",
   "metadata": {},
   "outputs": [
    {
     "name": "stdout",
     "output_type": "stream",
     "text": [
      "{'name1': 'Aadya', 'Age1': 23, 'name2': 'Harry', 'Age2': 16, 'name3': 'Nancy', 'Age3': 19}\n"
     ]
    }
   ],
   "source": [
    "#using **  Note:Keys should be differnt for dicdictionaries\n",
    "student_dict1 = {'name1':'Aadya', 'Age1': 23 }\n",
    "student_dict2 = {'name2':'Harry', 'Age2':16}\n",
    "student_dict3 = {'name3':'Nancy', 'Age3':19}\n",
    "\n",
    "student_dict = {**student_dict1, **student_dict2, **student_dict3}\n",
    "print(student_dict)                 # Output {'Aadya': 1, 'Arul': 2, 'Harry': 5, 'Olivia': 6, 'Nancy': 7, 'Perry': 9}"
   ]
  },
  {
   "cell_type": "code",
   "execution_count": 36,
   "id": "d3b326e0",
   "metadata": {},
   "outputs": [
    {
     "name": "stdout",
     "output_type": "stream",
     "text": [
      "66\n"
     ]
    },
    {
     "data": {
      "text/plain": [
       "66"
      ]
     },
     "execution_count": 36,
     "metadata": {},
     "output_type": "execute_result"
    }
   ],
   "source": [
    "dict1 = {'Jessa': 70, 'Arul': 80, 'Emma': 55}\n",
    "dict2 = {'Kelly': 68, 'Harry': 50, 'Emma': 66}\n",
    "\n",
    "# join two dictionaries with some common items\n",
    "dict1.update(dict2)\n",
    "print(dict1['Emma'])    # Output 66\n",
    "\n",
    "dict={**dict1,**dict2}\n",
    "dict['Emma']            # Output 66"
   ]
  },
  {
   "cell_type": "markdown",
   "id": "59b5d40f",
   "metadata": {},
   "source": [
    "### Copy a Dictionary"
   ]
  },
  {
   "cell_type": "code",
   "execution_count": 17,
   "id": "939587f2",
   "metadata": {},
   "outputs": [
    {
     "name": "stdout",
     "output_type": "stream",
     "text": [
      "{'Jessa': 70, 'Emma': 55}\n",
      "{'Jessa': 70, 'Emma': 55}\n",
      "{'Jessa': 70, 'Emma': 55}\n"
     ]
    }
   ],
   "source": [
    "dict1 = {'Jessa': 70, 'Emma': 55}\n",
    "\n",
    "# using copy() \n",
    "dict2 = dict1.copy()\n",
    "print(dict2)           # output {'Jessa': 70, 'Emma': 55}\n",
    "\n",
    "# using dict() \n",
    "dict3 = dict(dict1)\n",
    "print(dict3)           # output {'Jessa': 70, 'Emma': 55}\n",
    "\n",
    "# using the output of items() \n",
    "dict4 = dict(dict1.items())\n",
    "print(dict4)           # output {'Jessa': 70, 'Emma': 55}"
   ]
  },
  {
   "cell_type": "code",
   "execution_count": 18,
   "id": "2c083243",
   "metadata": {},
   "outputs": [
    {
     "data": {
      "text/plain": [
       "({'Jessa': 60, 'Emma': 55},\n",
       " {'Jessa': 70, 'Emma': 55},\n",
       " {'Jessa': 70, 'Emma': 55},\n",
       " {'Jessa': 70, 'Emma': 55})"
      ]
     },
     "execution_count": 18,
     "metadata": {},
     "output_type": "execute_result"
    }
   ],
   "source": [
    "dict1['Jessa']=60\n",
    "dict1,dict2,dict3,dict4"
   ]
  },
  {
   "cell_type": "code",
   "execution_count": 42,
   "id": "8c9d57b6",
   "metadata": {},
   "outputs": [
    {
     "name": "stdout",
     "output_type": "stream",
     "text": [
      "{'Jessa': 90, 'Emma': 55}\n",
      "{'Jessa': 90, 'Emma': 55}\n"
     ]
    }
   ],
   "source": [
    "#copy using \"=\"\n",
    "dict1 = {'Jessa': 70, 'Emma': 55}\n",
    "dict2 = dict1\n",
    "\n",
    "# modify dict2\n",
    "dict2.update({'Jessa': 90})\n",
    "print(dict2)     # Output {'Jessa': 90, 'Emma': 55}\n",
    "\n",
    "print(dict1)     # Output {'Jessa': 90, 'Emma': 55}"
   ]
  },
  {
   "cell_type": "markdown",
   "id": "8a60719d",
   "metadata": {},
   "source": [
    "### Nested dictionary"
   ]
  },
  {
   "cell_type": "code",
   "execution_count": 63,
   "id": "8d4f8d95",
   "metadata": {},
   "outputs": [
    {
     "name": "stdout",
     "output_type": "stream",
     "text": [
      "person: {'name': 'Jessa', 'company': 'Google', 'address': {'state': 'Texas', 'city': 'Houston'}}\n",
      "City: Houston\n"
     ]
    }
   ],
   "source": [
    "address = {\"state\": \"Texas\", 'city': 'Houston'}\n",
    "person = {'name': 'Jessa', 'company': 'Google', 'address': address}\n",
    "print(\"person:\", person)\n",
    "print(\"City:\", person['address']['city'])"
   ]
  },
  {
   "cell_type": "code",
   "execution_count": 64,
   "id": "40c2fcea",
   "metadata": {},
   "outputs": [
    {
     "name": "stdout",
     "output_type": "stream",
     "text": [
      "Student 3 name: Kelly\n",
      "Student 3 marks: 85\n"
     ]
    }
   ],
   "source": [
    "#Add multiple dictionaries inside a single dictionary\n",
    "jessa = {'name': 'Jessa', 'state': 'Texas', 'city': 'Houston', 'marks': 75}\n",
    "emma = {'name': 'Emma', 'state': 'Texas', 'city': 'Dallas', 'marks': 60}\n",
    "kelly = {'name': 'Kelly', 'state': 'Texas', 'city': 'Austin', 'marks': 85}\n",
    "\n",
    "# Outer dictionary to store all student dictionaries (nested dictionaries)\n",
    "class_six = {'student1': jessa, 'student2': emma, 'student3': kelly}\n",
    "\n",
    "# Get student3's name and mark\n",
    "print(\"Student 3 name:\", class_six['student3']['name'])\n",
    "print(\"Student 3 marks:\", class_six['student3']['marks'])"
   ]
  },
  {
   "cell_type": "markdown",
   "id": "805249bf",
   "metadata": {},
   "source": [
    "### Sort dictionary"
   ]
  },
  {
   "cell_type": "code",
   "execution_count": 65,
   "id": "e2e328f7",
   "metadata": {},
   "outputs": [
    {
     "name": "stdout",
     "output_type": "stream",
     "text": [
      "[('a', 35), ('b', 95), ('c', 45)]\n",
      "['a', 'b', 'c']\n",
      "[35, 45, 95]\n"
     ]
    }
   ],
   "source": [
    "dict1 = {'c': 45, 'b': 95, 'a': 35}\n",
    "\n",
    "# sorting dictionary by keys\n",
    "print(sorted(dict1.items()))          # Output [('a', 35), ('b', 95), ('c', 45)]\n",
    "\n",
    "# sort dict keys\n",
    "print(sorted(dict1))                  # output ['a', 'b', 'c']\n",
    "\n",
    "# sort dictionary values\n",
    "print(sorted(dict1.values()))         # output [35, 45, 95]"
   ]
  },
  {
   "cell_type": "markdown",
   "id": "efd2e76e",
   "metadata": {},
   "source": [
    "### Dictionary comprehension"
   ]
  },
  {
   "cell_type": "code",
   "execution_count": 19,
   "id": "9348634a",
   "metadata": {},
   "outputs": [
    {
     "data": {
      "text/plain": [
       "{2: 4, 8: 64}"
      ]
     },
     "execution_count": 19,
     "metadata": {},
     "output_type": "execute_result"
    }
   ],
   "source": [
    "#{key : value for key,value in iterable [if key,value condition1]}\n",
    "\n",
    "# calculate the square of each even number from a list and store in dict\n",
    "numbers = [1, 3, 5, 2, 8]\n",
    "{x: x ** 2 for x in numbers if x % 2 == 0}"
   ]
  },
  {
   "cell_type": "code",
   "execution_count": 20,
   "id": "8e86dd21",
   "metadata": {},
   "outputs": [
    {
     "data": {
      "text/plain": [
       "{'Jessa': 1178, 'Emma': 4020, 'Kelly': 5786}"
      ]
     },
     "execution_count": 20,
     "metadata": {},
     "output_type": "execute_result"
    }
   ],
   "source": [
    "telephone_book = [1178, 4020, 5786]\n",
    "persons = ['Jessa', 'Emma', 'Kelly']\n",
    "{key: value for key, value in zip(persons, telephone_book)}"
   ]
  },
  {
   "cell_type": "markdown",
   "id": "cd5ab166",
   "metadata": {},
   "source": [
    "### max() and min()"
   ]
  },
  {
   "cell_type": "code",
   "execution_count": 21,
   "id": "5d640443",
   "metadata": {},
   "outputs": [
    {
     "name": "stdout",
     "output_type": "stream",
     "text": [
      "Maximum Key 3\n",
      "Minimum Key 1\n"
     ]
    }
   ],
   "source": [
    "dict = {1:'aaa',2:'bbb',3:'AAA'}\n",
    "print('Maximum Key',max(dict)) # 3\n",
    "print('Minimum Key',min(dict)) # 1"
   ]
  },
  {
   "cell_type": "markdown",
   "id": "56a7c96b",
   "metadata": {},
   "source": [
    "###  Dictionary of Lists"
   ]
  },
  {
   "cell_type": "code",
   "execution_count": 23,
   "id": "e4d12592",
   "metadata": {},
   "outputs": [
    {
     "name": "stdout",
     "output_type": "stream",
     "text": [
      "fruits\n",
      " apple  banana  cherry \n",
      "vegetables\n",
      " carrot  broccoli  spinach \n",
      "grains\n",
      " rice  wheat  oats \n"
     ]
    }
   ],
   "source": [
    "data = {\n",
    "    \"fruits\": [\"apple\", \"banana\", \"cherry\"],\n",
    "    \"vegetables\": [\"carrot\", \"broccoli\", \"spinach\"],\n",
    "    \"grains\": [\"rice\", \"wheat\", \"oats\"]\n",
    "}\n",
    "\n",
    "for i in data:  # keys\n",
    "    print(i)\n",
    "    for j in data[i]:  # \n",
    "        print(f\" {j}\", end=\" \")\n",
    "    print()"
   ]
  },
  {
   "cell_type": "code",
   "execution_count": 27,
   "id": "fd34075b",
   "metadata": {},
   "outputs": [
    {
     "name": "stdout",
     "output_type": "stream",
     "text": [
      "Keys: fruits      values: ['apple', 'banana', 'cherry']\n",
      "Keys: vegetables      values: ['carrot', 'broccoli', 'spinach']\n",
      "Keys: grains      values: ['rice', 'wheat', 'oats']\n"
     ]
    }
   ],
   "source": [
    "for cat, items in data.items():\n",
    "    print(f\"Keys: {cat}      values: {items}\")"
   ]
  },
  {
   "cell_type": "markdown",
   "id": "2fae255b",
   "metadata": {},
   "source": [
    "### Dictionary of Dictionaries"
   ]
  },
  {
   "cell_type": "code",
   "execution_count": 43,
   "id": "d282ce2f",
   "metadata": {},
   "outputs": [
    {
     "name": "stdout",
     "output_type": "stream",
     "text": [
      "emp1\n",
      " - Name: Alice\n",
      " - Age: 30\n",
      " - Role: Developer\n",
      "emp2\n",
      " - Name: Bob\n",
      " - Age: 25\n",
      " - Role: Designer\n",
      "emp3\n",
      " - Name: Charlie\n",
      " - Age: 35\n",
      " - Role: Manager\n"
     ]
    }
   ],
   "source": [
    "employees = {\n",
    "    \"emp1\": {\"name\": \"Alice\", \"age\": 30, \"role\": \"Developer\"},\n",
    "    \"emp2\": {\"name\": \"Bob\", \"age\": 25, \"role\": \"Designer\"},\n",
    "    \"emp3\": {\"name\": \"Charlie\", \"age\": 35, \"role\": \"Manager\"}\n",
    "}\n",
    "\n",
    "for k, v in employees.items():\n",
    "    print(k)                        # emp1, emp2, emp3\n",
    "    for v1, v2 in v.items():        # v1: name, age, role; v2: Alice, 30, Developer, ....\n",
    "        print(f\" - {v1.capitalize()}: {v2}\")"
   ]
  },
  {
   "cell_type": "code",
   "execution_count": 54,
   "id": "cf9a6d96",
   "metadata": {},
   "outputs": [
    {
     "name": "stdout",
     "output_type": "stream",
     "text": [
      "Departments: Engineering\n",
      " Employees\n",
      "  -Alice\n",
      "  -Bob\n",
      " Projects\n",
      "  -Project A\n",
      "  -Project B\n",
      "Departments: HR\n",
      " Employees\n",
      "  -Charlie\n",
      "  -David\n",
      " Projects\n",
      "  -Project X\n"
     ]
    }
   ],
   "source": [
    "# nested dictionary\n",
    "departments = {\n",
    "    \"Engineering\": {\n",
    "        \"employees\": [\"Alice\", \"Bob\"],\n",
    "        \"projects\": [\"Project A\", \"Project B\"]\n",
    "    },\n",
    "    \"HR\": {\n",
    "        \"employees\": [\"Charlie\", \"David\"],\n",
    "        \"projects\": [\"Project X\"]\n",
    "    }\n",
    "}\n",
    "\n",
    "for k1, v1 in departments.items():      # E, H\n",
    "    print(f\"Departments: {k1}\")\n",
    "    #print(f'Data: {v1}')\n",
    "    for k2, v2 in v1.items():             # k2-> employees , v2-> ['Alice', 'Bob']\n",
    "        print(f' {k2.capitalize()}')\n",
    "        for i in v2:\n",
    "            print(f'  -{i}')"
   ]
  },
  {
   "cell_type": "markdown",
   "id": "9f4fac18",
   "metadata": {},
   "source": [
    "### list of dictionaries"
   ]
  },
  {
   "cell_type": "code",
   "execution_count": 13,
   "id": "ae75744d",
   "metadata": {},
   "outputs": [
    {
     "name": "stdout",
     "output_type": "stream",
     "text": [
      "Alice\n",
      "\n",
      "Name: Alice, Age: 30\n",
      "Name: Bob, Age: 25\n",
      "Name: Charlie, Age: 35\n"
     ]
    }
   ],
   "source": [
    "people = [\n",
    "    {\"name\": \"Alice\", \"age\": 30},\n",
    "    {\"name\": \"Bob\", \"age\": 25},\n",
    "    {\"name\": \"Charlie\", \"age\": 35}\n",
    "]\n",
    "\n",
    "print(people[0]['name']+'\\n')\n",
    "# Iterating over the list of dictionaries\n",
    "for person in people:\n",
    "    print(f\"Name: {person['name']}, Age: {person['age']}\")"
   ]
  },
  {
   "cell_type": "code",
   "execution_count": 15,
   "id": "4721afb2",
   "metadata": {},
   "outputs": [
    {
     "name": "stdout",
     "output_type": "stream",
     "text": [
      "Name: Alice, Age: 30\n",
      "Name: Charlie, Age: 35\n"
     ]
    }
   ],
   "source": [
    "for person in people:\n",
    "    if person['age']>=30:\n",
    "        print(f\"Name: {person['name']}, Age: {person['age']}\")"
   ]
  },
  {
   "cell_type": "code",
   "execution_count": 9,
   "id": "56b43f1a",
   "metadata": {},
   "outputs": [
    {
     "name": "stdout",
     "output_type": "stream",
     "text": [
      "{'name': 'Alice', 'age': 30, 'phones': ['123-456-7890', '987-654-3210']}\n",
      "{'name': 'Bob', 'age': 25, 'phones': ['111-222-3333']}\n",
      "\n",
      "Name: Alice. phones: ['123-456-7890', '987-654-3210']\n",
      "Name: Bob. phones: ['111-222-3333']\n"
     ]
    }
   ],
   "source": [
    "people = [\n",
    "    {\n",
    "        \"name\": \"Alice\",\n",
    "        \"age\": 30,\n",
    "        \"phones\": [\"123-456-7890\", \"987-654-3210\"]\n",
    "    },\n",
    "    {\n",
    "        \"name\": \"Bob\",\n",
    "        \"age\": 25,\n",
    "        \"phones\": [\"111-222-3333\"]\n",
    "    }\n",
    "]\n",
    "for person in people:\n",
    "    print(person)\n",
    "\n",
    "print()\n",
    "for person in people:\n",
    "    print(f\"Name: {person['name']}. phones: {person['phones']}\")"
   ]
  },
  {
   "cell_type": "markdown",
   "id": "56eae7c1",
   "metadata": {},
   "source": [
    "## Set"
   ]
  },
  {
   "cell_type": "markdown",
   "id": "f91c3f50",
   "metadata": {},
   "source": [
    "* Unordered\n",
    "* Unchangeable \n",
    "* Unique "
   ]
  },
  {
   "cell_type": "markdown",
   "id": "641bc961",
   "metadata": {},
   "source": [
    "### Creating a set"
   ]
  },
  {
   "cell_type": "code",
   "execution_count": 1,
   "id": "e9e2311c",
   "metadata": {},
   "outputs": [
    {
     "name": "stdout",
     "output_type": "stream",
     "text": [
      "{25, 'Mark', 75.25, 'Jessa'}\n",
      "{'Harry Potter', 'Atlas Shrugged', 'Angels and Demons'}\n"
     ]
    }
   ],
   "source": [
    "#using {}\n",
    "sample_set = {'Mark', 'Jessa', 25, 75.25}\n",
    "print(sample_set)         # Output {25, 'Mark', 75.25, 'Jessa'}\n",
    "\n",
    "#set()\n",
    "book_set = set((\"Harry Potter\", \"Angels and Demons\", \"Atlas Shrugged\"))\n",
    "print(book_set)           # output {'Harry Potter', 'Atlas Shrugged', 'Angels and Demons'}"
   ]
  },
  {
   "cell_type": "code",
   "execution_count": 2,
   "id": "5c13d522",
   "metadata": {},
   "outputs": [
    {
     "name": "stdout",
     "output_type": "stream",
     "text": [
      "{40, 10, 50, 20, 30}\n"
     ]
    }
   ],
   "source": [
    "#creating set from list\n",
    "num_list=[10,20,30,40,50]\n",
    "sample_set=set(num_list)\n",
    "print(sample_set)"
   ]
  },
  {
   "cell_type": "code",
   "execution_count": 6,
   "id": "7f0eaecb",
   "metadata": {},
   "outputs": [
    {
     "ename": "TypeError",
     "evalue": "unhashable type: 'list'",
     "output_type": "error",
     "traceback": [
      "\u001b[1;31m---------------------------------------------------------------------------\u001b[0m",
      "\u001b[1;31mTypeError\u001b[0m                                 Traceback (most recent call last)",
      "Cell \u001b[1;32mIn[6], line 2\u001b[0m\n\u001b[0;32m      1\u001b[0m \u001b[38;5;66;03m#But we will get error if we use mutable elements like list,dictionary\u001b[39;00m\n\u001b[1;32m----> 2\u001b[0m sample_set1\u001b[38;5;241m=\u001b[39m{\u001b[38;5;124m'\u001b[39m\u001b[38;5;124mMark\u001b[39m\u001b[38;5;124m'\u001b[39m,\u001b[38;5;124m'\u001b[39m\u001b[38;5;124mJessie\u001b[39m\u001b[38;5;124m'\u001b[39m,[\u001b[38;5;241m20\u001b[39m,\u001b[38;5;241m10\u001b[39m,\u001b[38;5;241m30\u001b[39m]}\n\u001b[0;32m      3\u001b[0m \u001b[38;5;28mprint\u001b[39m(sample_set1)\n",
      "\u001b[1;31mTypeError\u001b[0m: unhashable type: 'list'"
     ]
    }
   ],
   "source": [
    "#But we will get error if we use mutable elements like list,dictionary\n",
    "sample_set1={'Mark','Jessie',[20,10,30]}\n",
    "print(sample_set1)"
   ]
  },
  {
   "cell_type": "code",
   "execution_count": 5,
   "id": "ea96d89f",
   "metadata": {},
   "outputs": [
    {
     "ename": "TypeError",
     "evalue": "unhashable type: 'dict'",
     "output_type": "error",
     "traceback": [
      "\u001b[1;31m---------------------------------------------------------------------------\u001b[0m",
      "\u001b[1;31mTypeError\u001b[0m                                 Traceback (most recent call last)",
      "Cell \u001b[1;32mIn[5], line 1\u001b[0m\n\u001b[1;32m----> 1\u001b[0m sample_set2\u001b[38;5;241m=\u001b[39m{\u001b[38;5;124m'\u001b[39m\u001b[38;5;124mMark\u001b[39m\u001b[38;5;124m'\u001b[39m,\u001b[38;5;124m'\u001b[39m\u001b[38;5;124mJessie\u001b[39m\u001b[38;5;124m'\u001b[39m,{\u001b[38;5;124m'\u001b[39m\u001b[38;5;124mname\u001b[39m\u001b[38;5;124m'\u001b[39m:\u001b[38;5;124m'\u001b[39m\u001b[38;5;124mJessie\u001b[39m\u001b[38;5;124m'\u001b[39m,\u001b[38;5;124m'\u001b[39m\u001b[38;5;124mcountry\u001b[39m\u001b[38;5;124m'\u001b[39m:\u001b[38;5;124m'\u001b[39m\u001b[38;5;124mUS\u001b[39m\u001b[38;5;124m'\u001b[39m}}\n\u001b[0;32m      2\u001b[0m \u001b[38;5;28mprint\u001b[39m(sample_set2)\n",
      "\u001b[1;31mTypeError\u001b[0m: unhashable type: 'dict'"
     ]
    }
   ],
   "source": [
    "sample_set2={'Mark','Jessie',{'name':'Jessie','country':'US'}}\n",
    "print(sample_set2)"
   ]
  },
  {
   "cell_type": "code",
   "execution_count": 7,
   "id": "564a68af",
   "metadata": {},
   "outputs": [
    {
     "name": "stdout",
     "output_type": "stream",
     "text": [
      "<class 'set'>\n",
      "<class 'dict'>\n"
     ]
    }
   ],
   "source": [
    "#empty set\n",
    "empty_set = set()\n",
    "print(type(empty_set))  # class 'set'\n",
    "\n",
    "emptySet = {}\n",
    "print(type(emptySet)) # class 'dict'"
   ]
  },
  {
   "cell_type": "code",
   "execution_count": 22,
   "id": "a6c9c907",
   "metadata": {},
   "outputs": [
    {
     "name": "stdout",
     "output_type": "stream",
     "text": [
      "Book exists in the book set\n",
      "False\n"
     ]
    }
   ],
   "source": [
    "#checking item\n",
    "book_set = {\"Harry Potter\", \"Angels and Demons\", \"Atlas Shrugged\"}\n",
    "if 'Harry Potter' in book_set:\n",
    "    print(\"Book exists in the book set\")\n",
    "else:\n",
    "    print(\"Book doesn't exist in the book set\")   # Output Book exists in the book set\n",
    "\n",
    "print(\"A Man called Ove\" in book_set)             # Output False"
   ]
  },
  {
   "cell_type": "markdown",
   "id": "8d7fbc80",
   "metadata": {},
   "source": [
    "### Adding items"
   ]
  },
  {
   "cell_type": "code",
   "execution_count": 23,
   "id": "e2e7f70a",
   "metadata": {},
   "outputs": [
    {
     "name": "stdout",
     "output_type": "stream",
     "text": [
      "{'Harry Potter', 'The God', 'Ulysses', 'Atlas', 'Atlas Shrugged', 'Angels and Demons'}\n"
     ]
    }
   ],
   "source": [
    "#add()\n",
    "book_set.add('The God')\n",
    "\n",
    "#update() ->to add multiple items\n",
    "book_set.update(['Atlas','Ulysses'])\n",
    "print(book_set)"
   ]
  },
  {
   "cell_type": "markdown",
   "id": "fce81df3",
   "metadata": {},
   "source": [
    "### Removing items"
   ]
  },
  {
   "cell_type": "code",
   "execution_count": 24,
   "id": "95d5aacb",
   "metadata": {},
   "outputs": [
    {
     "name": "stdout",
     "output_type": "stream",
     "text": [
      "{'Harry Potter', 'Ulysses', 'Atlas', 'Atlas Shrugged', 'Angels and Demons'}\n",
      "set()\n"
     ]
    }
   ],
   "source": [
    "#remove() ->to remove single item Throws a keyerror if an item not present in the original set\n",
    "book_set.remove('The God')\n",
    "print(book_set)\n",
    "\n",
    "#discard() ->To remove a single item that may or may not be present in the set.\n",
    "book_set.discard('The God')\n",
    "print(book_set)\n",
    "\n",
    "#pop() -> remove any random item from a set\n",
    "# book_set.pop()\n",
    "# print(book_set)\n",
    "\n",
    "#clear() -> empty set\n",
    "book_set.clear()\n",
    "print(book_set)\n",
    "\n",
    "#del set ->delete entire set\n",
    "del book_set"
   ]
  },
  {
   "cell_type": "markdown",
   "id": "59329a1c",
   "metadata": {},
   "source": [
    "### Set operations "
   ]
  },
  {
   "cell_type": "code",
   "execution_count": 25,
   "id": "dbf294f4",
   "metadata": {},
   "outputs": [
    {
     "name": "stdout",
     "output_type": "stream",
     "text": [
      "{'orange', 'blue', 'red', 'yellow', 'indigo', 'green', 'violet'}\n",
      "{'orange', 'blue', 'red', 'yellow', 'indigo', 'green', 'violet'}\n"
     ]
    }
   ],
   "source": [
    "color_set = {'violet', 'indigo', 'blue', 'green', 'yellow'}\n",
    "remaining_colors = {'indigo', 'orange', 'red'}\n",
    "\n",
    "#union of sets \n",
    "\n",
    "#using |(OR) operator\n",
    "set_uni_or=color_set| remaining_colors\n",
    "print(set_uni_or)\n",
    "\n",
    "#union()\n",
    "vibgyor_colors = color_set.union(remaining_colors)\n",
    "print(vibgyor_colors)"
   ]
  },
  {
   "cell_type": "code",
   "execution_count": 27,
   "id": "1c6ad2ff",
   "metadata": {},
   "outputs": [
    {
     "name": "stdout",
     "output_type": "stream",
     "text": [
      "{'indigo'}\n",
      "{'indigo'}\n"
     ]
    }
   ],
   "source": [
    "#intersection of sets\n",
    "\n",
    "#usning 'and'\n",
    "new_set1=color_set & remaining_colors\n",
    "print(new_set1)\n",
    "\n",
    "#using intersection()\n",
    "new_set2=color_set.intersection(remaining_colors)\n",
    "print(new_set2)"
   ]
  },
  {
   "cell_type": "code",
   "execution_count": 28,
   "id": "5249ff8e",
   "metadata": {},
   "outputs": [
    {
     "name": "stdout",
     "output_type": "stream",
     "text": [
      "{'yellow', 'green', 'blue', 'violet'}\n",
      "{'yellow', 'green', 'blue', 'violet'}\n"
     ]
    }
   ],
   "source": [
    "#difference of sets\n",
    "\n",
    "# difference using '-' operator\n",
    "print(color_set - remaining_colors)              # output {'violet', 'blue', 'green', 'yellow'}\n",
    "\n",
    "# using difference() method\n",
    "print(color_set.difference(remaining_colors))    # Output {'violet', 'blue', 'green', 'yellow'}"
   ]
  },
  {
   "cell_type": "markdown",
   "id": "7c236fd0",
   "metadata": {},
   "source": [
    "### Copy set"
   ]
  },
  {
   "cell_type": "code",
   "execution_count": 29,
   "id": "c31170c9",
   "metadata": {},
   "outputs": [],
   "source": [
    "color_set = {'violet', 'blue', 'green', 'yellow'}\n",
    "\n",
    "#using copy()\n",
    "color_set1=color_set.copy()\n",
    "\n",
    "#using set()\n",
    "color_set2=set(color_set)\n",
    "\n",
    "#using = operator\n",
    "color_set3=color_set"
   ]
  },
  {
   "cell_type": "code",
   "execution_count": 31,
   "id": "475c84c1",
   "metadata": {},
   "outputs": [
    {
     "name": "stdout",
     "output_type": "stream",
     "text": [
      "<class 'list'>\n"
     ]
    },
    {
     "data": {
      "text/plain": [
       "set"
      ]
     },
     "execution_count": 31,
     "metadata": {},
     "output_type": "execute_result"
    }
   ],
   "source": [
    "set1 = {20, 4, 6, 10, 8, 15}\n",
    "sorted_list = sorted(set1)\n",
    "print(type(sorted_list))\n",
    "\n",
    "sorted_set = set(sorted_list)\n",
    "type(sorted_set)"
   ]
  },
  {
   "cell_type": "markdown",
   "id": "ffbba935",
   "metadata": {},
   "source": [
    "### Comprehensions"
   ]
  },
  {
   "cell_type": "code",
   "execution_count": 2,
   "id": "ef40cb0f",
   "metadata": {},
   "outputs": [
    {
     "data": {
      "text/plain": [
       "['red', 'red', 'red', 'red', 'red']"
      ]
     },
     "execution_count": 2,
     "metadata": {},
     "output_type": "execute_result"
    }
   ],
   "source": [
    "#list comprehension\n",
    "blue_list= [\"blue\", \"blue\", \"blue\", \"blue\", \"blue\"]\n",
    "red_list = [\"red\" for list_item in blue_list]\n",
    "red_list"
   ]
  },
  {
   "cell_type": "code",
   "execution_count": 3,
   "id": "ece259b8",
   "metadata": {},
   "outputs": [
    {
     "name": "stdout",
     "output_type": "stream",
     "text": [
      "[0, 2, 4, 6, 8, 10]\n",
      "[1, 3, 5, 7, 9, 11]\n"
     ]
    }
   ],
   "source": [
    "even_list = [x for x in range(0,11,2)]\n",
    "print(even_list)\n",
    "odd_list = [var+1 for var in even_list]\n",
    "print(odd_list)"
   ]
  },
  {
   "cell_type": "code",
   "execution_count": 10,
   "id": "a21313ec",
   "metadata": {},
   "outputs": [
    {
     "name": "stdout",
     "output_type": "stream",
     "text": [
      "[{'word': 'accomplice', 'meaning': 'a person who helps another commit a crime.'}, {'word': 'brutal', 'meaning': 'savagely violent.'}, {'word': 'cacophony', 'meaning': 'a harsh discordant mixture of sounds.'}, {'word': 'Accomplice', 'meaning': 'extremely serious or urgent.'}]\n",
      "{'accomplice': 'a person who helps another commit a crime.', 'brutal': 'savagely violent.', 'cacophony': 'a harsh discordant mixture of sounds.', 'Accomplice': 'extremely serious or urgent.'}\n"
     ]
    }
   ],
   "source": [
    "#Dictionary comprehension\n",
    "word_meaning = [\n",
    "   {\n",
    "       'word': 'accomplice',\n",
    "       'meaning': 'a person who helps another commit a crime.',\n",
    "   },\n",
    "   {\n",
    "       'word': 'brutal',\n",
    "       'meaning': 'savagely violent.',\n",
    "   },\n",
    "   {\n",
    "       'word': 'cacophony',\n",
    "       'meaning': 'a harsh discordant mixture of sounds.',\n",
    "   },\n",
    "   {\n",
    "       'word': 'Accomplice',\n",
    "       'meaning': 'extremely serious or urgent.',\n",
    "   },\n",
    "]\n",
    "print(word_meaning,end=\"\\n\")\n",
    "\n",
    "new_diction = {d['word']:d['meaning'] for d in word_meaning}\n",
    "print(new_diction)"
   ]
  },
  {
   "cell_type": "markdown",
   "id": "be4a3102",
   "metadata": {},
   "source": [
    "### Comprehensions"
   ]
  },
  {
   "cell_type": "code",
   "execution_count": 2,
   "id": "a732a935",
   "metadata": {},
   "outputs": [
    {
     "data": {
      "text/plain": [
       "[1, 4, 9, 16, 25]"
      ]
     },
     "execution_count": 2,
     "metadata": {},
     "output_type": "execute_result"
    }
   ],
   "source": [
    "# List\n",
    "nums=[1,2,3,4,5]\n",
    "my_list=[n**2 for n in nums]\n",
    "my_list"
   ]
  },
  {
   "cell_type": "code",
   "execution_count": 5,
   "id": "3678d6d9",
   "metadata": {},
   "outputs": [
    {
     "data": {
      "text/plain": [
       "[2, 4, 6, 8, 10]"
      ]
     },
     "execution_count": 5,
     "metadata": {},
     "output_type": "execute_result"
    }
   ],
   "source": [
    "nums=[i for i in range(1,11)]  # [1, 2, 3, 4, 5, 6, 7, 8, 9, 10]\n",
    "\n",
    "eve_list=[n for n in n if n%2==0]\n",
    "eve_list"
   ]
  },
  {
   "cell_type": "code",
   "execution_count": 8,
   "id": "81d864cf",
   "metadata": {},
   "outputs": [
    {
     "data": {
      "text/plain": [
       "[('a', 0),\n",
       " ('a', 1),\n",
       " ('a', 2),\n",
       " ('b', 0),\n",
       " ('b', 1),\n",
       " ('b', 2),\n",
       " ('c', 0),\n",
       " ('c', 1),\n",
       " ('c', 2)]"
      ]
     },
     "execution_count": 8,
     "metadata": {},
     "output_type": "execute_result"
    }
   ],
   "source": [
    "l1=[]\n",
    "for i in 'abc':\n",
    "    for j in range(3):\n",
    "        l1.append((i,j))\n",
    "        \n",
    "l1"
   ]
  },
  {
   "cell_type": "code",
   "execution_count": 7,
   "id": "7c077f5d",
   "metadata": {},
   "outputs": [
    {
     "data": {
      "text/plain": [
       "[('a', 0),\n",
       " ('a', 1),\n",
       " ('a', 2),\n",
       " ('b', 0),\n",
       " ('b', 1),\n",
       " ('b', 2),\n",
       " ('c', 0),\n",
       " ('c', 1),\n",
       " ('c', 2)]"
      ]
     },
     "execution_count": 7,
     "metadata": {},
     "output_type": "execute_result"
    }
   ],
   "source": [
    "[(letter, num) for letter in 'abc' for num in range(3)]"
   ]
  },
  {
   "cell_type": "code",
   "execution_count": 9,
   "id": "fecd0f84",
   "metadata": {},
   "outputs": [
    {
     "name": "stdout",
     "output_type": "stream",
     "text": [
      "* \n",
      "* * \n",
      "* * * \n",
      "* * * * \n",
      "* * * * * \n"
     ]
    }
   ],
   "source": [
    "rows = 5\n",
    "# outer loop\n",
    "for i in range(1, rows + 1):\n",
    "    # inner loop\n",
    "    for j in range(1, i + 1):\n",
    "        print(\"*\", end=\" \")\n",
    "    print('')"
   ]
  },
  {
   "cell_type": "code",
   "execution_count": 16,
   "id": "092fdd01",
   "metadata": {},
   "outputs": [
    {
     "name": "stdout",
     "output_type": "stream",
     "text": [
      "*\n",
      "* *\n",
      "* * *\n",
      "* * * *\n",
      "* * * * *\n"
     ]
    }
   ],
   "source": [
    "rows = 5\n",
    "triangle = [' '.join(['*' for j in range(1, i + 1)]) for i in range(1, rows + 1)]\n",
    "print('\\n'.join(triangle))"
   ]
  },
  {
   "cell_type": "code",
   "execution_count": 21,
   "id": "711ece06",
   "metadata": {},
   "outputs": [
    {
     "name": "stdout",
     "output_type": "stream",
     "text": [
      "* \n",
      "* * \n",
      "* * * \n",
      "* * * * \n",
      "* * * * * \n"
     ]
    }
   ],
   "source": [
    "rows = 5\n",
    "\n",
    "# List comprehension to generate the pattern\n",
    "pattern = ['* ' * i for i in range(1, rows + 1)]\n",
    "\n",
    "# Print the pattern\n",
    "for line in pattern:\n",
    "    print(line)"
   ]
  },
  {
   "cell_type": "code",
   "execution_count": 22,
   "id": "0b88be8c",
   "metadata": {},
   "outputs": [
    {
     "data": {
      "text/plain": [
       "['* ', '* * ', '* * * ', '* * * * ', '* * * * * ']"
      ]
     },
     "execution_count": 22,
     "metadata": {},
     "output_type": "execute_result"
    }
   ],
   "source": [
    "pattern"
   ]
  },
  {
   "cell_type": "code",
   "execution_count": 23,
   "id": "e98348f6",
   "metadata": {},
   "outputs": [
    {
     "data": {
      "text/plain": [
       "['a', 'b', 'c', 'd', ' ', ' ', ' ']"
      ]
     },
     "execution_count": 23,
     "metadata": {},
     "output_type": "execute_result"
    }
   ],
   "source": [
    "[i if i.isalpha() else ' ' for i in 'abcd123']"
   ]
  },
  {
   "cell_type": "code",
   "execution_count": 26,
   "id": "ca9c00a3",
   "metadata": {},
   "outputs": [
    {
     "data": {
      "text/plain": [
       "{'Bruce': 'Batman',\n",
       " 'Clark': 'Superman',\n",
       " 'Peter': 'Spiderman',\n",
       " 'Wade': 'Deadpool'}"
      ]
     },
     "execution_count": 26,
     "metadata": {},
     "output_type": "execute_result"
    }
   ],
   "source": [
    "# Dictionary\n",
    "names=['Bruce', 'Clark','Peter', 'Wade']\n",
    "heroes=['Batman', 'Superman', 'Spiderman', 'Deadpool']\n",
    "\n",
    "dict(zip(names, heroes))"
   ]
  },
  {
   "cell_type": "code",
   "execution_count": 29,
   "id": "3a549c85",
   "metadata": {},
   "outputs": [
    {
     "data": {
      "text/plain": [
       "{'Bruce': 'Batman',\n",
       " 'Clark': 'Superman',\n",
       " 'Peter': 'Spiderman',\n",
       " 'Wade': 'Deadpool'}"
      ]
     },
     "execution_count": 29,
     "metadata": {},
     "output_type": "execute_result"
    }
   ],
   "source": [
    "my_dict={name:hero for name, hero in zip(names, heroes)}\n",
    "my_dict"
   ]
  },
  {
   "cell_type": "code",
   "execution_count": 30,
   "id": "e5c7e917",
   "metadata": {},
   "outputs": [
    {
     "name": "stdout",
     "output_type": "stream",
     "text": [
      "{2: 4, 4: 16, 6: 36, 8: 64, 10: 100}\n"
     ]
    }
   ],
   "source": [
    "# Creating a dictionary with even numbers as keys and their squares as values\n",
    "even_squares = {x: x**2 for x in range(1, 11) if x % 2 == 0}\n",
    "print(even_squares)"
   ]
  },
  {
   "cell_type": "code",
   "execution_count": 31,
   "id": "98cf3d21",
   "metadata": {},
   "outputs": [
    {
     "data": {
      "text/plain": [
       "{' ', 'd', 'e', 'h', 'l', 'o', 'r', 'w'}"
      ]
     },
     "execution_count": 31,
     "metadata": {},
     "output_type": "execute_result"
    }
   ],
   "source": [
    "# set comprehension\n",
    "my_set={n for n in 'hello world'}\n",
    "my_set"
   ]
  },
  {
   "cell_type": "code",
   "execution_count": null,
   "id": "8489bc32",
   "metadata": {},
   "outputs": [],
   "source": []
  }
 ],
 "metadata": {
  "kernelspec": {
   "display_name": "Python 3 (ipykernel)",
   "language": "python",
   "name": "python3"
  },
  "language_info": {
   "codemirror_mode": {
    "name": "ipython",
    "version": 3
   },
   "file_extension": ".py",
   "mimetype": "text/x-python",
   "name": "python",
   "nbconvert_exporter": "python",
   "pygments_lexer": "ipython3",
   "version": "3.10.9"
  }
 },
 "nbformat": 4,
 "nbformat_minor": 5
}
