{
 "cells": [
  {
   "cell_type": "markdown",
   "id": "9c0ca756",
   "metadata": {},
   "source": [
    "##  Selection Sort\n",
    "\n",
    "### Algorithm\n",
    "1. Order the numbers\n",
    "2. Search the list and find the min value"
   ]
  },
  {
   "cell_type": "code",
   "execution_count": 9,
   "id": "c53b5626",
   "metadata": {},
   "outputs": [
    {
     "name": "stdout",
     "output_type": "stream",
     "text": [
      "Enter sequence of numbers: \n",
      "45 5 4\n",
      "['45', '5', '4'] <class 'list'>\n"
     ]
    },
    {
     "data": {
      "text/plain": [
       "'4'"
      ]
     },
     "execution_count": 9,
     "metadata": {},
     "output_type": "execute_result"
    }
   ],
   "source": [
    "def smallest(l):\n",
    "    min_num=l[0]\n",
    "    \n",
    "    for i in l:\n",
    "        if i<min_num:\n",
    "            min_num=i\n",
    "            \n",
    "    return min_num\n",
    "\n",
    "# l=[]\n",
    "# n=int(input(\"List Size: \"))\n",
    "# for i in range(n):\n",
    "#     e=int(input(\"Enter a number: \"))\n",
    "#     l.append(e)\n",
    "\n",
    "l=input(\"Enter sequence of numbers: \\n\").split()\n",
    "\n",
    "print(l)\n",
    "\n",
    "smallest(l)"
   ]
  },
  {
   "cell_type": "code",
   "execution_count": 17,
   "id": "02c47970",
   "metadata": {},
   "outputs": [
    {
     "name": "stdout",
     "output_type": "stream",
     "text": [
      "Length of the list is:  5\n",
      "Sorted Array\n",
      "11 12 22 25 64 "
     ]
    }
   ],
   "source": [
    "l=[64, 25, 12, 22, 11]\n",
    "n=len(l)\n",
    "print(\"Length of the list is: \", n)\n",
    "for i in range(n-1):  # traverse through all the elements(from 0 to 4)\n",
    "    min_ind=i\n",
    "    \n",
    "    for j in range(i+1, n): # traverse from the 2nd element to compare (from 1 to 5)\n",
    "        if l[min_ind]>l[j]:\n",
    "            min_ind=j\n",
    "            \n",
    "    # swap the min with 1st element\n",
    "    l[i], l[min_ind]= l[min_ind], l[i]\n",
    "    \n",
    "print(\"Sorted Array\")\n",
    "for i in l:\n",
    "    print(i, end=\" \")"
   ]
  },
  {
   "cell_type": "code",
   "execution_count": null,
   "id": "c1fc2890",
   "metadata": {},
   "outputs": [],
   "source": []
  }
 ],
 "metadata": {
  "kernelspec": {
   "display_name": "Python 3 (ipykernel)",
   "language": "python",
   "name": "python3"
  },
  "language_info": {
   "codemirror_mode": {
    "name": "ipython",
    "version": 3
   },
   "file_extension": ".py",
   "mimetype": "text/x-python",
   "name": "python",
   "nbconvert_exporter": "python",
   "pygments_lexer": "ipython3",
   "version": "3.10.9"
  }
 },
 "nbformat": 4,
 "nbformat_minor": 5
}
