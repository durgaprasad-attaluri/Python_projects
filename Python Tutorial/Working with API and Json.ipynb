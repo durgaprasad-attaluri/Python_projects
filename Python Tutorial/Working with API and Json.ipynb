{
 "cells": [
  {
   "cell_type": "code",
   "execution_count": 1,
   "id": "2433c7c5",
   "metadata": {},
   "outputs": [
    {
     "data": {
      "text/plain": [
       "<Response [200]>"
      ]
     },
     "execution_count": 1,
     "metadata": {},
     "output_type": "execute_result"
    }
   ],
   "source": [
    "import requests\n",
    "res=requests.get('https://fakestoreapi.com/products?limit=5')\n",
    "res  # 200 means a success response"
   ]
  },
  {
   "cell_type": "code",
   "execution_count": 12,
   "id": "581d165b",
   "metadata": {},
   "outputs": [
    {
     "name": "stdout",
     "output_type": "stream",
     "text": [
      "Available Resources: dict_keys(['id', 'title', 'price', 'description', 'image', 'category'])\n",
      "\n",
      "Available Endpoints: {'id': 21, 'title': 'test product', 'price': 13.5, 'description': 'lorem ipsum set', 'image': 'https://i.pravatar.cc', 'category': 'electronic'}\n"
     ]
    }
   ],
   "source": [
    "url='https://fakestoreapi.com'\n",
    "ress=requests.get(url)\n",
    "if res.status_code == 200:\n",
    "    endpoints = res.json()  # Assuming the API returns a JSON object with endpoints\n",
    "    print(\"Available Resources:\", endpoints.keys())\n",
    "    print(\"\\nAvailable Endpoints:\", endpoints)\n",
    "else:\n",
    "    print(\"Failed to fetch endpoints. Status code:\", res.status_code)"
   ]
  },
  {
   "cell_type": "code",
   "execution_count": 3,
   "id": "32f4ccba",
   "metadata": {},
   "outputs": [
    {
     "data": {
      "text/plain": [
       "[{'id': 1,\n",
       "  'title': 'Fjallraven - Foldsack No. 1 Backpack, Fits 15 Laptops',\n",
       "  'price': 109.95,\n",
       "  'description': 'Your perfect pack for everyday use and walks in the forest. Stash your laptop (up to 15 inches) in the padded sleeve, your everyday',\n",
       "  'category': \"men's clothing\",\n",
       "  'image': 'https://fakestoreapi.com/img/81fPKd-2AYL._AC_SL1500_.jpg',\n",
       "  'rating': {'rate': 3.9, 'count': 120}},\n",
       " {'id': 2,\n",
       "  'title': 'Mens Casual Premium Slim Fit T-Shirts ',\n",
       "  'price': 22.3,\n",
       "  'description': 'Slim-fitting style, contrast raglan long sleeve, three-button henley placket, light weight & soft fabric for breathable and comfortable wearing. And Solid stitched shirts with round neck made for durability and a great fit for casual fashion wear and diehard baseball fans. The Henley style round neckline includes a three-button placket.',\n",
       "  'category': \"men's clothing\",\n",
       "  'image': 'https://fakestoreapi.com/img/71-3HjGNDUL._AC_SY879._SX._UX._SY._UY_.jpg',\n",
       "  'rating': {'rate': 4.1, 'count': 259}}]"
      ]
     },
     "execution_count": 3,
     "metadata": {},
     "output_type": "execute_result"
    }
   ],
   "source": [
    "res.json()[:2]"
   ]
  },
  {
   "cell_type": "code",
   "execution_count": 4,
   "id": "a03b940e",
   "metadata": {},
   "outputs": [
    {
     "data": {
      "text/plain": [
       "[{'id': 1,\n",
       "  'title': 'Fjallraven - Foldsack No. 1 Backpack, Fits 15 Laptops',\n",
       "  'price': 109.95,\n",
       "  'description': 'Your perfect pack for everyday use and walks in the forest. Stash your laptop (up to 15 inches) in the padded sleeve, your everyday',\n",
       "  'category': \"men's clothing\",\n",
       "  'image': 'https://fakestoreapi.com/img/81fPKd-2AYL._AC_SL1500_.jpg',\n",
       "  'rating': {'rate': 3.9, 'count': 120}},\n",
       " {'id': 2,\n",
       "  'title': 'Mens Casual Premium Slim Fit T-Shirts ',\n",
       "  'price': 22.3,\n",
       "  'description': 'Slim-fitting style, contrast raglan long sleeve, three-button henley placket, light weight & soft fabric for breathable and comfortable wearing. And Solid stitched shirts with round neck made for durability and a great fit for casual fashion wear and diehard baseball fans. The Henley style round neckline includes a three-button placket.',\n",
       "  'category': \"men's clothing\",\n",
       "  'image': 'https://fakestoreapi.com/img/71-3HjGNDUL._AC_SY879._SX._UX._SY._UY_.jpg',\n",
       "  'rating': {'rate': 4.1, 'count': 259}}]"
      ]
     },
     "execution_count": 4,
     "metadata": {},
     "output_type": "execute_result"
    }
   ],
   "source": [
    "BASE_URL = 'https://fakestoreapi.com'\n",
    "\n",
    "response = requests.get(f\"{BASE_URL}/products\")\n",
    "response.json()[:2]"
   ]
  },
  {
   "cell_type": "code",
   "execution_count": 5,
   "id": "534c9e9c",
   "metadata": {},
   "outputs": [
    {
     "data": {
      "text/plain": [
       "[{'id': 1,\n",
       "  'title': 'Fjallraven - Foldsack No. 1 Backpack, Fits 15 Laptops',\n",
       "  'price': 109.95,\n",
       "  'description': 'Your perfect pack for everyday use and walks in the forest. Stash your laptop (up to 15 inches) in the padded sleeve, your everyday',\n",
       "  'category': \"men's clothing\",\n",
       "  'image': 'https://fakestoreapi.com/img/81fPKd-2AYL._AC_SL1500_.jpg',\n",
       "  'rating': {'rate': 3.9, 'count': 120}},\n",
       " {'id': 2,\n",
       "  'title': 'Mens Casual Premium Slim Fit T-Shirts ',\n",
       "  'price': 22.3,\n",
       "  'description': 'Slim-fitting style, contrast raglan long sleeve, three-button henley placket, light weight & soft fabric for breathable and comfortable wearing. And Solid stitched shirts with round neck made for durability and a great fit for casual fashion wear and diehard baseball fans. The Henley style round neckline includes a three-button placket.',\n",
       "  'category': \"men's clothing\",\n",
       "  'image': 'https://fakestoreapi.com/img/71-3HjGNDUL._AC_SY879._SX._UX._SY._UY_.jpg',\n",
       "  'rating': {'rate': 4.1, 'count': 259}},\n",
       " {'id': 3,\n",
       "  'title': 'Mens Cotton Jacket',\n",
       "  'price': 55.99,\n",
       "  'description': 'great outerwear jackets for Spring/Autumn/Winter, suitable for many occasions, such as working, hiking, camping, mountain/rock climbing, cycling, traveling or other outdoors. Good gift choice for you or your family member. A warm hearted love to Father, husband or son in this thanksgiving or Christmas Day.',\n",
       "  'category': \"men's clothing\",\n",
       "  'image': 'https://fakestoreapi.com/img/71li-ujtlUL._AC_UX679_.jpg',\n",
       "  'rating': {'rate': 4.7, 'count': 500}}]"
      ]
     },
     "execution_count": 5,
     "metadata": {},
     "output_type": "execute_result"
    }
   ],
   "source": [
    "# limit the data\n",
    "query_params = {\"limit\": 3} # specify query parameters in the form of a Python dictionary\n",
    "\n",
    "response = requests.get(f\"{BASE_URL}/products\", params=query_params)\n",
    "response.json()"
   ]
  },
  {
   "cell_type": "code",
   "execution_count": 13,
   "id": "fd70c252",
   "metadata": {},
   "outputs": [
    {
     "data": {
      "text/plain": [
       "[{'id': 1,\n",
       "  'title': 'Fjallraven - Foldsack No. 1 Backpack, Fits 15 Laptops',\n",
       "  'price': 109.95,\n",
       "  'description': 'Your perfect pack for everyday use and walks in the forest. Stash your laptop (up to 15 inches) in the padded sleeve, your everyday',\n",
       "  'category': \"men's clothing\",\n",
       "  'image': 'https://fakestoreapi.com/img/81fPKd-2AYL._AC_SL1500_.jpg',\n",
       "  'rating': {'rate': 3.9, 'count': 120}},\n",
       " {'id': 2,\n",
       "  'title': 'Mens Casual Premium Slim Fit T-Shirts ',\n",
       "  'price': 22.3,\n",
       "  'description': 'Slim-fitting style, contrast raglan long sleeve, three-button henley placket, light weight & soft fabric for breathable and comfortable wearing. And Solid stitched shirts with round neck made for durability and a great fit for casual fashion wear and diehard baseball fans. The Henley style round neckline includes a three-button placket.',\n",
       "  'category': \"men's clothing\",\n",
       "  'image': 'https://fakestoreapi.com/img/71-3HjGNDUL._AC_SY879._SX._UX._SY._UY_.jpg',\n",
       "  'rating': {'rate': 4.1, 'count': 259}},\n",
       " {'id': 3,\n",
       "  'title': 'Mens Cotton Jacket',\n",
       "  'price': 55.99,\n",
       "  'description': 'great outerwear jackets for Spring/Autumn/Winter, suitable for many occasions, such as working, hiking, camping, mountain/rock climbing, cycling, traveling or other outdoors. Good gift choice for you or your family member. A warm hearted love to Father, husband or son in this thanksgiving or Christmas Day.',\n",
       "  'category': \"men's clothing\",\n",
       "  'image': 'https://fakestoreapi.com/img/71li-ujtlUL._AC_UX679_.jpg',\n",
       "  'rating': {'rate': 4.7, 'count': 500}},\n",
       " {'id': 4,\n",
       "  'title': 'Mens Casual Slim Fit',\n",
       "  'price': 15.99,\n",
       "  'description': 'The color could be slightly different between on the screen and in practice. / Please note that body builds vary by person, therefore, detailed size information should be reviewed below on the product description.',\n",
       "  'category': \"men's clothing\",\n",
       "  'image': 'https://fakestoreapi.com/img/71YXzeOuslL._AC_UY879_.jpg',\n",
       "  'rating': {'rate': 2.1, 'count': 430}},\n",
       " {'id': 5,\n",
       "  'title': \"John Hardy Women's Legends Naga Gold & Silver Dragon Station Chain Bracelet\",\n",
       "  'price': 695,\n",
       "  'description': \"From our Legends Collection, the Naga was inspired by the mythical water dragon that protects the ocean's pearl. Wear facing inward to be bestowed with love and abundance, or outward for protection.\",\n",
       "  'category': 'jewelery',\n",
       "  'image': 'https://fakestoreapi.com/img/71pWzhdJNwL._AC_UL640_QL65_ML3_.jpg',\n",
       "  'rating': {'rate': 4.6, 'count': 400}},\n",
       " {'id': 6,\n",
       "  'title': 'Solid Gold Petite Micropave ',\n",
       "  'price': 168,\n",
       "  'description': 'Satisfaction Guaranteed. Return or exchange any order within 30 days.Designed and sold by Hafeez Center in the United States. Satisfaction Guaranteed. Return or exchange any order within 30 days.',\n",
       "  'category': 'jewelery',\n",
       "  'image': 'https://fakestoreapi.com/img/61sbMiUnoGL._AC_UL640_QL65_ML3_.jpg',\n",
       "  'rating': {'rate': 3.9, 'count': 70}},\n",
       " {'id': 7,\n",
       "  'title': 'White Gold Plated Princess',\n",
       "  'price': 9.99,\n",
       "  'description': \"Classic Created Wedding Engagement Solitaire Diamond Promise Ring for Her. Gifts to spoil your love more for Engagement, Wedding, Anniversary, Valentine's Day...\",\n",
       "  'category': 'jewelery',\n",
       "  'image': 'https://fakestoreapi.com/img/71YAIFU48IL._AC_UL640_QL65_ML3_.jpg',\n",
       "  'rating': {'rate': 3, 'count': 400}},\n",
       " {'id': 8,\n",
       "  'title': 'Pierced Owl Rose Gold Plated Stainless Steel Double',\n",
       "  'price': 10.99,\n",
       "  'description': 'Rose Gold Plated Double Flared Tunnel Plug Earrings. Made of 316L Stainless Steel',\n",
       "  'category': 'jewelery',\n",
       "  'image': 'https://fakestoreapi.com/img/51UDEzMJVpL._AC_UL640_QL65_ML3_.jpg',\n",
       "  'rating': {'rate': 1.9, 'count': 100}},\n",
       " {'id': 9,\n",
       "  'title': 'WD 2TB Elements Portable External Hard Drive - USB 3.0 ',\n",
       "  'price': 64,\n",
       "  'description': 'USB 3.0 and USB 2.0 Compatibility Fast data transfers Improve PC Performance High Capacity; Compatibility Formatted NTFS for Windows 10, Windows 8.1, Windows 7; Reformatting may be required for other operating systems; Compatibility may vary depending on user’s hardware configuration and operating system',\n",
       "  'category': 'electronics',\n",
       "  'image': 'https://fakestoreapi.com/img/61IBBVJvSDL._AC_SY879_.jpg',\n",
       "  'rating': {'rate': 3.3, 'count': 203}},\n",
       " {'id': 10,\n",
       "  'title': 'SanDisk SSD PLUS 1TB Internal SSD - SATA III 6 Gb/s',\n",
       "  'price': 109,\n",
       "  'description': 'Easy upgrade for faster boot up, shutdown, application load and response (As compared to 5400 RPM SATA 2.5” hard drive; Based on published specifications and internal benchmarking tests using PCMark vantage scores) Boosts burst write performance, making it ideal for typical PC workloads The perfect balance of performance and reliability Read/write speeds of up to 535MB/s/450MB/s (Based on internal testing; Performance may vary depending upon drive capacity, host device, OS and application.)',\n",
       "  'category': 'electronics',\n",
       "  'image': 'https://fakestoreapi.com/img/61U7T1koQqL._AC_SX679_.jpg',\n",
       "  'rating': {'rate': 2.9, 'count': 470}},\n",
       " {'id': 11,\n",
       "  'title': 'Silicon Power 256GB SSD 3D NAND A55 SLC Cache Performance Boost SATA III 2.5',\n",
       "  'price': 109,\n",
       "  'description': '3D NAND flash are applied to deliver high transfer speeds Remarkable transfer speeds that enable faster bootup and improved overall system performance. The advanced SLC Cache Technology allows performance boost and longer lifespan 7mm slim design suitable for Ultrabooks and Ultra-slim notebooks. Supports TRIM command, Garbage Collection technology, RAID, and ECC (Error Checking & Correction) to provide the optimized performance and enhanced reliability.',\n",
       "  'category': 'electronics',\n",
       "  'image': 'https://fakestoreapi.com/img/71kWymZ+c+L._AC_SX679_.jpg',\n",
       "  'rating': {'rate': 4.8, 'count': 319}},\n",
       " {'id': 12,\n",
       "  'title': 'WD 4TB Gaming Drive Works with Playstation 4 Portable External Hard Drive',\n",
       "  'price': 114,\n",
       "  'description': \"Expand your PS4 gaming experience, Play anywhere Fast and easy, setup Sleek design with high capacity, 3-year manufacturer's limited warranty\",\n",
       "  'category': 'electronics',\n",
       "  'image': 'https://fakestoreapi.com/img/61mtL65D4cL._AC_SX679_.jpg',\n",
       "  'rating': {'rate': 4.8, 'count': 400}},\n",
       " {'id': 13,\n",
       "  'title': 'Acer SB220Q bi 21.5 inches Full HD (1920 x 1080) IPS Ultra-Thin',\n",
       "  'price': 599,\n",
       "  'description': '21. 5 inches Full HD (1920 x 1080) widescreen IPS display And Radeon free Sync technology. No compatibility for VESA Mount Refresh Rate: 75Hz - Using HDMI port Zero-frame design | ultra-thin | 4ms response time | IPS panel Aspect ratio - 16: 9. Color Supported - 16. 7 million colors. Brightness - 250 nit Tilt angle -5 degree to 15 degree. Horizontal viewing angle-178 degree. Vertical viewing angle-178 degree 75 hertz',\n",
       "  'category': 'electronics',\n",
       "  'image': 'https://fakestoreapi.com/img/81QpkIctqPL._AC_SX679_.jpg',\n",
       "  'rating': {'rate': 2.9, 'count': 250}},\n",
       " {'id': 14,\n",
       "  'title': 'Samsung 49-Inch CHG90 144Hz Curved Gaming Monitor (LC49HG90DMNXZA) – Super Ultrawide Screen QLED ',\n",
       "  'price': 999.99,\n",
       "  'description': '49 INCH SUPER ULTRAWIDE 32:9 CURVED GAMING MONITOR with dual 27 inch screen side by side QUANTUM DOT (QLED) TECHNOLOGY, HDR support and factory calibration provides stunningly realistic and accurate color and contrast 144HZ HIGH REFRESH RATE and 1ms ultra fast response time work to eliminate motion blur, ghosting, and reduce input lag',\n",
       "  'category': 'electronics',\n",
       "  'image': 'https://fakestoreapi.com/img/81Zt42ioCgL._AC_SX679_.jpg',\n",
       "  'rating': {'rate': 2.2, 'count': 140}},\n",
       " {'id': 15,\n",
       "  'title': \"BIYLACLESEN Women's 3-in-1 Snowboard Jacket Winter Coats\",\n",
       "  'price': 56.99,\n",
       "  'description': 'Note:The Jackets is US standard size, Please choose size as your usual wear Material: 100% Polyester; Detachable Liner Fabric: Warm Fleece. Detachable Functional Liner: Skin Friendly, Lightweigt and Warm.Stand Collar Liner jacket, keep you warm in cold weather. Zippered Pockets: 2 Zippered Hand Pockets, 2 Zippered Pockets on Chest (enough to keep cards or keys)and 1 Hidden Pocket Inside.Zippered Hand Pockets and Hidden Pocket keep your things secure. Humanized Design: Adjustable and Detachable Hood and Adjustable cuff to prevent the wind and water,for a comfortable fit. 3 in 1 Detachable Design provide more convenience, you can separate the coat and inner as needed, or wear it together. It is suitable for different season and help you adapt to different climates',\n",
       "  'category': \"women's clothing\",\n",
       "  'image': 'https://fakestoreapi.com/img/51Y5NI-I5jL._AC_UX679_.jpg',\n",
       "  'rating': {'rate': 2.6, 'count': 235}},\n",
       " {'id': 16,\n",
       "  'title': \"Lock and Love Women's Removable Hooded Faux Leather Moto Biker Jacket\",\n",
       "  'price': 29.95,\n",
       "  'description': '100% POLYURETHANE(shell) 100% POLYESTER(lining) 75% POLYESTER 25% COTTON (SWEATER), Faux leather material for style and comfort / 2 pockets of front, 2-For-One Hooded denim style faux leather jacket, Button detail on waist / Detail stitching at sides, HAND WASH ONLY / DO NOT BLEACH / LINE DRY / DO NOT IRON',\n",
       "  'category': \"women's clothing\",\n",
       "  'image': 'https://fakestoreapi.com/img/81XH0e8fefL._AC_UY879_.jpg',\n",
       "  'rating': {'rate': 2.9, 'count': 340}},\n",
       " {'id': 17,\n",
       "  'title': 'Rain Jacket Women Windbreaker Striped Climbing Raincoats',\n",
       "  'price': 39.99,\n",
       "  'description': \"Lightweight perfet for trip or casual wear---Long sleeve with hooded, adjustable drawstring waist design. Button and zipper front closure raincoat, fully stripes Lined and The Raincoat has 2 side pockets are a good size to hold all kinds of things, it covers the hips, and the hood is generous but doesn't overdo it.Attached Cotton Lined Hood with Adjustable Drawstrings give it a real styled look.\",\n",
       "  'category': \"women's clothing\",\n",
       "  'image': 'https://fakestoreapi.com/img/71HblAHs5xL._AC_UY879_-2.jpg',\n",
       "  'rating': {'rate': 3.8, 'count': 679}},\n",
       " {'id': 18,\n",
       "  'title': \"MBJ Women's Solid Short Sleeve Boat Neck V \",\n",
       "  'price': 9.85,\n",
       "  'description': '95% RAYON 5% SPANDEX, Made in USA or Imported, Do Not Bleach, Lightweight fabric with great stretch for comfort, Ribbed on sleeves and neckline / Double stitching on bottom hem',\n",
       "  'category': \"women's clothing\",\n",
       "  'image': 'https://fakestoreapi.com/img/71z3kpMAYsL._AC_UY879_.jpg',\n",
       "  'rating': {'rate': 4.7, 'count': 130}},\n",
       " {'id': 19,\n",
       "  'title': \"Opna Women's Short Sleeve Moisture\",\n",
       "  'price': 7.95,\n",
       "  'description': '100% Polyester, Machine wash, 100% cationic polyester interlock, Machine Wash & Pre Shrunk for a Great Fit, Lightweight, roomy and highly breathable with moisture wicking fabric which helps to keep moisture away, Soft Lightweight Fabric with comfortable V-neck collar and a slimmer fit, delivers a sleek, more feminine silhouette and Added Comfort',\n",
       "  'category': \"women's clothing\",\n",
       "  'image': 'https://fakestoreapi.com/img/51eg55uWmdL._AC_UX679_.jpg',\n",
       "  'rating': {'rate': 4.5, 'count': 146}},\n",
       " {'id': 20,\n",
       "  'title': 'DANVOUY Womens T Shirt Casual Cotton Short',\n",
       "  'price': 12.99,\n",
       "  'description': '95%Cotton,5%Spandex, Features: Casual, Short Sleeve, Letter Print,V-Neck,Fashion Tees, The fabric is soft and has some stretch., Occasion: Casual/Office/Beach/School/Home/Street. Season: Spring,Summer,Autumn,Winter.',\n",
       "  'category': \"women's clothing\",\n",
       "  'image': 'https://fakestoreapi.com/img/61pHAEJ4NML._AC_UX679_.jpg',\n",
       "  'rating': {'rate': 3.6, 'count': 145}}]"
      ]
     },
     "execution_count": 13,
     "metadata": {},
     "output_type": "execute_result"
    }
   ],
   "source": [
    "response.json()"
   ]
  },
  {
   "cell_type": "code",
   "execution_count": 6,
   "id": "23a55deb",
   "metadata": {},
   "outputs": [
    {
     "data": {
      "text/plain": [
       "{'id': 18,\n",
       " 'title': \"MBJ Women's Solid Short Sleeve Boat Neck V \",\n",
       " 'price': 9.85,\n",
       " 'description': '95% RAYON 5% SPANDEX, Made in USA or Imported, Do Not Bleach, Lightweight fabric with great stretch for comfort, Ribbed on sleeves and neckline / Double stitching on bottom hem',\n",
       " 'category': \"women's clothing\",\n",
       " 'image': 'https://fakestoreapi.com/img/71z3kpMAYsL._AC_UY879_.jpg',\n",
       " 'rating': {'rate': 4.7, 'count': 130}}"
      ]
     },
     "execution_count": 6,
     "metadata": {},
     "output_type": "execute_result"
    }
   ],
   "source": [
    "# get only one product with the id 18\n",
    "response = requests.get(f\"{BASE_URL}/products/18\")\n",
    "response.json()"
   ]
  },
  {
   "cell_type": "code",
   "execution_count": 7,
   "id": "ad63d2f3",
   "metadata": {},
   "outputs": [
    {
     "data": {
      "text/plain": [
       "{'id': 21,\n",
       " 'title': 'test product',\n",
       " 'price': 13.5,\n",
       " 'description': 'lorem ipsum set',\n",
       " 'image': 'https://i.pravatar.cc',\n",
       " 'category': 'electronic'}"
      ]
     },
     "execution_count": 7,
     "metadata": {},
     "output_type": "execute_result"
    }
   ],
   "source": [
    "# post request\n",
    "\n",
    "new_prod={\n",
    "    \"title\": 'test product',\n",
    "    \"price\": 13.5,\n",
    "    \"description\": 'lorem ipsum set',\n",
    "    \"image\": 'https://i.pravatar.cc',\n",
    "    \"category\": 'electronic'\n",
    "}\n",
    "\n",
    "res=requests.post(f'{BASE_URL}/products', json=new_prod)\n",
    "res.json()"
   ]
  },
  {
   "cell_type": "code",
   "execution_count": 8,
   "id": "53dfb931",
   "metadata": {},
   "outputs": [
    {
     "data": {
      "text/plain": [
       "{'id': 21, 'title': 'updated_product', 'category': 'clothing'}"
      ]
     },
     "execution_count": 8,
     "metadata": {},
     "output_type": "execute_result"
    }
   ],
   "source": [
    "# put:- update existing data in the API\n",
    "\n",
    "updated_product = {\n",
    "    \"title\": 'updated_product',\n",
    "    \"category\": 'clothing'\n",
    "}\n",
    "\n",
    "response = requests.put(f\"{BASE_URL}/products/21\", json=updated_product)\n",
    "response.json()"
   ]
  },
  {
   "cell_type": "code",
   "execution_count": 9,
   "id": "fef0d70e",
   "metadata": {},
   "outputs": [
    {
     "data": {
      "text/plain": [
       "{'id': 21, 'category': 'electronic'}"
      ]
     },
     "execution_count": 9,
     "metadata": {},
     "output_type": "execute_result"
    }
   ],
   "source": [
    "# patch:- modify only certain fields\n",
    "\n",
    "updated_product = {\n",
    "    \"category\": 'electronic'\n",
    "}\n",
    "\n",
    "response = requests.patch(f\"{BASE_URL}/products/21\", json=updated_product)\n",
    "response.json()"
   ]
  },
  {
   "cell_type": "code",
   "execution_count": 10,
   "id": "71f2e8ff",
   "metadata": {},
   "outputs": [],
   "source": [
    "# delete\n",
    "response = requests.delete(f\"{BASE_URL}/products/21\")\n",
    "response.json()"
   ]
  },
  {
   "cell_type": "markdown",
   "id": "f6310190",
   "metadata": {},
   "source": [
    "### json"
   ]
  },
  {
   "cell_type": "code",
   "execution_count": 1,
   "id": "2abee298",
   "metadata": {},
   "outputs": [],
   "source": [
    "import json"
   ]
  },
  {
   "cell_type": "code",
   "execution_count": 27,
   "id": "e56342c7",
   "metadata": {},
   "outputs": [
    {
     "data": {
      "text/plain": [
       "{'people': [{'name': 'Durga',\n",
       "   'phn': 123,\n",
       "   'emails': ['dp.att@gmail.com', 'dp@gmail.com', 'dp.a@gmail.com'],\n",
       "   'got_salary': False},\n",
       "  {'name': 'Prasad',\n",
       "   'phn': 456,\n",
       "   'emails': ['pr.att@gmail.com', 'prasad@gmail.com', 'pra123.a@gmail.com'],\n",
       "   'got_salary': True}]}"
      ]
     },
     "execution_count": 27,
     "metadata": {},
     "output_type": "execute_result"
    }
   ],
   "source": [
    "people_str='''\n",
    "  {\n",
    "  \"people\":[\n",
    "     {\n",
    "       \"name\": \"Durga\",\n",
    "       \"phn\":123,\n",
    "       \"emails\": [\"dp.att@gmail.com\", \"dp@gmail.com\", \"dp.a@gmail.com\"],\n",
    "       \"got_salary\": false\n",
    "     },\n",
    "     {\n",
    "       \"name\": \"Prasad\",\n",
    "       \"phn\":456,\n",
    "       \"emails\": [\"pr.att@gmail.com\", \"prasad@gmail.com\", \"pra123.a@gmail.com\"],\n",
    "       \"got_salary\": true\n",
    "     }\n",
    "  ]\n",
    "  }\n",
    "'''\n",
    "\n",
    "# Convert from JSON to Python\n",
    "py_people_str=json.loads(people_str)\n",
    "py_people_str"
   ]
  },
  {
   "cell_type": "code",
   "execution_count": 7,
   "id": "c4fb4e80",
   "metadata": {},
   "outputs": [
    {
     "data": {
      "text/plain": [
       "dict"
      ]
     },
     "execution_count": 7,
     "metadata": {},
     "output_type": "execute_result"
    }
   ],
   "source": [
    "type(py_people_str)"
   ]
  },
  {
   "cell_type": "code",
   "execution_count": 19,
   "id": "e2b06997",
   "metadata": {},
   "outputs": [
    {
     "name": "stdout",
     "output_type": "stream",
     "text": [
      "{\n",
      "  \"people\": [\n",
      "    {\n",
      "      \"name\": \"Durga\",\n",
      "      \"phn\": 123,\n",
      "      \"emails\": [\n",
      "        \"dp.att@gmail.com\",\n",
      "        \"dp@gmail.com\",\n",
      "        \"dp.a@gmail.com\"\n",
      "      ],\n",
      "      \"got_salary\": false\n",
      "    },\n",
      "    {\n",
      "      \"name\": \"Prasad\",\n",
      "      \"phn\": 456,\n",
      "      \"emails\": [\n",
      "        \"pr.att@gmail.com\",\n",
      "        \"prasad@gmail.com\",\n",
      "        \"pra123.a@gmail.com\"\n",
      "      ],\n",
      "      \"got_salary\": true\n",
      "    }\n",
      "  ]\n",
      "}\n"
     ]
    }
   ],
   "source": [
    "print(json.dumps(py_people_str, indent=2))"
   ]
  },
  {
   "cell_type": "code",
   "execution_count": 8,
   "id": "ebce6dec",
   "metadata": {},
   "outputs": [
    {
     "data": {
      "text/plain": [
       "[{'name': 'Durga',\n",
       "  'phn': 123,\n",
       "  'emails': ['dp.att@gmail.com', 'dp@gmail.com', 'dp.a@gmail.com'],\n",
       "  'got_salary': False},\n",
       " {'name': 'Prasad',\n",
       "  'phn': 456,\n",
       "  'emails': ['pr.att@gmail.com', 'prasad@gmail.com', 'pra123.a@gmail.com'],\n",
       "  'got_salary': True}]"
      ]
     },
     "execution_count": 8,
     "metadata": {},
     "output_type": "execute_result"
    }
   ],
   "source": [
    "py_people_str['people']"
   ]
  },
  {
   "cell_type": "code",
   "execution_count": 44,
   "id": "7df850be",
   "metadata": {},
   "outputs": [
    {
     "name": "stdout",
     "output_type": "stream",
     "text": [
      "Person's name: Durga\n",
      "Person's name: Prasad\n"
     ]
    }
   ],
   "source": [
    "for person in py_people_str[\"people\"]:\n",
    "    print(f\"Person's name: {person['name']}\")  # This will print the name of each person"
   ]
  },
  {
   "cell_type": "code",
   "execution_count": 40,
   "id": "ca27bc60",
   "metadata": {},
   "outputs": [
    {
     "name": "stdout",
     "output_type": "stream",
     "text": [
      "Emails of Durga:\n",
      "dp.att@gmail.com, dp@gmail.com, dp.a@gmail.com, \n",
      "\n",
      "Emails of Prasad:\n",
      "pr.att@gmail.com, prasad@gmail.com, pra123.a@gmail.com, \n",
      "\n"
     ]
    }
   ],
   "source": [
    "for person in py_people_str[\"people\"]:\n",
    "    print(f\"Emails of {person['name']}:\")\n",
    "    for email in person[\"emails\"]:\n",
    "        print(email, end=\", \")\n",
    "    print('\\n')    "
   ]
  },
  {
   "cell_type": "code",
   "execution_count": 9,
   "id": "18974708",
   "metadata": {},
   "outputs": [
    {
     "data": {
      "text/plain": [
       "'{\"people\": [{\"name\": \"Durga\", \"phn\": 123, \"emails\": [\"dp.att@gmail.com\", \"dp@gmail.com\", \"dp.a@gmail.com\"], \"got_salary\": false}, {\"name\": \"Prasad\", \"phn\": 456, \"emails\": [\"pr.att@gmail.com\", \"prasad@gmail.com\", \"pra123.a@gmail.com\"], \"got_salary\": true}]}'"
      ]
     },
     "execution_count": 9,
     "metadata": {},
     "output_type": "execute_result"
    }
   ],
   "source": [
    "# Convert from Python to JSON\n",
    "json.dumps(py_people_str)"
   ]
  },
  {
   "cell_type": "code",
   "execution_count": 11,
   "id": "c413d770",
   "metadata": {},
   "outputs": [
    {
     "name": "stdout",
     "output_type": "stream",
     "text": [
      "{\"name\": \"John\", \"age\": 30, \"married\": true, \"divorced\": false, \"children\": [\"Ann\", \"Billy\"], \"pets\": null, \"cars\": [{\"model\": \"BMW 230\", \"mpg\": 27.5}, {\"model\": \"Ford Edge\", \"mpg\": 24.1}]}\n"
     ]
    },
    {
     "data": {
      "text/plain": [
       "True"
      ]
     },
     "execution_count": 11,
     "metadata": {},
     "output_type": "execute_result"
    }
   ],
   "source": [
    "# python dictionary\n",
    "x = {\n",
    "  \"name\": \"John\",\n",
    "  \"age\": 30,\n",
    "  \"married\": True,\n",
    "  \"divorced\": False,\n",
    "  \"children\": (\"Ann\",\"Billy\"),\n",
    "  \"pets\": None,\n",
    "  \"cars\": [\n",
    "    {\"model\": \"BMW 230\", \"mpg\": 27.5},\n",
    "    {\"model\": \"Ford Edge\", \"mpg\": 24.1}\n",
    "  ]\n",
    "}\n",
    "\n",
    "# convert to json\n",
    "print(json.dumps(x))\n",
    "x['married']"
   ]
  },
  {
   "cell_type": "code",
   "execution_count": 20,
   "id": "d7ff4484",
   "metadata": {},
   "outputs": [
    {
     "name": "stdout",
     "output_type": "stream",
     "text": [
      "{\n",
      " \"name\": \"John\",\n",
      " \"age\": 30,\n",
      " \"married\": true,\n",
      " \"divorced\": false,\n",
      " \"children\": [\n",
      "  \"Ann\",\n",
      "  \"Billy\"\n",
      " ],\n",
      " \"pets\": null,\n",
      " \"cars\": [\n",
      "  {\n",
      "   \"model\": \"BMW 230\",\n",
      "   \"mpg\": 27.5\n",
      "  },\n",
      "  {\n",
      "   \"model\": \"Ford Edge\",\n",
      "   \"mpg\": 24.1\n",
      "  }\n",
      " ]\n",
      "}\n"
     ]
    }
   ],
   "source": [
    "print(json.dumps(x, indent=1))"
   ]
  },
  {
   "cell_type": "code",
   "execution_count": 21,
   "id": "2aaacc3d",
   "metadata": {},
   "outputs": [
    {
     "name": "stdout",
     "output_type": "stream",
     "text": [
      "{\n",
      " \"name\"=\"John\":\n",
      " \"age\"=30:\n",
      " \"married\"=true:\n",
      " \"divorced\"=false:\n",
      " \"children\"=[\n",
      "  \"Ann\":\n",
      "  \"Billy\"\n",
      " ]:\n",
      " \"pets\"=null:\n",
      " \"cars\"=[\n",
      "  {\n",
      "   \"model\"=\"BMW 230\":\n",
      "   \"mpg\"=27.5\n",
      "  }:\n",
      "  {\n",
      "   \"model\"=\"Ford Edge\":\n",
      "   \"mpg\"=24.1\n",
      "  }\n",
      " ]\n",
      "}\n"
     ]
    }
   ],
   "source": [
    "print(json.dumps(x, indent=1, separators=(':', '=')))"
   ]
  },
  {
   "cell_type": "code",
   "execution_count": 26,
   "id": "44616337",
   "metadata": {},
   "outputs": [
    {
     "name": "stdout",
     "output_type": "stream",
     "text": [
      "{\n",
      " \"age\": 30,\n",
      " \"cars\": [\n",
      "  {\n",
      "   \"model\": \"BMW 230\",\n",
      "   \"mpg\": 27.5\n",
      "  },\n",
      "  {\n",
      "   \"model\": \"Ford Edge\",\n",
      "   \"mpg\": 24.1\n",
      "  }\n",
      " ],\n",
      " \"children\": [\n",
      "  \"Ann\",\n",
      "  \"Billy\"\n",
      " ],\n",
      " \"divorced\": false,\n",
      " \"married\": true,\n",
      " \"name\": \"John\",\n",
      " \"pets\": null\n",
      "}\n"
     ]
    }
   ],
   "source": [
    "# sort keys\n",
    "print(json.dumps(x, sort_keys=True, indent=1))"
   ]
  },
  {
   "cell_type": "code",
   "execution_count": 74,
   "id": "b59b2ec1",
   "metadata": {},
   "outputs": [
    {
     "name": "stdout",
     "output_type": "stream",
     "text": [
      "{'company': {'name': 'TechCorp', 'departments': [{'name': 'Engineering', 'employees': [{'name': 'Alice', 'role': 'Developer'}, {'name': 'Bob', 'role': 'Tester'}]}, {'name': 'HR', 'employees': [{'name': 'Charlie', 'role': 'Recruiter'}, {'name': 'David', 'role': 'Manager'}]}]}}\n"
     ]
    }
   ],
   "source": [
    "import json\n",
    "\n",
    "# JSON data as a string\n",
    "json_data = '''\n",
    "{\n",
    "    \"company\": {\n",
    "        \"name\": \"TechCorp\",\n",
    "        \"departments\": [\n",
    "            {\n",
    "                \"name\": \"Engineering\",\n",
    "                \"employees\": [\n",
    "                    {\"name\": \"Alice\", \"role\": \"Developer\"},\n",
    "                    {\"name\": \"Bob\", \"role\": \"Tester\"}\n",
    "                ]\n",
    "            },\n",
    "            {\n",
    "                \"name\": \"HR\",\n",
    "                \"employees\": [\n",
    "                    {\"name\": \"Charlie\", \"role\": \"Recruiter\"},\n",
    "                    {\"name\": \"David\", \"role\": \"Manager\"}\n",
    "                ]\n",
    "            }\n",
    "        ]\n",
    "    }\n",
    "}\n",
    "'''\n",
    "\n",
    "# Convert JSON string to Python dictionary\n",
    "data = json.loads(json_data)\n",
    "\n",
    "# Print the converted data to confirm\n",
    "print(data)"
   ]
  },
  {
   "cell_type": "code",
   "execution_count": 83,
   "id": "8be468de",
   "metadata": {},
   "outputs": [
    {
     "name": "stdout",
     "output_type": "stream",
     "text": [
      "Company Name: TechCorp\n",
      "Dept Name: [{'name': 'Engineering', 'employees': [{'name': 'Alice', 'role': 'Developer'}, {'name': 'Bob', 'role': 'Tester'}]}, {'name': 'HR', 'employees': [{'name': 'Charlie', 'role': 'Recruiter'}, {'name': 'David', 'role': 'Manager'}]}]\n"
     ]
    }
   ],
   "source": [
    "# company is a dictionary that has keys 'name' and 'departments'\n",
    "company_name = data[\"company\"][\"name\"]\n",
    "print(f\"Company Name: {company_name}\")\n",
    "departments = data[\"company\"][\"departments\"]\n",
    "print(f\"Dept Name: {departments}\")"
   ]
  },
  {
   "cell_type": "code",
   "execution_count": 98,
   "id": "f84ed729",
   "metadata": {},
   "outputs": [
    {
     "name": "stdout",
     "output_type": "stream",
     "text": [
      "{'name': 'Engineering', 'employees': [{'name': 'Alice', 'role': 'Developer'}, {'name': 'Bob', 'role': 'Tester'}]}\n",
      "{'name': 'HR', 'employees': [{'name': 'Charlie', 'role': 'Recruiter'}, {'name': 'David', 'role': 'Manager'}]}\n"
     ]
    },
    {
     "data": {
      "text/plain": [
       "{'name': 'Engineering',\n",
       " 'employees': [{'name': 'Alice', 'role': 'Developer'},\n",
       "  {'name': 'Bob', 'role': 'Tester'}]}"
      ]
     },
     "execution_count": 98,
     "metadata": {},
     "output_type": "execute_result"
    }
   ],
   "source": [
    "# departments is a list of dictionaries\n",
    "for d in departments:\n",
    "    print(d)\n",
    "    \n",
    "departments[0]"
   ]
  },
  {
   "cell_type": "code",
   "execution_count": 99,
   "id": "d83ec94d",
   "metadata": {},
   "outputs": [
    {
     "data": {
      "text/plain": [
       "'Engineering'"
      ]
     },
     "execution_count": 99,
     "metadata": {},
     "output_type": "execute_result"
    }
   ],
   "source": [
    "departments[0]['name']"
   ]
  },
  {
   "cell_type": "code",
   "execution_count": 89,
   "id": "09633b90",
   "metadata": {},
   "outputs": [
    {
     "name": "stdout",
     "output_type": "stream",
     "text": [
      "Engineering\n",
      " Alice: Developer\n",
      " Bob: Tester\n",
      "HR\n",
      " Charlie: Recruiter\n",
      " David: Manager\n"
     ]
    }
   ],
   "source": [
    "for dept in departments:\n",
    "    print(dept['name'])\n",
    "    for emp in dept['employees']:\n",
    "        print(f\" {emp['name']}: {emp['role']}\")"
   ]
  },
  {
   "cell_type": "code",
   "execution_count": null,
   "id": "18853011",
   "metadata": {},
   "outputs": [],
   "source": []
  }
 ],
 "metadata": {
  "kernelspec": {
   "display_name": "Python 3 (ipykernel)",
   "language": "python",
   "name": "python3"
  },
  "language_info": {
   "codemirror_mode": {
    "name": "ipython",
    "version": 3
   },
   "file_extension": ".py",
   "mimetype": "text/x-python",
   "name": "python",
   "nbconvert_exporter": "python",
   "pygments_lexer": "ipython3",
   "version": "3.10.9"
  }
 },
 "nbformat": 4,
 "nbformat_minor": 5
}
