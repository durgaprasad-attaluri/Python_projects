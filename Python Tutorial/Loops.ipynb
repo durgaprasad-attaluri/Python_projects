{
 "cells": [
  {
   "cell_type": "code",
   "execution_count": 6,
   "id": "2772b919",
   "metadata": {},
   "outputs": [
    {
     "data": {
      "text/plain": [
       "'Bad request'"
      ]
     },
     "execution_count": 6,
     "metadata": {},
     "output_type": "execute_result"
    }
   ],
   "source": [
    "def http_error(status):\n",
    "    match status:\n",
    "        case 400:\n",
    "            return \"Bad request\"\n",
    "        case 404:\n",
    "            return \"Not found\"\n",
    "        case 418:\n",
    "            return \"I'm a teapot\"\n",
    "        case _:\n",
    "            return \"Something's wrong with the internet\""
   ]
  },
  {
   "cell_type": "markdown",
   "id": "96c02a69",
   "metadata": {},
   "source": [
    "## For"
   ]
  },
  {
   "cell_type": "code",
   "execution_count": 1,
   "id": "d10791ff",
   "metadata": {},
   "outputs": [
    {
     "name": "stdout",
     "output_type": "stream",
     "text": [
      "5\n"
     ]
    }
   ],
   "source": [
    "#count the no.of even numbers in a list\n",
    "l=[8,3,4,5,7,6,21,9,45,51,20,14]\n",
    "c=0\n",
    "for i in l:\n",
    "    if i%2==0:\n",
    "        c+=1\n",
    "print(c)"
   ]
  },
  {
   "cell_type": "code",
   "execution_count": 4,
   "id": "e87055ed",
   "metadata": {},
   "outputs": [
    {
     "name": "stdout",
     "output_type": "stream",
     "text": [
      "For i=0\n",
      "For i=1\n",
      "Hii\n",
      "For i=2\n",
      "Hii\n",
      "Hii\n"
     ]
    }
   ],
   "source": [
    "l=[0,1,2]\n",
    "for i in l:\n",
    "    print(f\"For i={i}\")\n",
    "    for i in range(i):\n",
    "        print(\"Hii\")"
   ]
  },
  {
   "cell_type": "code",
   "execution_count": 3,
   "id": "2d3f3223",
   "metadata": {},
   "outputs": [
    {
     "name": "stdout",
     "output_type": "stream",
     "text": [
      "I Love London\n",
      "I Love Paris\n",
      "I Love Mumbai\n",
      "I Love Sydney\n",
      "I Love California\n"
     ]
    }
   ],
   "source": [
    "city = ['London', 'Paris', 'Mumbai', 'Sydney', 'California']\n",
    "for i in range(len(city)):\n",
    "    print(f\"I Love {city[i]}\")"
   ]
  },
  {
   "cell_type": "code",
   "execution_count": 8,
   "id": "2003c32d",
   "metadata": {},
   "outputs": [
    {
     "name": "stdout",
     "output_type": "stream",
     "text": [
      "W e l c o m e   t o   P y t h o n \n",
      "\n",
      "W e l c o m e   t o   P y t h o n \n",
      "\n",
      "W e l c o m e   t o   P y t h o n "
     ]
    }
   ],
   "source": [
    "str=\"Welcome to Python\"\n",
    "for c in str:\n",
    "    print(c,end=\" \")\n",
    "print('\\n')\n",
    "\n",
    "for c in range(len(str)):\n",
    "    print(str[c],end=\" \")\n",
    "print('\\n')\n",
    "\n",
    "for k,v in enumerate(str):\n",
    "    print(v,end=\" \")"
   ]
  },
  {
   "cell_type": "code",
   "execution_count": 13,
   "id": "1543f007",
   "metadata": {},
   "outputs": [
    {
     "name": "stdout",
     "output_type": "stream",
     "text": [
      "Kamal acted as a Hero\n",
      "Kamal acted as a Villain\n",
      " \n",
      "Vijay Sethupathi acted as a Hero\n",
      "Vijay Sethupathi acted as a Villain\n",
      " \n",
      "Rajanikanth  acted as a Hero\n",
      "Rajanikanth  acted as a Villain\n",
      " \n"
     ]
    }
   ],
   "source": [
    "#Nested loop\n",
    "n=['Kamal','Vijay Sethupathi','Rajanikanth ']\n",
    "m=['Hero','Villain']\n",
    "for i in n:\n",
    "    for j in m:\n",
    "        print(f'{i} acted as a {j}')\n",
    "    print(\" \")"
   ]
  },
  {
   "cell_type": "code",
   "execution_count": 5,
   "id": "aacaf6c5",
   "metadata": {},
   "outputs": [
    {
     "name": "stdout",
     "output_type": "stream",
     "text": [
      "10\n",
      "100\n"
     ]
    }
   ],
   "source": [
    "#square of a number\n",
    "n=int(input())\n",
    "res=0\n",
    "for i in range(1,n+1):  #1-5\n",
    "    for j in range(1,n+1): #1-5\n",
    "        res+=1\n",
    "print(res)"
   ]
  },
  {
   "cell_type": "code",
   "execution_count": 18,
   "id": "ff900a41",
   "metadata": {},
   "outputs": [
    {
     "name": "stdout",
     "output_type": "stream",
     "text": [
      "5 9 7 13 \n",
      "Even value encountered\n"
     ]
    }
   ],
   "source": [
    "#break in for loop\n",
    "numbers = [5, 9, 7, 13, 8, 1, 11]\n",
    "for i in numbers:\n",
    "    if i %2==0:\n",
    "        print(\"\\nEven value encountered\")\n",
    "        break\n",
    "    print(i,end=\" \")"
   ]
  },
  {
   "cell_type": "code",
   "execution_count": 20,
   "id": "f8aeeebf",
   "metadata": {},
   "outputs": [
    {
     "name": "stdout",
     "output_type": "stream",
     "text": [
      "the last letter in the string is 'd'\n"
     ]
    }
   ],
   "source": [
    "#pass in for loop\n",
    "s='Hello World'\n",
    "for i in s:\n",
    "    pass\n",
    "print(f'the last letter in the string is \\'{i}\\'')"
   ]
  },
  {
   "cell_type": "code",
   "execution_count": 6,
   "id": "0ca1a6b4",
   "metadata": {},
   "outputs": [
    {
     "name": "stdout",
     "output_type": "stream",
     "text": [
      "Tot numbers in list is  12\n"
     ]
    }
   ],
   "source": [
    "l=[8,3,4,5,7,6,21,9,45,51,20,14]\n",
    "c=0\n",
    "for i in l:\n",
    "    c+=1\n",
    "    pass\n",
    "print(\"Tot numbers in list is \",c)"
   ]
  },
  {
   "cell_type": "code",
   "execution_count": 4,
   "id": "ff9f9951",
   "metadata": {},
   "outputs": [
    {
     "name": "stdout",
     "output_type": "stream",
     "text": [
      "5\n"
     ]
    }
   ],
   "source": [
    "i=1\n",
    "for i in range(6):\n",
    "    pass\n",
    "print(i)  #for loop will update its value"
   ]
  },
  {
   "cell_type": "code",
   "execution_count": 23,
   "id": "33bee901",
   "metadata": {},
   "outputs": [
    {
     "name": "stdout",
     "output_type": "stream",
     "text": [
      "India UAE UK "
     ]
    }
   ],
   "source": [
    "#continue in for loop\n",
    "country = ['India', 'China', 'UAE', 'UK']\n",
    "for x in country:\n",
    "    if x == 'China':\n",
    "        continue\n",
    "    print(x,end=\" \")"
   ]
  },
  {
   "cell_type": "code",
   "execution_count": 5,
   "id": "a512118f",
   "metadata": {},
   "outputs": [
    {
     "name": "stdout",
     "output_type": "stream",
     "text": [
      "Tot numbers in list is  12\n",
      "Tot odd numbers in list is  7\n"
     ]
    }
   ],
   "source": [
    "l=[8,3,4,5,7,6,21,9,45,51,20,14]\n",
    "c=0\n",
    "print(\"Tot numbers in list is \",len(l))\n",
    "for i in l:\n",
    "    if i%2==0:\n",
    "        continue\n",
    "    c+=1\n",
    "print(\"Tot odd numbers in list is \",c)"
   ]
  },
  {
   "cell_type": "code",
   "execution_count": 2,
   "id": "9a309243",
   "metadata": {},
   "outputs": [
    {
     "name": "stdout",
     "output_type": "stream",
     "text": [
      "Hi\n",
      "Hi\n",
      "Hi\n",
      "Bye\n"
     ]
    }
   ],
   "source": [
    "s=[True,True,True,False]\n",
    "for i in s:\n",
    "    if not i:\n",
    "        print(\"Bye\")\n",
    "    else:\n",
    "        print(\"Hi\")"
   ]
  },
  {
   "cell_type": "code",
   "execution_count": 6,
   "id": "55913156",
   "metadata": {},
   "outputs": [
    {
     "name": "stdout",
     "output_type": "stream",
     "text": [
      "1\n"
     ]
    }
   ],
   "source": [
    "i=1\n",
    "[... for i in range(6)]\n",
    "print(i) "
   ]
  },
  {
   "cell_type": "code",
   "execution_count": 7,
   "id": "23bc447b",
   "metadata": {},
   "outputs": [
    {
     "name": "stdout",
     "output_type": "stream",
     "text": [
      "5\n"
     ]
    }
   ],
   "source": [
    "for i in range(6):\n",
    "    ...\n",
    "print(i)  #once the loop is over we can still access the loop variable\n",
    "#in the above code, as the loop variable (i) already existed, it was overwritten in each iteration"
   ]
  },
  {
   "cell_type": "code",
   "execution_count": 10,
   "id": "2be1d23f",
   "metadata": {},
   "outputs": [
    {
     "ename": "NameError",
     "evalue": "name 'l' is not defined",
     "output_type": "error",
     "traceback": [
      "\u001b[1;31m---------------------------------------------------------------------------\u001b[0m",
      "\u001b[1;31mNameError\u001b[0m                                 Traceback (most recent call last)",
      "Cell \u001b[1;32mIn[10], line 2\u001b[0m\n\u001b[0;32m      1\u001b[0m [\u001b[38;5;241m.\u001b[39m\u001b[38;5;241m.\u001b[39m\u001b[38;5;241m.\u001b[39m \u001b[38;5;28;01mfor\u001b[39;00m l \u001b[38;5;129;01min\u001b[39;00m \u001b[38;5;28mrange\u001b[39m(\u001b[38;5;241m6\u001b[39m)]\n\u001b[1;32m----> 2\u001b[0m \u001b[38;5;28mprint\u001b[39m(\u001b[43ml\u001b[49m)\n",
      "\u001b[1;31mNameError\u001b[0m: name 'l' is not defined"
     ]
    }
   ],
   "source": [
    "#But here the loop variable always remains local to the list comprehension. It is never leaked outside\n",
    "[... for l in range(6)]\n",
    "print(l)"
   ]
  },
  {
   "cell_type": "markdown",
   "id": "3e2f259a",
   "metadata": {},
   "source": [
    "## While"
   ]
  },
  {
   "cell_type": "markdown",
   "id": "ab337790",
   "metadata": {},
   "source": [
    "A while loop repeats a block of code an unknown number of times until a condition is no longer met. for loops, on the other hand, repeat a block of code a fixed number of times.\n",
    "\n",
    "So, a while loop is useful when you don’t know how many times you want a block of code to execute beforehand.\n",
    "Eg. Asking a keyword from the user(Each time they enter the wrong one, you continue to prompt them for the correct keyword. And for as long as they enter the wrong keyword, you will not allow them to continue.)\n",
    "\n",
    "A while loop repeats the block of code based on a given Boolean condition."
   ]
  },
  {
   "cell_type": "code",
   "execution_count": 11,
   "id": "ca69d9b0",
   "metadata": {},
   "outputs": [
    {
     "name": "stdout",
     "output_type": "stream",
     "text": [
      "You are learning Python. It is week 1\n",
      "You are learning Python. It is week 2\n",
      "You are learning Python. It is week 3\n",
      "You are learning Python. It is week 4\n",
      "You are learning Python. It is week 5\n",
      "You learnt python in 5 weeks\n"
     ]
    }
   ],
   "source": [
    "count = 0;\n",
    "while count <5:\n",
    "    print(f\"You are learning Python. It is week {count+1}\")\n",
    "    count += 1\n",
    "else:\n",
    "    print(f'You learnt python in {count} weeks')    "
   ]
  },
  {
   "cell_type": "code",
   "execution_count": 1,
   "id": "f31bc1b0",
   "metadata": {},
   "outputs": [],
   "source": [
    "# Infinte loop with while statement\n",
    "# while True:\n",
    "#     print('Press Ctrl+C to stop this loop!')"
   ]
  },
  {
   "cell_type": "code",
   "execution_count": 4,
   "id": "48d738bf",
   "metadata": {},
   "outputs": [
    {
     "name": "stdout",
     "output_type": "stream",
     "text": [
      "Please enter the secret keyword: python\n"
     ]
    }
   ],
   "source": [
    "secret_keyword = \"Python\"\n",
    "user_input = input(\"Please enter the secret keyword: \").capitalize()\n",
    "c=1\n",
    "\n",
    "while user_input != secret_keyword:\n",
    "    user_input = input(\"Please enter the secret keyword: \").capitalize()\n",
    "    c+=1\n",
    "    if c>=3: \n",
    "        print(\"You entered the secret key 3 times wrong. Please try after 24 hours.\")\n",
    "        break"
   ]
  },
  {
   "cell_type": "markdown",
   "id": "dc002cda",
   "metadata": {},
   "source": [
    "Note:If we want to terminate the program, type Control C to escape the infinite loop."
   ]
  },
  {
   "cell_type": "code",
   "execution_count": 5,
   "id": "5b752f39",
   "metadata": {},
   "outputs": [
    {
     "name": "stdout",
     "output_type": "stream",
     "text": [
      "Enter name:Durga\n",
      "Hello Durga\n",
      "Enter name:stop\n"
     ]
    }
   ],
   "source": [
    "# Loop runs until the user enters 'stop'\n",
    "while True:\n",
    "    name = input('Enter name:')\n",
    "    if name == 'stop': break\n",
    "    print('Hello', name)"
   ]
  },
  {
   "cell_type": "code",
   "execution_count": 7,
   "id": "62e1484a",
   "metadata": {},
   "outputs": [
    {
     "name": "stdout",
     "output_type": "stream",
     "text": [
      "Enter 'stop' to end: Durga\n",
      "Hi Durga\n",
      "Enter 'stop' to end: Prasad\n",
      "Hi Prasad\n",
      "Enter 'stop' to end: stop\n",
      "Bye\n"
     ]
    }
   ],
   "source": [
    "condition = True\n",
    "while condition:\n",
    "    user_input = input(\"Enter 'stop' to end: \")\n",
    "    if user_input.lower() == 'stop':\n",
    "        condition = False\n",
    "    if condition:\n",
    "        print(\"Hi\", user_input)\n",
    "    else:\n",
    "        print(\"Bye\")"
   ]
  },
  {
   "cell_type": "code",
   "execution_count": 9,
   "id": "7870416f",
   "metadata": {},
   "outputs": [
    {
     "name": "stdout",
     "output_type": "stream",
     "text": [
      "Enter 'stop' to end: durga\n",
      "Hi Durga\n",
      "Enter 'stop' to end: stop\n",
      "Bye\n"
     ]
    }
   ],
   "source": [
    "condition = True\n",
    "while condition:\n",
    "    user_input = input(\"Enter 'stop' to end: \").capitalize()\n",
    "    if user_input.lower() == 'stop':  condition = False\n",
    "    if condition: print(\"Hi\", user_input)\n",
    "    else: print(\"Bye\")"
   ]
  },
  {
   "cell_type": "code",
   "execution_count": 4,
   "id": "8c622c25",
   "metadata": {},
   "outputs": [
    {
     "name": "stdout",
     "output_type": "stream",
     "text": [
      "Hi\n",
      "Hi\n",
      "Hi\n",
      "Bye\n",
      "Hi\n"
     ]
    }
   ],
   "source": [
    "s = [True, True, True, False]\n",
    "index = 0\n",
    "while index < len(s):\n",
    "    if not s[index]:\n",
    "        print(\"Bye\")\n",
    "    print(\"Hi\")\n",
    "    index += 1"
   ]
  },
  {
   "cell_type": "code",
   "execution_count": 10,
   "id": "43cf8a50",
   "metadata": {},
   "outputs": [
    {
     "name": "stdout",
     "output_type": "stream",
     "text": [
      "I am always true\n"
     ]
    }
   ],
   "source": [
    "#this creates an infinite loop\n",
    "# while True:\n",
    "#     print(\"I am always true\")\n",
    "\n",
    "#use break to escape from infinite loop\n",
    "while True:\n",
    "    print(\"I am always true\")\n",
    "    break  #the break statement will force the loop to stop when needed."
   ]
  },
  {
   "cell_type": "code",
   "execution_count": 5,
   "id": "569ad81a",
   "metadata": {},
   "outputs": [
    {
     "name": "stdout",
     "output_type": "stream",
     "text": [
      "Countdown: 5\n",
      "Countdown: 4\n",
      "Countdown: 3\n",
      "Countdown: 2\n",
      "Countdown: 1\n",
      "Blast off!\n"
     ]
    }
   ],
   "source": [
    "countdown = 5\n",
    "while countdown > 0:\n",
    "    print(\"Countdown:\", countdown)\n",
    "    countdown -= 1\n",
    "    if countdown == 0:\n",
    "        print(\"Blast off!\")"
   ]
  },
  {
   "cell_type": "code",
   "execution_count": 5,
   "id": "2e548d4f",
   "metadata": {},
   "outputs": [
    {
     "name": "stdout",
     "output_type": "stream",
     "text": [
      "Iteration: 1\n",
      "Iteration: 2\n",
      "Iteration: 3\n",
      "Iteration: 4\n",
      "Iteration: 5\n"
     ]
    },
    {
     "data": {
      "text/plain": [
       "'\\nIn this example, the loop will continue indefinitely until the count variable reaches a value of 5 or greater. Once the condition count >= 5 is satisfied, the break statement is executed, terminating the loop.\\n'"
      ]
     },
     "execution_count": 5,
     "metadata": {},
     "output_type": "execute_result"
    }
   ],
   "source": [
    "count = 0\n",
    "while True:\n",
    "    count += 1\n",
    "    print(\"Iteration:\", count)\n",
    "    if count >= 5:\n",
    "        break\n",
    "'''\n",
    "In this example, the loop will continue indefinitely until the count variable reaches a value of 5 or greater. Once the condition count >= 5 is satisfied, the break statement is executed, terminating the loop.\n",
    "'''"
   ]
  },
  {
   "cell_type": "code",
   "execution_count": 6,
   "id": "935b7397",
   "metadata": {},
   "outputs": [
    {
     "name": "stdout",
     "output_type": "stream",
     "text": [
      "6 5 4 3 2 1 \n",
      "Done!\n"
     ]
    }
   ],
   "source": [
    "# while-else\n",
    "\n",
    "# while executes\n",
    "x = 6\n",
    "while x:\n",
    "    print(x, end=\" \")\n",
    "    x -= 1\n",
    "    \n",
    "# else executed\n",
    "else:\n",
    "    print('\\nDone!')  # Prints Done!"
   ]
  },
  {
   "cell_type": "code",
   "execution_count": 7,
   "id": "5baa7c7f",
   "metadata": {},
   "outputs": [
    {
     "name": "stdout",
     "output_type": "stream",
     "text": [
      "\n",
      "Done!\n"
     ]
    }
   ],
   "source": [
    "x = 0\n",
    "while x:\n",
    "    print(x, end=\" \")\n",
    "    x -= 1\n",
    "\n",
    "# only else executed\n",
    "else:\n",
    "    print('\\nDone!')  # Prints Done!"
   ]
  },
  {
   "cell_type": "code",
   "execution_count": 3,
   "id": "314950a7",
   "metadata": {},
   "outputs": [
    {
     "name": "stdout",
     "output_type": "stream",
     "text": [
      "Done!\n"
     ]
    }
   ],
   "source": [
    "# If the loop terminates prematurely with break, the else clause won’t be executed.\n",
    "x = 0\n",
    "while x:\n",
    "    print(x)\n",
    "    x -= 1\n",
    "    \n",
    "    if x==3:\n",
    "        break\n",
    "else:\n",
    "    print('Done!')  # Prints Done!"
   ]
  },
  {
   "cell_type": "code",
   "execution_count": 6,
   "id": "24789485",
   "metadata": {},
   "outputs": [
    {
     "name": "stdout",
     "output_type": "stream",
     "text": [
      "Type 'exit' to quit: enter\n",
      "Score: 10\n",
      "Type 'exit' to quit: sucess\n",
      "Score: 20\n",
      "Type 'exit' to quit: exit\n"
     ]
    }
   ],
   "source": [
    "game_over = False\n",
    "score = 0\n",
    "while not game_over:\n",
    "    user_input = input(\"Type 'exit' to quit: \")\n",
    "    if user_input.lower() == 'exit':\n",
    "        game_over = True\n",
    "    else:\n",
    "        score += 10\n",
    "        print(\"Score:\", score)"
   ]
  },
  {
   "cell_type": "code",
   "execution_count": 6,
   "id": "11941024",
   "metadata": {},
   "outputs": [
    {
     "name": "stdout",
     "output_type": "stream",
     "text": [
      "Guess the secret number: 45\n",
      "Wrong guess. Try again!\n",
      "Guess the secret number: 48\n",
      "Wrong guess. Try again!\n",
      "Guess the secret number: 42\n",
      "Congratulations! You guessed the secret number!\n"
     ]
    }
   ],
   "source": [
    "# Guessing Game\n",
    "secret_number = 42\n",
    "\n",
    "while True:\n",
    "    guess = int(input(\"Guess the secret number: \"))\n",
    "\n",
    "    if guess == secret_number:\n",
    "        print(\"Congratulations! You guessed the secret number!\")\n",
    "        break\n",
    "    else:\n",
    "        print(\"Wrong guess. Try again!\")"
   ]
  },
  {
   "cell_type": "code",
   "execution_count": 7,
   "id": "99703d7f",
   "metadata": {},
   "outputs": [
    {
     "name": "stdout",
     "output_type": "stream",
     "text": [
      "Cast your vote (yes/no), or 'quit' to end: yes\n",
      "Vote recorded.\n",
      "Cast your vote (yes/no), or 'quit' to end: yes\n",
      "Vote recorded.\n",
      "Cast your vote (yes/no), or 'quit' to end: no\n",
      "Vote recorded.\n",
      "Cast your vote (yes/no), or 'quit' to end: quit\n",
      "Voting closed.\n",
      "Voting Results:\n",
      "Yes: 2\n",
      "No: 1\n"
     ]
    }
   ],
   "source": [
    "votes = {'yes': 0, 'no': 0}\n",
    "while True:\n",
    "    vote = input(\"Cast your vote (yes/no), or 'quit' to end: \").lower()\n",
    "    if vote == 'quit':\n",
    "        print(\"Voting closed.\")\n",
    "        break\n",
    "    elif vote in votes:\n",
    "        votes[vote] += 1\n",
    "        print(\"Vote recorded.\")\n",
    "    else:\n",
    "        print(\"Invalid vote. Please vote again.\")\n",
    "print(\"Voting Results:\")\n",
    "print(\"Yes:\", votes['yes'])\n",
    "print(\"No:\", votes['no'])"
   ]
  },
  {
   "cell_type": "code",
   "execution_count": 8,
   "id": "d2e3d0ea",
   "metadata": {},
   "outputs": [
    {
     "name": "stdout",
     "output_type": "stream",
     "text": [
      "Guess the secret number (or enter 0 to quit): 5\n",
      "Try a higher number.\n",
      "Guess the secret number (or enter 0 to quit): 10\n",
      "Try a higher number.\n",
      "Guess the secret number (or enter 0 to quit): 50\n",
      "Try a higher number.\n",
      "Guess the secret number (or enter 0 to quit): 100\n",
      "Try a lower number.\n",
      "Guess the secret number (or enter 0 to quit): 70\n",
      "Try a lower number.\n",
      "Guess the secret number (or enter 0 to quit): 60\n",
      "Try a lower number.\n",
      "Guess the secret number (or enter 0 to quit): 58\n",
      "Try a lower number.\n"
     ]
    }
   ],
   "source": [
    "import random\n",
    "\n",
    "secret_number = random.randint(1, 100)\n",
    "user_input = None\n",
    "\n",
    "while user_input != secret_number:\n",
    "    user_input = int(input(\"Guess the secret number (or enter 0 to quit): \"))\n",
    "    if user_input == 0:\n",
    "        print(\"Exiting the game.\")\n",
    "        break\n",
    "    elif user_input < secret_number:\n",
    "        print(\"Try a higher number.\")\n",
    "    else:\n",
    "        print(\"Try a lower number.\")"
   ]
  },
  {
   "cell_type": "code",
   "execution_count": 9,
   "id": "49ca37ba",
   "metadata": {},
   "outputs": [
    {
     "name": "stdout",
     "output_type": "stream",
     "text": [
      "Enter your username: bob\n",
      "Enter your password: 123\n",
      "Invalid credentials. Try again.\n",
      "Enter your username: charlie\n",
      "Enter your password: 154\n",
      "Invalid credentials. Try again.\n",
      "Enter your username: durga\n",
      "Enter your password: 123\n",
      "Invalid credentials. Try again.\n",
      "Enter your username: alice\n",
      "Enter your password: 123\n",
      "Login successful. Welcome, Alice\n"
     ]
    }
   ],
   "source": [
    "users = {'alice': '123', 'bob': '456', 'charlie': '789'}\n",
    "logged_in = False\n",
    "\n",
    "while not logged_in:\n",
    "    username = input(\"Enter your username: \")\n",
    "    password = input(\"Enter your password: \")\n",
    "    if username in users and users[username] == password:\n",
    "        print(\"Login successful. Welcome,\", username.capitalize())\n",
    "        logged_in = True\n",
    "    else:\n",
    "        print(\"Invalid credentials. Try again.\")"
   ]
  },
  {
   "cell_type": "code",
   "execution_count": 15,
   "id": "1e02444b",
   "metadata": {},
   "outputs": [
    {
     "name": "stdout",
     "output_type": "stream",
     "text": [
      "Please enter a password: password123\n",
      "Please enter a password: Passw0rd\n",
      "Password is valid. Access granted.\n"
     ]
    }
   ],
   "source": [
    "while True:\n",
    "    p = input('Please enter a password: ')\n",
    "    if len(p) >= 8 and p.isalnum():\n",
    "        has_uppercase = False\n",
    "        has_lowercase = False\n",
    "        has_digit = False\n",
    "        for ch in p:\n",
    "            if ch.isupper():\n",
    "                has_uppercase = True\n",
    "            elif ch.islower():\n",
    "                has_lowercase = True\n",
    "            elif ch.isdigit():\n",
    "                has_digit = True\n",
    "\n",
    "        if has_uppercase and has_lowercase and has_digit:\n",
    "            print('Password is valid. Access granted.')\n",
    "            break\n",
    "    else:\n",
    "        print('Invalid password. Please try again.')"
   ]
  },
  {
   "cell_type": "code",
   "execution_count": 16,
   "id": "b367997e",
   "metadata": {},
   "outputs": [
    {
     "name": "stdout",
     "output_type": "stream",
     "text": [
      "Enter the number of terms: 8\n",
      "Fibonacci Sequence: 0, 1, 1, 2, 3, 5, 8, 13\n"
     ]
    }
   ],
   "source": [
    "num_terms = int(input(\"Enter the number of terms: \"))\n",
    "\n",
    "# Fibonacci sequence initialization\n",
    "fib_sequence = [0, 1]\n",
    "\n",
    "# Generate Fibonacci sequence\n",
    "while len(fib_sequence) < num_terms:\n",
    "    next_term = fib_sequence[-1] + fib_sequence[-2]\n",
    "    fib_sequence.append(next_term)\n",
    "\n",
    "# Print Fibonacci sequence\n",
    "print(\"Fibonacci Sequence:\", \", \".join(str(term) for term in fib_sequence))"
   ]
  },
  {
   "cell_type": "markdown",
   "id": "1eadf601",
   "metadata": {},
   "source": [
    "### Iterables vs Iterators\n",
    "[tds](https://towardsdatascience.com/python-basics-iteration-and-looping-6ca63b30835c)\n",
    "\n",
    "**Iterables**: An iterable is anything that can be looped through or can be iterated over. For example, list, tuples, dictionaries, etc. all are iterables. In simpler words, anything that can appear on the right-side of a for-loop: \n",
    "\n",
    "for x in iterable: ... is an iterable.\n",
    "\n",
    "**Iterable**: Iterator is an object which can be looped through and it maintains its state during the iteration which means it remembers where it is during an iteration.\n",
    "\n",
    "It has a **__ next __()** method that returns the next value in the iteration and updates the state to point at the next value.\n",
    "\n",
    "<img src=\"https://www.bogotobogo.com/python/images/python_iterators/iterable-vs-iterator.png\" width=\"350px\" align=\"left\">\n",
    "\n",
    "<img src=\"https://files.codingninjas.in/article_images/iterators-and-generators-in-python-3-1657095549.webp\" width=\"400px\">\n",
    "\n",
    "Once iterator is exhausted we get StopIteration error if we use next() "
   ]
  },
  {
   "cell_type": "code",
   "execution_count": 23,
   "id": "1b279f4e",
   "metadata": {},
   "outputs": [
    {
     "name": "stdout",
     "output_type": "stream",
     "text": [
      "1 2 3 4 5 "
     ]
    }
   ],
   "source": [
    "# List is an iterabale\n",
    "l1=[1,2,3,4,5]\n",
    "\n",
    "# Here once we initialized all the elements stored in the memory location\n",
    "\n",
    "for i in l1:\n",
    "    print(i,end=\" \")"
   ]
  },
  {
   "cell_type": "code",
   "execution_count": 24,
   "id": "447fef1b",
   "metadata": {},
   "outputs": [
    {
     "data": {
      "text/plain": [
       "<list_iterator at 0x1b47211f910>"
      ]
     },
     "execution_count": 24,
     "metadata": {},
     "output_type": "execute_result"
    }
   ],
   "source": [
    "# convert iterable to iterator\n",
    "l2=iter(l1)\n",
    "l2"
   ]
  },
  {
   "cell_type": "code",
   "execution_count": 25,
   "id": "5cbc7393",
   "metadata": {},
   "outputs": [
    {
     "data": {
      "text/plain": [
       "1"
      ]
     },
     "execution_count": 25,
     "metadata": {},
     "output_type": "execute_result"
    }
   ],
   "source": [
    "next(l2)"
   ]
  },
  {
   "cell_type": "code",
   "execution_count": 26,
   "id": "6ed730b9",
   "metadata": {},
   "outputs": [
    {
     "name": "stdout",
     "output_type": "stream",
     "text": [
      "2 3 4 5 "
     ]
    }
   ],
   "source": [
    "# By default for loop has an exception so after traversing the iterator it stops printing\n",
    "for i in l2:\n",
    "    print(i,end=\" \")"
   ]
  },
  {
   "cell_type": "code",
   "execution_count": 28,
   "id": "aa4086cf",
   "metadata": {},
   "outputs": [
    {
     "name": "stdout",
     "output_type": "stream",
     "text": [
      "The iterator is empty.\n"
     ]
    }
   ],
   "source": [
    "# Note: After iterated all the elements, if we try to iterate again we get error\n",
    "try:\n",
    "    for i in range(0,len(l1)):\n",
    "        print(next(l2),end=\" \")\n",
    "except StopIteration:\n",
    "    print(\"The iterator is empty.\")"
   ]
  },
  {
   "cell_type": "markdown",
   "id": "a8f1add6",
   "metadata": {},
   "source": [
    "So whenever we have a large iterable we use this iterator to avoid memory initialization and call those elements we require then only it will get initialized."
   ]
  },
  {
   "cell_type": "markdown",
   "id": "2dfe28f4",
   "metadata": {},
   "source": [
    "### Iterators Vs Generators\n",
    "**Generators**\n",
    "\n",
    "<img src=\"https://media.licdn.com/dms/image/D4D12AQF2avI7qeUjMw/article-cover_image-shrink_600_2000/0/1682146643594?e=2147483647&v=beta&t=dM5iWQnf5chDAWdEpOpc0IV-Q6XeY2-TKq6Z_RYv36M\" width=\"300px\"  align=\"left\">\n",
    "\n",
    "**Difference**\n",
    "\n",
    "1. To create an iterator we use iter() and for generator we use function along with yield keyword. "
   ]
  },
  {
   "cell_type": "code",
   "execution_count": 40,
   "id": "48573c60",
   "metadata": {},
   "outputs": [
    {
     "data": {
      "text/plain": [
       "1"
      ]
     },
     "execution_count": 40,
     "metadata": {},
     "output_type": "execute_result"
    }
   ],
   "source": [
    "def gen():\n",
    "    yield 1\n",
    "    yield 2\n",
    "    yield 3\n",
    "    \n",
    "val=gen()\n",
    "val.__next__()"
   ]
  },
  {
   "cell_type": "code",
   "execution_count": 41,
   "id": "1caccd5e",
   "metadata": {},
   "outputs": [
    {
     "name": "stdout",
     "output_type": "stream",
     "text": [
      "2\n",
      "3\n"
     ]
    }
   ],
   "source": [
    "for i in val:\n",
    "    print(i)"
   ]
  },
  {
   "cell_type": "code",
   "execution_count": 30,
   "id": "dec908c4",
   "metadata": {},
   "outputs": [
    {
     "data": {
      "text/plain": [
       "0"
      ]
     },
     "execution_count": 30,
     "metadata": {},
     "output_type": "execute_result"
    }
   ],
   "source": [
    "def square(n):\n",
    "    for i in range(n):\n",
    "        return i*i\n",
    "    \n",
    "square(3)"
   ]
  },
  {
   "cell_type": "code",
   "execution_count": 31,
   "id": "793e8fc6",
   "metadata": {},
   "outputs": [
    {
     "data": {
      "text/plain": [
       "<generator object square at 0x000001B470C9DE70>"
      ]
     },
     "execution_count": 31,
     "metadata": {},
     "output_type": "execute_result"
    }
   ],
   "source": [
    "def square(n):\n",
    "    for i in range(n):\n",
    "        yield i*i\n",
    "    \n",
    "square(3)"
   ]
  },
  {
   "cell_type": "code",
   "execution_count": 33,
   "id": "a92706db",
   "metadata": {},
   "outputs": [
    {
     "data": {
      "text/plain": [
       "0"
      ]
     },
     "execution_count": 33,
     "metadata": {},
     "output_type": "execute_result"
    }
   ],
   "source": [
    "a=square(3)\n",
    "next(a)"
   ]
  },
  {
   "cell_type": "code",
   "execution_count": 34,
   "id": "24dca904",
   "metadata": {},
   "outputs": [
    {
     "name": "stdout",
     "output_type": "stream",
     "text": [
      "0 1 4 "
     ]
    }
   ],
   "source": [
    "for i in square(3):\n",
    "    print(i,end=\" \")"
   ]
  },
  {
   "cell_type": "code",
   "execution_count": 36,
   "id": "9e4a0f1c",
   "metadata": {},
   "outputs": [
    {
     "name": "stdout",
     "output_type": "stream",
     "text": [
      "[1, 2, 4, 5, 10, 20]\n"
     ]
    }
   ],
   "source": [
    "def factors(n):\n",
    "    factor_list = []\n",
    "    for val in range(1, n+1):\n",
    "        if n % val == 0:\n",
    "            factor_list.append(val)\n",
    "    return factor_list\n",
    "\n",
    "print(factors(20))   # output: [1, 2, 4, 5, 10, 20]"
   ]
  },
  {
   "cell_type": "code",
   "execution_count": 37,
   "id": "9f9f4fdb",
   "metadata": {},
   "outputs": [
    {
     "name": "stdout",
     "output_type": "stream",
     "text": [
      "<generator object factors at 0x000001B472360510>\n"
     ]
    }
   ],
   "source": [
    "# using generator\n",
    "def factors(n):\n",
    "    for val in range(1, n+1):\n",
    "        if n % val == 0:\n",
    "            yield val\n",
    "print(factors(20))  #<generator object factors at 0x7fd938271350>"
   ]
  },
  {
   "cell_type": "code",
   "execution_count": 39,
   "id": "c8eb5786",
   "metadata": {},
   "outputs": [
    {
     "name": "stdout",
     "output_type": "stream",
     "text": [
      "1 2 4 5 10 20 "
     ]
    }
   ],
   "source": [
    "for i in factors(20):\n",
    "    print(i, end=\" \")"
   ]
  },
  {
   "cell_type": "code",
   "execution_count": 42,
   "id": "99d821b8",
   "metadata": {},
   "outputs": [
    {
     "name": "stdout",
     "output_type": "stream",
     "text": [
      "<generator object <genexpr> at 0x000001B470C9EEA0>\n"
     ]
    }
   ],
   "source": [
    "# create a generator is with a generator comprehension\n",
    "print((val for val in range(1, 20+1) if n % val == 0))"
   ]
  },
  {
   "cell_type": "markdown",
   "id": "2da18212",
   "metadata": {},
   "source": [
    "### Shallow Copy Vs Deep Copy"
   ]
  },
  {
   "cell_type": "code",
   "execution_count": 43,
   "id": "02ee933d",
   "metadata": {},
   "outputs": [
    {
     "data": {
      "text/plain": [
       "([1, 2, 3], [1, 2, 3])"
      ]
     },
     "execution_count": 43,
     "metadata": {},
     "output_type": "execute_result"
    }
   ],
   "source": [
    "l1=[1,2,3]\n",
    "\n",
    "# \"=\"\n",
    "l2=l1\n",
    "\n",
    "l1, l2"
   ]
  },
  {
   "cell_type": "code",
   "execution_count": 44,
   "id": "f4f88798",
   "metadata": {},
   "outputs": [
    {
     "data": {
      "text/plain": [
       "([10, 2, 3], [10, 2, 3])"
      ]
     },
     "execution_count": 44,
     "metadata": {},
     "output_type": "execute_result"
    }
   ],
   "source": [
    "l2[0]=10\n",
    "\n",
    "l1, l2"
   ]
  },
  {
   "cell_type": "code",
   "execution_count": 45,
   "id": "50353c78",
   "metadata": {},
   "outputs": [
    {
     "data": {
      "text/plain": [
       "([10, 2, 3], [10, 20, 3])"
      ]
     },
     "execution_count": 45,
     "metadata": {},
     "output_type": "execute_result"
    }
   ],
   "source": [
    "# Shallow Copy\n",
    "l3=l1.copy()\n",
    "l3[1]=20\n",
    "\n",
    "l1, l3"
   ]
  },
  {
   "cell_type": "code",
   "execution_count": 47,
   "id": "f71add67",
   "metadata": {},
   "outputs": [
    {
     "data": {
      "text/plain": [
       "([[1, 2, 3], [4, 5, 6]], [[1, 2, 3], [4, 5, 6]])"
      ]
     },
     "execution_count": 47,
     "metadata": {},
     "output_type": "execute_result"
    }
   ],
   "source": [
    "# Shallow Copy with nested list\n",
    "l4=[ [1,2,3], [4,5,6]]\n",
    "l5=l4.copy()\n",
    "\n",
    "l4, l5"
   ]
  },
  {
   "cell_type": "code",
   "execution_count": 48,
   "id": "62b0234e",
   "metadata": {},
   "outputs": [
    {
     "data": {
      "text/plain": [
       "([[1, 2, 3], [55, 5, 6]], [[1, 2, 3], [55, 5, 6]])"
      ]
     },
     "execution_count": 48,
     "metadata": {},
     "output_type": "execute_result"
    }
   ],
   "source": [
    "l5[1][0]=55\n",
    "\n",
    "l4, l5"
   ]
  },
  {
   "cell_type": "markdown",
   "id": "ea0a8afa",
   "metadata": {},
   "source": [
    "Here the element is copied in both the nested lists. It is refering to the same object inside the nested list."
   ]
  },
  {
   "cell_type": "code",
   "execution_count": 49,
   "id": "082ba8ad",
   "metadata": {},
   "outputs": [
    {
     "data": {
      "text/plain": [
       "([[1, 2, 3], [55, 5, 6]], [[1, 2, 3], [55, 5, 6], [1, 2]])"
      ]
     },
     "execution_count": 49,
     "metadata": {},
     "output_type": "execute_result"
    }
   ],
   "source": [
    "l5.append([1,2])\n",
    "    \n",
    "l4, l5"
   ]
  },
  {
   "cell_type": "code",
   "execution_count": 50,
   "id": "924204bd",
   "metadata": {},
   "outputs": [
    {
     "data": {
      "text/plain": [
       "([[1, 2, 3], [55, 5, 6]], [[1, 2, 3], [55, 5, 6], [1, 2], 4])"
      ]
     },
     "execution_count": 50,
     "metadata": {},
     "output_type": "execute_result"
    }
   ],
   "source": [
    "l5.append(4)\n",
    "\n",
    "l4, l5"
   ]
  },
  {
   "cell_type": "code",
   "execution_count": 52,
   "id": "e5a87d67",
   "metadata": {},
   "outputs": [
    {
     "data": {
      "text/plain": [
       "([1, 2, 3, 4], [11, 2, 3, 4])"
      ]
     },
     "execution_count": 52,
     "metadata": {},
     "output_type": "execute_result"
    }
   ],
   "source": [
    "# Deep copy\n",
    "from copy import deepcopy\n",
    "\n",
    "l6=[1,2,3,4]\n",
    "l7=deepcopy(l6)\n",
    "\n",
    "l7[0]=11\n",
    "\n",
    "l6, l7"
   ]
  },
  {
   "cell_type": "code",
   "execution_count": 53,
   "id": "2001f0e9",
   "metadata": {},
   "outputs": [
    {
     "data": {
      "text/plain": [
       "([[1, 2, 3], [4, 5, 6]], [[1, 2, 3], [4, 5, 6]])"
      ]
     },
     "execution_count": 53,
     "metadata": {},
     "output_type": "execute_result"
    }
   ],
   "source": [
    "l8=[ [1,2,3], [4,5,6]]\n",
    "l9=deepcopy(l8)\n",
    "\n",
    "l8, l9"
   ]
  },
  {
   "cell_type": "code",
   "execution_count": 54,
   "id": "17b43a8c",
   "metadata": {},
   "outputs": [
    {
     "data": {
      "text/plain": [
       "([[1, 2, 3], [4, 5, 6]], [[1, 11, 3], [4, 5, 6]])"
      ]
     },
     "execution_count": 54,
     "metadata": {},
     "output_type": "execute_result"
    }
   ],
   "source": [
    "l9[0][1]=11\n",
    "\n",
    "l8, l9"
   ]
  },
  {
   "cell_type": "code",
   "execution_count": 55,
   "id": "c663912b",
   "metadata": {},
   "outputs": [
    {
     "data": {
      "text/plain": [
       "([[1, 2, 3], [4, 5, 6]], [[1, 11, 3], [4, 5, 6], [7, 8, 9]])"
      ]
     },
     "execution_count": 55,
     "metadata": {},
     "output_type": "execute_result"
    }
   ],
   "source": [
    "l9.append([7,8,9])\n",
    "\n",
    "l8, l9"
   ]
  },
  {
   "cell_type": "code",
   "execution_count": null,
   "id": "838ca8bf",
   "metadata": {},
   "outputs": [],
   "source": []
  }
 ],
 "metadata": {
  "kernelspec": {
   "display_name": "Python 3 (ipykernel)",
   "language": "python",
   "name": "python3"
  },
  "language_info": {
   "codemirror_mode": {
    "name": "ipython",
    "version": 3
   },
   "file_extension": ".py",
   "mimetype": "text/x-python",
   "name": "python",
   "nbconvert_exporter": "python",
   "pygments_lexer": "ipython3",
   "version": "3.10.9"
  }
 },
 "nbformat": 4,
 "nbformat_minor": 5
}
