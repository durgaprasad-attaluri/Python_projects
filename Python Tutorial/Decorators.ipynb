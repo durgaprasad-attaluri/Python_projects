{
 "cells": [
  {
   "cell_type": "code",
   "execution_count": 1,
   "id": "213223aa",
   "metadata": {},
   "outputs": [],
   "source": [
    "# Function copy\n",
    "def add(a,b):\n",
    "    return a+b\n",
    "\n",
    "s=add(2,3)\n",
    "del add"
   ]
  },
  {
   "cell_type": "code",
   "execution_count": 2,
   "id": "45522dee",
   "metadata": {},
   "outputs": [
    {
     "data": {
      "text/plain": [
       "5"
      ]
     },
     "execution_count": 2,
     "metadata": {},
     "output_type": "execute_result"
    }
   ],
   "source": [
    "s"
   ]
  },
  {
   "cell_type": "code",
   "execution_count": 4,
   "id": "5060671c",
   "metadata": {},
   "outputs": [
    {
     "ename": "NameError",
     "evalue": "name 'add' is not defined",
     "output_type": "error",
     "traceback": [
      "\u001b[1;31m---------------------------------------------------------------------------\u001b[0m",
      "\u001b[1;31mNameError\u001b[0m                                 Traceback (most recent call last)",
      "Cell \u001b[1;32mIn[4], line 1\u001b[0m\n\u001b[1;32m----> 1\u001b[0m \u001b[43madd\u001b[49m(\u001b[38;5;241m3\u001b[39m,\u001b[38;5;241m4\u001b[39m)\n",
      "\u001b[1;31mNameError\u001b[0m: name 'add' is not defined"
     ]
    }
   ],
   "source": [
    "add(3,4)"
   ]
  },
  {
   "cell_type": "markdown",
   "id": "e95dcce2",
   "metadata": {},
   "source": [
    "* **Local (L):** This refers to the innermost scope, typically within a function. Variables defined here are only accessible within that function.\n",
    "\n",
    "* **Enclosing (E):** This scope applies to nested functions. If a function is defined inside another function, the inner function can access variables from the outer (enclosing) function's scope.\n",
    "\n",
    "* **Global (G):** This is the outermost scope but still within the module or file. Variables defined at the top level of a Python module or explicitly declared as global within a function are part of the global scope.\n",
    "\n",
    "* **Built-in (B):** This is the widest scope and contains Python's reserved keywords and functions that are always available. These are the names that Python provides by default, such as print(), len(), etc.\n",
    "\n",
    "<img src=\"https://images.datacamp.com/image/upload/f_auto,q_auto:best/v1588956604/code_dmeddc.png\" align=\"left\">\n",
    "<img src=\"https://images.datacamp.com/image/upload/f_auto,q_auto:best/v1588956604/Scope_fbrzcw.png\" width=\"250\" height=\"400\">"
   ]
  },
  {
   "cell_type": "code",
   "execution_count": 5,
   "id": "5060aecf",
   "metadata": {},
   "outputs": [
    {
     "name": "stdout",
     "output_type": "stream",
     "text": [
      "Local Scope\n",
      "Enclosing Scope\n",
      "Global Scope\n"
     ]
    }
   ],
   "source": [
    "# Scope & the LEGB Rule\n",
    "\n",
    "'''\n",
    "* Local: names which are defined within a function and are local to that function.\n",
    "* Enclosing Scope or Non-local Scope: names of a variable defined in the nested function.\n",
    "* Global Scope: variables which are defined in the main body of a program.\n",
    "* Built-in Scope: This is the widest scope that exists! All the special reserved keywords fall under this scope. \n",
    "  We can call the keywords anywhere within our program without having to define them before use.\n",
    "\n",
    "'''\n",
    "\n",
    "x = 'Global Scope'\n",
    "def outer_function():\n",
    "    x = 'Enclosing Scope'\n",
    "    \n",
    "    def inner_function():\n",
    "        x = 'Local Scope'\n",
    "        print(x)  # Accesses the Local Scope 'x'\n",
    "    \n",
    "    inner_function()  # Prints 'Local Scope'\n",
    "    print(x)  # Accesses the Enclosing Scope 'x'\n",
    "\n",
    "outer_function()  # Prints 'Local Scope' followed by 'Enclosing Scope'\n",
    "print(x)  # Accesses the Global Scope 'x' and prints 'Global Scope'\n"
   ]
  },
  {
   "cell_type": "code",
   "execution_count": 26,
   "id": "5d690b8d",
   "metadata": {},
   "outputs": [
    {
     "data": {
      "text/plain": [
       "'inn_fun'"
      ]
     },
     "execution_count": 26,
     "metadata": {},
     "output_type": "execute_result"
    }
   ],
   "source": [
    "# closure: an inner function that remembers and has access to variables in the local scope in which it was created  \n",
    "# even after the outer function has finished executing \n",
    "\n",
    "def out_fun():\n",
    "    msg=\"Hii\"\n",
    "    \n",
    "    def inn_fun():\n",
    "        return msg+\" Durga\"\n",
    "    return inn_fun\n",
    "\n",
    "my_fun=out_fun()\n",
    "my_fun.__name__"
   ]
  },
  {
   "cell_type": "code",
   "execution_count": 28,
   "id": "51a158e7",
   "metadata": {},
   "outputs": [
    {
     "name": "stdout",
     "output_type": "stream",
     "text": [
      "Hii Durga\n"
     ]
    },
    {
     "data": {
      "text/plain": [
       "'Hii Durga'"
      ]
     },
     "execution_count": 28,
     "metadata": {},
     "output_type": "execute_result"
    }
   ],
   "source": [
    "print(my_fun())\n",
    "my_fun()"
   ]
  },
  {
   "cell_type": "code",
   "execution_count": 32,
   "id": "488e5b18",
   "metadata": {},
   "outputs": [
    {
     "name": "stdout",
     "output_type": "stream",
     "text": [
      "24\n",
      "20\n"
     ]
    }
   ],
   "source": [
    "def multiplier_generator_without_closure(factor):\n",
    "    def multiplier(number, factor=factor):\n",
    "        return number * factor\n",
    "    return multiplier\n",
    "\n",
    "# Create multiplier functions for specific factors\n",
    "multiply_by_3_without_closure = multiplier_generator_without_closure(3)\n",
    "multiply_by_5_without_closure = multiplier_generator_without_closure(5)\n",
    "\n",
    "# Use the generated multiplier functions\n",
    "print(multiply_by_3_without_closure(8))  # Output: 24 (8 * 3)\n",
    "print(multiply_by_5_without_closure(4))  # Output: 20 (4 * 5)"
   ]
  },
  {
   "cell_type": "code",
   "execution_count": 33,
   "id": "6b0b3166",
   "metadata": {},
   "outputs": [
    {
     "name": "stdout",
     "output_type": "stream",
     "text": [
      "24\n",
      "20\n"
     ]
    }
   ],
   "source": [
    "def multiplier_generator(factor):\n",
    "    def multiplier(number):\n",
    "        return number * factor\n",
    "    return multiplier\n",
    "\n",
    "# Create multiplier functions for specific factors\n",
    "multiply_by_3 = multiplier_generator(3)\n",
    "multiply_by_5 = multiplier_generator(5)\n",
    "\n",
    "# Use the generated multiplier functions\n",
    "print(multiply_by_3(8))  # Output: 24 (8 * 3)\n",
    "print(multiply_by_5(4))  # Output: 20 (4 * 5)"
   ]
  },
  {
   "cell_type": "code",
   "execution_count": 4,
   "id": "7c52512d",
   "metadata": {},
   "outputs": [
    {
     "name": "stdout",
     "output_type": "stream",
     "text": [
      "Hello, Durga\n",
      "Hello, Durga\n"
     ]
    }
   ],
   "source": [
    "# without closure\n",
    "def greet():\n",
    "    name=\"Durga\"\n",
    "    def msg():\n",
    "        return \"Hello, \"+name\n",
    "    return msg()\n",
    "\n",
    "print(greet())\n",
    "name=\"Prasad\"\n",
    "print(greet())"
   ]
  },
  {
   "cell_type": "code",
   "execution_count": 10,
   "id": "0abaee55",
   "metadata": {},
   "outputs": [
    {
     "name": "stdout",
     "output_type": "stream",
     "text": [
      "64\n",
      "16\n"
     ]
    }
   ],
   "source": [
    "def power(x):\n",
    "    def cal_power(n):\n",
    "        return n**x\n",
    "    return cal_power\n",
    "\n",
    "cube=power(3)\n",
    "print(cube(4))\n",
    "\n",
    "square=power(2)\n",
    "print(square(4))"
   ]
  },
  {
   "cell_type": "code",
   "execution_count": 3,
   "id": "a60df262",
   "metadata": {},
   "outputs": [
    {
     "data": {
      "text/plain": [
       "('Hello, Durga', 'Hello, Durga')"
      ]
     },
     "execution_count": 3,
     "metadata": {},
     "output_type": "execute_result"
    }
   ],
   "source": [
    "# without closure\n",
    "def greet(name):\n",
    "    def msg():\n",
    "        return \"Hello, \"+name\n",
    "    return msg()\n",
    "\n",
    "greet(\"Durga\"),greet(\"Durga\")"
   ]
  },
  {
   "cell_type": "code",
   "execution_count": 30,
   "id": "b9876c58",
   "metadata": {},
   "outputs": [
    {
     "data": {
      "text/plain": [
       "'Hello, Durga'"
      ]
     },
     "execution_count": 30,
     "metadata": {},
     "output_type": "execute_result"
    }
   ],
   "source": [
    "def greet(name):\n",
    "    def msg():\n",
    "        return \"Hello, \"+name\n",
    "    return msg\n",
    "\n",
    "greet1=greet(\"Durga\")\n",
    "greet1()"
   ]
  },
  {
   "cell_type": "code",
   "execution_count": 31,
   "id": "f035809c",
   "metadata": {},
   "outputs": [
    {
     "data": {
      "text/plain": [
       "'Hello, Prasad'"
      ]
     },
     "execution_count": 31,
     "metadata": {},
     "output_type": "execute_result"
    }
   ],
   "source": [
    "greet2=greet(\"Prasad\")\n",
    "greet2()"
   ]
  },
  {
   "cell_type": "code",
   "execution_count": 26,
   "id": "795dc4f4",
   "metadata": {},
   "outputs": [
    {
     "name": "stdout",
     "output_type": "stream",
     "text": [
      "10.0\n",
      "15.0\n",
      "20.0\n"
     ]
    }
   ],
   "source": [
    "def make_averager():\n",
    "    count = 0\n",
    "    total = 0\n",
    "    def averager(new_value):\n",
    "        nonlocal count, total\n",
    "        count += 1\n",
    "        total += new_value\n",
    "        return total / count\n",
    "    return averager\n",
    "\n",
    "avg_find=make_averager()\n",
    "print(avg_find(10))  # 10\n",
    "print(avg_find(20))  # 10+20=30/2\n",
    "print(avg_find(30))  # 10+20+30=60/3"
   ]
  },
  {
   "cell_type": "code",
   "execution_count": 17,
   "id": "4b39c8d1",
   "metadata": {},
   "outputs": [
    {
     "name": "stdout",
     "output_type": "stream",
     "text": [
      "inner_function executed before diff\n",
      "10\n",
      "inner_function executed before diff\n",
      "15\n",
      "inner_function executed before diff\n",
      "40\n"
     ]
    }
   ],
   "source": [
    "# Decorators\n",
    "def decor(func):\n",
    "    def inner_function(x,y):\n",
    "        print(\"inner_function executed before {}\".format(func.__name__))\n",
    "        if x < y:\n",
    "            x,y=y,x\n",
    "        return func(x,y)\n",
    "    return inner_function \n",
    "\n",
    "def diff(a,b):\n",
    "    res = a - b\n",
    "    return res\n",
    "\n",
    "sub = decor(diff)\n",
    "\n",
    "print(sub(40,30))\n",
    "print(sub(-10,5))\n",
    "print(sub(10,50))"
   ]
  },
  {
   "cell_type": "code",
   "execution_count": 15,
   "id": "1915d06f",
   "metadata": {},
   "outputs": [
    {
     "name": "stdout",
     "output_type": "stream",
     "text": [
      "10\n",
      "10\n"
     ]
    }
   ],
   "source": [
    "def decor(func):\n",
    "    def inner_function(x,y):\n",
    "        if x<0:\n",
    "            x = 0\n",
    "        if y<0:\n",
    "            y = 0\n",
    "        return func(x,y)\n",
    "    return inner_function \n",
    "\n",
    "# @decor= decor(diff)\n",
    "@decor\n",
    "def diff(a,b):\n",
    "    res = a - b\n",
    "    return res\n",
    "\n",
    "print(diff(30,20))\n",
    "print(diff(10,-5))"
   ]
  },
  {
   "cell_type": "code",
   "execution_count": 3,
   "id": "f9ac489d",
   "metadata": {},
   "outputs": [
    {
     "name": "stdout",
     "output_type": "stream",
     "text": [
      "Result 1: 2.0\n",
      "Result 2: 3.0\n",
      "Result 3: 5.0\n"
     ]
    }
   ],
   "source": [
    "def divide_decorator(func):\n",
    "    def wrapper(a, b):\n",
    "        if b == 0:\n",
    "            return func(a, 1)  # Divide by 1 if b is 0\n",
    "        elif a < b:\n",
    "            return func(b, a)  # Swap a and b if a < b\n",
    "        else:\n",
    "            return func(a,b)\n",
    "    return wrapper\n",
    "\n",
    "@divide_decorator\n",
    "def divide(a, b):\n",
    "    return a / b\n",
    "\n",
    "# Testing the decorated divide function\n",
    "result_1 = divide(6, 3)\n",
    "print(\"Result 1:\", result_1)  # Output: 2.0\n",
    "\n",
    "result_2 = divide(2, 6)\n",
    "print(\"Result 2:\", result_2)  # Output: 3.0\n",
    "\n",
    "result_3 = divide(5, 0)\n",
    "print(\"Result 3:\", result_3)  # Output: 5.0"
   ]
  },
  {
   "cell_type": "code",
   "execution_count": 19,
   "id": "b3faef31",
   "metadata": {},
   "outputs": [
    {
     "name": "stdout",
     "output_type": "stream",
     "text": [
      "5 6 7 8 9 10 "
     ]
    }
   ],
   "source": [
    "# Generators \n",
    "'''\n",
    "Generators are just like functions which give us a sequence of values one as an iterable (which can be iterated upon using \n",
    "loops). Generators contain yield statements just as functions contain return statements.\n",
    "\n",
    "'''\n",
    "\n",
    "def m(x, y):\n",
    "    while x<=y:\n",
    "        yield x\n",
    "        x+=1\n",
    "\n",
    "g = m(5, 10)\n",
    "for y in g:\n",
    "    print(y, end=\" \")"
   ]
  },
  {
   "cell_type": "code",
   "execution_count": 20,
   "id": "746a4bfb",
   "metadata": {},
   "outputs": [
    {
     "name": "stdout",
     "output_type": "stream",
     "text": [
      "<class 'generator'>\n",
      "Mahesh\n",
      "Suresh\n"
     ]
    }
   ],
   "source": [
    "def m():\n",
    "    yield 'Mahesh'\n",
    "    yield 'Suresh'\n",
    "g = m()\n",
    "\n",
    "print(type(g))\n",
    "print(next(g))\n",
    "print(next(g))"
   ]
  },
  {
   "cell_type": "code",
   "execution_count": null,
   "id": "c66e58b8",
   "metadata": {},
   "outputs": [],
   "source": []
  }
 ],
 "metadata": {
  "kernelspec": {
   "display_name": "Python 3 (ipykernel)",
   "language": "python",
   "name": "python3"
  },
  "language_info": {
   "codemirror_mode": {
    "name": "ipython",
    "version": 3
   },
   "file_extension": ".py",
   "mimetype": "text/x-python",
   "name": "python",
   "nbconvert_exporter": "python",
   "pygments_lexer": "ipython3",
   "version": "3.10.9"
  }
 },
 "nbformat": 4,
 "nbformat_minor": 5
}
