{
 "cells": [
  {
   "cell_type": "markdown",
   "id": "852bf264",
   "metadata": {},
   "source": [
    "### Understanding Iteration"
   ]
  },
  {
   "cell_type": "code",
   "execution_count": null,
   "id": "0494a3a5",
   "metadata": {},
   "outputs": [],
   "source": [
    "# if we to print a text multiple times\n",
    "print(\"Hello World!\")\n",
    "print(\"Hello World!\")\n",
    "print(\"Hello World!\")"
   ]
  },
  {
   "cell_type": "code",
   "execution_count": null,
   "id": "afe92a32",
   "metadata": {},
   "outputs": [],
   "source": [
    "# However, if we want to update the text it would be very difficulat as we have to update the code 3 times\n",
    "# what if we have 100 codes like this\n",
    "# to avoid this we use loops which are refered as an iterable\n",
    "\n",
    "txt=\"Hello World!\"\n",
    "for i in range(3):\n",
    "    print(txt)"
   ]
  },
  {
   "cell_type": "code",
   "execution_count": null,
   "id": "460a4a55",
   "metadata": {},
   "outputs": [],
   "source": [
    "txt=\"Hello\"\n",
    "for i in range(3):\n",
    "    print(txt)"
   ]
  },
  {
   "cell_type": "markdown",
   "id": "310a3a8d",
   "metadata": {},
   "source": [
    "## Iterators\n",
    "In Python, an iterator is an object that allows us to iterate over collections of data, such as lists, tuples, dictionaries, and sets.\n",
    "\n",
    "An iterator has a state where it knows where it is is during iteration.\n",
    "\n",
    "Iterators take responsibility for two main actions:\n",
    "* Returning the data from a stream or container one item at a time\n",
    "* Keeping track of the current and visited items"
   ]
  },
  {
   "cell_type": "code",
   "execution_count": null,
   "id": "f362a1a8",
   "metadata": {},
   "outputs": [],
   "source": [
    "l=[1,2,3,4]\n",
    "iterator=iter(l)\n",
    "print(next(iterator))  # first it prints 1, in next run it prints 2 and so on. we get an error if we don't have any elements in the list"
   ]
  },
  {
   "cell_type": "code",
   "execution_count": null,
   "id": "270b3067",
   "metadata": {},
   "outputs": [],
   "source": [
    "next(iterator)"
   ]
  },
  {
   "cell_type": "code",
   "execution_count": null,
   "id": "3ef888e1",
   "metadata": {},
   "outputs": [],
   "source": [
    "while True:\n",
    "    try:\n",
    "        item=next(iterator)\n",
    "        print(item)\n",
    "    except StopIteration:\n",
    "        break"
   ]
  },
  {
   "cell_type": "code",
   "execution_count": null,
   "id": "eccee126",
   "metadata": {},
   "outputs": [],
   "source": [
    "my_list = [1, 2, 3, 4, 5]\n",
    "iterator = iter(my_list)\n",
    "\n",
    "for element in iterator:\n",
    "    print(element,end=\" \")"
   ]
  },
  {
   "cell_type": "code",
   "execution_count": null,
   "id": "f6561bd3",
   "metadata": {},
   "outputs": [],
   "source": [
    "# creating our own iterator\n",
    "class myRange:\n",
    "    def __init__(self, start, end):\n",
    "        self.start=start\n",
    "        self.end=end\n",
    "        \n",
    "    # iter()\n",
    "    def __iter__(self):  # required for an object to be considered an iterator\n",
    "        return self\n",
    "    \n",
    "    # next()\n",
    "    def __next__(self):\n",
    "        if self.start>=self.end:\n",
    "            raise StopIteration  # end of iteration\n",
    "            \n",
    "        current=self.start\n",
    "        self.start+=1  # go to the next item\n",
    "        return current\n",
    "    \n",
    "nums=myRange(1,10)\n",
    "\n",
    "# to get values\n",
    "for num in nums:\n",
    "    print(num, end=\" \")"
   ]
  },
  {
   "cell_type": "code",
   "execution_count": 1,
   "id": "5fea3860",
   "metadata": {},
   "outputs": [
    {
     "name": "stdout",
     "output_type": "stream",
     "text": [
      "1 2 3 4 5 6 7 8 9 10 "
     ]
    }
   ],
   "source": [
    "class my_iterator_1:\n",
    "    def __iter__(self):\n",
    "        self.val=1\n",
    "        return self\n",
    "    \n",
    "    def __next__(self):\n",
    "        if self.val>10:\n",
    "            raise StopIteration\n",
    "            \n",
    "        num=self.val\n",
    "        self.val+=1\n",
    "        return num\n",
    "        \n",
    "my_class=my_iterator_1()\n",
    "my_iter=iter(my_class)\n",
    "\n",
    "for i in my_iter:\n",
    "    print(i, end=\" \")"
   ]
  },
  {
   "cell_type": "code",
   "execution_count": 1,
   "id": "fe2e50e0",
   "metadata": {},
   "outputs": [
    {
     "name": "stdout",
     "output_type": "stream",
     "text": [
      "1 2 3 4 5 6 7 8 9 10 "
     ]
    }
   ],
   "source": [
    "# ctrl+m then l\n",
    "class my_iterator_2:\n",
    "    def __init__(self, val):\n",
    "        self.val=val\n",
    "    \n",
    "    def __iter__(self):\n",
    "        return self\n",
    "    \n",
    "    def __next__(self):\n",
    "        num=self.val\n",
    "        if num>10:\n",
    "            raise StopIteration\n",
    "            \n",
    "        num=self.val\n",
    "        self.val+=1\n",
    "        return num\n",
    "        \n",
    "my_iter=my_iterator_2(1)\n",
    "\n",
    "for i in my_iter:\n",
    "    print(i, end=\" \")"
   ]
  },
  {
   "cell_type": "markdown",
   "id": "ace0a8b3",
   "metadata": {},
   "source": [
    "### Generators\n",
    "useful when we want to produce a large sequence of values, but not want to store all of them in memory at once."
   ]
  },
  {
   "cell_type": "code",
   "execution_count": 2,
   "id": "f9c86109",
   "metadata": {},
   "outputs": [
    {
     "name": "stdout",
     "output_type": "stream",
     "text": [
      "0\n",
      "1\n",
      "2\n"
     ]
    }
   ],
   "source": [
    "def my_generator(n):\n",
    "    value = 0\n",
    "    while value < n:\n",
    "        yield value\n",
    "        value += 1\n",
    "\n",
    "for value in my_generator(3):\n",
    "    print(value)"
   ]
  },
  {
   "cell_type": "code",
   "execution_count": 3,
   "id": "eb08769f",
   "metadata": {},
   "outputs": [
    {
     "name": "stdout",
     "output_type": "stream",
     "text": [
      "0\n",
      "1\n",
      "2\n"
     ]
    },
    {
     "ename": "TypeError",
     "evalue": "'NoneType' object is not iterable",
     "output_type": "error",
     "traceback": [
      "\u001b[1;31m---------------------------------------------------------------------------\u001b[0m",
      "\u001b[1;31mTypeError\u001b[0m                                 Traceback (most recent call last)",
      "Cell \u001b[1;32mIn[3], line 7\u001b[0m\n\u001b[0;32m      4\u001b[0m         \u001b[38;5;28mprint\u001b[39m(v)\n\u001b[0;32m      5\u001b[0m         v\u001b[38;5;241m+\u001b[39m\u001b[38;5;241m=\u001b[39m\u001b[38;5;241m1\u001b[39m\n\u001b[1;32m----> 7\u001b[0m \u001b[38;5;28;01mfor\u001b[39;00m i \u001b[38;5;129;01min\u001b[39;00m itera(\u001b[38;5;241m3\u001b[39m):\n\u001b[0;32m      8\u001b[0m     \u001b[38;5;28mprint\u001b[39m(i, end\u001b[38;5;241m=\u001b[39m\u001b[38;5;124m\"\u001b[39m\u001b[38;5;124m \u001b[39m\u001b[38;5;124m\"\u001b[39m)\n",
      "\u001b[1;31mTypeError\u001b[0m: 'NoneType' object is not iterable"
     ]
    }
   ],
   "source": [
    "def itera(n):\n",
    "    v=0\n",
    "    while v<n:\n",
    "        print(v)\n",
    "        v+=1\n",
    "        \n",
    "for i in itera(3):\n",
    "    print(i, end=\" \")"
   ]
  },
  {
   "cell_type": "code",
   "execution_count": null,
   "id": "434bf668",
   "metadata": {},
   "outputs": [],
   "source": []
  }
 ],
 "metadata": {
  "kernelspec": {
   "display_name": "Python 3 (ipykernel)",
   "language": "python",
   "name": "python3"
  },
  "language_info": {
   "codemirror_mode": {
    "name": "ipython",
    "version": 3
   },
   "file_extension": ".py",
   "mimetype": "text/x-python",
   "name": "python",
   "nbconvert_exporter": "python",
   "pygments_lexer": "ipython3",
   "version": "3.10.9"
  }
 },
 "nbformat": 4,
 "nbformat_minor": 5
}
