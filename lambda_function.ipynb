{
 "cells": [
  {
   "cell_type": "markdown",
   "id": "28c98889",
   "metadata": {},
   "source": [
    "### Lambda\n",
    "**Definition** : A lambda is a mini function with no name.\n",
    "#### Synatx \n",
    "lambda arguments: expression"
   ]
  },
  {
   "cell_type": "code",
   "execution_count": 4,
   "id": "5013ac62",
   "metadata": {},
   "outputs": [
    {
     "name": "stdout",
     "output_type": "stream",
     "text": [
      "25\n"
     ]
    }
   ],
   "source": [
    "def square(x):\n",
    "    return x**2\n",
    "\n",
    "print(square(5))"
   ]
  },
  {
   "cell_type": "code",
   "execution_count": 5,
   "id": "873606ae",
   "metadata": {},
   "outputs": [
    {
     "name": "stdout",
     "output_type": "stream",
     "text": [
      "25\n"
     ]
    }
   ],
   "source": [
    "squ=lambda x: x**2\n",
    "print(squ(5))"
   ]
  },
  {
   "cell_type": "code",
   "execution_count": 3,
   "id": "947c36f5",
   "metadata": {},
   "outputs": [
    {
     "data": {
      "text/plain": [
       "125"
      ]
     },
     "execution_count": 3,
     "metadata": {},
     "output_type": "execute_result"
    }
   ],
   "source": [
    "(lambda x: x**3)(5)"
   ]
  },
  {
   "cell_type": "code",
   "execution_count": null,
   "id": "7690858d",
   "metadata": {},
   "outputs": [
    {
     "data": {
      "text/plain": [
       "'Odd'"
      ]
     },
     "execution_count": 6,
     "metadata": {},
     "output_type": "execute_result"
    }
   ],
   "source": [
    "# If-else function\n",
    "(lambda x: \"Even\" if x%2==0 else \"Odd\")(25)"
   ]
  },
  {
   "cell_type": "code",
   "execution_count": 23,
   "id": "f67d1c5c",
   "metadata": {},
   "outputs": [
    {
     "name": "stdout",
     "output_type": "stream",
     "text": [
      "['Tom', 'Bob', 'Alice']\n",
      "['Tom', 'Bob', 'Alice']\n"
     ]
    }
   ],
   "source": [
    "# Sort\n",
    "names=[\"Tom\", \"Alice\", \"Bob\"]\n",
    "print(sorted(names, key=len))\n",
    "\n",
    "sorted_names=sorted(names, key=lambda name:len(name))\n",
    "\n",
    "print(sorted_names)"
   ]
  },
  {
   "cell_type": "code",
   "execution_count": 8,
   "id": "e480dce0",
   "metadata": {},
   "outputs": [
    {
     "name": "stdout",
     "output_type": "stream",
     "text": [
      "['Alice', 'Tom', 'Bob']\n"
     ]
    }
   ],
   "source": [
    "print(sorted(names, key=lambda name:len(name), reverse=True))"
   ]
  },
  {
   "cell_type": "code",
   "execution_count": 9,
   "id": "57f5c2aa",
   "metadata": {},
   "outputs": [
    {
     "name": "stdout",
     "output_type": "stream",
     "text": [
      "['Bob', 'Alice', 'Tom']\n"
     ]
    }
   ],
   "source": [
    "# Sort by last letter\n",
    "print(sorted(names, key=lambda name: name[-1]))"
   ]
  },
  {
   "cell_type": "code",
   "execution_count": 13,
   "id": "87217038",
   "metadata": {},
   "outputs": [
    {
     "name": "stdout",
     "output_type": "stream",
     "text": [
      "[{'Name': 'Charlie', 'marks': 95}, {'Name': 'Alice', 'marks': 90}, {'Name': 'Bob', 'marks': 85}]\n"
     ]
    }
   ],
   "source": [
    "# Sort by key\n",
    "students=[\n",
    "    {\"Name\": \"Alice\", \"marks\":90}, \n",
    "    {\"Name\": \"Bob\", \"marks\":85},\n",
    "    {\"Name\": \"Charlie\", \"marks\":95}\n",
    "]\n",
    "\n",
    "sorted_students=sorted(students, key=lambda x: x[\"marks\"], reverse=True)\n",
    "print(sorted_students)"
   ]
  },
  {
   "cell_type": "code",
   "execution_count": 16,
   "id": "e0421983",
   "metadata": {},
   "outputs": [
    {
     "name": "stdout",
     "output_type": "stream",
     "text": [
      "[('Bob', 30), ('Alice', 25), ('Charlie', 20)]\n"
     ]
    }
   ],
   "source": [
    "people=[(\"Alice\", 25), (\"Bob\", 30), (\"Charlie\",20)]\n",
    "print(sorted(people, key=lambda x: x[1], reverse=True))"
   ]
  },
  {
   "cell_type": "code",
   "execution_count": 17,
   "id": "0f85dd4c",
   "metadata": {},
   "outputs": [
    {
     "name": "stdout",
     "output_type": "stream",
     "text": [
      "['apple', 'grape', 'banana']\n"
     ]
    }
   ],
   "source": [
    "# Custom sort\n",
    "words = [\"apple\", \"banana\", \"grape\"]\n",
    "\n",
    "def count_vowels(word):\n",
    "    return sum(1 for c in word if c in 'aeiou')\n",
    "\n",
    "print(sorted(words, key=count_vowels))"
   ]
  },
  {
   "cell_type": "code",
   "execution_count": 21,
   "id": "918261cd",
   "metadata": {},
   "outputs": [
    {
     "name": "stdout",
     "output_type": "stream",
     "text": [
      "4\n",
      "Vowels in apple  is  2\n",
      "Vowels in banana  is  3\n",
      "Vowels in cherry  is  1\n"
     ]
    }
   ],
   "source": [
    "# Count of things\n",
    "print(sum(1 for i in [1,2,3,4]))\n",
    "\n",
    "for word in [\"apple\", \"banana\", \"cherry\"]:\n",
    "    c=0\n",
    "    for letter in word:\n",
    "        if letter in 'aeiou':\n",
    "            c+=1\n",
    "    print(\"Vowels in\", word, \" is \", c )"
   ]
  },
  {
   "cell_type": "markdown",
   "id": "f03fedb6",
   "metadata": {},
   "source": [
    "### Map\n",
    "It applies a given function to each item of an iterable (like a list, tuple, or string) and returns an iterator that yields the results.\n",
    "\n",
    "**Note:**\n",
    "To get the results as a list, tuple, or another sequence, the map object needs to be explicitly converted. \n",
    "\n",
    "#### Syntax\n",
    "map(function, iterable, ...)"
   ]
  },
  {
   "cell_type": "code",
   "execution_count": null,
   "id": "3dc1e16f",
   "metadata": {},
   "outputs": [
    {
     "name": "stdout",
     "output_type": "stream",
     "text": [
      "<map object at 0x0000026983210610>\n",
      "[1, 4, 9, 16, 25]\n"
     ]
    }
   ],
   "source": [
    "num=[1,2,3,4,5]\n",
    "print(map(square, num))  # 'square' is a function that is defined earlier\n",
    "\n",
    "print(list(map(square, num)))"
   ]
  },
  {
   "cell_type": "code",
   "execution_count": 26,
   "id": "5e2a906a",
   "metadata": {},
   "outputs": [
    {
     "name": "stdout",
     "output_type": "stream",
     "text": [
      "[1, 8, 27, 64, 125]\n"
     ]
    }
   ],
   "source": [
    "# map with lambda\n",
    "print(list(map(lambda x: x**3, num)))"
   ]
  },
  {
   "cell_type": "code",
   "execution_count": 29,
   "id": "d5b4130e",
   "metadata": {},
   "outputs": [
    {
     "name": "stdout",
     "output_type": "stream",
     "text": [
      "['H', 'E', 'L', 'L', 'O']\n",
      "['hello', 'good morning', 'apple']\n"
     ]
    }
   ],
   "source": [
    "word=\"Hello\"\n",
    "print(list(map(str.upper, word)))\n",
    "\n",
    "words=[\"Hello\", \"Good morning\", \"Apple\"]\n",
    "print(list(map(str.lower, words)))"
   ]
  },
  {
   "cell_type": "code",
   "execution_count": null,
   "id": "c4147530",
   "metadata": {},
   "outputs": [
    {
     "name": "stdout",
     "output_type": "stream",
     "text": [
      "['John Smith', 'Jane Doe', 'Sam Wilson']\n"
     ]
    }
   ],
   "source": [
    "# Multiple iterables\n",
    "first_names = [\"John\", \"Jane\", \"Sam\", \"Alice\"]\n",
    "last_names = [\"Smith\", \"Doe\", \"Wilson\"]\n",
    "\n",
    "full_names = list(map(lambda f, l: f + \" \" + l, first_names, last_names))\n",
    "print(full_names) # It ignores 'Alice' as there is no 4th item in the 2nd list"
   ]
  },
  {
   "cell_type": "code",
   "execution_count": 31,
   "id": "5fe6cccb",
   "metadata": {},
   "outputs": [
    {
     "name": "stdout",
     "output_type": "stream",
     "text": [
      "[30, 50, 40]\n"
     ]
    }
   ],
   "source": [
    "a=[10, 20, 30]\n",
    "b=[20, 30, 10]\n",
    "\n",
    "print(list(map(lambda x, y: x+y, a, b)))"
   ]
  },
  {
   "cell_type": "markdown",
   "id": "738cfc31",
   "metadata": {},
   "source": [
    "### Filter\n",
    "**Definition:** It keeps only the items that match the rule.\n",
    "\n",
    "#### Syntax\n",
    "filter(function, iterable)"
   ]
  },
  {
   "cell_type": "code",
   "execution_count": 34,
   "id": "44e341dd",
   "metadata": {},
   "outputs": [
    {
     "name": "stdout",
     "output_type": "stream",
     "text": [
      "[2, 4]\n"
     ]
    }
   ],
   "source": [
    "num=[1,2,3,4,5]\n",
    "print(list(filter(lambda x: x%2==0, num)))"
   ]
  },
  {
   "cell_type": "code",
   "execution_count": null,
   "id": "77e12af0",
   "metadata": {},
   "outputs": [
    {
     "name": "stdout",
     "output_type": "stream",
     "text": [
      "[1, 'hello', [1, 2], True]\n"
     ]
    }
   ],
   "source": [
    "# Remove None\n",
    "values = [0, 1, \"\", \"hello\", [], [1, 2], None, True]\n",
    "\n",
    "print(list(filter(None, values)))\n"
   ]
  },
  {
   "cell_type": "code",
   "execution_count": 36,
   "id": "88274c5a",
   "metadata": {},
   "outputs": [
    {
     "name": "stdout",
     "output_type": "stream",
     "text": [
      "['apple', 'banana', 'cherry']\n"
     ]
    }
   ],
   "source": [
    "# Remove empty strings\n",
    "words=[\"apple\", \"\", \"banana\", \"\", \"\", \"cherry\"]\n",
    "print(list(filter(lambda x: x!=\"\", words)))"
   ]
  },
  {
   "cell_type": "code",
   "execution_count": 38,
   "id": "88fb09f0",
   "metadata": {},
   "outputs": [
    {
     "name": "stdout",
     "output_type": "stream",
     "text": [
      "[{'name': 'Bob', 'age': 20}]\n"
     ]
    }
   ],
   "source": [
    "# List of ditcs\n",
    "people = [\n",
    "    {\"name\": \"Alice\", \"age\": 17},\n",
    "    {\"name\": \"Bob\", \"age\": 20},\n",
    "    {\"name\": \"Charlie\", \"age\": 16}\n",
    "]\n",
    "\n",
    "adults=list(filter(lambda x: x[\"age\"]>18, people))\n",
    "print(adults)"
   ]
  },
  {
   "cell_type": "code",
   "execution_count": 45,
   "id": "0e4a79f1",
   "metadata": {},
   "outputs": [
    {
     "name": "stdout",
     "output_type": "stream",
     "text": [
      "[{'name': 'Alice', 'age': 27}, {'name': 'Bob', 'age': 30}, {'name': 'Charlie', 'age': 26}]\n"
     ]
    },
    {
     "data": {
      "text/plain": [
       "[30, 26]"
      ]
     },
     "execution_count": 45,
     "metadata": {},
     "output_type": "execute_result"
    }
   ],
   "source": [
    "# Filter with map\n",
    "updated_age=list(map(lambda x: {\"name\": x[\"name\"], \"age\" :x[\"age\"]+10}, people))\n",
    "print(updated_age)\n",
    "\n",
    "list(map(lambda x: x[\"age\"]+10, filter(lambda x: x[\"age\"]%2==0,people)))"
   ]
  },
  {
   "cell_type": "markdown",
   "id": "f9b67c53",
   "metadata": {},
   "source": [
    "### Reduce\n",
    "**Defintion:** It is used to reduce a list to a single value by applying a function again and again.\n",
    "\n",
    "It's just like\n",
    "\n",
    "Take the first two items, combine them. Then take that result and combine with the next. Keep going until only one value is left."
   ]
  },
  {
   "cell_type": "code",
   "execution_count": 46,
   "id": "f1311bd7",
   "metadata": {},
   "outputs": [],
   "source": [
    "from functools import reduce"
   ]
  },
  {
   "cell_type": "code",
   "execution_count": null,
   "id": "633fb8f9",
   "metadata": {},
   "outputs": [
    {
     "name": "stdout",
     "output_type": "stream",
     "text": [
      "15\n"
     ]
    }
   ],
   "source": [
    "# Add every element in the list\n",
    "num=[1,2,3,4,5]\n",
    "print(reduce(lambda x, y: x+y, num))"
   ]
  },
  {
   "cell_type": "code",
   "execution_count": null,
   "id": "fa7693fd",
   "metadata": {},
   "outputs": [
    {
     "data": {
      "text/plain": [
       "5"
      ]
     },
     "execution_count": 48,
     "metadata": {},
     "output_type": "execute_result"
    }
   ],
   "source": [
    "# Find the max value\n",
    "reduce(lambda x, y: x if x > y else y, num)"
   ]
  },
  {
   "cell_type": "code",
   "execution_count": null,
   "id": "b2c5284f",
   "metadata": {},
   "outputs": [],
   "source": []
  }
 ],
 "metadata": {
  "kernelspec": {
   "display_name": "cuda-gpt",
   "language": "python",
   "name": "cuda"
  },
  "language_info": {
   "codemirror_mode": {
    "name": "ipython",
    "version": 3
   },
   "file_extension": ".py",
   "mimetype": "text/x-python",
   "name": "python",
   "nbconvert_exporter": "python",
   "pygments_lexer": "ipython3",
   "version": "3.10.9"
  }
 },
 "nbformat": 4,
 "nbformat_minor": 5
}
